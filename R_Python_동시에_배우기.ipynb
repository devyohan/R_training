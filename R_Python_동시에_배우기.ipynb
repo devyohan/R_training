{
 "cells": [
  {
   "cell_type": "markdown",
   "metadata": {},
   "source": [
    "## 왜 동시에 배우나요???"
   ]
  },
  {
   "cell_type": "markdown",
   "metadata": {},
   "source": [
    "- 분석 절차에 대해 학습할 때 언어의 차이로 좋은 자료를 포기하지 않아도 된다."
   ]
  },
  {
   "cell_type": "markdown",
   "metadata": {},
   "source": [
    "### 현업에서 주로 사용하는 알고리즘\n",
    "\n",
    "\n",
    "|알고리즘|주 활용 분야|\n",
    "|---|---|\n",
    "|업리프트 모델링 (Uplift modeling)|단계적 추정, 예측 분석|\n",
    "|생존 분석 (Survival Analysis)|의료 통계, 설비 분야 사건 예측 (이탈, 사망, 고장 등)|\n",
    "|회귀 분석 (OLS, logistic, Lasso, Ridge|예측, 추정 분석 (배출, 신용점수 등)|\n",
    "|시각화 (Visualization)|원인과 관계 분석|\n",
    "|기초 통계 (Statistics)|통계로 현황 파악|\n",
    "|부스팅 (Boosting), 배깅 (Bagging)|분류 분석|\n",
    "|시계열/순열 분석 (Time-series/Sequence Analysis)|시간상의 예측 (이자율, 예산 등 예측)|\n",
    "|요인 분석 (Factor Analysis)|요인 분석, 차원 축소|\n",
    "|이상치 감지 기법 (Anomaly/Deviation Detection|이상치 분석|\n",
    "|텍스트 마이닝 (Text Mining)|시대 경향, 감성 분석|\n",
    "|의사결정 나무(Decision Tree), 랜덤 포레스트|분류 (종속 변수 존재)|"
   ]
  },
  {
   "cell_type": "code",
   "execution_count": null,
   "metadata": {
    "collapsed": true
   },
   "outputs": [],
   "source": []
  }
 ],
 "metadata": {
  "kernelspec": {
   "display_name": "R",
   "language": "R",
   "name": "ir33"
  },
  "language_info": {
   "codemirror_mode": "r",
   "file_extension": ".r",
   "mimetype": "text/x-r-source",
   "name": "R",
   "pygments_lexer": "r",
   "version": "3.4.0"
  },
  "varInspector": {
   "cols": {
    "lenName": 16,
    "lenType": 16,
    "lenVar": 40
   },
   "kernels_config": {
    "python": {
     "delete_cmd_postfix": "",
     "delete_cmd_prefix": "del ",
     "library": "var_list.py",
     "varRefreshCmd": "print(var_dic_list())"
    },
    "r": {
     "delete_cmd_postfix": ") ",
     "delete_cmd_prefix": "rm(",
     "library": "var_list.r",
     "varRefreshCmd": "cat(var_dic_list()) "
    }
   },
   "types_to_exclude": [
    "module",
    "function",
    "builtin_function_or_method",
    "instance",
    "_Feature"
   ],
   "window_display": false
  }
 },
 "nbformat": 4,
 "nbformat_minor": 2
}
