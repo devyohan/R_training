{
 "cells": [
  {
   "cell_type": "markdown",
   "metadata": {},
   "source": [
    "## 오늘 학습 내용"
   ]
  },
  {
   "cell_type": "markdown",
   "metadata": {},
   "source": [
    "- 데이터 과학자\n",
    "- 로드맵, 마인드맵 그리기\n",
    "    - 현재 역량, 필요한 역량\n",
    "- 오픈 데이터셋을 구하는 방법\n",
    "    - 분석 목표와 필요성 (포트폴리오 목적, 필요성, 확보해야 할 데이터셋)"
   ]
  },
  {
   "cell_type": "markdown",
   "metadata": {},
   "source": [
    "## 빅데이터 전체 그림"
   ]
  },
  {
   "cell_type": "markdown",
   "metadata": {},
   "source": [
    "빅데이터 -- 엔지니어 (인프라 구축)\n",
    "          - 분석 - 전처리 -> 주로 신입이 EDA 도 함\n",
    "\n",
    "- 설계 -> 수석책임이 수학적 지식이 많이 요구됨"
   ]
  },
  {
   "cell_type": "markdown",
   "metadata": {},
   "source": [
    "## 현재 역량, 필요 역량"
   ]
  },
  {
   "cell_type": "markdown",
   "metadata": {},
   "source": [
    "#### 하드 스킬\n",
    "60% - 빅데이터 처리 프로세스에 대한 이해 및 이론적 지식\n",
    "80% - 데이터 엔지니어링\n",
    "50% - 분석 모델링\n",
    "20% - 비즈니스 모델링\n",
    "10% - 다수의 다양한 빅데이터 처리경험을 통한 노하우 축적\n",
    "\n",
    "#### 소프트 스킬\n",
    "??% - 창의적 사고\n",
    "80% - 호기심/역량\n",
    "50% - 논리적 비판\n",
    "10% - 스토리텔링\n",
    "30% - 비주얼라이제이션\n",
    "30% - 커뮤니케이션\n"
   ]
  },
  {
   "cell_type": "markdown",
   "metadata": {},
   "source": [
    "## R 프로그래밍 실습"
   ]
  },
  {
   "cell_type": "code",
   "execution_count": 2,
   "metadata": {},
   "outputs": [
    {
     "data": {},
     "metadata": {},
     "output_type": "display_data"
    }
   ],
   "source": [
    "library()"
   ]
  },
  {
   "cell_type": "code",
   "execution_count": 3,
   "metadata": {},
   "outputs": [
    {
     "name": "stderr",
     "output_type": "stream",
     "text": [
      "also installing the dependencies ‘NLP’, ‘slam’\n",
      "\n",
      "Updating HTML index of packages in '.Library'\n",
      "Making 'packages.html' ... done\n"
     ]
    }
   ],
   "source": [
    "install.packages(\"tm\")"
   ]
  },
  {
   "cell_type": "markdown",
   "metadata": {},
   "source": [
    "### 내장된 기본 데이터셋"
   ]
  },
  {
   "cell_type": "code",
   "execution_count": 4,
   "metadata": {
    "collapsed": true
   },
   "outputs": [],
   "source": [
    "# 데이터셋 리스트\n",
    "\n",
    "data()"
   ]
  },
  {
   "cell_type": "code",
   "execution_count": 5,
   "metadata": {},
   "outputs": [
    {
     "data": {
      "text/plain": [
       "     Jan Feb Mar Apr May Jun Jul Aug Sep Oct Nov Dec\n",
       "1949 112 118 132 129 121 135 148 148 136 119 104 118\n",
       "1950 115 126 141 135 125 149 170 170 158 133 114 140\n",
       "1951 145 150 178 163 172 178 199 199 184 162 146 166\n",
       "1952 171 180 193 181 183 218 230 242 209 191 172 194\n",
       "1953 196 196 236 235 229 243 264 272 237 211 180 201\n",
       "1954 204 188 235 227 234 264 302 293 259 229 203 229\n",
       "1955 242 233 267 269 270 315 364 347 312 274 237 278\n",
       "1956 284 277 317 313 318 374 413 405 355 306 271 306\n",
       "1957 315 301 356 348 355 422 465 467 404 347 305 336\n",
       "1958 340 318 362 348 363 435 491 505 404 359 310 337\n",
       "1959 360 342 406 396 420 472 548 559 463 407 362 405\n",
       "1960 417 391 419 461 472 535 622 606 508 461 390 432"
      ]
     },
     "metadata": {},
     "output_type": "display_data"
    }
   ],
   "source": [
    "# 데이터셋 이름을 이용하여 데이터 확인하기\n",
    "AirPassengers"
   ]
  },
  {
   "cell_type": "code",
   "execution_count": 8,
   "metadata": {},
   "outputs": [
    {
     "data": {
      "text/html": [
       "<table>\n",
       "<thead><tr><th scope=col>Plant</th><th scope=col>Type</th><th scope=col>Treatment</th><th scope=col>conc</th><th scope=col>uptake</th></tr></thead>\n",
       "<tbody>\n",
       "\t<tr><td>Qn1       </td><td>Quebec    </td><td>nonchilled</td><td>  95      </td><td>16.0      </td></tr>\n",
       "\t<tr><td>Qn1       </td><td>Quebec    </td><td>nonchilled</td><td> 175      </td><td>30.4      </td></tr>\n",
       "\t<tr><td>Qn1       </td><td>Quebec    </td><td>nonchilled</td><td> 250      </td><td>34.8      </td></tr>\n",
       "\t<tr><td>Qn1       </td><td>Quebec    </td><td>nonchilled</td><td> 350      </td><td>37.2      </td></tr>\n",
       "\t<tr><td>Qn1       </td><td>Quebec    </td><td>nonchilled</td><td> 500      </td><td>35.3      </td></tr>\n",
       "\t<tr><td>Qn1       </td><td>Quebec    </td><td>nonchilled</td><td> 675      </td><td>39.2      </td></tr>\n",
       "\t<tr><td>Qn1       </td><td>Quebec    </td><td>nonchilled</td><td>1000      </td><td>39.7      </td></tr>\n",
       "\t<tr><td>Qn2       </td><td>Quebec    </td><td>nonchilled</td><td>  95      </td><td>13.6      </td></tr>\n",
       "\t<tr><td>Qn2       </td><td>Quebec    </td><td>nonchilled</td><td> 175      </td><td>27.3      </td></tr>\n",
       "\t<tr><td>Qn2       </td><td>Quebec    </td><td>nonchilled</td><td> 250      </td><td>37.1      </td></tr>\n",
       "</tbody>\n",
       "</table>\n"
      ],
      "text/latex": [
       "\\begin{tabular}{r|lllll}\n",
       " Plant & Type & Treatment & conc & uptake\\\\\n",
       "\\hline\n",
       "\t Qn1        & Quebec     & nonchilled &   95       & 16.0      \\\\\n",
       "\t Qn1        & Quebec     & nonchilled &  175       & 30.4      \\\\\n",
       "\t Qn1        & Quebec     & nonchilled &  250       & 34.8      \\\\\n",
       "\t Qn1        & Quebec     & nonchilled &  350       & 37.2      \\\\\n",
       "\t Qn1        & Quebec     & nonchilled &  500       & 35.3      \\\\\n",
       "\t Qn1        & Quebec     & nonchilled &  675       & 39.2      \\\\\n",
       "\t Qn1        & Quebec     & nonchilled & 1000       & 39.7      \\\\\n",
       "\t Qn2        & Quebec     & nonchilled &   95       & 13.6      \\\\\n",
       "\t Qn2        & Quebec     & nonchilled &  175       & 27.3      \\\\\n",
       "\t Qn2        & Quebec     & nonchilled &  250       & 37.1      \\\\\n",
       "\\end{tabular}\n"
      ],
      "text/markdown": [
       "\n",
       "Plant | Type | Treatment | conc | uptake | \n",
       "|---|---|---|---|---|---|---|---|---|---|\n",
       "| Qn1        | Quebec     | nonchilled |   95       | 16.0       | \n",
       "| Qn1        | Quebec     | nonchilled |  175       | 30.4       | \n",
       "| Qn1        | Quebec     | nonchilled |  250       | 34.8       | \n",
       "| Qn1        | Quebec     | nonchilled |  350       | 37.2       | \n",
       "| Qn1        | Quebec     | nonchilled |  500       | 35.3       | \n",
       "| Qn1        | Quebec     | nonchilled |  675       | 39.2       | \n",
       "| Qn1        | Quebec     | nonchilled | 1000       | 39.7       | \n",
       "| Qn2        | Quebec     | nonchilled |   95       | 13.6       | \n",
       "| Qn2        | Quebec     | nonchilled |  175       | 27.3       | \n",
       "| Qn2        | Quebec     | nonchilled |  250       | 37.1       | \n",
       "\n",
       "\n"
      ],
      "text/plain": [
       "   Plant Type   Treatment  conc uptake\n",
       "1  Qn1   Quebec nonchilled   95 16.0  \n",
       "2  Qn1   Quebec nonchilled  175 30.4  \n",
       "3  Qn1   Quebec nonchilled  250 34.8  \n",
       "4  Qn1   Quebec nonchilled  350 37.2  \n",
       "5  Qn1   Quebec nonchilled  500 35.3  \n",
       "6  Qn1   Quebec nonchilled  675 39.2  \n",
       "7  Qn1   Quebec nonchilled 1000 39.7  \n",
       "8  Qn2   Quebec nonchilled   95 13.6  \n",
       "9  Qn2   Quebec nonchilled  175 27.3  \n",
       "10 Qn2   Quebec nonchilled  250 37.1  "
      ]
     },
     "metadata": {},
     "output_type": "display_data"
    }
   ],
   "source": [
    "# 데이터의 몇 행 까지 볼 건지\n",
    "\n",
    "head(CO2, 10)"
   ]
  },
  {
   "cell_type": "code",
   "execution_count": 10,
   "metadata": {},
   "outputs": [
    {
     "data": {
      "text/html": [
       "<ol class=list-inline>\n",
       "\t<li>84</li>\n",
       "\t<li>5</li>\n",
       "</ol>\n"
      ],
      "text/latex": [
       "\\begin{enumerate*}\n",
       "\\item 84\n",
       "\\item 5\n",
       "\\end{enumerate*}\n"
      ],
      "text/markdown": [
       "1. 84\n",
       "2. 5\n",
       "\n",
       "\n"
      ],
      "text/plain": [
       "[1] 84  5"
      ]
     },
     "metadata": {},
     "output_type": "display_data"
    }
   ],
   "source": [
    "# 행 갯수와 열 갯수 보기\n",
    "\n",
    "dim(CO2)\n",
    "\n",
    "# 84 = 행, 5 열"
   ]
  },
  {
   "cell_type": "code",
   "execution_count": 11,
   "metadata": {},
   "outputs": [
    {
     "name": "stdout",
     "output_type": "stream",
     "text": [
      "Classes ‘nfnGroupedData’, ‘nfGroupedData’, ‘groupedData’ and 'data.frame':\t84 obs. of  5 variables:\n",
      " $ Plant    : Ord.factor w/ 12 levels \"Qn1\"<\"Qn2\"<\"Qn3\"<..: 1 1 1 1 1 1 1 2 2 2 ...\n",
      " $ Type     : Factor w/ 2 levels \"Quebec\",\"Mississippi\": 1 1 1 1 1 1 1 1 1 1 ...\n",
      " $ Treatment: Factor w/ 2 levels \"nonchilled\",\"chilled\": 1 1 1 1 1 1 1 1 1 1 ...\n",
      " $ conc     : num  95 175 250 350 500 675 1000 95 175 250 ...\n",
      " $ uptake   : num  16 30.4 34.8 37.2 35.3 39.2 39.7 13.6 27.3 37.1 ...\n",
      " - attr(*, \"formula\")=Class 'formula'  language uptake ~ conc | Plant\n",
      "  .. ..- attr(*, \".Environment\")=<environment: R_EmptyEnv> \n",
      " - attr(*, \"outer\")=Class 'formula'  language ~Treatment * Type\n",
      "  .. ..- attr(*, \".Environment\")=<environment: R_EmptyEnv> \n",
      " - attr(*, \"labels\")=List of 2\n",
      "  ..$ x: chr \"Ambient carbon dioxide concentration\"\n",
      "  ..$ y: chr \"CO2 uptake rate\"\n",
      " - attr(*, \"units\")=List of 2\n",
      "  ..$ x: chr \"(uL/L)\"\n",
      "  ..$ y: chr \"(umol/m^2 s)\"\n"
     ]
    }
   ],
   "source": [
    "# 데이터셋의 속성 확인하기\n",
    "\n",
    "str(CO2)"
   ]
  },
  {
   "cell_type": "code",
   "execution_count": 12,
   "metadata": {
    "collapsed": true
   },
   "outputs": [],
   "source": [
    "# 문서가 있다면 데이터셋의 도큐먼트를 볼 수 있다.\n",
    "\n",
    "?CO2"
   ]
  },
  {
   "cell_type": "code",
   "execution_count": 13,
   "metadata": {
    "collapsed": true
   },
   "outputs": [],
   "source": [
    "# 환경에 데이터셋 불러오기\n",
    "\n",
    "data(CO2)"
   ]
  },
  {
   "cell_type": "code",
   "execution_count": 16,
   "metadata": {},
   "outputs": [
    {
     "data": {
      "text/html": [
       "<table>\n",
       "<thead><tr><th scope=col>Plant</th><th scope=col>Type</th></tr></thead>\n",
       "<tbody>\n",
       "\t<tr><td>Qn1   </td><td>Quebec</td></tr>\n",
       "</tbody>\n",
       "</table>\n"
      ],
      "text/latex": [
       "\\begin{tabular}{r|ll}\n",
       " Plant & Type\\\\\n",
       "\\hline\n",
       "\t Qn1    & Quebec\\\\\n",
       "\\end{tabular}\n"
      ],
      "text/markdown": [
       "\n",
       "Plant | Type | \n",
       "|---|\n",
       "| Qn1    | Quebec | \n",
       "\n",
       "\n"
      ],
      "text/plain": [
       "  Plant Type  \n",
       "1 Qn1   Quebec"
      ]
     },
     "metadata": {},
     "output_type": "display_data"
    }
   ],
   "source": [
    "CO2[1, 1:2]"
   ]
  },
  {
   "cell_type": "code",
   "execution_count": 21,
   "metadata": {},
   "outputs": [
    {
     "data": {
      "text/html": [
       "<table>\n",
       "<thead><tr><th scope=col>Plant</th><th scope=col>Treatment</th><th scope=col>uptake</th></tr></thead>\n",
       "<tbody>\n",
       "\t<tr><td>Qn1       </td><td>nonchilled</td><td>16        </td></tr>\n",
       "</tbody>\n",
       "</table>\n"
      ],
      "text/latex": [
       "\\begin{tabular}{r|lll}\n",
       " Plant & Treatment & uptake\\\\\n",
       "\\hline\n",
       "\t Qn1        & nonchilled & 16        \\\\\n",
       "\\end{tabular}\n"
      ],
      "text/markdown": [
       "\n",
       "Plant | Treatment | uptake | \n",
       "|---|\n",
       "| Qn1        | nonchilled | 16         | \n",
       "\n",
       "\n"
      ],
      "text/plain": [
       "  Plant Treatment  uptake\n",
       "1 Qn1   nonchilled 16    "
      ]
     },
     "metadata": {},
     "output_type": "display_data"
    }
   ],
   "source": [
    "# 서로 떨어져 있는 컬럼은 c (combine) 을 이용하여\n",
    "# 각 인덱스 번호를 호출하여 불러올 수 있다.\n",
    "\n",
    "CO2[1, c(1,3,5)]"
   ]
  },
  {
   "cell_type": "markdown",
   "metadata": {},
   "source": [
    "## 관심 있는 데이터셋 확인해보기"
   ]
  },
  {
   "cell_type": "code",
   "execution_count": 26,
   "metadata": {
    "collapsed": true
   },
   "outputs": [],
   "source": [
    "?cars"
   ]
  },
  {
   "cell_type": "markdown",
   "metadata": {},
   "source": [
    "#### Description\n",
    "\n",
    "The data give the speed of cars and the distances taken to stop. Note that the data were recorded in the 1920s.\n",
    "\n",
    "#### Format\n",
    "\n",
    "A data frame with 50 observations on 2 variables.\n",
    "\n",
    "[,1]\t speed\t numeric\t Speed (mph) <br/>\n",
    "[,2]\t dist\t numeric\t Stopping distance (ft)\n"
   ]
  },
  {
   "cell_type": "code",
   "execution_count": 27,
   "metadata": {},
   "outputs": [
    {
     "data": {
      "text/html": [
       "<ol class=list-inline>\n",
       "\t<li>50</li>\n",
       "\t<li>2</li>\n",
       "</ol>\n"
      ],
      "text/latex": [
       "\\begin{enumerate*}\n",
       "\\item 50\n",
       "\\item 2\n",
       "\\end{enumerate*}\n"
      ],
      "text/markdown": [
       "1. 50\n",
       "2. 2\n",
       "\n",
       "\n"
      ],
      "text/plain": [
       "[1] 50  2"
      ]
     },
     "metadata": {},
     "output_type": "display_data"
    }
   ],
   "source": [
    "dim(cars)"
   ]
  },
  {
   "cell_type": "code",
   "execution_count": 23,
   "metadata": {},
   "outputs": [
    {
     "data": {
      "image/png": "[encoded data removed]",
      "text/plain": [
       "plot without title"
      ]
     },
     "metadata": {},
     "output_type": "display_data"
    }
   ],
   "source": [
    "plot(cars)"
   ]
  },
  {
   "cell_type": "code",
   "execution_count": 25,
   "metadata": {},
   "outputs": [
    {
     "name": "stdout",
     "output_type": "stream",
     "text": [
      "'data.frame':\t50 obs. of  2 variables:\n",
      " $ speed: num  4 4 7 7 8 9 10 10 10 11 ...\n",
      " $ dist : num  2 10 4 22 16 10 18 26 34 17 ...\n"
     ]
    }
   ],
   "source": [
    "str(cars)"
   ]
  },
  {
   "cell_type": "code",
   "execution_count": 32,
   "metadata": {},
   "outputs": [
    {
     "data": {
      "text/html": [
       "<table>\n",
       "<thead><tr><th scope=col>speed</th><th scope=col>dist</th></tr></thead>\n",
       "<tbody>\n",
       "\t<tr><td>4</td><td>2</td></tr>\n",
       "</tbody>\n",
       "</table>\n"
      ],
      "text/latex": [
       "\\begin{tabular}{r|ll}\n",
       " speed & dist\\\\\n",
       "\\hline\n",
       "\t 4 & 2\\\\\n",
       "\\end{tabular}\n"
      ],
      "text/markdown": [
       "\n",
       "speed | dist | \n",
       "|---|\n",
       "| 4 | 2 | \n",
       "\n",
       "\n"
      ],
      "text/plain": [
       "  speed dist\n",
       "1 4     2   "
      ]
     },
     "metadata": {},
     "output_type": "display_data"
    }
   ],
   "source": [
    "# 한 줄 표시\n",
    "\n",
    "cars[1,]"
   ]
  },
  {
   "cell_type": "code",
   "execution_count": 34,
   "metadata": {},
   "outputs": [
    {
     "data": {
      "text/html": [
       "<table>\n",
       "<thead><tr><th scope=col>speed</th><th scope=col>dist</th></tr></thead>\n",
       "<tbody>\n",
       "\t<tr><td> 4</td><td> 2</td></tr>\n",
       "\t<tr><td> 4</td><td>10</td></tr>\n",
       "\t<tr><td> 7</td><td> 4</td></tr>\n",
       "\t<tr><td> 7</td><td>22</td></tr>\n",
       "\t<tr><td> 8</td><td>16</td></tr>\n",
       "\t<tr><td> 9</td><td>10</td></tr>\n",
       "\t<tr><td>10</td><td>18</td></tr>\n",
       "\t<tr><td>10</td><td>26</td></tr>\n",
       "\t<tr><td>10</td><td>34</td></tr>\n",
       "\t<tr><td>11</td><td>17</td></tr>\n",
       "</tbody>\n",
       "</table>\n"
      ],
      "text/latex": [
       "\\begin{tabular}{r|ll}\n",
       " speed & dist\\\\\n",
       "\\hline\n",
       "\t  4 &  2\\\\\n",
       "\t  4 & 10\\\\\n",
       "\t  7 &  4\\\\\n",
       "\t  7 & 22\\\\\n",
       "\t  8 & 16\\\\\n",
       "\t  9 & 10\\\\\n",
       "\t 10 & 18\\\\\n",
       "\t 10 & 26\\\\\n",
       "\t 10 & 34\\\\\n",
       "\t 11 & 17\\\\\n",
       "\\end{tabular}\n"
      ],
      "text/markdown": [
       "\n",
       "speed | dist | \n",
       "|---|---|---|---|---|---|---|---|---|---|\n",
       "|  4 |  2 | \n",
       "|  4 | 10 | \n",
       "|  7 |  4 | \n",
       "|  7 | 22 | \n",
       "|  8 | 16 | \n",
       "|  9 | 10 | \n",
       "| 10 | 18 | \n",
       "| 10 | 26 | \n",
       "| 10 | 34 | \n",
       "| 11 | 17 | \n",
       "\n",
       "\n"
      ],
      "text/plain": [
       "   speed dist\n",
       "1   4     2  \n",
       "2   4    10  \n",
       "3   7     4  \n",
       "4   7    22  \n",
       "5   8    16  \n",
       "6   9    10  \n",
       "7  10    18  \n",
       "8  10    26  \n",
       "9  10    34  \n",
       "10 11    17  "
      ]
     },
     "metadata": {},
     "output_type": "display_data"
    }
   ],
   "source": [
    "head(cars, 10)"
   ]
  },
  {
   "cell_type": "code",
   "execution_count": 35,
   "metadata": {
    "scrolled": true
   },
   "outputs": [
    {
     "data": {
      "image/png": "[encoded data removed]",
      "text/plain": [
       "Plot with title “cars data”"
      ]
     },
     "metadata": {},
     "output_type": "display_data"
    },
    {
     "data": {
      "text/plain": [
       "\n",
       "Call:\n",
       "lm(formula = log(dist) ~ log(speed), data = cars)\n",
       "\n",
       "Residuals:\n",
       "     Min       1Q   Median       3Q      Max \n",
       "-1.00215 -0.24578 -0.02898  0.20717  0.88289 \n",
       "\n",
       "Coefficients:\n",
       "            Estimate Std. Error t value Pr(>|t|)    \n",
       "(Intercept)  -0.7297     0.3758  -1.941   0.0581 .  \n",
       "log(speed)    1.6024     0.1395  11.484 2.26e-15 ***\n",
       "---\n",
       "Signif. codes:  0 ‘***’ 0.001 ‘**’ 0.01 ‘*’ 0.05 ‘.’ 0.1 ‘ ’ 1\n",
       "\n",
       "Residual standard error: 0.4053 on 48 degrees of freedom\n",
       "Multiple R-squared:  0.7331,\tAdjusted R-squared:  0.7276 \n",
       "F-statistic: 131.9 on 1 and 48 DF,  p-value: 2.259e-15\n"
      ]
     },
     "metadata": {},
     "output_type": "display_data"
    },
    {
     "data": {
      "image/png": "[encoded data removed]",
      "text/plain": [
       "Plot with title “cars data (logarithmic scales)”"
      ]
     },
     "metadata": {},
     "output_type": "display_data"
    },
    {
     "data": {
      "image/png": "[encoded data removed]",
      "text/plain": [
       "Plot with title “”"
      ]
     },
     "metadata": {},
     "output_type": "display_data"
    }
   ],
   "source": [
    "# 예제 코드 실행해보기\n",
    "\n",
    "require(stats); require(graphics)\n",
    "plot(cars, xlab = \"Speed (mph)\", ylab = \"Stopping distance (ft)\",\n",
    "     las = 1)\n",
    "lines(lowess(cars$speed, cars$dist, f = 2/3, iter = 3), col = \"red\")\n",
    "title(main = \"cars data\")\n",
    "plot(cars, xlab = \"Speed (mph)\", ylab = \"Stopping distance (ft)\",\n",
    "     las = 1, log = \"xy\")\n",
    "title(main = \"cars data (logarithmic scales)\")\n",
    "lines(lowess(cars$speed, cars$dist, f = 2/3, iter = 3), col = \"red\")\n",
    "summary(fm1 <- lm(log(dist) ~ log(speed), data = cars))\n",
    "opar <- par(mfrow = c(2, 2), oma = c(0, 0, 1.1, 0),\n",
    "            mar = c(4.1, 4.1, 2.1, 1.1))\n",
    "plot(fm1)\n",
    "par(opar)"
   ]
  },
  {
   "cell_type": "markdown",
   "metadata": {},
   "source": [
    "### 디스크 액세스"
   ]
  },
  {
   "cell_type": "code",
   "execution_count": 36,
   "metadata": {
    "collapsed": true
   },
   "outputs": [],
   "source": [
    "# csv 저장\n",
    "\n",
    "write.csv(cars, \"datas/cars.csv\")"
   ]
  },
  {
   "cell_type": "code",
   "execution_count": 37,
   "metadata": {},
   "outputs": [
    {
     "data": {
      "text/html": [
       "'/home/jovyan/work/Lecture'"
      ],
      "text/latex": [
       "'/home/jovyan/work/Lecture'"
      ],
      "text/markdown": [
       "'/home/jovyan/work/Lecture'"
      ],
      "text/plain": [
       "[1] \"/home/jovyan/work/Lecture\""
      ]
     },
     "metadata": {},
     "output_type": "display_data"
    }
   ],
   "source": [
    "# 현재 디렉터리 위치 확인\n",
    "\n",
    "getwd()\n",
    "\n",
    "# 작업 디렉터리 위치 변경 ( cd 명령어와 비슷 )\n",
    "# setwd(\"디렉터리 명\")"
   ]
  },
  {
   "cell_type": "code",
   "execution_count": 38,
   "metadata": {
    "collapsed": true
   },
   "outputs": [],
   "source": [
    "# 수열 변수에 할당\n",
    "\n",
    "X <- 1:5\n",
    "y <- 6:10"
   ]
  },
  {
   "cell_type": "code",
   "execution_count": 40,
   "metadata": {
    "collapsed": true
   },
   "outputs": [],
   "source": [
    "# 변수를 rData 파일에 저장\n",
    "\n",
    "save(X, y, file=\"datas/xy.rData\")"
   ]
  },
  {
   "cell_type": "code",
   "execution_count": 44,
   "metadata": {},
   "outputs": [
    {
     "ename": "ERROR",
     "evalue": "Error in print(X): object 'X' not found\n",
     "output_type": "error",
     "traceback": [
      "Error in print(X): object 'X' not found\nTraceback:\n",
      "1. print(X)"
     ]
    }
   ],
   "source": [
    "rm(list = ls())\n",
    "\n",
    "# 파일이 잘 불러오는지 확인을 위하여 선언된 객체, 변수 일괄삭제\n",
    "\n",
    "print(X)"
   ]
  },
  {
   "cell_type": "code",
   "execution_count": 45,
   "metadata": {},
   "outputs": [
    {
     "name": "stdout",
     "output_type": "stream",
     "text": [
      "[1] 1 2 3 4 5\n"
     ]
    }
   ],
   "source": [
    "load(\"datas/xy.rData\")\n",
    "\n",
    "print(X)"
   ]
  },
  {
   "cell_type": "markdown",
   "metadata": {},
   "source": [
    "#### CSV 불러오기"
   ]
  },
  {
   "cell_type": "code",
   "execution_count": 46,
   "metadata": {},
   "outputs": [
    {
     "data": {
      "text/html": [
       "<table>\n",
       "<thead><tr><th scope=col>X</th><th scope=col>speed</th><th scope=col>dist</th></tr></thead>\n",
       "<tbody>\n",
       "\t<tr><td> 1 </td><td> 4 </td><td>  2</td></tr>\n",
       "\t<tr><td> 2 </td><td> 4 </td><td> 10</td></tr>\n",
       "\t<tr><td> 3 </td><td> 7 </td><td>  4</td></tr>\n",
       "\t<tr><td> 4 </td><td> 7 </td><td> 22</td></tr>\n",
       "\t<tr><td> 5 </td><td> 8 </td><td> 16</td></tr>\n",
       "\t<tr><td> 6 </td><td> 9 </td><td> 10</td></tr>\n",
       "\t<tr><td> 7 </td><td>10 </td><td> 18</td></tr>\n",
       "\t<tr><td> 8 </td><td>10 </td><td> 26</td></tr>\n",
       "\t<tr><td> 9 </td><td>10 </td><td> 34</td></tr>\n",
       "\t<tr><td>10 </td><td>11 </td><td> 17</td></tr>\n",
       "\t<tr><td>11 </td><td>11 </td><td> 28</td></tr>\n",
       "\t<tr><td>12 </td><td>12 </td><td> 14</td></tr>\n",
       "\t<tr><td>13 </td><td>12 </td><td> 20</td></tr>\n",
       "\t<tr><td>14 </td><td>12 </td><td> 24</td></tr>\n",
       "\t<tr><td>15 </td><td>12 </td><td> 28</td></tr>\n",
       "\t<tr><td>16 </td><td>13 </td><td> 26</td></tr>\n",
       "\t<tr><td>17 </td><td>13 </td><td> 34</td></tr>\n",
       "\t<tr><td>18 </td><td>13 </td><td> 34</td></tr>\n",
       "\t<tr><td>19 </td><td>13 </td><td> 46</td></tr>\n",
       "\t<tr><td>20 </td><td>14 </td><td> 26</td></tr>\n",
       "\t<tr><td>21 </td><td>14 </td><td> 36</td></tr>\n",
       "\t<tr><td>22 </td><td>14 </td><td> 60</td></tr>\n",
       "\t<tr><td>23 </td><td>14 </td><td> 80</td></tr>\n",
       "\t<tr><td>24 </td><td>15 </td><td> 20</td></tr>\n",
       "\t<tr><td>25 </td><td>15 </td><td> 26</td></tr>\n",
       "\t<tr><td>26 </td><td>15 </td><td> 54</td></tr>\n",
       "\t<tr><td>27 </td><td>16 </td><td> 32</td></tr>\n",
       "\t<tr><td>28 </td><td>16 </td><td> 40</td></tr>\n",
       "\t<tr><td>29 </td><td>17 </td><td> 32</td></tr>\n",
       "\t<tr><td>30 </td><td>17 </td><td> 40</td></tr>\n",
       "\t<tr><td>31 </td><td>17 </td><td> 50</td></tr>\n",
       "\t<tr><td>32 </td><td>18 </td><td> 42</td></tr>\n",
       "\t<tr><td>33 </td><td>18 </td><td> 56</td></tr>\n",
       "\t<tr><td>34 </td><td>18 </td><td> 76</td></tr>\n",
       "\t<tr><td>35 </td><td>18 </td><td> 84</td></tr>\n",
       "\t<tr><td>36 </td><td>19 </td><td> 36</td></tr>\n",
       "\t<tr><td>37 </td><td>19 </td><td> 46</td></tr>\n",
       "\t<tr><td>38 </td><td>19 </td><td> 68</td></tr>\n",
       "\t<tr><td>39 </td><td>20 </td><td> 32</td></tr>\n",
       "\t<tr><td>40 </td><td>20 </td><td> 48</td></tr>\n",
       "\t<tr><td>41 </td><td>20 </td><td> 52</td></tr>\n",
       "\t<tr><td>42 </td><td>20 </td><td> 56</td></tr>\n",
       "\t<tr><td>43 </td><td>20 </td><td> 64</td></tr>\n",
       "\t<tr><td>44 </td><td>22 </td><td> 66</td></tr>\n",
       "\t<tr><td>45 </td><td>23 </td><td> 54</td></tr>\n",
       "\t<tr><td>46 </td><td>24 </td><td> 70</td></tr>\n",
       "\t<tr><td>47 </td><td>24 </td><td> 92</td></tr>\n",
       "\t<tr><td>48 </td><td>24 </td><td> 93</td></tr>\n",
       "\t<tr><td>49 </td><td>24 </td><td>120</td></tr>\n",
       "\t<tr><td>50 </td><td>25 </td><td> 85</td></tr>\n",
       "</tbody>\n",
       "</table>\n"
      ],
      "text/latex": [
       "\\begin{tabular}{r|lll}\n",
       " X & speed & dist\\\\\n",
       "\\hline\n",
       "\t  1  &  4  &   2\\\\\n",
       "\t  2  &  4  &  10\\\\\n",
       "\t  3  &  7  &   4\\\\\n",
       "\t  4  &  7  &  22\\\\\n",
       "\t  5  &  8  &  16\\\\\n",
       "\t  6  &  9  &  10\\\\\n",
       "\t  7  & 10  &  18\\\\\n",
       "\t  8  & 10  &  26\\\\\n",
       "\t  9  & 10  &  34\\\\\n",
       "\t 10  & 11  &  17\\\\\n",
       "\t 11  & 11  &  28\\\\\n",
       "\t 12  & 12  &  14\\\\\n",
       "\t 13  & 12  &  20\\\\\n",
       "\t 14  & 12  &  24\\\\\n",
       "\t 15  & 12  &  28\\\\\n",
       "\t 16  & 13  &  26\\\\\n",
       "\t 17  & 13  &  34\\\\\n",
       "\t 18  & 13  &  34\\\\\n",
       "\t 19  & 13  &  46\\\\\n",
       "\t 20  & 14  &  26\\\\\n",
       "\t 21  & 14  &  36\\\\\n",
       "\t 22  & 14  &  60\\\\\n",
       "\t 23  & 14  &  80\\\\\n",
       "\t 24  & 15  &  20\\\\\n",
       "\t 25  & 15  &  26\\\\\n",
       "\t 26  & 15  &  54\\\\\n",
       "\t 27  & 16  &  32\\\\\n",
       "\t 28  & 16  &  40\\\\\n",
       "\t 29  & 17  &  32\\\\\n",
       "\t 30  & 17  &  40\\\\\n",
       "\t 31  & 17  &  50\\\\\n",
       "\t 32  & 18  &  42\\\\\n",
       "\t 33  & 18  &  56\\\\\n",
       "\t 34  & 18  &  76\\\\\n",
       "\t 35  & 18  &  84\\\\\n",
       "\t 36  & 19  &  36\\\\\n",
       "\t 37  & 19  &  46\\\\\n",
       "\t 38  & 19  &  68\\\\\n",
       "\t 39  & 20  &  32\\\\\n",
       "\t 40  & 20  &  48\\\\\n",
       "\t 41  & 20  &  52\\\\\n",
       "\t 42  & 20  &  56\\\\\n",
       "\t 43  & 20  &  64\\\\\n",
       "\t 44  & 22  &  66\\\\\n",
       "\t 45  & 23  &  54\\\\\n",
       "\t 46  & 24  &  70\\\\\n",
       "\t 47  & 24  &  92\\\\\n",
       "\t 48  & 24  &  93\\\\\n",
       "\t 49  & 24  & 120\\\\\n",
       "\t 50  & 25  &  85\\\\\n",
       "\\end{tabular}\n"
      ],
      "text/markdown": [
       "\n",
       "X | speed | dist | \n",
       "|---|---|---|---|---|---|---|---|---|---|---|---|---|---|---|---|---|---|---|---|---|---|---|---|---|---|---|---|---|---|---|---|---|---|---|---|---|---|---|---|---|---|---|---|---|---|---|---|---|---|\n",
       "|  1  |  4  |   2 | \n",
       "|  2  |  4  |  10 | \n",
       "|  3  |  7  |   4 | \n",
       "|  4  |  7  |  22 | \n",
       "|  5  |  8  |  16 | \n",
       "|  6  |  9  |  10 | \n",
       "|  7  | 10  |  18 | \n",
       "|  8  | 10  |  26 | \n",
       "|  9  | 10  |  34 | \n",
       "| 10  | 11  |  17 | \n",
       "| 11  | 11  |  28 | \n",
       "| 12  | 12  |  14 | \n",
       "| 13  | 12  |  20 | \n",
       "| 14  | 12  |  24 | \n",
       "| 15  | 12  |  28 | \n",
       "| 16  | 13  |  26 | \n",
       "| 17  | 13  |  34 | \n",
       "| 18  | 13  |  34 | \n",
       "| 19  | 13  |  46 | \n",
       "| 20  | 14  |  26 | \n",
       "| 21  | 14  |  36 | \n",
       "| 22  | 14  |  60 | \n",
       "| 23  | 14  |  80 | \n",
       "| 24  | 15  |  20 | \n",
       "| 25  | 15  |  26 | \n",
       "| 26  | 15  |  54 | \n",
       "| 27  | 16  |  32 | \n",
       "| 28  | 16  |  40 | \n",
       "| 29  | 17  |  32 | \n",
       "| 30  | 17  |  40 | \n",
       "| 31  | 17  |  50 | \n",
       "| 32  | 18  |  42 | \n",
       "| 33  | 18  |  56 | \n",
       "| 34  | 18  |  76 | \n",
       "| 35  | 18  |  84 | \n",
       "| 36  | 19  |  36 | \n",
       "| 37  | 19  |  46 | \n",
       "| 38  | 19  |  68 | \n",
       "| 39  | 20  |  32 | \n",
       "| 40  | 20  |  48 | \n",
       "| 41  | 20  |  52 | \n",
       "| 42  | 20  |  56 | \n",
       "| 43  | 20  |  64 | \n",
       "| 44  | 22  |  66 | \n",
       "| 45  | 23  |  54 | \n",
       "| 46  | 24  |  70 | \n",
       "| 47  | 24  |  92 | \n",
       "| 48  | 24  |  93 | \n",
       "| 49  | 24  | 120 | \n",
       "| 50  | 25  |  85 | \n",
       "\n",
       "\n"
      ],
      "text/plain": [
       "   X  speed dist\n",
       "1   1  4      2 \n",
       "2   2  4     10 \n",
       "3   3  7      4 \n",
       "4   4  7     22 \n",
       "5   5  8     16 \n",
       "6   6  9     10 \n",
       "7   7 10     18 \n",
       "8   8 10     26 \n",
       "9   9 10     34 \n",
       "10 10 11     17 \n",
       "11 11 11     28 \n",
       "12 12 12     14 \n",
       "13 13 12     20 \n",
       "14 14 12     24 \n",
       "15 15 12     28 \n",
       "16 16 13     26 \n",
       "17 17 13     34 \n",
       "18 18 13     34 \n",
       "19 19 13     46 \n",
       "20 20 14     26 \n",
       "21 21 14     36 \n",
       "22 22 14     60 \n",
       "23 23 14     80 \n",
       "24 24 15     20 \n",
       "25 25 15     26 \n",
       "26 26 15     54 \n",
       "27 27 16     32 \n",
       "28 28 16     40 \n",
       "29 29 17     32 \n",
       "30 30 17     40 \n",
       "31 31 17     50 \n",
       "32 32 18     42 \n",
       "33 33 18     56 \n",
       "34 34 18     76 \n",
       "35 35 18     84 \n",
       "36 36 19     36 \n",
       "37 37 19     46 \n",
       "38 38 19     68 \n",
       "39 39 20     32 \n",
       "40 40 20     48 \n",
       "41 41 20     52 \n",
       "42 42 20     56 \n",
       "43 43 20     64 \n",
       "44 44 22     66 \n",
       "45 45 23     54 \n",
       "46 46 24     70 \n",
       "47 47 24     92 \n",
       "48 48 24     93 \n",
       "49 49 24    120 \n",
       "50 50 25     85 "
      ]
     },
     "metadata": {},
     "output_type": "display_data"
    }
   ],
   "source": [
    "read.csv(\"datas/cars.csv\")"
   ]
  },
  {
   "cell_type": "markdown",
   "metadata": {},
   "source": [
    "## R 데이터 구조이해"
   ]
  },
  {
   "cell_type": "markdown",
   "metadata": {},
   "source": [
    "- 변수명은 항상 왼쪽에 온다.\n",
    "    - R 은 오른쪽 변수에도 값을 할당 할 수는 있지만 가급적 쓰지 않는게 좋을 것 같다.\n",
    "- 변수에 값을 할당 할 때 = 도 가능하지만 <- 를 쓰자."
   ]
  },
  {
   "cell_type": "code",
   "execution_count": 49,
   "metadata": {},
   "outputs": [
    {
     "name": "stdout",
     "output_type": "stream",
     "text": [
      "[1] 1\n"
     ]
    }
   ],
   "source": [
    "mY1 <- 1\n",
    "print(mY1)"
   ]
  },
  {
   "cell_type": "code",
   "execution_count": 50,
   "metadata": {},
   "outputs": [
    {
     "name": "stdout",
     "output_type": "stream",
     "text": [
      "[1] 10 20 30\n"
     ]
    }
   ],
   "source": [
    "vV <- c(10, 20, 30)\n",
    "print(vV)"
   ]
  },
  {
   "cell_type": "code",
   "execution_count": 51,
   "metadata": {},
   "outputs": [
    {
     "name": "stdout",
     "output_type": "stream",
     "text": [
      "[1] \"문자1\" \"문자2\" \"문자3\"\n"
     ]
    }
   ],
   "source": [
    "V_tax <- c(\"문자1\", \"문자2\", \"문자3\")\n",
    "print(V_tax)"
   ]
  },
  {
   "cell_type": "markdown",
   "metadata": {},
   "source": [
    "변수와 변수끼리 combine 도 가능하다."
   ]
  },
  {
   "cell_type": "code",
   "execution_count": 53,
   "metadata": {},
   "outputs": [
    {
     "name": "stdout",
     "output_type": "stream",
     "text": [
      "[1] 1 2 3 4 5\n"
     ]
    }
   ],
   "source": [
    "x <- c(1, 2, 3)\n",
    "y <- c(x, 4, 5)\n",
    "\n",
    "print(y)"
   ]
  },
  {
   "cell_type": "code",
   "execution_count": 57,
   "metadata": {},
   "outputs": [
    {
     "data": {
      "text/html": [
       "<ol class=list-inline>\n",
       "\t<li>1</li>\n",
       "\t<li>2</li>\n",
       "\t<li>3</li>\n",
       "\t<li>4</li>\n",
       "\t<li>5</li>\n",
       "</ol>\n"
      ],
      "text/latex": [
       "\\begin{enumerate*}\n",
       "\\item 1\n",
       "\\item 2\n",
       "\\item 3\n",
       "\\item 4\n",
       "\\item 5\n",
       "\\end{enumerate*}\n"
      ],
      "text/markdown": [
       "1. 1\n",
       "2. 2\n",
       "3. 3\n",
       "4. 4\n",
       "5. 5\n",
       "\n",
       "\n"
      ],
      "text/plain": [
       "[1] 1 2 3 4 5"
      ]
     },
     "metadata": {},
     "output_type": "display_data"
    },
    {
     "data": {
      "text/html": [
       "<ol class=list-inline>\n",
       "\t<li>0</li>\n",
       "\t<li>2</li>\n",
       "\t<li>4</li>\n",
       "\t<li>6</li>\n",
       "\t<li>8</li>\n",
       "\t<li>10</li>\n",
       "</ol>\n"
      ],
      "text/latex": [
       "\\begin{enumerate*}\n",
       "\\item 0\n",
       "\\item 2\n",
       "\\item 4\n",
       "\\item 6\n",
       "\\item 8\n",
       "\\item 10\n",
       "\\end{enumerate*}\n"
      ],
      "text/markdown": [
       "1. 0\n",
       "2. 2\n",
       "3. 4\n",
       "4. 6\n",
       "5. 8\n",
       "6. 10\n",
       "\n",
       "\n"
      ],
      "text/plain": [
       "[1]  0  2  4  6  8 10"
      ]
     },
     "metadata": {},
     "output_type": "display_data"
    }
   ],
   "source": [
    "# 수열\n",
    "\n",
    "1:5\n",
    "\n",
    "# 시작값, 마지막값, 간격\n",
    "seq(from=0, to=10, by=2)"
   ]
  },
  {
   "cell_type": "code",
   "execution_count": 59,
   "metadata": {},
   "outputs": [
    {
     "data": {
      "text/html": [
       "<ol class=list-inline>\n",
       "\t<li>1</li>\n",
       "\t<li>1</li>\n",
       "\t<li>2</li>\n",
       "\t<li>2</li>\n",
       "</ol>\n"
      ],
      "text/latex": [
       "\\begin{enumerate*}\n",
       "\\item 1\n",
       "\\item 1\n",
       "\\item 2\n",
       "\\item 2\n",
       "\\end{enumerate*}\n"
      ],
      "text/markdown": [
       "1. 1\n",
       "2. 1\n",
       "3. 2\n",
       "4. 2\n",
       "\n",
       "\n"
      ],
      "text/plain": [
       "[1] 1 1 2 2"
      ]
     },
     "metadata": {},
     "output_type": "display_data"
    }
   ],
   "source": [
    "# rep\n",
    "# 반복할 내용, 횟수, 전체길이, 반복수\n",
    "\n",
    "rep(1:2, each=2)"
   ]
  },
  {
   "cell_type": "code",
   "execution_count": 62,
   "metadata": {},
   "outputs": [
    {
     "data": {
      "text/html": [
       "<ol class=list-inline>\n",
       "\t<li>1</li>\n",
       "\t<li>1</li>\n",
       "\t<li>2</li>\n",
       "\t<li>2</li>\n",
       "\t<li>1</li>\n",
       "\t<li>1</li>\n",
       "\t<li>2</li>\n",
       "\t<li>2</li>\n",
       "\t<li>1</li>\n",
       "\t<li>1</li>\n",
       "\t<li>2</li>\n",
       "\t<li>2</li>\n",
       "\t<li>1</li>\n",
       "\t<li>1</li>\n",
       "\t<li>2</li>\n",
       "\t<li>2</li>\n",
       "</ol>\n"
      ],
      "text/latex": [
       "\\begin{enumerate*}\n",
       "\\item 1\n",
       "\\item 1\n",
       "\\item 2\n",
       "\\item 2\n",
       "\\item 1\n",
       "\\item 1\n",
       "\\item 2\n",
       "\\item 2\n",
       "\\item 1\n",
       "\\item 1\n",
       "\\item 2\n",
       "\\item 2\n",
       "\\item 1\n",
       "\\item 1\n",
       "\\item 2\n",
       "\\item 2\n",
       "\\end{enumerate*}\n"
      ],
      "text/markdown": [
       "1. 1\n",
       "2. 1\n",
       "3. 2\n",
       "4. 2\n",
       "5. 1\n",
       "6. 1\n",
       "7. 2\n",
       "8. 2\n",
       "9. 1\n",
       "10. 1\n",
       "11. 2\n",
       "12. 2\n",
       "13. 1\n",
       "14. 1\n",
       "15. 2\n",
       "16. 2\n",
       "\n",
       "\n"
      ],
      "text/plain": [
       " [1] 1 1 2 2 1 1 2 2 1 1 2 2 1 1 2 2"
      ]
     },
     "metadata": {},
     "output_type": "display_data"
    }
   ],
   "source": [
    "# times 는 전체 반복 횟수\n",
    "# each 는 각각에 대해 반복 횟수 지정\n",
    "\n",
    "rep(1:2, times=4, each=2)"
   ]
  },
  {
   "cell_type": "code",
   "execution_count": 74,
   "metadata": {},
   "outputs": [
    {
     "data": {
      "text/html": [
       "<ol class=list-inline>\n",
       "\t<li>1</li>\n",
       "\t<li>1</li>\n",
       "\t<li>1</li>\n",
       "\t<li>1</li>\n",
       "\t<li>2</li>\n",
       "\t<li>2</li>\n",
       "\t<li>2</li>\n",
       "\t<li>2</li>\n",
       "\t<li>3</li>\n",
       "\t<li>3</li>\n",
       "\t<li>3</li>\n",
       "\t<li>3</li>\n",
       "\t<li>4</li>\n",
       "\t<li>4</li>\n",
       "\t<li>4</li>\n",
       "\t<li>4</li>\n",
       "\t<li>1</li>\n",
       "\t<li>1</li>\n",
       "\t<li>1</li>\n",
       "\t<li>1</li>\n",
       "\t<li>2</li>\n",
       "\t<li>2</li>\n",
       "\t<li>2</li>\n",
       "\t<li>2</li>\n",
       "\t<li>3</li>\n",
       "\t<li>3</li>\n",
       "\t<li>3</li>\n",
       "\t<li>3</li>\n",
       "\t<li>4</li>\n",
       "\t<li>4</li>\n",
       "\t<li>4</li>\n",
       "\t<li>4</li>\n",
       "\t<li>1</li>\n",
       "\t<li>1</li>\n",
       "\t<li>1</li>\n",
       "\t<li>1</li>\n",
       "\t<li>2</li>\n",
       "\t<li>2</li>\n",
       "\t<li>2</li>\n",
       "\t<li>2</li>\n",
       "\t<li>3</li>\n",
       "\t<li>3</li>\n",
       "\t<li>3</li>\n",
       "\t<li>3</li>\n",
       "\t<li>4</li>\n",
       "\t<li>4</li>\n",
       "\t<li>4</li>\n",
       "\t<li>4</li>\n",
       "\t<li>1</li>\n",
       "\t<li>1</li>\n",
       "\t<li>1</li>\n",
       "\t<li>1</li>\n",
       "\t<li>2</li>\n",
       "\t<li>2</li>\n",
       "\t<li>2</li>\n",
       "\t<li>2</li>\n",
       "\t<li>3</li>\n",
       "\t<li>3</li>\n",
       "\t<li>3</li>\n",
       "\t<li>3</li>\n",
       "\t<li>4</li>\n",
       "\t<li>4</li>\n",
       "\t<li>4</li>\n",
       "\t<li>4</li>\n",
       "\t<li>1</li>\n",
       "\t<li>1</li>\n",
       "\t<li>1</li>\n",
       "\t<li>1</li>\n",
       "\t<li>2</li>\n",
       "\t<li>2</li>\n",
       "\t<li>2</li>\n",
       "\t<li>2</li>\n",
       "\t<li>3</li>\n",
       "\t<li>3</li>\n",
       "\t<li>3</li>\n",
       "\t<li>3</li>\n",
       "\t<li>4</li>\n",
       "\t<li>4</li>\n",
       "\t<li>4</li>\n",
       "\t<li>4</li>\n",
       "\t<li>1</li>\n",
       "\t<li>1</li>\n",
       "\t<li>1</li>\n",
       "\t<li>1</li>\n",
       "\t<li>2</li>\n",
       "\t<li>2</li>\n",
       "\t<li>2</li>\n",
       "\t<li>2</li>\n",
       "\t<li>3</li>\n",
       "\t<li>3</li>\n",
       "\t<li>3</li>\n",
       "\t<li>3</li>\n",
       "\t<li>4</li>\n",
       "\t<li>4</li>\n",
       "\t<li>4</li>\n",
       "\t<li>4</li>\n",
       "\t<li>1</li>\n",
       "\t<li>1</li>\n",
       "\t<li>1</li>\n",
       "</ol>\n"
      ],
      "text/latex": [
       "\\begin{enumerate*}\n",
       "\\item 1\n",
       "\\item 1\n",
       "\\item 1\n",
       "\\item 1\n",
       "\\item 2\n",
       "\\item 2\n",
       "\\item 2\n",
       "\\item 2\n",
       "\\item 3\n",
       "\\item 3\n",
       "\\item 3\n",
       "\\item 3\n",
       "\\item 4\n",
       "\\item 4\n",
       "\\item 4\n",
       "\\item 4\n",
       "\\item 1\n",
       "\\item 1\n",
       "\\item 1\n",
       "\\item 1\n",
       "\\item 2\n",
       "\\item 2\n",
       "\\item 2\n",
       "\\item 2\n",
       "\\item 3\n",
       "\\item 3\n",
       "\\item 3\n",
       "\\item 3\n",
       "\\item 4\n",
       "\\item 4\n",
       "\\item 4\n",
       "\\item 4\n",
       "\\item 1\n",
       "\\item 1\n",
       "\\item 1\n",
       "\\item 1\n",
       "\\item 2\n",
       "\\item 2\n",
       "\\item 2\n",
       "\\item 2\n",
       "\\item 3\n",
       "\\item 3\n",
       "\\item 3\n",
       "\\item 3\n",
       "\\item 4\n",
       "\\item 4\n",
       "\\item 4\n",
       "\\item 4\n",
       "\\item 1\n",
       "\\item 1\n",
       "\\item 1\n",
       "\\item 1\n",
       "\\item 2\n",
       "\\item 2\n",
       "\\item 2\n",
       "\\item 2\n",
       "\\item 3\n",
       "\\item 3\n",
       "\\item 3\n",
       "\\item 3\n",
       "\\item 4\n",
       "\\item 4\n",
       "\\item 4\n",
       "\\item 4\n",
       "\\item 1\n",
       "\\item 1\n",
       "\\item 1\n",
       "\\item 1\n",
       "\\item 2\n",
       "\\item 2\n",
       "\\item 2\n",
       "\\item 2\n",
       "\\item 3\n",
       "\\item 3\n",
       "\\item 3\n",
       "\\item 3\n",
       "\\item 4\n",
       "\\item 4\n",
       "\\item 4\n",
       "\\item 4\n",
       "\\item 1\n",
       "\\item 1\n",
       "\\item 1\n",
       "\\item 1\n",
       "\\item 2\n",
       "\\item 2\n",
       "\\item 2\n",
       "\\item 2\n",
       "\\item 3\n",
       "\\item 3\n",
       "\\item 3\n",
       "\\item 3\n",
       "\\item 4\n",
       "\\item 4\n",
       "\\item 4\n",
       "\\item 4\n",
       "\\item 1\n",
       "\\item 1\n",
       "\\item 1\n",
       "\\end{enumerate*}\n"
      ],
      "text/markdown": [
       "1. 1\n",
       "2. 1\n",
       "3. 1\n",
       "4. 1\n",
       "5. 2\n",
       "6. 2\n",
       "7. 2\n",
       "8. 2\n",
       "9. 3\n",
       "10. 3\n",
       "11. 3\n",
       "12. 3\n",
       "13. 4\n",
       "14. 4\n",
       "15. 4\n",
       "16. 4\n",
       "17. 1\n",
       "18. 1\n",
       "19. 1\n",
       "20. 1\n",
       "21. 2\n",
       "22. 2\n",
       "23. 2\n",
       "24. 2\n",
       "25. 3\n",
       "26. 3\n",
       "27. 3\n",
       "28. 3\n",
       "29. 4\n",
       "30. 4\n",
       "31. 4\n",
       "32. 4\n",
       "33. 1\n",
       "34. 1\n",
       "35. 1\n",
       "36. 1\n",
       "37. 2\n",
       "38. 2\n",
       "39. 2\n",
       "40. 2\n",
       "41. 3\n",
       "42. 3\n",
       "43. 3\n",
       "44. 3\n",
       "45. 4\n",
       "46. 4\n",
       "47. 4\n",
       "48. 4\n",
       "49. 1\n",
       "50. 1\n",
       "51. 1\n",
       "52. 1\n",
       "53. 2\n",
       "54. 2\n",
       "55. 2\n",
       "56. 2\n",
       "57. 3\n",
       "58. 3\n",
       "59. 3\n",
       "60. 3\n",
       "61. 4\n",
       "62. 4\n",
       "63. 4\n",
       "64. 4\n",
       "65. 1\n",
       "66. 1\n",
       "67. 1\n",
       "68. 1\n",
       "69. 2\n",
       "70. 2\n",
       "71. 2\n",
       "72. 2\n",
       "73. 3\n",
       "74. 3\n",
       "75. 3\n",
       "76. 3\n",
       "77. 4\n",
       "78. 4\n",
       "79. 4\n",
       "80. 4\n",
       "81. 1\n",
       "82. 1\n",
       "83. 1\n",
       "84. 1\n",
       "85. 2\n",
       "86. 2\n",
       "87. 2\n",
       "88. 2\n",
       "89. 3\n",
       "90. 3\n",
       "91. 3\n",
       "92. 3\n",
       "93. 4\n",
       "94. 4\n",
       "95. 4\n",
       "96. 4\n",
       "97. 1\n",
       "98. 1\n",
       "99. 1\n",
       "\n",
       "\n"
      ],
      "text/plain": [
       " [1] 1 1 1 1 2 2 2 2 3 3 3 3 4 4 4 4 1 1 1 1 2 2 2 2 3 3 3 3 4 4 4 4 1 1 1 1 2 2\n",
       "[39] 2 2 3 3 3 3 4 4 4 4 1 1 1 1 2 2 2 2 3 3 3 3 4 4 4 4 1 1 1 1 2 2 2 2 3 3 3 3\n",
       "[77] 4 4 4 4 1 1 1 1 2 2 2 2 3 3 3 3 4 4 4 4 1 1 1"
      ]
     },
     "metadata": {},
     "output_type": "display_data"
    }
   ],
   "source": [
    "# length.out 은 값 갯수의 길이를 무조건 강제로 조정한다. \n",
    "# (늘이기도 가능하다. 즉 제한 아님)\n",
    "\n",
    "# 우선순위\n",
    "# length.out 가 가장 높음\n",
    "\n",
    "rep(1:4, times=4, length.out=99, each=4)"
   ]
  },
  {
   "cell_type": "markdown",
   "metadata": {},
   "source": [
    "# 오전 시간 정리\n",
    "\n",
    "- 기본 데이터셋\n",
    "    - 리스트 보기\n",
    "    - 데이터셋 설명\n",
    "    - 불러오기\n",
    "    - shape 보기\n",
    "    - head 로 상단 몇 개만 불러와서 확인하기\n",
    "- 파일 다루기\n",
    "    - 변수를 rData 로 저장하기, 불러오기\n",
    "    - 기본 데이터셋을 CSV 로 저장하고 불러오기\n",
    "    - 작업 디렉터리 확인 및 위치 변경하기\n",
    "- 데이터 구조\n",
    "    - 수열\n",
    "        - 1:5\n",
    "        - seq(from, to, by)\n",
    "        - rep(x, times=1, length.out=NA, each=1)"
   ]
  },
  {
   "cell_type": "markdown",
   "metadata": {},
   "source": [
    "# 데이터 타입"
   ]
  },
  {
   "cell_type": "markdown",
   "metadata": {},
   "source": [
    "- Double\n",
    "    - 실수\n",
    "    - 데이터형을 지정하지 않으면 double, number\n",
    "    - str 로 확인시 number 로 반환한다. 그래도 is.double 결과는 TRUE\n",
    "    - typeof() 로는 double 로 반환한다.\n",
    "- Integer\n",
    "    - 정수\n",
    "    - 정수에 실수를 계산하게 되면 실수형으로 자동 변환된다.\n",
    "- 데이터 타입 boolean\n",
    "    - is.double\n",
    "    - is.integer\n",
    "- Logical\n",
    "    - <\n",
    "    - <=\n",
    "    - >\n",
    "    - >=\n",
    "    - ==\n",
    "    - 분석 언어는 보편적으로 0 은 FALSE 로 본다.\n",
    "    "
   ]
  },
  {
   "cell_type": "code",
   "execution_count": 89,
   "metadata": {},
   "outputs": [
    {
     "data": {
      "text/html": [
       "'double'"
      ],
      "text/latex": [
       "'double'"
      ],
      "text/markdown": [
       "'double'"
      ],
      "text/plain": [
       "[1] \"double\""
      ]
     },
     "metadata": {},
     "output_type": "display_data"
    }
   ],
   "source": [
    "vX <- 3.1\n",
    "typeof(vX)"
   ]
  },
  {
   "cell_type": "code",
   "execution_count": 77,
   "metadata": {},
   "outputs": [
    {
     "data": {
      "text/html": [
       "TRUE"
      ],
      "text/latex": [
       "TRUE"
      ],
      "text/markdown": [
       "TRUE"
      ],
      "text/plain": [
       "[1] TRUE"
      ]
     },
     "metadata": {},
     "output_type": "display_data"
    }
   ],
   "source": [
    "is.double(vX)"
   ]
  },
  {
   "cell_type": "code",
   "execution_count": 78,
   "metadata": {
    "collapsed": true
   },
   "outputs": [],
   "source": [
    "# integer 로 선언하기 위해\n",
    "\n",
    "vY <- as.integer(5)"
   ]
  },
  {
   "cell_type": "code",
   "execution_count": 79,
   "metadata": {},
   "outputs": [
    {
     "name": "stdout",
     "output_type": "stream",
     "text": [
      " int 5\n"
     ]
    }
   ],
   "source": [
    "str(vY)"
   ]
  },
  {
   "cell_type": "code",
   "execution_count": 81,
   "metadata": {},
   "outputs": [
    {
     "name": "stdout",
     "output_type": "stream",
     "text": [
      " num 10.3\n"
     ]
    }
   ],
   "source": [
    "tt <- as.double(10.3)\n",
    "str(tt)"
   ]
  },
  {
   "cell_type": "code",
   "execution_count": 82,
   "metadata": {},
   "outputs": [
    {
     "data": {
      "text/html": [
       "<ol class=list-inline>\n",
       "\t<li>-0.1</li>\n",
       "\t<li>2.7</li>\n",
       "\t<li>8</li>\n",
       "</ol>\n"
      ],
      "text/latex": [
       "\\begin{enumerate*}\n",
       "\\item -0.1\n",
       "\\item 2.7\n",
       "\\item 8\n",
       "\\end{enumerate*}\n"
      ],
      "text/markdown": [
       "1. -0.1\n",
       "2. 2.7\n",
       "3. 8\n",
       "\n",
       "\n"
      ],
      "text/plain": [
       "[1] -0.1  2.7  8.0"
      ]
     },
     "metadata": {},
     "output_type": "display_data"
    }
   ],
   "source": [
    "cn2 <- as.numeric(c(\"-.1\", 2.7, \"8\"))\n",
    "cn2"
   ]
  },
  {
   "cell_type": "code",
   "execution_count": 84,
   "metadata": {},
   "outputs": [
    {
     "name": "stderr",
     "output_type": "stream",
     "text": [
      "Warning message in eval(expr, envir, enclos):\n",
      "“NAs introduced by coercion”"
     ]
    },
    {
     "data": {
      "text/html": [
       "<ol class=list-inline>\n",
       "\t<li>-0.1</li>\n",
       "\t<li>2.7</li>\n",
       "\t<li>NA</li>\n",
       "</ol>\n"
      ],
      "text/latex": [
       "\\begin{enumerate*}\n",
       "\\item -0.1\n",
       "\\item 2.7\n",
       "\\item NA\n",
       "\\end{enumerate*}\n"
      ],
      "text/markdown": [
       "1. -0.1\n",
       "2. 2.7\n",
       "3. NA\n",
       "\n",
       "\n"
      ],
      "text/plain": [
       "[1] -0.1  2.7   NA"
      ]
     },
     "metadata": {},
     "output_type": "display_data"
    }
   ],
   "source": [
    "cn1 <- as.numeric(c(\"-.1\", \"2.7\", \"B\"))\n",
    "cn1"
   ]
  },
  {
   "cell_type": "code",
   "execution_count": 85,
   "metadata": {},
   "outputs": [
    {
     "data": {
      "text/html": [
       "FALSE"
      ],
      "text/latex": [
       "FALSE"
      ],
      "text/markdown": [
       "FALSE"
      ],
      "text/plain": [
       "[1] FALSE"
      ]
     },
     "metadata": {},
     "output_type": "display_data"
    }
   ],
   "source": [
    "is.integer(cn1)"
   ]
  },
  {
   "cell_type": "code",
   "execution_count": 86,
   "metadata": {},
   "outputs": [
    {
     "name": "stdout",
     "output_type": "stream",
     "text": [
      "[1] \"woman\" \"man\"  \n",
      " chr [1:2] \"woman\" \"man\"\n"
     ]
    }
   ],
   "source": [
    "x <- c(\"woman\", \"man\")\n",
    "print(x)\n",
    "str(x)"
   ]
  },
  {
   "cell_type": "code",
   "execution_count": 87,
   "metadata": {},
   "outputs": [
    {
     "data": {
      "text/html": [
       "<ol class=list-inline>\n",
       "\t<li>woman</li>\n",
       "\t<li>man</li>\n",
       "</ol>\n"
      ],
      "text/latex": [
       "\\begin{enumerate*}\n",
       "\\item woman\n",
       "\\item man\n",
       "\\end{enumerate*}\n"
      ],
      "text/markdown": [
       "1. woman\n",
       "2. man\n",
       "\n",
       "\n"
      ],
      "text/plain": [
       "[1] woman man  \n",
       "Levels: man woman"
      ]
     },
     "metadata": {},
     "output_type": "display_data"
    }
   ],
   "source": [
    "# factor object 의 순서대로 조정\n",
    "\n",
    "as.factor(x)"
   ]
  },
  {
   "cell_type": "code",
   "execution_count": 88,
   "metadata": {},
   "outputs": [
    {
     "data": {
      "text/html": [
       "<ol class=list-inline>\n",
       "\t<li>2</li>\n",
       "\t<li>1</li>\n",
       "</ol>\n"
      ],
      "text/latex": [
       "\\begin{enumerate*}\n",
       "\\item 2\n",
       "\\item 1\n",
       "\\end{enumerate*}\n"
      ],
      "text/markdown": [
       "1. 2\n",
       "2. 1\n",
       "\n",
       "\n"
      ],
      "text/plain": [
       "[1] 2 1"
      ]
     },
     "metadata": {},
     "output_type": "display_data"
    }
   ],
   "source": [
    "# 숫자로 순서를 매겨준다???\n",
    "\n",
    "as.numeric(as.factor(x))"
   ]
  },
  {
   "cell_type": "code",
   "execution_count": 90,
   "metadata": {
    "collapsed": true
   },
   "outputs": [],
   "source": [
    "# Logical\n",
    "\n",
    "vX <- TRUE"
   ]
  },
  {
   "cell_type": "code",
   "execution_count": 91,
   "metadata": {},
   "outputs": [
    {
     "data": {
      "text/html": [
       "TRUE"
      ],
      "text/latex": [
       "TRUE"
      ],
      "text/markdown": [
       "TRUE"
      ],
      "text/plain": [
       "[1] TRUE"
      ]
     },
     "metadata": {},
     "output_type": "display_data"
    }
   ],
   "source": [
    "is.logical(vX)"
   ]
  },
  {
   "cell_type": "code",
   "execution_count": 98,
   "metadata": {
    "collapsed": true
   },
   "outputs": [],
   "source": [
    "nums = 0"
   ]
  },
  {
   "cell_type": "code",
   "execution_count": 99,
   "metadata": {},
   "outputs": [
    {
     "name": "stdout",
     "output_type": "stream",
     "text": [
      "[1] \"FALSE\"\n"
     ]
    }
   ],
   "source": [
    "if(nums) {\n",
    "    print(\"TRUE\")\n",
    "} else {\n",
    "    print(\"FALSE\")\n",
    "}"
   ]
  },
  {
   "cell_type": "code",
   "execution_count": 100,
   "metadata": {},
   "outputs": [
    {
     "data": {
      "text/html": [
       "FALSE"
      ],
      "text/latex": [
       "FALSE"
      ],
      "text/markdown": [
       "FALSE"
      ],
      "text/plain": [
       "[1] FALSE"
      ]
     },
     "metadata": {},
     "output_type": "display_data"
    }
   ],
   "source": [
    "as.logical(nums)"
   ]
  },
  {
   "cell_type": "markdown",
   "metadata": {},
   "source": [
    "## Dates and Times"
   ]
  },
  {
   "cell_type": "code",
   "execution_count": 103,
   "metadata": {
    "collapsed": true
   },
   "outputs": [],
   "source": [
    "?Sys.Date()"
   ]
  },
  {
   "cell_type": "code",
   "execution_count": 102,
   "metadata": {},
   "outputs": [
    {
     "data": {
      "text/html": [
       "<time datetime=\"2016-05-07\">2016-05-07</time>"
      ],
      "text/latex": [
       "2016-05-07"
      ],
      "text/markdown": [
       "2016-05-07"
      ],
      "text/plain": [
       "[1] \"2016-05-07\""
      ]
     },
     "metadata": {},
     "output_type": "display_data"
    }
   ],
   "source": [
    "as.Date(\"05/07/2016\", format=\"%m/%d/%Y\")"
   ]
  },
  {
   "cell_type": "code",
   "execution_count": 104,
   "metadata": {},
   "outputs": [
    {
     "name": "stderr",
     "output_type": "stream",
     "text": [
      "Warning message in normalizePath(\"/etc/localtime\"):\n",
      "“path[1]=\"/etc/localtime\": No such file or directory”"
     ]
    },
    {
     "data": {
      "text/html": [
       "'NA'"
      ],
      "text/latex": [
       "'NA'"
      ],
      "text/markdown": [
       "'NA'"
      ],
      "text/plain": [
       "[1] NA"
      ]
     },
     "metadata": {},
     "output_type": "display_data"
    }
   ],
   "source": [
    "Sys.timezone()"
   ]
  },
  {
   "cell_type": "markdown",
   "metadata": {},
   "source": [
    "# Vector object"
   ]
  },
  {
   "cell_type": "code",
   "execution_count": null,
   "metadata": {
    "collapsed": true
   },
   "outputs": [],
   "source": []
  },
  {
   "cell_type": "code",
   "execution_count": 105,
   "metadata": {},
   "outputs": [
    {
     "data": {
      "text/html": [
       "TRUE"
      ],
      "text/latex": [
       "TRUE"
      ],
      "text/markdown": [
       "TRUE"
      ],
      "text/plain": [
       "[1] TRUE"
      ]
     },
     "metadata": {},
     "output_type": "display_data"
    }
   ],
   "source": [
    "vWeight <- c(10, 20, 30, 60)\n",
    "is.vector(vWeight)"
   ]
  },
  {
   "cell_type": "code",
   "execution_count": 106,
   "metadata": {
    "collapsed": true
   },
   "outputs": [],
   "source": [
    "names(vWeight) <- c(\"mouse\", \"rabbit\", \"dog\", \"human\")"
   ]
  },
  {
   "cell_type": "code",
   "execution_count": 107,
   "metadata": {},
   "outputs": [
    {
     "ename": "ERROR",
     "evalue": "Error in is.data.frame(x): argument \"x\" is missing, with no default\n",
     "output_type": "error",
     "traceback": [
      "Error in is.data.frame(x): argument \"x\" is missing, with no default\nTraceback:\n",
      "1. colnames()",
      "2. is.data.frame(x)"
     ]
    }
   ],
   "source": [
    "colnames()"
   ]
  },
  {
   "cell_type": "code",
   "execution_count": 108,
   "metadata": {
    "collapsed": true
   },
   "outputs": [],
   "source": [
    "vc2 <- c(\"a\", \"b\", 1, \"1\")"
   ]
  },
  {
   "cell_type": "code",
   "execution_count": 110,
   "metadata": {},
   "outputs": [
    {
     "data": {
      "text/html": [
       "<ol class=list-inline>\n",
       "\t<li>'a'</li>\n",
       "\t<li>'b'</li>\n",
       "\t<li>'1'</li>\n",
       "\t<li>'1'</li>\n",
       "</ol>\n"
      ],
      "text/latex": [
       "\\begin{enumerate*}\n",
       "\\item 'a'\n",
       "\\item 'b'\n",
       "\\item '1'\n",
       "\\item '1'\n",
       "\\end{enumerate*}\n"
      ],
      "text/markdown": [
       "1. 'a'\n",
       "2. 'b'\n",
       "3. '1'\n",
       "4. '1'\n",
       "\n",
       "\n"
      ],
      "text/plain": [
       "[1] \"a\" \"b\" \"1\" \"1\""
      ]
     },
     "metadata": {},
     "output_type": "display_data"
    }
   ],
   "source": [
    "vc2"
   ]
  },
  {
   "cell_type": "markdown",
   "metadata": {},
   "source": [
    "#### Vector 읽기"
   ]
  },
  {
   "cell_type": "code",
   "execution_count": 111,
   "metadata": {
    "collapsed": true
   },
   "outputs": [],
   "source": [
    "vc <- c(\"a\", \"b\")"
   ]
  },
  {
   "cell_type": "code",
   "execution_count": 112,
   "metadata": {},
   "outputs": [
    {
     "data": {
      "text/html": [
       "'a'"
      ],
      "text/latex": [
       "'a'"
      ],
      "text/markdown": [
       "'a'"
      ],
      "text/plain": [
       "[1] \"a\""
      ]
     },
     "metadata": {},
     "output_type": "display_data"
    }
   ],
   "source": [
    "vc[1]"
   ]
  },
  {
   "cell_type": "code",
   "execution_count": 113,
   "metadata": {},
   "outputs": [
    {
     "data": {
      "text/html": [],
      "text/latex": [],
      "text/markdown": [],
      "text/plain": [
       "character(0)"
      ]
     },
     "metadata": {},
     "output_type": "display_data"
    }
   ],
   "source": [
    "vc[0]"
   ]
  },
  {
   "cell_type": "code",
   "execution_count": 114,
   "metadata": {
    "collapsed": true
   },
   "outputs": [],
   "source": [
    "vc[3] <- \"c\""
   ]
  },
  {
   "cell_type": "code",
   "execution_count": 116,
   "metadata": {},
   "outputs": [
    {
     "data": {
      "text/html": [
       "<ol class=list-inline>\n",
       "\t<li>100</li>\n",
       "\t<li>200</li>\n",
       "\t<li>100</li>\n",
       "</ol>\n"
      ],
      "text/latex": [
       "\\begin{enumerate*}\n",
       "\\item 100\n",
       "\\item 200\n",
       "\\item 100\n",
       "\\end{enumerate*}\n"
      ],
      "text/markdown": [
       "1. 100\n",
       "2. 200\n",
       "3. 100\n",
       "\n",
       "\n"
      ],
      "text/plain": [
       "[1] 100 200 100"
      ]
     },
     "metadata": {},
     "output_type": "display_data"
    }
   ],
   "source": [
    "vector <- c(100, 200, 300, 400, 500, 600)\n",
    "vector[c(1, 2, 1)]"
   ]
  },
  {
   "cell_type": "code",
   "execution_count": 117,
   "metadata": {},
   "outputs": [
    {
     "ename": "ERROR",
     "evalue": "Error in vector[1, 2]: incorrect number of dimensions\n",
     "output_type": "error",
     "traceback": [
      "Error in vector[1, 2]: incorrect number of dimensions\nTraceback:\n"
     ]
    }
   ],
   "source": [
    "vector[1, 2]"
   ]
  },
  {
   "cell_type": "code",
   "execution_count": 118,
   "metadata": {},
   "outputs": [
    {
     "data": {
      "text/html": [
       "600"
      ],
      "text/latex": [
       "600"
      ],
      "text/markdown": [
       "600"
      ],
      "text/plain": [
       "[1] 600"
      ]
     },
     "metadata": {},
     "output_type": "display_data"
    }
   ],
   "source": [
    "vector[length(vector)]"
   ]
  },
  {
   "cell_type": "code",
   "execution_count": 119,
   "metadata": {},
   "outputs": [
    {
     "data": {
      "text/plain": [
       "[1] NA"
      ]
     },
     "metadata": {},
     "output_type": "display_data"
    }
   ],
   "source": [
    "vector[100]"
   ]
  },
  {
   "cell_type": "code",
   "execution_count": 120,
   "metadata": {
    "collapsed": true
   },
   "outputs": [],
   "source": [
    "vector[10] <- 900\n",
    "\n",
    "# 인덱스 크기를 넘어서는 위치로 값을 추가 하면 \n",
    "# 그 이전 인덱스의 값은 NA 로 추가된다."
   ]
  },
  {
   "cell_type": "code",
   "execution_count": 121,
   "metadata": {},
   "outputs": [
    {
     "data": {
      "text/html": [
       "<ol class=list-inline>\n",
       "\t<li>100</li>\n",
       "\t<li>200</li>\n",
       "\t<li>300</li>\n",
       "\t<li>400</li>\n",
       "\t<li>500</li>\n",
       "\t<li>600</li>\n",
       "\t<li>NA</li>\n",
       "\t<li>NA</li>\n",
       "\t<li>NA</li>\n",
       "\t<li>900</li>\n",
       "</ol>\n"
      ],
      "text/latex": [
       "\\begin{enumerate*}\n",
       "\\item 100\n",
       "\\item 200\n",
       "\\item 300\n",
       "\\item 400\n",
       "\\item 500\n",
       "\\item 600\n",
       "\\item NA\n",
       "\\item NA\n",
       "\\item NA\n",
       "\\item 900\n",
       "\\end{enumerate*}\n"
      ],
      "text/markdown": [
       "1. 100\n",
       "2. 200\n",
       "3. 300\n",
       "4. 400\n",
       "5. 500\n",
       "6. 600\n",
       "7. NA\n",
       "8. NA\n",
       "9. NA\n",
       "10. 900\n",
       "\n",
       "\n"
      ],
      "text/plain": [
       " [1] 100 200 300 400 500 600  NA  NA  NA 900"
      ]
     },
     "metadata": {},
     "output_type": "display_data"
    }
   ],
   "source": [
    "vector"
   ]
  },
  {
   "cell_type": "markdown",
   "metadata": {},
   "source": [
    "#### NA (Not Available) 처리하기\n",
    "na.rm = TRUE/FALSE"
   ]
  },
  {
   "cell_type": "code",
   "execution_count": 122,
   "metadata": {},
   "outputs": [
    {
     "data": {
      "text/plain": [
       "[1] NA"
      ]
     },
     "metadata": {},
     "output_type": "display_data"
    }
   ],
   "source": [
    "sum(c(2, NA, 2), na.rm=FALSE)"
   ]
  },
  {
   "cell_type": "code",
   "execution_count": 123,
   "metadata": {},
   "outputs": [
    {
     "data": {
      "text/html": [
       "4"
      ],
      "text/latex": [
       "4"
      ],
      "text/markdown": [
       "4"
      ],
      "text/plain": [
       "[1] 4"
      ]
     },
     "metadata": {},
     "output_type": "display_data"
    }
   ],
   "source": [
    "sum(c(2, NA, 2), na.rm=TRUE)"
   ]
  },
  {
   "cell_type": "markdown",
   "metadata": {},
   "source": [
    "#### Logical 한 결과 도출하기"
   ]
  },
  {
   "cell_type": "code",
   "execution_count": 124,
   "metadata": {
    "collapsed": true
   },
   "outputs": [],
   "source": [
    "vv <- (1:10)"
   ]
  },
  {
   "cell_type": "code",
   "execution_count": 126,
   "metadata": {},
   "outputs": [
    {
     "data": {
      "text/html": [
       "<ol class=list-inline>\n",
       "\t<li>FALSE</li>\n",
       "\t<li>FALSE</li>\n",
       "\t<li>FALSE</li>\n",
       "\t<li>FALSE</li>\n",
       "\t<li>FALSE</li>\n",
       "\t<li>TRUE</li>\n",
       "\t<li>TRUE</li>\n",
       "\t<li>TRUE</li>\n",
       "\t<li>TRUE</li>\n",
       "\t<li>TRUE</li>\n",
       "</ol>\n"
      ],
      "text/latex": [
       "\\begin{enumerate*}\n",
       "\\item FALSE\n",
       "\\item FALSE\n",
       "\\item FALSE\n",
       "\\item FALSE\n",
       "\\item FALSE\n",
       "\\item TRUE\n",
       "\\item TRUE\n",
       "\\item TRUE\n",
       "\\item TRUE\n",
       "\\item TRUE\n",
       "\\end{enumerate*}\n"
      ],
      "text/markdown": [
       "1. FALSE\n",
       "2. FALSE\n",
       "3. FALSE\n",
       "4. FALSE\n",
       "5. FALSE\n",
       "6. TRUE\n",
       "7. TRUE\n",
       "8. TRUE\n",
       "9. TRUE\n",
       "10. TRUE\n",
       "\n",
       "\n"
      ],
      "text/plain": [
       " [1] FALSE FALSE FALSE FALSE FALSE  TRUE  TRUE  TRUE  TRUE  TRUE"
      ]
     },
     "metadata": {},
     "output_type": "display_data"
    }
   ],
   "source": [
    "vv > 5\n",
    "\n",
    "# 5 보다 크면 TRUE"
   ]
  },
  {
   "cell_type": "code",
   "execution_count": 127,
   "metadata": {},
   "outputs": [
    {
     "data": {
      "text/html": [
       "<ol class=list-inline>\n",
       "\t<li>6</li>\n",
       "\t<li>7</li>\n",
       "\t<li>8</li>\n",
       "\t<li>9</li>\n",
       "\t<li>10</li>\n",
       "</ol>\n"
      ],
      "text/latex": [
       "\\begin{enumerate*}\n",
       "\\item 6\n",
       "\\item 7\n",
       "\\item 8\n",
       "\\item 9\n",
       "\\item 10\n",
       "\\end{enumerate*}\n"
      ],
      "text/markdown": [
       "1. 6\n",
       "2. 7\n",
       "3. 8\n",
       "4. 9\n",
       "5. 10\n",
       "\n",
       "\n"
      ],
      "text/plain": [
       "[1]  6  7  8  9 10"
      ]
     },
     "metadata": {},
     "output_type": "display_data"
    }
   ],
   "source": [
    "vv[vv>5]"
   ]
  },
  {
   "cell_type": "code",
   "execution_count": 128,
   "metadata": {},
   "outputs": [
    {
     "data": {
      "text/html": [
       "<ol class=list-inline>\n",
       "\t<li>1</li>\n",
       "\t<li>2</li>\n",
       "\t<li>3</li>\n",
       "\t<li>4</li>\n",
       "\t<li>5</li>\n",
       "\t<li>6</li>\n",
       "\t<li>100</li>\n",
       "\t<li>100</li>\n",
       "\t<li>100</li>\n",
       "\t<li>100</li>\n",
       "</ol>\n"
      ],
      "text/latex": [
       "\\begin{enumerate*}\n",
       "\\item 1\n",
       "\\item 2\n",
       "\\item 3\n",
       "\\item 4\n",
       "\\item 5\n",
       "\\item 6\n",
       "\\item 100\n",
       "\\item 100\n",
       "\\item 100\n",
       "\\item 100\n",
       "\\end{enumerate*}\n"
      ],
      "text/markdown": [
       "1. 1\n",
       "2. 2\n",
       "3. 3\n",
       "4. 4\n",
       "5. 5\n",
       "6. 6\n",
       "7. 100\n",
       "8. 100\n",
       "9. 100\n",
       "10. 100\n",
       "\n",
       "\n"
      ],
      "text/plain": [
       " [1]   1   2   3   4   5   6 100 100 100 100"
      ]
     },
     "metadata": {},
     "output_type": "display_data"
    }
   ],
   "source": [
    "# 조건에 따라 값을 넣기 if 문을 쓰지 않고\n",
    "vv[vv>6] <- 100\n",
    "vv"
   ]
  },
  {
   "cell_type": "code",
   "execution_count": 129,
   "metadata": {},
   "outputs": [
    {
     "data": {
      "text/html": [
       "<ol class=list-inline>\n",
       "\t<li>FALSE</li>\n",
       "\t<li>TRUE</li>\n",
       "\t<li>TRUE</li>\n",
       "\t<li>FALSE</li>\n",
       "\t<li>FALSE</li>\n",
       "</ol>\n"
      ],
      "text/latex": [
       "\\begin{enumerate*}\n",
       "\\item FALSE\n",
       "\\item TRUE\n",
       "\\item TRUE\n",
       "\\item FALSE\n",
       "\\item FALSE\n",
       "\\end{enumerate*}\n"
      ],
      "text/markdown": [
       "1. FALSE\n",
       "2. TRUE\n",
       "3. TRUE\n",
       "4. FALSE\n",
       "5. FALSE\n",
       "\n",
       "\n"
      ],
      "text/plain": [
       "[1] FALSE  TRUE  TRUE FALSE FALSE"
      ]
     },
     "metadata": {},
     "output_type": "display_data"
    }
   ],
   "source": [
    "# 왼쪽 vector 의 값을 기준으로 오른쪽 vector 에 값이 있는지 여부를 확인\n",
    "\n",
    "vX1 <- c(10, 20, 30, 40, 50)\n",
    "vX2 <- c(20, 30)\n",
    "\n",
    "vX1 %in% vX2"
   ]
  },
  {
   "cell_type": "code",
   "execution_count": 130,
   "metadata": {},
   "outputs": [
    {
     "data": {
      "text/html": [
       "<ol class=list-inline>\n",
       "\t<li>TRUE</li>\n",
       "\t<li>TRUE</li>\n",
       "</ol>\n"
      ],
      "text/latex": [
       "\\begin{enumerate*}\n",
       "\\item TRUE\n",
       "\\item TRUE\n",
       "\\end{enumerate*}\n"
      ],
      "text/markdown": [
       "1. TRUE\n",
       "2. TRUE\n",
       "\n",
       "\n"
      ],
      "text/plain": [
       "[1] TRUE TRUE"
      ]
     },
     "metadata": {},
     "output_type": "display_data"
    }
   ],
   "source": [
    "vX2 %in% vX1"
   ]
  },
  {
   "cell_type": "markdown",
   "metadata": {},
   "source": [
    "#### 빈 Vector 생성하기"
   ]
  },
  {
   "cell_type": "code",
   "execution_count": 131,
   "metadata": {
    "collapsed": true
   },
   "outputs": [],
   "source": [
    "# 길이가 없는 빈 vector\n",
    "\n",
    "vV2 <- vector()"
   ]
  },
  {
   "cell_type": "code",
   "execution_count": 136,
   "metadata": {},
   "outputs": [
    {
     "data": {
      "text/html": [
       "'logical'"
      ],
      "text/latex": [
       "'logical'"
      ],
      "text/markdown": [
       "'logical'"
      ],
      "text/plain": [
       "[1] \"logical\""
      ]
     },
     "metadata": {},
     "output_type": "display_data"
    },
    {
     "name": "stdout",
     "output_type": "stream",
     "text": [
      " logi(0) \n"
     ]
    },
    {
     "data": {
      "text/html": [
       "0"
      ],
      "text/latex": [
       "0"
      ],
      "text/markdown": [
       "0"
      ],
      "text/plain": [
       "[1] 0"
      ]
     },
     "metadata": {},
     "output_type": "display_data"
    }
   ],
   "source": [
    "typeof(vV2)\n",
    "str(vV2)\n",
    "length(vV3)"
   ]
  },
  {
   "cell_type": "code",
   "execution_count": 134,
   "metadata": {
    "collapsed": true
   },
   "outputs": [],
   "source": [
    "vV3 <- NULL"
   ]
  },
  {
   "cell_type": "code",
   "execution_count": 138,
   "metadata": {},
   "outputs": [
    {
     "data": {
      "text/html": [
       "'NULL'"
      ],
      "text/latex": [
       "'NULL'"
      ],
      "text/markdown": [
       "'NULL'"
      ],
      "text/plain": [
       "[1] \"NULL\""
      ]
     },
     "metadata": {},
     "output_type": "display_data"
    },
    {
     "name": "stdout",
     "output_type": "stream",
     "text": [
      " NULL\n"
     ]
    },
    {
     "data": {
      "text/html": [
       "0"
      ],
      "text/latex": [
       "0"
      ],
      "text/markdown": [
       "0"
      ],
      "text/plain": [
       "[1] 0"
      ]
     },
     "metadata": {},
     "output_type": "display_data"
    }
   ],
   "source": [
    "typeof(vV3)\n",
    "str(vV3)\n",
    "length(vV3)"
   ]
  },
  {
   "cell_type": "markdown",
   "metadata": {},
   "source": [
    "#### Data Frame"
   ]
  },
  {
   "cell_type": "code",
   "execution_count": 139,
   "metadata": {
    "collapsed": true
   },
   "outputs": [],
   "source": [
    "df_xV2 <- as.data.frame(vX2)"
   ]
  },
  {
   "cell_type": "code",
   "execution_count": 140,
   "metadata": {},
   "outputs": [
    {
     "data": {
      "text/html": [
       "<table>\n",
       "<thead><tr><th scope=col>vX2</th></tr></thead>\n",
       "<tbody>\n",
       "\t<tr><td>20</td></tr>\n",
       "\t<tr><td>30</td></tr>\n",
       "</tbody>\n",
       "</table>\n"
      ],
      "text/latex": [
       "\\begin{tabular}{r|l}\n",
       " vX2\\\\\n",
       "\\hline\n",
       "\t 20\\\\\n",
       "\t 30\\\\\n",
       "\\end{tabular}\n"
      ],
      "text/markdown": [
       "\n",
       "vX2 | \n",
       "|---|---|\n",
       "| 20 | \n",
       "| 30 | \n",
       "\n",
       "\n"
      ],
      "text/plain": [
       "  vX2\n",
       "1 20 \n",
       "2 30 "
      ]
     },
     "metadata": {},
     "output_type": "display_data"
    }
   ],
   "source": [
    "df_xV2"
   ]
  },
  {
   "cell_type": "markdown",
   "metadata": {},
   "source": [
    "# 오픈데이터"
   ]
  },
  {
   "cell_type": "markdown",
   "metadata": {},
   "source": [
    "- 서울시 공공 데이터\n",
    "    - http://data.seoul.go.kr\n",
    "- 경기도 공공 데이터\n",
    "    - http://data.gg.go.kr\n",
    "- 에듀 데이터\n",
    "    - http://edss.moe.go.kr/index.jsp\n",
    "- 한국은행 경제 통계 데이터\n",
    "    - https://ecos.bok.or.kr/\n",
    "- 전자공시시스템\n",
    "    - http://dart.fss.or.kr/"
   ]
  },
  {
   "cell_type": "markdown",
   "metadata": {},
   "source": [
    "### 발표자료 준비\n",
    "\n",
    "목차 : 개요, 목표, 효과, 향후 과제\n",
    "\n",
    "0. 과제명, 발주 기관, 문서번호, 작성자, 작성일\n",
    "1. 개요\n",
    "    - 목적\n",
    "        - 예) ㅇㅇㅇ 데이터들을 모아서 만족도 향상 <<- 향상 시키기 위한 방법들 개요 쓰기\n",
    "        - 필요성\n",
    "        - 현재 상황에 대해 간략히 작성\n",
    "        - 사업\n",
    "            - 사업 배경, 사업 범위, 기대효과\n",
    "    - 목표\n",
    "        - 마일스톤 차트를 이용하여 전체 세부 계획 안내\n",
    "        - 현황분석\n",
    "            - 현재 문제점\n",
    "    - "
   ]
  },
  {
   "cell_type": "markdown",
   "metadata": {},
   "source": [
    "# 과제\n",
    "## 2016년 가계 금융 상태를 기반으로 정부 금융 정책 수립\n",
    "\n",
    "### 목적\n",
    "- 가계 생활 수준의 정도, 변화, 지속기간, 변화요인 등을 종합적으로 파악하여 가계 금융 정책에 반영\n",
    "- 자산, 부채, 소득 등의 규모, 구성 및 분포와 미시적 재무건전성을 파악하여 사회 및 금융관련 정책\n",
    "\n",
    "### 필요성\n",
    "- 무분별한 가계 대출으로 파산에 대한 대비가 필요\n",
    "- 대부 업체 등의 대출로 가계 파산을 방지해야 할 필요"
   ]
  },
  {
   "cell_type": "markdown",
   "metadata": {},
   "source": [
    "과제명 : 빅데이터 분석을 활용한 일자리 수요와 공급의 예측 강화\n",
    "필요성 : 다양한 정보의 연관관계 파악 등을 통해 미래의 일자리 수요, 공급을 예측하여\n",
    "인력 수급의 미스 매칭을 해소하고\n",
    "인력양성의 기초자료 및 미래 일자리 발굴에 활용 필요\n",
    "과제내용 : 데이터 출처 작성\n",
    "보유 데이터 현황 : 내부 데이터, 외부 데이터\n"
   ]
  }
 ],
 "metadata": {
  "kernelspec": {
   "display_name": "R",
   "language": "R",
   "name": "ir"
  },
  "language_info": {
   "codemirror_mode": "r",
   "file_extension": ".r",
   "mimetype": "text/x-r-source",
   "name": "R",
   "pygments_lexer": "r",
   "version": "3.3.2"
  }
 },
 "nbformat": 4,
 "nbformat_minor": 2
}
