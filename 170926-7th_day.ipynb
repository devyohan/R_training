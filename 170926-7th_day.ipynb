{
 "cells": [
  {
   "cell_type": "markdown",
   "metadata": {},
   "source": [
    "## Array object"
   ]
  },
  {
   "cell_type": "markdown",
   "metadata": {},
   "source": [
    "array(data = NA, dim = length(data), dimnames = NULL)\n",
    "\n",
    "- matrix 는 2차원 배열이라면, array 는 다차원 배열이다.\n",
    "- 행렬을 2차원 이상으로 확장시킨 object\n",
    "- 배열은 일반적으로 3차원 이상의 차원을 갖는 object 이다."
   ]
  },
  {
   "cell_type": "code",
   "execution_count": 2,
   "metadata": {},
   "outputs": [
    {
     "name": "stdout",
     "output_type": "stream",
     "text": [
      ", , 1\n",
      "\n",
      "     [,1] [,2]\n",
      "[1,]   11   21\n",
      "[2,]   12   22\n",
      "[3,]   13   23\n",
      "\n",
      ", , 2\n",
      "\n",
      "     [,1] [,2]\n",
      "[1,]   31   11\n",
      "[2,]   32   12\n",
      "[3,]   33   13\n",
      "\n",
      ", , 3\n",
      "\n",
      "     [,1] [,2]\n",
      "[1,]   21   31\n",
      "[2,]   22   32\n",
      "[3,]   23   33\n",
      "\n"
     ]
    }
   ],
   "source": [
    "aArray <- array(c(11:13, 21:23, 31:33), dim=c(3, 2, 3))\n",
    "print(aArray)"
   ]
  },
  {
   "cell_type": "code",
   "execution_count": 3,
   "metadata": {},
   "outputs": [
    {
     "name": "stdout",
     "output_type": "stream",
     "text": [
      ", , Dept = A\n",
      "\n",
      "          Gender\n",
      "Admit      Male Female\n",
      "  Admitted  512     89\n",
      "  Rejected  313     19\n",
      "\n",
      ", , Dept = B\n",
      "\n",
      "          Gender\n",
      "Admit      Male Female\n",
      "  Admitted  353     17\n",
      "  Rejected  207      8\n",
      "\n",
      ", , Dept = C\n",
      "\n",
      "          Gender\n",
      "Admit      Male Female\n",
      "  Admitted  120    202\n",
      "  Rejected  205    391\n",
      "\n",
      ", , Dept = D\n",
      "\n",
      "          Gender\n",
      "Admit      Male Female\n",
      "  Admitted  138    131\n",
      "  Rejected  279    244\n",
      "\n",
      ", , Dept = E\n",
      "\n",
      "          Gender\n",
      "Admit      Male Female\n",
      "  Admitted   53     94\n",
      "  Rejected  138    299\n",
      "\n",
      ", , Dept = F\n",
      "\n",
      "          Gender\n",
      "Admit      Male Female\n",
      "  Admitted   22     24\n",
      "  Rejected  351    317\n",
      "\n"
     ]
    }
   ],
   "source": [
    "bArray <- UCBAdmissions\n",
    "print(bArray)"
   ]
  },
  {
   "cell_type": "markdown",
   "metadata": {},
   "source": [
    "### Array 데이터 읽기"
   ]
  },
  {
   "cell_type": "code",
   "execution_count": 4,
   "metadata": {},
   "outputs": [
    {
     "data": {
      "text/plain": [
       "          Gender\n",
       "Admit      Male Female\n",
       "  Admitted  512     89\n",
       "  Rejected  313     19"
      ]
     },
     "metadata": {},
     "output_type": "display_data"
    }
   ],
   "source": [
    "# [행, 열, 3차원]\n",
    "bArray[, , 1]"
   ]
  },
  {
   "cell_type": "code",
   "execution_count": 6,
   "metadata": {},
   "outputs": [
    {
     "data": {
      "text/html": [
       "<dl class=dl-horizontal>\n",
       "\t<dt>A</dt>\n",
       "\t\t<dd>512</dd>\n",
       "\t<dt>B</dt>\n",
       "\t\t<dd>353</dd>\n",
       "\t<dt>C</dt>\n",
       "\t\t<dd>120</dd>\n",
       "\t<dt>D</dt>\n",
       "\t\t<dd>138</dd>\n",
       "\t<dt>E</dt>\n",
       "\t\t<dd>53</dd>\n",
       "\t<dt>F</dt>\n",
       "\t\t<dd>22</dd>\n",
       "</dl>\n"
      ],
      "text/latex": [
       "\\begin{description*}\n",
       "\\item[A] 512\n",
       "\\item[B] 353\n",
       "\\item[C] 120\n",
       "\\item[D] 138\n",
       "\\item[E] 53\n",
       "\\item[F] 22\n",
       "\\end{description*}\n"
      ],
      "text/markdown": [
       "A\n",
       ":   512B\n",
       ":   353C\n",
       ":   120D\n",
       ":   138E\n",
       ":   53F\n",
       ":   22\n",
       "\n"
      ],
      "text/plain": [
       "  A   B   C   D   E   F \n",
       "512 353 120 138  53  22 "
      ]
     },
     "metadata": {},
     "output_type": "display_data"
    }
   ],
   "source": [
    "# 각 학과의 남자 학생의 점수를 알고 싶다.\n",
    "bArray[1, 1, ]"
   ]
  },
  {
   "cell_type": "code",
   "execution_count": 7,
   "metadata": {},
   "outputs": [
    {
     "data": {
      "text/html": [
       "<dl class=dl-horizontal>\n",
       "\t<dt>A</dt>\n",
       "\t\t<dd>89</dd>\n",
       "\t<dt>B</dt>\n",
       "\t\t<dd>17</dd>\n",
       "\t<dt>C</dt>\n",
       "\t\t<dd>202</dd>\n",
       "\t<dt>D</dt>\n",
       "\t\t<dd>131</dd>\n",
       "\t<dt>E</dt>\n",
       "\t\t<dd>94</dd>\n",
       "\t<dt>F</dt>\n",
       "\t\t<dd>24</dd>\n",
       "</dl>\n"
      ],
      "text/latex": [
       "\\begin{description*}\n",
       "\\item[A] 89\n",
       "\\item[B] 17\n",
       "\\item[C] 202\n",
       "\\item[D] 131\n",
       "\\item[E] 94\n",
       "\\item[F] 24\n",
       "\\end{description*}\n"
      ],
      "text/markdown": [
       "A\n",
       ":   89B\n",
       ":   17C\n",
       ":   202D\n",
       ":   131E\n",
       ":   94F\n",
       ":   24\n",
       "\n"
      ],
      "text/plain": [
       "  A   B   C   D   E   F \n",
       " 89  17 202 131  94  24 "
      ]
     },
     "metadata": {},
     "output_type": "display_data"
    }
   ],
   "source": [
    "# 각 학과의 여자 학생의 점수를 알고 싶다.\n",
    "bArray[1, 2, ]"
   ]
  },
  {
   "cell_type": "markdown",
   "metadata": {},
   "source": [
    "### 원소 삭제하기"
   ]
  },
  {
   "cell_type": "code",
   "execution_count": 9,
   "metadata": {},
   "outputs": [
    {
     "data": {
      "text/html": [
       "'numeric'"
      ],
      "text/latex": [
       "'numeric'"
      ],
      "text/markdown": [
       "'numeric'"
      ],
      "text/plain": [
       "[1] \"numeric\""
      ]
     },
     "metadata": {},
     "output_type": "display_data"
    },
    {
     "data": {
      "text/html": [
       "'array'"
      ],
      "text/latex": [
       "'array'"
      ],
      "text/markdown": [
       "'array'"
      ],
      "text/plain": [
       "[1] \"array\""
      ]
     },
     "metadata": {},
     "output_type": "display_data"
    }
   ],
   "source": [
    "ary1 <- array(1:8, dim = c(2, 2, 2))\n",
    "mode(ary1)\n",
    "data.class(ary1)"
   ]
  },
  {
   "cell_type": "code",
   "execution_count": 13,
   "metadata": {},
   "outputs": [
    {
     "name": "stdout",
     "output_type": "stream",
     "text": [
      ", , 1\n",
      "\n",
      "     [,1] [,2]\n",
      "[1,]    1    3\n",
      "[2,]    2    4\n",
      "\n",
      ", , 2\n",
      "\n",
      "     [,1] [,2]\n",
      "[1,]    5    7\n",
      "[2,]    6    8\n",
      "\n"
     ]
    }
   ],
   "source": [
    "print(ary1[, , ])"
   ]
  },
  {
   "cell_type": "code",
   "execution_count": 15,
   "metadata": {},
   "outputs": [
    {
     "name": "stdout",
     "output_type": "stream",
     "text": [
      "     [,1] [,2]\n",
      "[1,]    5    7\n",
      "[2,]    6    8\n"
     ]
    }
   ],
   "source": [
    "print(ary1[, , -1])"
   ]
  },
  {
   "cell_type": "markdown",
   "metadata": {},
   "source": [
    "### 과제\n",
    "Array 로 된 내장 데이터를 찾아서 rowsums() 해보고, 디스크에 저장하시오."
   ]
  },
  {
   "cell_type": "code",
   "execution_count": 18,
   "metadata": {},
   "outputs": [
    {
     "data": {
      "text/html": [
       "<ol class=list-inline>\n",
       "\t<li>4</li>\n",
       "\t<li>2</li>\n",
       "\t<li>2</li>\n",
       "\t<li>2</li>\n",
       "</ol>\n"
      ],
      "text/latex": [
       "\\begin{enumerate*}\n",
       "\\item 4\n",
       "\\item 2\n",
       "\\item 2\n",
       "\\item 2\n",
       "\\end{enumerate*}\n"
      ],
      "text/markdown": [
       "1. 4\n",
       "2. 2\n",
       "3. 2\n",
       "4. 2\n",
       "\n",
       "\n"
      ],
      "text/plain": [
       "[1] 4 2 2 2"
      ]
     },
     "metadata": {},
     "output_type": "display_data"
    }
   ],
   "source": [
    "dim(Titanic)"
   ]
  },
  {
   "cell_type": "code",
   "execution_count": 22,
   "metadata": {
    "collapsed": true
   },
   "outputs": [],
   "source": [
    "write.csv(Titanic, \"datas/titanic.csv\")"
   ]
  },
  {
   "cell_type": "code",
   "execution_count": 23,
   "metadata": {},
   "outputs": [
    {
     "data": {
      "text/html": [
       "<ol class=list-inline>\n",
       "\t<li>50</li>\n",
       "\t<li>4</li>\n",
       "\t<li>3</li>\n",
       "</ol>\n"
      ],
      "text/latex": [
       "\\begin{enumerate*}\n",
       "\\item 50\n",
       "\\item 4\n",
       "\\item 3\n",
       "\\end{enumerate*}\n"
      ],
      "text/markdown": [
       "1. 50\n",
       "2. 4\n",
       "3. 3\n",
       "\n",
       "\n"
      ],
      "text/plain": [
       "[1] 50  4  3"
      ]
     },
     "metadata": {},
     "output_type": "display_data"
    }
   ],
   "source": [
    "dim(iris3)"
   ]
  },
  {
   "cell_type": "code",
   "execution_count": 24,
   "metadata": {
    "collapsed": true
   },
   "outputs": [],
   "source": [
    "write.csv(iris3, \"datas/iris3.csv\")"
   ]
  },
  {
   "cell_type": "markdown",
   "metadata": {},
   "source": [
    "### melt.array()"
   ]
  },
  {
   "cell_type": "code",
   "execution_count": 33,
   "metadata": {},
   "outputs": [
    {
     "name": "stderr",
     "output_type": "stream",
     "text": [
      "\n",
      "Attaching package: ‘reshape2’\n",
      "\n",
      "The following objects are masked from ‘package:reshape’:\n",
      "\n",
      "    colsplit, melt, recast\n",
      "\n"
     ]
    }
   ],
   "source": [
    "library(reshape2)"
   ]
  },
  {
   "cell_type": "code",
   "execution_count": 34,
   "metadata": {
    "collapsed": true
   },
   "outputs": [],
   "source": [
    "a <- array(c(1:23, NA), c(2, 3, 4))"
   ]
  },
  {
   "cell_type": "code",
   "execution_count": 35,
   "metadata": {
    "scrolled": true
   },
   "outputs": [
    {
     "data": {
      "text/html": [
       "<table>\n",
       "<thead><tr><th scope=col>X1</th><th scope=col>X2</th><th scope=col>X3</th><th scope=col>value</th></tr></thead>\n",
       "<tbody>\n",
       "\t<tr><td>1 </td><td>1 </td><td>1 </td><td> 1</td></tr>\n",
       "\t<tr><td>2 </td><td>1 </td><td>1 </td><td> 2</td></tr>\n",
       "\t<tr><td>1 </td><td>2 </td><td>1 </td><td> 3</td></tr>\n",
       "\t<tr><td>2 </td><td>2 </td><td>1 </td><td> 4</td></tr>\n",
       "\t<tr><td>1 </td><td>3 </td><td>1 </td><td> 5</td></tr>\n",
       "\t<tr><td>2 </td><td>3 </td><td>1 </td><td> 6</td></tr>\n",
       "\t<tr><td>1 </td><td>1 </td><td>2 </td><td> 7</td></tr>\n",
       "\t<tr><td>2 </td><td>1 </td><td>2 </td><td> 8</td></tr>\n",
       "\t<tr><td>1 </td><td>2 </td><td>2 </td><td> 9</td></tr>\n",
       "\t<tr><td>2 </td><td>2 </td><td>2 </td><td>10</td></tr>\n",
       "\t<tr><td>1 </td><td>3 </td><td>2 </td><td>11</td></tr>\n",
       "\t<tr><td>2 </td><td>3 </td><td>2 </td><td>12</td></tr>\n",
       "\t<tr><td>1 </td><td>1 </td><td>3 </td><td>13</td></tr>\n",
       "\t<tr><td>2 </td><td>1 </td><td>3 </td><td>14</td></tr>\n",
       "\t<tr><td>1 </td><td>2 </td><td>3 </td><td>15</td></tr>\n",
       "\t<tr><td>2 </td><td>2 </td><td>3 </td><td>16</td></tr>\n",
       "\t<tr><td>1 </td><td>3 </td><td>3 </td><td>17</td></tr>\n",
       "\t<tr><td>2 </td><td>3 </td><td>3 </td><td>18</td></tr>\n",
       "\t<tr><td>1 </td><td>1 </td><td>4 </td><td>19</td></tr>\n",
       "\t<tr><td>2 </td><td>1 </td><td>4 </td><td>20</td></tr>\n",
       "\t<tr><td>1 </td><td>2 </td><td>4 </td><td>21</td></tr>\n",
       "\t<tr><td>2 </td><td>2 </td><td>4 </td><td>22</td></tr>\n",
       "\t<tr><td>1 </td><td>3 </td><td>4 </td><td>23</td></tr>\n",
       "\t<tr><td>2 </td><td>3 </td><td>4 </td><td>NA</td></tr>\n",
       "</tbody>\n",
       "</table>\n"
      ],
      "text/latex": [
       "\\begin{tabular}{r|llll}\n",
       " X1 & X2 & X3 & value\\\\\n",
       "\\hline\n",
       "\t 1  & 1  & 1  &  1\\\\\n",
       "\t 2  & 1  & 1  &  2\\\\\n",
       "\t 1  & 2  & 1  &  3\\\\\n",
       "\t 2  & 2  & 1  &  4\\\\\n",
       "\t 1  & 3  & 1  &  5\\\\\n",
       "\t 2  & 3  & 1  &  6\\\\\n",
       "\t 1  & 1  & 2  &  7\\\\\n",
       "\t 2  & 1  & 2  &  8\\\\\n",
       "\t 1  & 2  & 2  &  9\\\\\n",
       "\t 2  & 2  & 2  & 10\\\\\n",
       "\t 1  & 3  & 2  & 11\\\\\n",
       "\t 2  & 3  & 2  & 12\\\\\n",
       "\t 1  & 1  & 3  & 13\\\\\n",
       "\t 2  & 1  & 3  & 14\\\\\n",
       "\t 1  & 2  & 3  & 15\\\\\n",
       "\t 2  & 2  & 3  & 16\\\\\n",
       "\t 1  & 3  & 3  & 17\\\\\n",
       "\t 2  & 3  & 3  & 18\\\\\n",
       "\t 1  & 1  & 4  & 19\\\\\n",
       "\t 2  & 1  & 4  & 20\\\\\n",
       "\t 1  & 2  & 4  & 21\\\\\n",
       "\t 2  & 2  & 4  & 22\\\\\n",
       "\t 1  & 3  & 4  & 23\\\\\n",
       "\t 2  & 3  & 4  & NA\\\\\n",
       "\\end{tabular}\n"
      ],
      "text/markdown": [
       "\n",
       "X1 | X2 | X3 | value | \n",
       "|---|---|---|---|---|---|---|---|---|---|---|---|---|---|---|---|---|---|---|---|---|---|---|---|\n",
       "| 1  | 1  | 1  |  1 | \n",
       "| 2  | 1  | 1  |  2 | \n",
       "| 1  | 2  | 1  |  3 | \n",
       "| 2  | 2  | 1  |  4 | \n",
       "| 1  | 3  | 1  |  5 | \n",
       "| 2  | 3  | 1  |  6 | \n",
       "| 1  | 1  | 2  |  7 | \n",
       "| 2  | 1  | 2  |  8 | \n",
       "| 1  | 2  | 2  |  9 | \n",
       "| 2  | 2  | 2  | 10 | \n",
       "| 1  | 3  | 2  | 11 | \n",
       "| 2  | 3  | 2  | 12 | \n",
       "| 1  | 1  | 3  | 13 | \n",
       "| 2  | 1  | 3  | 14 | \n",
       "| 1  | 2  | 3  | 15 | \n",
       "| 2  | 2  | 3  | 16 | \n",
       "| 1  | 3  | 3  | 17 | \n",
       "| 2  | 3  | 3  | 18 | \n",
       "| 1  | 1  | 4  | 19 | \n",
       "| 2  | 1  | 4  | 20 | \n",
       "| 1  | 2  | 4  | 21 | \n",
       "| 2  | 2  | 4  | 22 | \n",
       "| 1  | 3  | 4  | 23 | \n",
       "| 2  | 3  | 4  | NA | \n",
       "\n",
       "\n"
      ],
      "text/plain": [
       "   X1 X2 X3 value\n",
       "1  1  1  1   1   \n",
       "2  2  1  1   2   \n",
       "3  1  2  1   3   \n",
       "4  2  2  1   4   \n",
       "5  1  3  1   5   \n",
       "6  2  3  1   6   \n",
       "7  1  1  2   7   \n",
       "8  2  1  2   8   \n",
       "9  1  2  2   9   \n",
       "10 2  2  2  10   \n",
       "11 1  3  2  11   \n",
       "12 2  3  2  12   \n",
       "13 1  1  3  13   \n",
       "14 2  1  3  14   \n",
       "15 1  2  3  15   \n",
       "16 2  2  3  16   \n",
       "17 1  3  3  17   \n",
       "18 2  3  3  18   \n",
       "19 1  1  4  19   \n",
       "20 2  1  4  20   \n",
       "21 1  2  4  21   \n",
       "22 2  2  4  22   \n",
       "23 1  3  4  23   \n",
       "24 2  3  4  NA   "
      ]
     },
     "metadata": {},
     "output_type": "display_data"
    }
   ],
   "source": [
    "melt(a)"
   ]
  },
  {
   "cell_type": "code",
   "execution_count": 38,
   "metadata": {
    "scrolled": true
   },
   "outputs": [
    {
     "data": {
      "text/html": [
       "<table>\n",
       "<thead><tr><th scope=col>X1</th><th scope=col>X2</th><th scope=col>X3</th><th scope=col>value</th></tr></thead>\n",
       "<tbody>\n",
       "\t<tr><td>1 </td><td>1 </td><td>1 </td><td> 1</td></tr>\n",
       "\t<tr><td>2 </td><td>1 </td><td>1 </td><td> 2</td></tr>\n",
       "\t<tr><td>1 </td><td>2 </td><td>1 </td><td> 3</td></tr>\n",
       "\t<tr><td>2 </td><td>2 </td><td>1 </td><td> 4</td></tr>\n",
       "\t<tr><td>1 </td><td>3 </td><td>1 </td><td> 5</td></tr>\n",
       "\t<tr><td>2 </td><td>3 </td><td>1 </td><td> 6</td></tr>\n",
       "\t<tr><td>1 </td><td>1 </td><td>2 </td><td> 7</td></tr>\n",
       "\t<tr><td>2 </td><td>1 </td><td>2 </td><td> 8</td></tr>\n",
       "\t<tr><td>1 </td><td>2 </td><td>2 </td><td> 9</td></tr>\n",
       "\t<tr><td>2 </td><td>2 </td><td>2 </td><td>10</td></tr>\n",
       "\t<tr><td>1 </td><td>3 </td><td>2 </td><td>11</td></tr>\n",
       "\t<tr><td>2 </td><td>3 </td><td>2 </td><td>12</td></tr>\n",
       "\t<tr><td>1 </td><td>1 </td><td>3 </td><td>13</td></tr>\n",
       "\t<tr><td>2 </td><td>1 </td><td>3 </td><td>14</td></tr>\n",
       "\t<tr><td>1 </td><td>2 </td><td>3 </td><td>15</td></tr>\n",
       "\t<tr><td>2 </td><td>2 </td><td>3 </td><td>16</td></tr>\n",
       "\t<tr><td>1 </td><td>3 </td><td>3 </td><td>17</td></tr>\n",
       "\t<tr><td>2 </td><td>3 </td><td>3 </td><td>18</td></tr>\n",
       "\t<tr><td>1 </td><td>1 </td><td>4 </td><td>19</td></tr>\n",
       "\t<tr><td>2 </td><td>1 </td><td>4 </td><td>20</td></tr>\n",
       "\t<tr><td>1 </td><td>2 </td><td>4 </td><td>21</td></tr>\n",
       "\t<tr><td>2 </td><td>2 </td><td>4 </td><td>22</td></tr>\n",
       "\t<tr><td>1 </td><td>3 </td><td>4 </td><td>23</td></tr>\n",
       "\t<tr><td>2 </td><td>3 </td><td>4 </td><td>NA</td></tr>\n",
       "</tbody>\n",
       "</table>\n"
      ],
      "text/latex": [
       "\\begin{tabular}{r|llll}\n",
       " X1 & X2 & X3 & value\\\\\n",
       "\\hline\n",
       "\t 1  & 1  & 1  &  1\\\\\n",
       "\t 2  & 1  & 1  &  2\\\\\n",
       "\t 1  & 2  & 1  &  3\\\\\n",
       "\t 2  & 2  & 1  &  4\\\\\n",
       "\t 1  & 3  & 1  &  5\\\\\n",
       "\t 2  & 3  & 1  &  6\\\\\n",
       "\t 1  & 1  & 2  &  7\\\\\n",
       "\t 2  & 1  & 2  &  8\\\\\n",
       "\t 1  & 2  & 2  &  9\\\\\n",
       "\t 2  & 2  & 2  & 10\\\\\n",
       "\t 1  & 3  & 2  & 11\\\\\n",
       "\t 2  & 3  & 2  & 12\\\\\n",
       "\t 1  & 1  & 3  & 13\\\\\n",
       "\t 2  & 1  & 3  & 14\\\\\n",
       "\t 1  & 2  & 3  & 15\\\\\n",
       "\t 2  & 2  & 3  & 16\\\\\n",
       "\t 1  & 3  & 3  & 17\\\\\n",
       "\t 2  & 3  & 3  & 18\\\\\n",
       "\t 1  & 1  & 4  & 19\\\\\n",
       "\t 2  & 1  & 4  & 20\\\\\n",
       "\t 1  & 2  & 4  & 21\\\\\n",
       "\t 2  & 2  & 4  & 22\\\\\n",
       "\t 1  & 3  & 4  & 23\\\\\n",
       "\t 2  & 3  & 4  & NA\\\\\n",
       "\\end{tabular}\n"
      ],
      "text/markdown": [
       "\n",
       "X1 | X2 | X3 | value | \n",
       "|---|---|---|---|---|---|---|---|---|---|---|---|---|---|---|---|---|---|---|---|---|---|---|---|\n",
       "| 1  | 1  | 1  |  1 | \n",
       "| 2  | 1  | 1  |  2 | \n",
       "| 1  | 2  | 1  |  3 | \n",
       "| 2  | 2  | 1  |  4 | \n",
       "| 1  | 3  | 1  |  5 | \n",
       "| 2  | 3  | 1  |  6 | \n",
       "| 1  | 1  | 2  |  7 | \n",
       "| 2  | 1  | 2  |  8 | \n",
       "| 1  | 2  | 2  |  9 | \n",
       "| 2  | 2  | 2  | 10 | \n",
       "| 1  | 3  | 2  | 11 | \n",
       "| 2  | 3  | 2  | 12 | \n",
       "| 1  | 1  | 3  | 13 | \n",
       "| 2  | 1  | 3  | 14 | \n",
       "| 1  | 2  | 3  | 15 | \n",
       "| 2  | 2  | 3  | 16 | \n",
       "| 1  | 3  | 3  | 17 | \n",
       "| 2  | 3  | 3  | 18 | \n",
       "| 1  | 1  | 4  | 19 | \n",
       "| 2  | 1  | 4  | 20 | \n",
       "| 1  | 2  | 4  | 21 | \n",
       "| 2  | 2  | 4  | 22 | \n",
       "| 1  | 3  | 4  | 23 | \n",
       "| 2  | 3  | 4  | NA | \n",
       "\n",
       "\n"
      ],
      "text/plain": [
       "   X1 X2 X3 value\n",
       "1  1  1  1   1   \n",
       "2  2  1  1   2   \n",
       "3  1  2  1   3   \n",
       "4  2  2  1   4   \n",
       "5  1  3  1   5   \n",
       "6  2  3  1   6   \n",
       "7  1  1  2   7   \n",
       "8  2  1  2   8   \n",
       "9  1  2  2   9   \n",
       "10 2  2  2  10   \n",
       "11 1  3  2  11   \n",
       "12 2  3  2  12   \n",
       "13 1  1  3  13   \n",
       "14 2  1  3  14   \n",
       "15 1  2  3  15   \n",
       "16 2  2  3  16   \n",
       "17 1  3  3  17   \n",
       "18 2  3  3  18   \n",
       "19 1  1  4  19   \n",
       "20 2  1  4  20   \n",
       "21 1  2  4  21   \n",
       "22 2  2  4  22   \n",
       "23 1  3  4  23   \n",
       "24 2  3  4  NA   "
      ]
     },
     "metadata": {},
     "output_type": "display_data"
    }
   ],
   "source": [
    "melt(a, na.rm = TRUE)"
   ]
  },
  {
   "cell_type": "code",
   "execution_count": 37,
   "metadata": {
    "scrolled": true
   },
   "outputs": [
    {
     "data": {
      "text/html": [
       "<table>\n",
       "<thead><tr><th scope=col>X</th><th scope=col>Y</th><th scope=col>Z</th><th scope=col>value</th></tr></thead>\n",
       "<tbody>\n",
       "\t<tr><td>1 </td><td>1 </td><td>1 </td><td> 1</td></tr>\n",
       "\t<tr><td>2 </td><td>1 </td><td>1 </td><td> 2</td></tr>\n",
       "\t<tr><td>1 </td><td>2 </td><td>1 </td><td> 3</td></tr>\n",
       "\t<tr><td>2 </td><td>2 </td><td>1 </td><td> 4</td></tr>\n",
       "\t<tr><td>1 </td><td>3 </td><td>1 </td><td> 5</td></tr>\n",
       "\t<tr><td>2 </td><td>3 </td><td>1 </td><td> 6</td></tr>\n",
       "\t<tr><td>1 </td><td>1 </td><td>2 </td><td> 7</td></tr>\n",
       "\t<tr><td>2 </td><td>1 </td><td>2 </td><td> 8</td></tr>\n",
       "\t<tr><td>1 </td><td>2 </td><td>2 </td><td> 9</td></tr>\n",
       "\t<tr><td>2 </td><td>2 </td><td>2 </td><td>10</td></tr>\n",
       "\t<tr><td>1 </td><td>3 </td><td>2 </td><td>11</td></tr>\n",
       "\t<tr><td>2 </td><td>3 </td><td>2 </td><td>12</td></tr>\n",
       "\t<tr><td>1 </td><td>1 </td><td>3 </td><td>13</td></tr>\n",
       "\t<tr><td>2 </td><td>1 </td><td>3 </td><td>14</td></tr>\n",
       "\t<tr><td>1 </td><td>2 </td><td>3 </td><td>15</td></tr>\n",
       "\t<tr><td>2 </td><td>2 </td><td>3 </td><td>16</td></tr>\n",
       "\t<tr><td>1 </td><td>3 </td><td>3 </td><td>17</td></tr>\n",
       "\t<tr><td>2 </td><td>3 </td><td>3 </td><td>18</td></tr>\n",
       "\t<tr><td>1 </td><td>1 </td><td>4 </td><td>19</td></tr>\n",
       "\t<tr><td>2 </td><td>1 </td><td>4 </td><td>20</td></tr>\n",
       "\t<tr><td>1 </td><td>2 </td><td>4 </td><td>21</td></tr>\n",
       "\t<tr><td>2 </td><td>2 </td><td>4 </td><td>22</td></tr>\n",
       "\t<tr><td>1 </td><td>3 </td><td>4 </td><td>23</td></tr>\n",
       "\t<tr><td>2 </td><td>3 </td><td>4 </td><td>NA</td></tr>\n",
       "</tbody>\n",
       "</table>\n"
      ],
      "text/latex": [
       "\\begin{tabular}{r|llll}\n",
       " X & Y & Z & value\\\\\n",
       "\\hline\n",
       "\t 1  & 1  & 1  &  1\\\\\n",
       "\t 2  & 1  & 1  &  2\\\\\n",
       "\t 1  & 2  & 1  &  3\\\\\n",
       "\t 2  & 2  & 1  &  4\\\\\n",
       "\t 1  & 3  & 1  &  5\\\\\n",
       "\t 2  & 3  & 1  &  6\\\\\n",
       "\t 1  & 1  & 2  &  7\\\\\n",
       "\t 2  & 1  & 2  &  8\\\\\n",
       "\t 1  & 2  & 2  &  9\\\\\n",
       "\t 2  & 2  & 2  & 10\\\\\n",
       "\t 1  & 3  & 2  & 11\\\\\n",
       "\t 2  & 3  & 2  & 12\\\\\n",
       "\t 1  & 1  & 3  & 13\\\\\n",
       "\t 2  & 1  & 3  & 14\\\\\n",
       "\t 1  & 2  & 3  & 15\\\\\n",
       "\t 2  & 2  & 3  & 16\\\\\n",
       "\t 1  & 3  & 3  & 17\\\\\n",
       "\t 2  & 3  & 3  & 18\\\\\n",
       "\t 1  & 1  & 4  & 19\\\\\n",
       "\t 2  & 1  & 4  & 20\\\\\n",
       "\t 1  & 2  & 4  & 21\\\\\n",
       "\t 2  & 2  & 4  & 22\\\\\n",
       "\t 1  & 3  & 4  & 23\\\\\n",
       "\t 2  & 3  & 4  & NA\\\\\n",
       "\\end{tabular}\n"
      ],
      "text/markdown": [
       "\n",
       "X | Y | Z | value | \n",
       "|---|---|---|---|---|---|---|---|---|---|---|---|---|---|---|---|---|---|---|---|---|---|---|---|\n",
       "| 1  | 1  | 1  |  1 | \n",
       "| 2  | 1  | 1  |  2 | \n",
       "| 1  | 2  | 1  |  3 | \n",
       "| 2  | 2  | 1  |  4 | \n",
       "| 1  | 3  | 1  |  5 | \n",
       "| 2  | 3  | 1  |  6 | \n",
       "| 1  | 1  | 2  |  7 | \n",
       "| 2  | 1  | 2  |  8 | \n",
       "| 1  | 2  | 2  |  9 | \n",
       "| 2  | 2  | 2  | 10 | \n",
       "| 1  | 3  | 2  | 11 | \n",
       "| 2  | 3  | 2  | 12 | \n",
       "| 1  | 1  | 3  | 13 | \n",
       "| 2  | 1  | 3  | 14 | \n",
       "| 1  | 2  | 3  | 15 | \n",
       "| 2  | 2  | 3  | 16 | \n",
       "| 1  | 3  | 3  | 17 | \n",
       "| 2  | 3  | 3  | 18 | \n",
       "| 1  | 1  | 4  | 19 | \n",
       "| 2  | 1  | 4  | 20 | \n",
       "| 1  | 2  | 4  | 21 | \n",
       "| 2  | 2  | 4  | 22 | \n",
       "| 1  | 3  | 4  | 23 | \n",
       "| 2  | 3  | 4  | NA | \n",
       "\n",
       "\n"
      ],
      "text/plain": [
       "   X Y Z value\n",
       "1  1 1 1  1   \n",
       "2  2 1 1  2   \n",
       "3  1 2 1  3   \n",
       "4  2 2 1  4   \n",
       "5  1 3 1  5   \n",
       "6  2 3 1  6   \n",
       "7  1 1 2  7   \n",
       "8  2 1 2  8   \n",
       "9  1 2 2  9   \n",
       "10 2 2 2 10   \n",
       "11 1 3 2 11   \n",
       "12 2 3 2 12   \n",
       "13 1 1 3 13   \n",
       "14 2 1 3 14   \n",
       "15 1 2 3 15   \n",
       "16 2 2 3 16   \n",
       "17 1 3 3 17   \n",
       "18 2 3 3 18   \n",
       "19 1 1 4 19   \n",
       "20 2 1 4 20   \n",
       "21 1 2 4 21   \n",
       "22 2 2 4 22   \n",
       "23 1 3 4 23   \n",
       "24 2 3 4 NA   "
      ]
     },
     "metadata": {},
     "output_type": "display_data"
    }
   ],
   "source": [
    "melt(a, varnames = c(\"X\", \"Y\", \"Z\"))"
   ]
  },
  {
   "cell_type": "markdown",
   "metadata": {},
   "source": [
    "### 시각화"
   ]
  },
  {
   "cell_type": "markdown",
   "metadata": {},
   "source": [
    "- 도표 이해\n",
    "- 결과를 보고 패턴을 찾기\n"
   ]
  },
  {
   "cell_type": "code",
   "execution_count": 56,
   "metadata": {},
   "outputs": [
    {
     "data": {
      "image/png": "[encoded data removed]",
      "text/plain": [
       "Plot with title “제목”"
      ]
     },
     "metadata": {},
     "output_type": "display_data"
    }
   ],
   "source": [
    "par(oma = c(1, 1, 1, 1))\n",
    "\n",
    "plot(rnorm(3), rnorm(3), xlim = c(-3, 3), ylim = c(-3, 3),\n",
    "     xlab = \"x-axis\", ylab = \"y-axis\",\n",
    "    family = font)\n",
    "title(main = \"제목\", sub = \"소제목\")"
   ]
  },
  {
   "cell_type": "code",
   "execution_count": 42,
   "metadata": {},
   "outputs": [
    {
     "name": "stderr",
     "output_type": "stream",
     "text": [
      "Updating HTML index of packages in '.Library'\n",
      "Making 'packages.html' ... done\n"
     ]
    }
   ],
   "source": [
    "install.packages(\"extrafont\")"
   ]
  },
  {
   "cell_type": "code",
   "execution_count": 43,
   "metadata": {},
   "outputs": [
    {
     "name": "stderr",
     "output_type": "stream",
     "text": [
      "Registering fonts with R\n"
     ]
    }
   ],
   "source": [
    "library(extrafont)"
   ]
  },
  {
   "cell_type": "code",
   "execution_count": 47,
   "metadata": {
    "scrolled": true
   },
   "outputs": [
    {
     "data": {
      "text/html": [
       "<ol class=list-inline>\n",
       "\t<li>'Caladea'</li>\n",
       "\t<li>'Carlito'</li>\n",
       "\t<li>'Comfortaa'</li>\n",
       "\t<li>'DejaVu Sans'</li>\n",
       "\t<li>'DejaVu Sans Light'</li>\n",
       "\t<li>'DejaVu Sans Condensed'</li>\n",
       "\t<li>'DejaVu Sans Mono'</li>\n",
       "\t<li>'DejaVu Serif'</li>\n",
       "\t<li>'DejaVu Serif Condensed'</li>\n",
       "\t<li>'EB Garamond 08'</li>\n",
       "\t<li>'EB Garamond 08 SC'</li>\n",
       "\t<li>'EB Garamond 12'</li>\n",
       "\t<li>'EB Garamond Initials Fill1'</li>\n",
       "\t<li>'EB Garamond Initials Fill2'</li>\n",
       "\t<li>'FontAwesome'</li>\n",
       "\t<li>'FreeMono'</li>\n",
       "\t<li>'FreeSans'</li>\n",
       "\t<li>'FreeSerif'</li>\n",
       "\t<li>'Gentium'</li>\n",
       "\t<li>'GentiumAlt'</li>\n",
       "\t<li>'Gentium Basic'</li>\n",
       "\t<li>'Gentium Book Basic'</li>\n",
       "\t<li>'Gentium Plus'</li>\n",
       "\t<li>'Junicode'</li>\n",
       "\t<li>'Lato Black'</li>\n",
       "\t<li>'Lato'</li>\n",
       "\t<li>'Lato Hairline'</li>\n",
       "\t<li>'Lato Heavy'</li>\n",
       "\t<li>'Lato Light'</li>\n",
       "\t<li>'Lato Medium'</li>\n",
       "\t<li>'Lato Semibold'</li>\n",
       "\t<li>'Lato Thin'</li>\n",
       "\t<li>'Liberation Mono'</li>\n",
       "\t<li>'Liberation Sans'</li>\n",
       "\t<li>'Liberation Sans Narrow'</li>\n",
       "\t<li>'Liberation Serif'</li>\n",
       "\t<li>'Roboto'</li>\n",
       "\t<li>'Roboto Condensed'</li>\n",
       "</ol>\n"
      ],
      "text/latex": [
       "\\begin{enumerate*}\n",
       "\\item 'Caladea'\n",
       "\\item 'Carlito'\n",
       "\\item 'Comfortaa'\n",
       "\\item 'DejaVu Sans'\n",
       "\\item 'DejaVu Sans Light'\n",
       "\\item 'DejaVu Sans Condensed'\n",
       "\\item 'DejaVu Sans Mono'\n",
       "\\item 'DejaVu Serif'\n",
       "\\item 'DejaVu Serif Condensed'\n",
       "\\item 'EB Garamond 08'\n",
       "\\item 'EB Garamond 08 SC'\n",
       "\\item 'EB Garamond 12'\n",
       "\\item 'EB Garamond Initials Fill1'\n",
       "\\item 'EB Garamond Initials Fill2'\n",
       "\\item 'FontAwesome'\n",
       "\\item 'FreeMono'\n",
       "\\item 'FreeSans'\n",
       "\\item 'FreeSerif'\n",
       "\\item 'Gentium'\n",
       "\\item 'GentiumAlt'\n",
       "\\item 'Gentium Basic'\n",
       "\\item 'Gentium Book Basic'\n",
       "\\item 'Gentium Plus'\n",
       "\\item 'Junicode'\n",
       "\\item 'Lato Black'\n",
       "\\item 'Lato'\n",
       "\\item 'Lato Hairline'\n",
       "\\item 'Lato Heavy'\n",
       "\\item 'Lato Light'\n",
       "\\item 'Lato Medium'\n",
       "\\item 'Lato Semibold'\n",
       "\\item 'Lato Thin'\n",
       "\\item 'Liberation Mono'\n",
       "\\item 'Liberation Sans'\n",
       "\\item 'Liberation Sans Narrow'\n",
       "\\item 'Liberation Serif'\n",
       "\\item 'Roboto'\n",
       "\\item 'Roboto Condensed'\n",
       "\\end{enumerate*}\n"
      ],
      "text/markdown": [
       "1. 'Caladea'\n",
       "2. 'Carlito'\n",
       "3. 'Comfortaa'\n",
       "4. 'DejaVu Sans'\n",
       "5. 'DejaVu Sans Light'\n",
       "6. 'DejaVu Sans Condensed'\n",
       "7. 'DejaVu Sans Mono'\n",
       "8. 'DejaVu Serif'\n",
       "9. 'DejaVu Serif Condensed'\n",
       "10. 'EB Garamond 08'\n",
       "11. 'EB Garamond 08 SC'\n",
       "12. 'EB Garamond 12'\n",
       "13. 'EB Garamond Initials Fill1'\n",
       "14. 'EB Garamond Initials Fill2'\n",
       "15. 'FontAwesome'\n",
       "16. 'FreeMono'\n",
       "17. 'FreeSans'\n",
       "18. 'FreeSerif'\n",
       "19. 'Gentium'\n",
       "20. 'GentiumAlt'\n",
       "21. 'Gentium Basic'\n",
       "22. 'Gentium Book Basic'\n",
       "23. 'Gentium Plus'\n",
       "24. 'Junicode'\n",
       "25. 'Lato Black'\n",
       "26. 'Lato'\n",
       "27. 'Lato Hairline'\n",
       "28. 'Lato Heavy'\n",
       "29. 'Lato Light'\n",
       "30. 'Lato Medium'\n",
       "31. 'Lato Semibold'\n",
       "32. 'Lato Thin'\n",
       "33. 'Liberation Mono'\n",
       "34. 'Liberation Sans'\n",
       "35. 'Liberation Sans Narrow'\n",
       "36. 'Liberation Serif'\n",
       "37. 'Roboto'\n",
       "38. 'Roboto Condensed'\n",
       "\n",
       "\n"
      ],
      "text/plain": [
       " [1] \"Caladea\"                    \"Carlito\"                   \n",
       " [3] \"Comfortaa\"                  \"DejaVu Sans\"               \n",
       " [5] \"DejaVu Sans Light\"          \"DejaVu Sans Condensed\"     \n",
       " [7] \"DejaVu Sans Mono\"           \"DejaVu Serif\"              \n",
       " [9] \"DejaVu Serif Condensed\"     \"EB Garamond 08\"            \n",
       "[11] \"EB Garamond 08 SC\"          \"EB Garamond 12\"            \n",
       "[13] \"EB Garamond Initials Fill1\" \"EB Garamond Initials Fill2\"\n",
       "[15] \"FontAwesome\"                \"FreeMono\"                  \n",
       "[17] \"FreeSans\"                   \"FreeSerif\"                 \n",
       "[19] \"Gentium\"                    \"GentiumAlt\"                \n",
       "[21] \"Gentium Basic\"              \"Gentium Book Basic\"        \n",
       "[23] \"Gentium Plus\"               \"Junicode\"                  \n",
       "[25] \"Lato Black\"                 \"Lato\"                      \n",
       "[27] \"Lato Hairline\"              \"Lato Heavy\"                \n",
       "[29] \"Lato Light\"                 \"Lato Medium\"               \n",
       "[31] \"Lato Semibold\"              \"Lato Thin\"                 \n",
       "[33] \"Liberation Mono\"            \"Liberation Sans\"           \n",
       "[35] \"Liberation Sans Narrow\"     \"Liberation Serif\"          \n",
       "[37] \"Roboto\"                     \"Roboto Condensed\"          "
      ]
     },
     "metadata": {},
     "output_type": "display_data"
    }
   ],
   "source": [
    "fonts() "
   ]
  },
  {
   "cell_type": "code",
   "execution_count": 55,
   "metadata": {},
   "outputs": [
    {
     "data": {
      "image/png": "[encoded data removed]",
      "text/plain": [
       "plot without title"
      ]
     },
     "metadata": {},
     "output_type": "display_data"
    }
   ],
   "source": [
    "par(mfrow = c(1, 1))\n",
    "x <- seq(1, 64, 4)\n",
    "y <- rep(10, 16)\n",
    "\n",
    "#text(x, y-5, paste(\"점모양\", as.character(0:15)), cex = 0.6)\n",
    "plot(x, y-5, \n",
    "     xlim = c(0, 64), ylim = c(0, 105),\n",
    "     type = \"n\",\n",
    "     xaxt = \"n\", yaxt = \"n\",\n",
    "     xlab = \"\", ylab = \"\",\n",
    "     pch = 0:15, cex = 1.2)"
   ]
  },
  {
   "cell_type": "code",
   "execution_count": 63,
   "metadata": {},
   "outputs": [
    {
     "data": {
      "image/png": "[encoded data removed]",
      "text/plain": [
       "plot without title"
      ]
     },
     "metadata": {},
     "output_type": "display_data"
    }
   ],
   "source": [
    "dSetosa <- subset(iris, Species == \"setosa\")\n",
    "dVersicolor <- subset(iris, Species == \"versicolor\")\n",
    "dVirginica <- subset(iris, Species == \"virginica\")\n",
    "\n",
    "xlim1 <- range(dVersicolor$Petal.Length, dVirginica$Petal.Length, dSetosa$Petal.Length)\n",
    "ylim1 <- range(dVersicolor$Sepal.Length, dVirginica$Sepal.Length, dSetosa$Sepal.Length)\n",
    "\n",
    "plot(dVersicolor$Petal.Length, dVersicolor$Sepal.Length, pch = 2, col = 2, xlim = xlim1, ylim = ylim1)\n",
    "points(dVirginica$Petal.Length, dVirginica$Sepal.Length, pch = 3, col = 3)\n",
    "points(dSetosa$Petal.Length, dSetosa$Sepal.Length, pch = 1, col = 1)"
   ]
  },
  {
   "cell_type": "code",
   "execution_count": 64,
   "metadata": {},
   "outputs": [
    {
     "name": "stdout",
     "output_type": "stream",
     "text": [
      "'data.frame':\t20 obs. of  3 variables:\n",
      " $ extra: num  0.7 -1.6 -0.2 -1.2 -0.1 3.4 3.7 0.8 0 2 ...\n",
      " $ group: Factor w/ 2 levels \"1\",\"2\": 1 1 1 1 1 1 1 1 1 1 ...\n",
      " $ ID   : Factor w/ 10 levels \"1\",\"2\",\"3\",\"4\",..: 1 2 3 4 5 6 7 8 9 10 ...\n"
     ]
    }
   ],
   "source": [
    "str(sleep)"
   ]
  },
  {
   "cell_type": "code",
   "execution_count": 68,
   "metadata": {
    "collapsed": true
   },
   "outputs": [],
   "source": [
    "?Titanic"
   ]
  },
  {
   "cell_type": "code",
   "execution_count": 69,
   "metadata": {},
   "outputs": [
    {
     "name": "stdout",
     "output_type": "stream",
     "text": [
      " table [1:4, 1:2, 1:2, 1:2] 0 0 35 0 0 0 17 0 118 154 ...\n",
      " - attr(*, \"dimnames\")=List of 4\n",
      "  ..$ Class   : chr [1:4] \"1st\" \"2nd\" \"3rd\" \"Crew\"\n",
      "  ..$ Sex     : chr [1:2] \"Male\" \"Female\"\n",
      "  ..$ Age     : chr [1:2] \"Child\" \"Adult\"\n",
      "  ..$ Survived: chr [1:2] \"No\" \"Yes\"\n"
     ]
    }
   ],
   "source": [
    "str(Titanic)"
   ]
  },
  {
   "cell_type": "markdown",
   "metadata": {},
   "source": [
    "### R 패키지\n",
    "\n",
    "https://crantastic.org/"
   ]
  },
  {
   "cell_type": "markdown",
   "metadata": {},
   "source": [
    "### P.41 추정선"
   ]
  },
  {
   "cell_type": "code",
   "execution_count": 70,
   "metadata": {},
   "outputs": [
    {
     "data": {
      "text/plain": [
       "\n",
       "Call:\n",
       "lm(formula = cars$dist ~ cars$speed)\n",
       "\n",
       "Coefficients:\n",
       "(Intercept)   cars$speed  \n",
       "    -17.579        3.932  \n"
      ]
     },
     "metadata": {},
     "output_type": "display_data"
    }
   ],
   "source": [
    "lm(cars$dist ~ cars$speed)"
   ]
  },
  {
   "cell_type": "code",
   "execution_count": 74,
   "metadata": {},
   "outputs": [
    {
     "ename": "ERROR",
     "evalue": "Error in int_abline(a = a, b = b, h = h, v = v, untf = untf, ...): plot.new has not been called yet\n",
     "output_type": "error",
     "traceback": [
      "Error in int_abline(a = a, b = b, h = h, v = v, untf = untf, ...): plot.new has not been called yet\nTraceback:\n",
      "1. abline(a = -5, b = 3.5, col = \"green\")",
      "2. int_abline(a = a, b = b, h = h, v = v, untf = untf, ...)"
     ]
    }
   ],
   "source": [
    "plot(cars, xlim = c(0, 25))"
   ]
  },
  {
   "cell_type": "code",
   "execution_count": 72,
   "metadata": {},
   "outputs": [
    {
     "ename": "ERROR",
     "evalue": "Error in int_abline(a = a, b = b, h = h, v = v, untf = untf, ...): plot.new has not been called yet\n",
     "output_type": "error",
     "traceback": [
      "Error in int_abline(a = a, b = b, h = h, v = v, untf = untf, ...): plot.new has not been called yet\nTraceback:\n",
      "1. abline(a = -5, b = 3.5, col = \"green\")",
      "2. int_abline(a = a, b = b, h = h, v = v, untf = untf, ...)"
     ]
    }
   ],
   "source": [
    "abline(a = -5, b = 3.5, col = \"green\")"
   ]
  },
  {
   "cell_type": "code",
   "execution_count": 73,
   "metadata": {},
   "outputs": [
    {
     "ename": "ERROR",
     "evalue": "Error in int_abline(a = a, b = b, h = h, v = v, untf = untf, ...): plot.new has not been called yet\n",
     "output_type": "error",
     "traceback": [
      "Error in int_abline(a = a, b = b, h = h, v = v, untf = untf, ...): plot.new has not been called yet\nTraceback:\n",
      "1. abline(lm(cars$dist ~ cars$speed), col = \"red\")",
      "2. int_abline(a = a, b = b, h = h, v = v, untf = untf, ...)"
     ]
    }
   ],
   "source": [
    "abline(lm(cars$dist ~ cars$speed), col = \"red\")"
   ]
  },
  {
   "cell_type": "code",
   "execution_count": 75,
   "metadata": {},
   "outputs": [
    {
     "data": {
      "text/plain": [
       "  Sepal.Length    Sepal.Width     Petal.Length    Petal.Width   \n",
       " Min.   :4.300   Min.   :2.000   Min.   :1.000   Min.   :0.100  \n",
       " 1st Qu.:5.100   1st Qu.:2.800   1st Qu.:1.600   1st Qu.:0.300  \n",
       " Median :5.800   Median :3.000   Median :4.350   Median :1.300  \n",
       " Mean   :5.843   Mean   :3.057   Mean   :3.758   Mean   :1.199  \n",
       " 3rd Qu.:6.400   3rd Qu.:3.300   3rd Qu.:5.100   3rd Qu.:1.800  \n",
       " Max.   :7.900   Max.   :4.400   Max.   :6.900   Max.   :2.500  \n",
       "       Species  \n",
       " setosa    :50  \n",
       " versicolor:50  \n",
       " virginica :50  \n",
       "                \n",
       "                \n",
       "                "
      ]
     },
     "metadata": {},
     "output_type": "display_data"
    }
   ],
   "source": [
    "summary(iris)"
   ]
  },
  {
   "cell_type": "code",
   "execution_count": 76,
   "metadata": {},
   "outputs": [
    {
     "data": {
      "text/plain": [
       "   Min. 1st Qu.  Median    Mean 3rd Qu.    Max. \n",
       "  4.300   5.100   5.800   5.843   6.400   7.900 "
      ]
     },
     "metadata": {},
     "output_type": "display_data"
    }
   ],
   "source": [
    "summary(iris$Sepal.Length)"
   ]
  },
  {
   "cell_type": "markdown",
   "metadata": {},
   "source": [
    "### 붓꽃종의 특성 측정 데이터의 시각화 보고서\n",
    "\n",
    "데이터 시각화 기술 프린트 P.55"
   ]
  },
  {
   "cell_type": "code",
   "execution_count": 77,
   "metadata": {
    "collapsed": true
   },
   "outputs": [],
   "source": [
    "write.csv(aggregate(iris[, c(1, 3)], by = list(iris$Species), summary), \"datas/aggrIris.csv\")"
   ]
  },
  {
   "cell_type": "markdown",
   "metadata": {},
   "source": [
    "### 보고서 작성하기\n",
    "\n",
    "- 표와 plot 을 같이 그려주는 것이 좋다."
   ]
  },
  {
   "cell_type": "markdown",
   "metadata": {},
   "source": [
    "### 과제\n",
    "P. 232"
   ]
  },
  {
   "cell_type": "markdown",
   "metadata": {},
   "source": [
    "### 03번"
   ]
  },
  {
   "cell_type": "code",
   "execution_count": 84,
   "metadata": {
    "collapsed": true
   },
   "outputs": [],
   "source": [
    "vX1 <- c(TRUE, FALSE, TRUE)"
   ]
  },
  {
   "cell_type": "code",
   "execution_count": 85,
   "metadata": {
    "collapsed": true
   },
   "outputs": [],
   "source": [
    "vX2 <- rnorm(3)"
   ]
  },
  {
   "cell_type": "code",
   "execution_count": 86,
   "metadata": {
    "collapsed": true
   },
   "outputs": [],
   "source": [
    "dDataFrame <- data.frame(logic = vX1, value = vX2)"
   ]
  },
  {
   "cell_type": "code",
   "execution_count": 87,
   "metadata": {},
   "outputs": [
    {
     "data": {
      "text/html": [
       "<table>\n",
       "<thead><tr><th scope=col>logic</th><th scope=col>value</th></tr></thead>\n",
       "<tbody>\n",
       "\t<tr><td> TRUE     </td><td> 1.0196832</td></tr>\n",
       "\t<tr><td>FALSE     </td><td>-0.6524419</td></tr>\n",
       "\t<tr><td> TRUE     </td><td> 0.9736804</td></tr>\n",
       "</tbody>\n",
       "</table>\n"
      ],
      "text/latex": [
       "\\begin{tabular}{r|ll}\n",
       " logic & value\\\\\n",
       "\\hline\n",
       "\t  TRUE      &  1.0196832\\\\\n",
       "\t FALSE      & -0.6524419\\\\\n",
       "\t  TRUE      &  0.9736804\\\\\n",
       "\\end{tabular}\n"
      ],
      "text/markdown": [
       "\n",
       "logic | value | \n",
       "|---|---|---|\n",
       "|  TRUE      |  1.0196832 | \n",
       "| FALSE      | -0.6524419 | \n",
       "|  TRUE      |  0.9736804 | \n",
       "\n",
       "\n"
      ],
      "text/plain": [
       "  logic value     \n",
       "1  TRUE  1.0196832\n",
       "2 FALSE -0.6524419\n",
       "3  TRUE  0.9736804"
      ]
     },
     "metadata": {},
     "output_type": "display_data"
    }
   ],
   "source": [
    "dDataFrame"
   ]
  },
  {
   "cell_type": "code",
   "execution_count": 89,
   "metadata": {},
   "outputs": [
    {
     "data": {
      "text/html": [
       "TRUE"
      ],
      "text/latex": [
       "TRUE"
      ],
      "text/markdown": [
       "TRUE"
      ],
      "text/plain": [
       "[1] TRUE"
      ]
     },
     "metadata": {},
     "output_type": "display_data"
    }
   ],
   "source": [
    "# 1행에 logic 열의 값을 추출\n",
    "\n",
    "dDataFrame[1, 1]"
   ]
  },
  {
   "cell_type": "code",
   "execution_count": 90,
   "metadata": {},
   "outputs": [
    {
     "data": {
      "text/html": [
       "<ol class=list-inline>\n",
       "\t<li>TRUE</li>\n",
       "\t<li>FALSE</li>\n",
       "\t<li>TRUE</li>\n",
       "</ol>\n"
      ],
      "text/latex": [
       "\\begin{enumerate*}\n",
       "\\item TRUE\n",
       "\\item FALSE\n",
       "\\item TRUE\n",
       "\\end{enumerate*}\n"
      ],
      "text/markdown": [
       "1. TRUE\n",
       "2. FALSE\n",
       "3. TRUE\n",
       "\n",
       "\n"
      ],
      "text/plain": [
       "[1]  TRUE FALSE  TRUE"
      ]
     },
     "metadata": {},
     "output_type": "display_data"
    }
   ],
   "source": [
    "dDataFrame[, \"logic\"]"
   ]
  },
  {
   "cell_type": "code",
   "execution_count": 91,
   "metadata": {},
   "outputs": [
    {
     "data": {
      "text/html": [
       "<ol class=list-inline>\n",
       "\t<li>TRUE</li>\n",
       "\t<li>FALSE</li>\n",
       "\t<li>TRUE</li>\n",
       "</ol>\n"
      ],
      "text/latex": [
       "\\begin{enumerate*}\n",
       "\\item TRUE\n",
       "\\item FALSE\n",
       "\\item TRUE\n",
       "\\end{enumerate*}\n"
      ],
      "text/markdown": [
       "1. TRUE\n",
       "2. FALSE\n",
       "3. TRUE\n",
       "\n",
       "\n"
      ],
      "text/plain": [
       "[1]  TRUE FALSE  TRUE"
      ]
     },
     "metadata": {},
     "output_type": "display_data"
    }
   ],
   "source": [
    "dDataFrame$logic"
   ]
  },
  {
   "cell_type": "code",
   "execution_count": 92,
   "metadata": {},
   "outputs": [
    {
     "data": {
      "text/html": [
       "<ol class=list-inline>\n",
       "\t<li>1.01968322816765</li>\n",
       "\t<li>-0.652441867375512</li>\n",
       "\t<li>0.973680369318605</li>\n",
       "</ol>\n"
      ],
      "text/latex": [
       "\\begin{enumerate*}\n",
       "\\item 1.01968322816765\n",
       "\\item -0.652441867375512\n",
       "\\item 0.973680369318605\n",
       "\\end{enumerate*}\n"
      ],
      "text/markdown": [
       "1. 1.01968322816765\n",
       "2. -0.652441867375512\n",
       "3. 0.973680369318605\n",
       "\n",
       "\n"
      ],
      "text/plain": [
       "[1]  1.0196832 -0.6524419  0.9736804"
      ]
     },
     "metadata": {},
     "output_type": "display_data"
    }
   ],
   "source": [
    "dDataFrame$value"
   ]
  },
  {
   "cell_type": "markdown",
   "metadata": {},
   "source": [
    "### 04번"
   ]
  },
  {
   "cell_type": "code",
   "execution_count": 93,
   "metadata": {
    "collapsed": true
   },
   "outputs": [],
   "source": [
    "df1 <- data.frame(Col1 = c(\"A\", \"B\", \"C\"), Col2 = c(10, 20, 30), Col3 = c(3, 2, 1))"
   ]
  },
  {
   "cell_type": "code",
   "execution_count": 96,
   "metadata": {},
   "outputs": [
    {
     "data": {
      "text/html": [
       "<ol class=list-inline>\n",
       "\t<li>3</li>\n",
       "\t<li>2</li>\n",
       "\t<li>1</li>\n",
       "</ol>\n"
      ],
      "text/latex": [
       "\\begin{enumerate*}\n",
       "\\item 3\n",
       "\\item 2\n",
       "\\item 1\n",
       "\\end{enumerate*}\n"
      ],
      "text/markdown": [
       "1. 3\n",
       "2. 2\n",
       "3. 1\n",
       "\n",
       "\n"
      ],
      "text/plain": [
       "[1] 3 2 1"
      ]
     },
     "metadata": {},
     "output_type": "display_data"
    }
   ],
   "source": [
    "df1[, \"Col3\"]"
   ]
  },
  {
   "cell_type": "code",
   "execution_count": 98,
   "metadata": {},
   "outputs": [
    {
     "data": {
      "text/html": [
       "'numeric'"
      ],
      "text/latex": [
       "'numeric'"
      ],
      "text/markdown": [
       "'numeric'"
      ],
      "text/plain": [
       "[1] \"numeric\""
      ]
     },
     "metadata": {},
     "output_type": "display_data"
    },
    {
     "data": {
      "text/html": [
       "TRUE"
      ],
      "text/latex": [
       "TRUE"
      ],
      "text/markdown": [
       "TRUE"
      ],
      "text/plain": [
       "[1] TRUE"
      ]
     },
     "metadata": {},
     "output_type": "display_data"
    }
   ],
   "source": [
    "dfcol3 <- df1[, \"Col3\"]\n",
    "\n",
    "mode(dfcol3)\n",
    "is.vector(dfcol3)"
   ]
  },
  {
   "cell_type": "code",
   "execution_count": 99,
   "metadata": {},
   "outputs": [
    {
     "data": {
      "text/html": [
       "<ol class=list-inline>\n",
       "\t<li>3</li>\n",
       "\t<li>2</li>\n",
       "\t<li>1</li>\n",
       "</ol>\n"
      ],
      "text/latex": [
       "\\begin{enumerate*}\n",
       "\\item 3\n",
       "\\item 2\n",
       "\\item 1\n",
       "\\end{enumerate*}\n"
      ],
      "text/markdown": [
       "1. 3\n",
       "2. 2\n",
       "3. 1\n",
       "\n",
       "\n"
      ],
      "text/plain": [
       "[1] 3 2 1"
      ]
     },
     "metadata": {},
     "output_type": "display_data"
    }
   ],
   "source": [
    "df1[, 3]"
   ]
  },
  {
   "cell_type": "code",
   "execution_count": 100,
   "metadata": {},
   "outputs": [
    {
     "data": {
      "text/html": [
       "<table>\n",
       "<thead><tr><th scope=col>Col1</th><th scope=col>Col2</th><th scope=col>Col3</th></tr></thead>\n",
       "<tbody>\n",
       "\t<tr><td>A </td><td>10</td><td>3 </td></tr>\n",
       "</tbody>\n",
       "</table>\n"
      ],
      "text/latex": [
       "\\begin{tabular}{r|lll}\n",
       " Col1 & Col2 & Col3\\\\\n",
       "\\hline\n",
       "\t A  & 10 & 3 \\\\\n",
       "\\end{tabular}\n"
      ],
      "text/markdown": [
       "\n",
       "Col1 | Col2 | Col3 | \n",
       "|---|\n",
       "| A  | 10 | 3  | \n",
       "\n",
       "\n"
      ],
      "text/plain": [
       "  Col1 Col2 Col3\n",
       "1 A    10   3   "
      ]
     },
     "metadata": {},
     "output_type": "display_data"
    }
   ],
   "source": [
    "df1[1, ]"
   ]
  },
  {
   "cell_type": "code",
   "execution_count": 101,
   "metadata": {},
   "outputs": [
    {
     "data": {
      "text/html": [
       "30"
      ],
      "text/latex": [
       "30"
      ],
      "text/markdown": [
       "30"
      ],
      "text/plain": [
       "[1] 30"
      ]
     },
     "metadata": {},
     "output_type": "display_data"
    }
   ],
   "source": [
    "df1[3, 2]"
   ]
  },
  {
   "cell_type": "markdown",
   "metadata": {},
   "source": [
    "### 05번"
   ]
  },
  {
   "cell_type": "code",
   "execution_count": 102,
   "metadata": {
    "collapsed": true
   },
   "outputs": [],
   "source": [
    "dCar <- mtcars"
   ]
  },
  {
   "cell_type": "code",
   "execution_count": 103,
   "metadata": {},
   "outputs": [
    {
     "ename": "ERROR",
     "evalue": "Error in .subset2(x, i, exact = exact): subscript out of bounds\n",
     "output_type": "error",
     "traceback": [
      "Error in .subset2(x, i, exact = exact): subscript out of bounds\nTraceback:\n",
      "1. dCar[[c(\"wt\", \"hp\")]]",
      "2. `[[.data.frame`(dCar, c(\"wt\", \"hp\"))",
      "3. (function(x, i, exact) if (is.matrix(i)) as.matrix(x)[[i]] else .subset2(x, \n .     i, exact = exact))(x, ..., exact = exact)"
     ]
    }
   ],
   "source": [
    "vWeightcomb2 <- dCar[[c(\"wt\", \"hp\")]]"
   ]
  },
  {
   "cell_type": "code",
   "execution_count": 104,
   "metadata": {
    "collapsed": true
   },
   "outputs": [],
   "source": [
    "# 위 코드를 실행 가능하도록 고치시오.\n",
    "\n",
    "vWeightcomb2 <- dCar[c(\"wt\", \"hp\")]"
   ]
  },
  {
   "cell_type": "code",
   "execution_count": 105,
   "metadata": {},
   "outputs": [
    {
     "data": {
      "text/html": [
       "'data.frame'"
      ],
      "text/latex": [
       "'data.frame'"
      ],
      "text/markdown": [
       "'data.frame'"
      ],
      "text/plain": [
       "[1] \"data.frame\""
      ]
     },
     "metadata": {},
     "output_type": "display_data"
    }
   ],
   "source": [
    "data.class(vWeightcomb2)"
   ]
  },
  {
   "cell_type": "markdown",
   "metadata": {},
   "source": [
    "### 06번"
   ]
  },
  {
   "cell_type": "code",
   "execution_count": 109,
   "metadata": {
    "collapsed": true
   },
   "outputs": [],
   "source": [
    "vWeightdoNe <- dCar[-6]"
   ]
  },
  {
   "cell_type": "code",
   "execution_count": 111,
   "metadata": {},
   "outputs": [
    {
     "data": {
      "text/html": [
       "<table>\n",
       "<thead><tr><th></th><th scope=col>mpg</th><th scope=col>cyl</th><th scope=col>disp</th><th scope=col>hp</th><th scope=col>drat</th><th scope=col>qsec</th><th scope=col>vs</th><th scope=col>am</th><th scope=col>gear</th><th scope=col>carb</th></tr></thead>\n",
       "<tbody>\n",
       "\t<tr><th scope=row>Mazda RX4</th><td>21.0 </td><td>6    </td><td>160  </td><td>110  </td><td>3.90 </td><td>16.46</td><td>0    </td><td>1    </td><td>4    </td><td>4    </td></tr>\n",
       "\t<tr><th scope=row>Mazda RX4 Wag</th><td>21.0 </td><td>6    </td><td>160  </td><td>110  </td><td>3.90 </td><td>17.02</td><td>0    </td><td>1    </td><td>4    </td><td>4    </td></tr>\n",
       "\t<tr><th scope=row>Datsun 710</th><td>22.8 </td><td>4    </td><td>108  </td><td> 93  </td><td>3.85 </td><td>18.61</td><td>1    </td><td>1    </td><td>4    </td><td>1    </td></tr>\n",
       "\t<tr><th scope=row>Hornet 4 Drive</th><td>21.4 </td><td>6    </td><td>258  </td><td>110  </td><td>3.08 </td><td>19.44</td><td>1    </td><td>0    </td><td>3    </td><td>1    </td></tr>\n",
       "\t<tr><th scope=row>Hornet Sportabout</th><td>18.7 </td><td>8    </td><td>360  </td><td>175  </td><td>3.15 </td><td>17.02</td><td>0    </td><td>0    </td><td>3    </td><td>2    </td></tr>\n",
       "\t<tr><th scope=row>Valiant</th><td>18.1 </td><td>6    </td><td>225  </td><td>105  </td><td>2.76 </td><td>20.22</td><td>1    </td><td>0    </td><td>3    </td><td>1    </td></tr>\n",
       "</tbody>\n",
       "</table>\n"
      ],
      "text/latex": [
       "\\begin{tabular}{r|llllllllll}\n",
       "  & mpg & cyl & disp & hp & drat & qsec & vs & am & gear & carb\\\\\n",
       "\\hline\n",
       "\tMazda RX4 & 21.0  & 6     & 160   & 110   & 3.90  & 16.46 & 0     & 1     & 4     & 4    \\\\\n",
       "\tMazda RX4 Wag & 21.0  & 6     & 160   & 110   & 3.90  & 17.02 & 0     & 1     & 4     & 4    \\\\\n",
       "\tDatsun 710 & 22.8  & 4     & 108   &  93   & 3.85  & 18.61 & 1     & 1     & 4     & 1    \\\\\n",
       "\tHornet 4 Drive & 21.4  & 6     & 258   & 110   & 3.08  & 19.44 & 1     & 0     & 3     & 1    \\\\\n",
       "\tHornet Sportabout & 18.7  & 8     & 360   & 175   & 3.15  & 17.02 & 0     & 0     & 3     & 2    \\\\\n",
       "\tValiant & 18.1  & 6     & 225   & 105   & 2.76  & 20.22 & 1     & 0     & 3     & 1    \\\\\n",
       "\\end{tabular}\n"
      ],
      "text/markdown": [
       "\n",
       "| <!--/--> | mpg | cyl | disp | hp | drat | qsec | vs | am | gear | carb | \n",
       "|---|---|---|---|---|---|\n",
       "| Mazda RX4 | 21.0  | 6     | 160   | 110   | 3.90  | 16.46 | 0     | 1     | 4     | 4     | \n",
       "| Mazda RX4 Wag | 21.0  | 6     | 160   | 110   | 3.90  | 17.02 | 0     | 1     | 4     | 4     | \n",
       "| Datsun 710 | 22.8  | 4     | 108   |  93   | 3.85  | 18.61 | 1     | 1     | 4     | 1     | \n",
       "| Hornet 4 Drive | 21.4  | 6     | 258   | 110   | 3.08  | 19.44 | 1     | 0     | 3     | 1     | \n",
       "| Hornet Sportabout | 18.7  | 8     | 360   | 175   | 3.15  | 17.02 | 0     | 0     | 3     | 2     | \n",
       "| Valiant | 18.1  | 6     | 225   | 105   | 2.76  | 20.22 | 1     | 0     | 3     | 1     | \n",
       "\n",
       "\n"
      ],
      "text/plain": [
       "                  mpg  cyl disp hp  drat qsec  vs am gear carb\n",
       "Mazda RX4         21.0 6   160  110 3.90 16.46 0  1  4    4   \n",
       "Mazda RX4 Wag     21.0 6   160  110 3.90 17.02 0  1  4    4   \n",
       "Datsun 710        22.8 4   108   93 3.85 18.61 1  1  4    1   \n",
       "Hornet 4 Drive    21.4 6   258  110 3.08 19.44 1  0  3    1   \n",
       "Hornet Sportabout 18.7 8   360  175 3.15 17.02 0  0  3    2   \n",
       "Valiant           18.1 6   225  105 2.76 20.22 1  0  3    1   "
      ]
     },
     "metadata": {},
     "output_type": "display_data"
    }
   ],
   "source": [
    "head(vWeightdoNe)"
   ]
  },
  {
   "cell_type": "code",
   "execution_count": 112,
   "metadata": {
    "collapsed": true
   },
   "outputs": [],
   "source": [
    "dTemp <- dCar[, -1]"
   ]
  },
  {
   "cell_type": "code",
   "execution_count": 121,
   "metadata": {
    "collapsed": true
   },
   "outputs": [],
   "source": [
    "# 2번째 열 부터 4번째 열까지 삭제\n",
    "dTemp <- dCar[, -c(2:4)]"
   ]
  },
  {
   "cell_type": "code",
   "execution_count": 122,
   "metadata": {},
   "outputs": [
    {
     "data": {
      "text/html": [
       "<table>\n",
       "<thead><tr><th></th><th scope=col>mpg</th><th scope=col>drat</th><th scope=col>wt</th><th scope=col>qsec</th><th scope=col>vs</th><th scope=col>am</th><th scope=col>gear</th><th scope=col>carb</th></tr></thead>\n",
       "<tbody>\n",
       "\t<tr><th scope=row>Mazda RX4</th><td>21.0 </td><td>3.90 </td><td>2.620</td><td>16.46</td><td>0    </td><td>1    </td><td>4    </td><td>4    </td></tr>\n",
       "\t<tr><th scope=row>Mazda RX4 Wag</th><td>21.0 </td><td>3.90 </td><td>2.875</td><td>17.02</td><td>0    </td><td>1    </td><td>4    </td><td>4    </td></tr>\n",
       "\t<tr><th scope=row>Datsun 710</th><td>22.8 </td><td>3.85 </td><td>2.320</td><td>18.61</td><td>1    </td><td>1    </td><td>4    </td><td>1    </td></tr>\n",
       "\t<tr><th scope=row>Hornet 4 Drive</th><td>21.4 </td><td>3.08 </td><td>3.215</td><td>19.44</td><td>1    </td><td>0    </td><td>3    </td><td>1    </td></tr>\n",
       "\t<tr><th scope=row>Hornet Sportabout</th><td>18.7 </td><td>3.15 </td><td>3.440</td><td>17.02</td><td>0    </td><td>0    </td><td>3    </td><td>2    </td></tr>\n",
       "\t<tr><th scope=row>Valiant</th><td>18.1 </td><td>2.76 </td><td>3.460</td><td>20.22</td><td>1    </td><td>0    </td><td>3    </td><td>1    </td></tr>\n",
       "</tbody>\n",
       "</table>\n"
      ],
      "text/latex": [
       "\\begin{tabular}{r|llllllll}\n",
       "  & mpg & drat & wt & qsec & vs & am & gear & carb\\\\\n",
       "\\hline\n",
       "\tMazda RX4 & 21.0  & 3.90  & 2.620 & 16.46 & 0     & 1     & 4     & 4    \\\\\n",
       "\tMazda RX4 Wag & 21.0  & 3.90  & 2.875 & 17.02 & 0     & 1     & 4     & 4    \\\\\n",
       "\tDatsun 710 & 22.8  & 3.85  & 2.320 & 18.61 & 1     & 1     & 4     & 1    \\\\\n",
       "\tHornet 4 Drive & 21.4  & 3.08  & 3.215 & 19.44 & 1     & 0     & 3     & 1    \\\\\n",
       "\tHornet Sportabout & 18.7  & 3.15  & 3.440 & 17.02 & 0     & 0     & 3     & 2    \\\\\n",
       "\tValiant & 18.1  & 2.76  & 3.460 & 20.22 & 1     & 0     & 3     & 1    \\\\\n",
       "\\end{tabular}\n"
      ],
      "text/markdown": [
       "\n",
       "| <!--/--> | mpg | drat | wt | qsec | vs | am | gear | carb | \n",
       "|---|---|---|---|---|---|\n",
       "| Mazda RX4 | 21.0  | 3.90  | 2.620 | 16.46 | 0     | 1     | 4     | 4     | \n",
       "| Mazda RX4 Wag | 21.0  | 3.90  | 2.875 | 17.02 | 0     | 1     | 4     | 4     | \n",
       "| Datsun 710 | 22.8  | 3.85  | 2.320 | 18.61 | 1     | 1     | 4     | 1     | \n",
       "| Hornet 4 Drive | 21.4  | 3.08  | 3.215 | 19.44 | 1     | 0     | 3     | 1     | \n",
       "| Hornet Sportabout | 18.7  | 3.15  | 3.440 | 17.02 | 0     | 0     | 3     | 2     | \n",
       "| Valiant | 18.1  | 2.76  | 3.460 | 20.22 | 1     | 0     | 3     | 1     | \n",
       "\n",
       "\n"
      ],
      "text/plain": [
       "                  mpg  drat wt    qsec  vs am gear carb\n",
       "Mazda RX4         21.0 3.90 2.620 16.46 0  1  4    4   \n",
       "Mazda RX4 Wag     21.0 3.90 2.875 17.02 0  1  4    4   \n",
       "Datsun 710        22.8 3.85 2.320 18.61 1  1  4    1   \n",
       "Hornet 4 Drive    21.4 3.08 3.215 19.44 1  0  3    1   \n",
       "Hornet Sportabout 18.7 3.15 3.440 17.02 0  0  3    2   \n",
       "Valiant           18.1 2.76 3.460 20.22 1  0  3    1   "
      ]
     },
     "metadata": {},
     "output_type": "display_data"
    }
   ],
   "source": [
    "head(dTemp)"
   ]
  },
  {
   "cell_type": "markdown",
   "metadata": {},
   "source": [
    "### 단어 클라우드"
   ]
  },
  {
   "cell_type": "code",
   "execution_count": 123,
   "metadata": {
    "collapsed": true
   },
   "outputs": [],
   "source": [
    "vCarName <- rownames(mtcars)"
   ]
  },
  {
   "cell_type": "code",
   "execution_count": 124,
   "metadata": {},
   "outputs": [
    {
     "name": "stderr",
     "output_type": "stream",
     "text": [
      "Loading required package: NLP\n"
     ]
    }
   ],
   "source": [
    "library(tm)"
   ]
  },
  {
   "cell_type": "code",
   "execution_count": 125,
   "metadata": {
    "scrolled": true
   },
   "outputs": [
    {
     "data": {
      "text/plain": [
       "$encoding\n",
       "[1] \"\"\n",
       "\n",
       "$length\n",
       "[1] 32\n",
       "\n",
       "$position\n",
       "[1] 0\n",
       "\n",
       "$reader\n",
       "function (elem, language, id) \n",
       "{\n",
       "    if (!is.null(elem$uri)) \n",
       "        id <- basename(elem$uri)\n",
       "    PlainTextDocument(elem$content, id = id, language = language)\n",
       "}\n",
       "<environment: namespace:tm>\n",
       "\n",
       "$content\n",
       "     [,1]        [,2]            [,3]         [,4]            \n",
       "[1,] \"Mazda RX4\" \"Mazda RX4 Wag\" \"Datsun 710\" \"Hornet 4 Drive\"\n",
       "     [,5]                [,6]      [,7]         [,8]        [,9]      \n",
       "[1,] \"Hornet Sportabout\" \"Valiant\" \"Duster 360\" \"Merc 240D\" \"Merc 230\"\n",
       "     [,10]      [,11]       [,12]        [,13]        [,14]        \n",
       "[1,] \"Merc 280\" \"Merc 280C\" \"Merc 450SE\" \"Merc 450SL\" \"Merc 450SLC\"\n",
       "     [,15]                [,16]                 [,17]               [,18]     \n",
       "[1,] \"Cadillac Fleetwood\" \"Lincoln Continental\" \"Chrysler Imperial\" \"Fiat 128\"\n",
       "     [,19]         [,20]            [,21]           [,22]             \n",
       "[1,] \"Honda Civic\" \"Toyota Corolla\" \"Toyota Corona\" \"Dodge Challenger\"\n",
       "     [,23]         [,24]        [,25]              [,26]       [,27]          \n",
       "[1,] \"AMC Javelin\" \"Camaro Z28\" \"Pontiac Firebird\" \"Fiat X1-9\" \"Porsche 914-2\"\n",
       "     [,28]          [,29]            [,30]          [,31]          \n",
       "[1,] \"Lotus Europa\" \"Ford Pantera L\" \"Ferrari Dino\" \"Maserati Bora\"\n",
       "     [,32]       \n",
       "[1,] \"Volvo 142E\"\n",
       "\n",
       "attr(,\"class\")\n",
       "[1] \"VectorSource\" \"SimpleSource\" \"Source\"      "
      ]
     },
     "metadata": {},
     "output_type": "display_data"
    }
   ],
   "source": [
    "VectorSource(t(vCarName))"
   ]
  },
  {
   "cell_type": "code",
   "execution_count": 126,
   "metadata": {},
   "outputs": [
    {
     "data": {
      "text/plain": [
       "<<SimpleCorpus>>\n",
       "Metadata:  corpus specific: 1, document level (indexed): 0\n",
       "Content:  documents: 32"
      ]
     },
     "metadata": {},
     "output_type": "display_data"
    }
   ],
   "source": [
    "oCorpustest <- Corpus(VectorSource(t(vCarName)))\n",
    "oCorpustest"
   ]
  },
  {
   "cell_type": "code",
   "execution_count": 127,
   "metadata": {
    "collapsed": true
   },
   "outputs": [],
   "source": [
    "myDtm2test <- DocumentTermMatrix(oCorpustest, control = list(wordLengths = c(2, Inf)))"
   ]
  },
  {
   "cell_type": "code",
   "execution_count": 128,
   "metadata": {
    "scrolled": false
   },
   "outputs": [
    {
     "data": {
      "text/html": [
       "<ol class=list-inline>\n",
       "\t<li>32</li>\n",
       "\t<li>53</li>\n",
       "</ol>\n"
      ],
      "text/latex": [
       "\\begin{enumerate*}\n",
       "\\item 32\n",
       "\\item 53\n",
       "\\end{enumerate*}\n"
      ],
      "text/markdown": [
       "1. 32\n",
       "2. 53\n",
       "\n",
       "\n"
      ],
      "text/plain": [
       "[1] 32 53"
      ]
     },
     "metadata": {},
     "output_type": "display_data"
    }
   ],
   "source": [
    "dim(myDtm2test)"
   ]
  },
  {
   "cell_type": "code",
   "execution_count": 129,
   "metadata": {},
   "outputs": [
    {
     "name": "stdout",
     "output_type": "stream",
     "text": [
      "<<DocumentTermMatrix (documents: 5, terms: 5)>>\n",
      "Non-/sparse entries: 7/18\n",
      "Sparsity           : 72%\n",
      "Maximal term length: 6\n",
      "Weighting          : term frequency (tf)\n",
      "Sample             :\n",
      "    Terms\n",
      "Docs 710 datsun mazda rx4 wag\n",
      "   1   0      0     1   1   0\n",
      "   2   0      0     1   1   1\n",
      "   3   1      1     0   0   0\n",
      "   4   0      0     0   0   0\n",
      "   5   0      0     0   0   0\n"
     ]
    }
   ],
   "source": [
    "inspect(myDtm2test[1:5, 1:5])"
   ]
  },
  {
   "cell_type": "code",
   "execution_count": 130,
   "metadata": {
    "collapsed": true
   },
   "outputs": [],
   "source": [
    "# 단어를 기준으로 정렬\n",
    "m <- as.matrix(myDtm2test)"
   ]
  },
  {
   "cell_type": "code",
   "execution_count": 133,
   "metadata": {
    "scrolled": false
   },
   "outputs": [
    {
     "name": "stdout",
     "output_type": "stream",
     "text": [
      "       merc       mazda         rx4      hornet        fiat      toyota \n",
      "          7           2           2           2           2           2 \n",
      "        wag         710      datsun       drive  sportabout     valiant \n",
      "          1           1           1           1           1           1 \n",
      "        360      duster        240d         230         280        280c \n",
      "          1           1           1           1           1           1 \n",
      "      450se       450sl      450slc    cadillac   fleetwood continental \n",
      "          1           1           1           1           1           1 \n",
      "    lincoln    chrysler    imperial         128       civic       honda \n",
      "          1           1           1           1           1           1 \n",
      "    corolla      corona  challenger       dodge         amc     javelin \n",
      "          1           1           1           1           1           1 \n",
      "     camaro         z28    firebird     pontiac          x1         914 \n",
      "          1           1           1           1           1           1 \n",
      "    porsche      europa       lotus        ford     pantera        dino \n",
      "          1           1           1           1           1           1 \n",
      "    ferrari        bora    maserati        142e       volvo \n",
      "          1           1           1           1           1 \n"
     ]
    }
   ],
   "source": [
    "wordFreq <- sort(colSums(m), decreasing = TRUE)\n",
    "print(wordFreq)"
   ]
  },
  {
   "cell_type": "code",
   "execution_count": 134,
   "metadata": {
    "collapsed": true
   },
   "outputs": [],
   "source": [
    "# 8가지의 색을 만든다.\n",
    "library(RColorBrewer)"
   ]
  },
  {
   "cell_type": "code",
   "execution_count": 135,
   "metadata": {},
   "outputs": [
    {
     "data": {
      "image/png": "[encoded data removed]",
      "text/plain": [
       "plot without title"
      ]
     },
     "metadata": {},
     "output_type": "display_data"
    }
   ],
   "source": [
    "pal <- brewer.pal(8, \"Dark2\")\n",
    "plot(1:8, col = pal)"
   ]
  },
  {
   "cell_type": "code",
   "execution_count": 139,
   "metadata": {},
   "outputs": [
    {
     "data": {
      "image/png": "[encoded data removed]",
      "text/plain": [
       "plot without title"
      ]
     },
     "metadata": {},
     "output_type": "display_data"
    }
   ],
   "source": [
    "library(wordcloud)\n",
    "wordcloud(words = names(wordFreq), \n",
    "         freq = wordFreq, min.freq = 1, random.order = F, rot.per = 0.1, colors = pal)"
   ]
  },
  {
   "cell_type": "markdown",
   "metadata": {
    "collapsed": true
   },
   "source": [
    "### R 기초와 데이터 마트\n",
    "\n",
    "P.320 "
   ]
  },
  {
   "cell_type": "code",
   "execution_count": 141,
   "metadata": {},
   "outputs": [
    {
     "ename": "ERROR",
     "evalue": "Error in charToDate(x): character string is not in a standard unambiguous format\n",
     "output_type": "error",
     "traceback": [
      "Error in charToDate(x): character string is not in a standard unambiguous format\nTraceback:\n",
      "1. as.Date(\"01/13/2015\")",
      "2. as.Date.character(\"01/13/2015\")",
      "3. charToDate(x)",
      "4. stop(\"character string is not in a standard unambiguous format\")"
     ]
    }
   ],
   "source": [
    "# 날짜 처리\n",
    "\n",
    "as.Date(\"01/13/2015\")"
   ]
  },
  {
   "cell_type": "code",
   "execution_count": 142,
   "metadata": {},
   "outputs": [
    {
     "data": {
      "text/html": [
       "<time datetime=\"2015-01-13\">2015-01-13</time>"
      ],
      "text/latex": [
       "2015-01-13"
      ],
      "text/markdown": [
       "2015-01-13"
      ],
      "text/plain": [
       "[1] \"2015-01-13\""
      ]
     },
     "metadata": {},
     "output_type": "display_data"
    }
   ],
   "source": [
    "as.Date(\"2015-01-13\")"
   ]
  },
  {
   "cell_type": "code",
   "execution_count": 147,
   "metadata": {},
   "outputs": [
    {
     "data": {
      "text/html": [
       "<time datetime=\"2015-01-13\">2015-01-13</time>"
      ],
      "text/latex": [
       "2015-01-13"
      ],
      "text/markdown": [
       "2015-01-13"
      ],
      "text/plain": [
       "[1] \"2015-01-13\""
      ]
     },
     "metadata": {},
     "output_type": "display_data"
    }
   ],
   "source": [
    "as.Date(\"01/13/2015\", format = \"%m/%d/%Y\")\n",
    "\n",
    "# 소문자 %y 는 두자리 수 년도인데, 숫자가 아무리 길어도 앞에 두 자리만 파싱한다."
   ]
  },
  {
   "cell_type": "code",
   "execution_count": 145,
   "metadata": {
    "collapsed": true
   },
   "outputs": [],
   "source": [
    "?Date"
   ]
  },
  {
   "cell_type": "code",
   "execution_count": null,
   "metadata": {
    "collapsed": true
   },
   "outputs": [],
   "source": []
  }
 ],
 "metadata": {
  "kernelspec": {
   "display_name": "R",
   "language": "R",
   "name": "ir"
  },
  "language_info": {
   "codemirror_mode": "r",
   "file_extension": ".r",
   "mimetype": "text/x-r-source",
   "name": "R",
   "pygments_lexer": "r",
   "version": "3.4.1"
  }
 },
 "nbformat": 4,
 "nbformat_minor": 2
}
