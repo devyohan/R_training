{
 "cells": [
  {
   "cell_type": "markdown",
   "metadata": {},
   "source": [
    "## 주식 데이터의 데이터 타입 살펴보기\n",
    "\n"
   ]
  },
  {
   "cell_type": "code",
   "execution_count": 6,
   "metadata": {
    "collapsed": true
   },
   "outputs": [],
   "source": [
    "aapl <- read.csv(\"datas/aapl.csv\", header = TRUE)"
   ]
  },
  {
   "cell_type": "markdown",
   "metadata": {},
   "source": [
    "### 데이터 탐색"
   ]
  },
  {
   "cell_type": "code",
   "execution_count": 8,
   "metadata": {},
   "outputs": [
    {
     "name": "stdout",
     "output_type": "stream",
     "text": [
      "'data.frame':\t3347 obs. of  2 variables:\n",
      " $ Date : Factor w/ 3347 levels \"2000-01-03\",\"2000-01-04\",..: 1 2 3 4 5 6 7 8 9 10 ...\n",
      " $ Close: num  27.6 25.2 25.6 23.4 24.5 ...\n"
     ]
    }
   ],
   "source": [
    "str(aapl)"
   ]
  },
  {
   "cell_type": "code",
   "execution_count": 9,
   "metadata": {},
   "outputs": [
    {
     "data": {
      "text/plain": [
       "         Date          Close       \n",
       " 2000-01-03:   1   Min.   :  6.46  \n",
       " 2000-01-04:   1   1st Qu.: 12.32  \n",
       " 2000-01-05:   1   Median : 73.25  \n",
       " 2000-01-06:   1   Mean   :144.17  \n",
       " 2000-01-07:   1   3rd Qu.:198.13  \n",
       " 2000-01-10:   1   Max.   :694.86  \n",
       " (Other)   :3341                   "
      ]
     },
     "metadata": {},
     "output_type": "display_data"
    }
   ],
   "source": [
    "# 요약정보가 출력된다.\n",
    "\n",
    "summary(aapl)\n",
    "\n",
    "# Min - 최소값\n",
    "# 1st Qu - 하위 25% 지점에 해당하는 값\n",
    "# Median - 중간에 위치하는 값 중 하나\n",
    "# Mean - 평균값\n",
    "# 3rd Qu - 상위 25% 지점에 해당하는 값, 하위 75% \n",
    "# Max - 최대값"
   ]
  },
  {
   "cell_type": "markdown",
   "metadata": {},
   "source": [
    "#### 위의 값을 보고 예측해보기\n",
    "\n",
    "- 평균과 중위수의 차이가 나는 것으로 볼 때\n",
    "    - 종가값이 낮은적이 더 많고 급격히 오른 때도 있는 것 같다.\n",
    "- 최소값과 25% 분위수의 값의 차이\n",
    "    - 전체 기간에서 약 1/4 정도는 최소값과 근사한 종가\n",
    "- 최대값과 75% 분위수의 값의 차이를 볼 때\n",
    "    - "
   ]
  },
  {
   "cell_type": "markdown",
   "metadata": {},
   "source": [
    "평균과 중위수의 차이가 나는 것을 볼 때\n",
    "- 일반적인 기준 평균보다 중위수가 낮은 쪽에 있으면 낮은 값이 많다.\n",
    "- 평균보다 중위가 높은 쪽에 있으면 높은 값이 많다고 볼 수 있다.\n",
    "\n",
    "- 두배 차이가 나는 것을 볼 때 "
   ]
  },
  {
   "cell_type": "code",
   "execution_count": 10,
   "metadata": {},
   "outputs": [
    {
     "data": {
      "image/png": "[encoded data removed]",
      "text/plain": [
       "plot without title"
      ]
     },
     "metadata": {},
     "output_type": "display_data"
    }
   ],
   "source": [
    "plot(aapl)"
   ]
  },
  {
   "cell_type": "markdown",
   "metadata": {},
   "source": [
    "### 전처리"
   ]
  },
  {
   "cell_type": "code",
   "execution_count": 14,
   "metadata": {
    "collapsed": true
   },
   "outputs": [],
   "source": [
    "# 데이터셋$컬럼$\n",
    "\n",
    "aapl$Date2 <- as.POSIXlt(aapl$Date)\n",
    "aapl$year  <- aapl$Date2$year + 1900\n",
    "aapl$mon   <- aapl$Date2$mon + 1\n",
    "aapl$day   <- aapl$Date2$mday"
   ]
  },
  {
   "cell_type": "code",
   "execution_count": 16,
   "metadata": {
    "collapsed": true
   },
   "outputs": [],
   "source": [
    "?POSIXlt"
   ]
  },
  {
   "cell_type": "code",
   "execution_count": 18,
   "metadata": {},
   "outputs": [
    {
     "data": {
      "text/html": [
       "<ol class=list-inline>\n",
       "\t<li>1</li>\n",
       "\t<li>2</li>\n",
       "\t<li>3</li>\n",
       "\t<li>4</li>\n",
       "\t<li>5</li>\n",
       "\t<li>1</li>\n",
       "</ol>\n"
      ],
      "text/latex": [
       "\\begin{enumerate*}\n",
       "\\item 1\n",
       "\\item 2\n",
       "\\item 3\n",
       "\\item 4\n",
       "\\item 5\n",
       "\\item 1\n",
       "\\end{enumerate*}\n"
      ],
      "text/markdown": [
       "1. 1\n",
       "2. 2\n",
       "3. 3\n",
       "4. 4\n",
       "5. 5\n",
       "6. 1\n",
       "\n",
       "\n"
      ],
      "text/plain": [
       "[1] 1 2 3 4 5 1"
      ]
     },
     "metadata": {},
     "output_type": "display_data"
    },
    {
     "data": {
      "text/html": [
       "<ol class=list-inline>\n",
       "\t<li>'Monday'</li>\n",
       "\t<li>'Tuesday'</li>\n",
       "\t<li>'Wednesday'</li>\n",
       "\t<li>'Thursday'</li>\n",
       "\t<li>'Friday'</li>\n",
       "\t<li>'Monday'</li>\n",
       "</ol>\n"
      ],
      "text/latex": [
       "\\begin{enumerate*}\n",
       "\\item 'Monday'\n",
       "\\item 'Tuesday'\n",
       "\\item 'Wednesday'\n",
       "\\item 'Thursday'\n",
       "\\item 'Friday'\n",
       "\\item 'Monday'\n",
       "\\end{enumerate*}\n"
      ],
      "text/markdown": [
       "1. 'Monday'\n",
       "2. 'Tuesday'\n",
       "3. 'Wednesday'\n",
       "4. 'Thursday'\n",
       "5. 'Friday'\n",
       "6. 'Monday'\n",
       "\n",
       "\n"
      ],
      "text/plain": [
       "[1] \"Monday\"    \"Tuesday\"   \"Wednesday\" \"Thursday\"  \"Friday\"    \"Monday\"   "
      ]
     },
     "metadata": {},
     "output_type": "display_data"
    }
   ],
   "source": [
    "# 요일\n",
    "\n",
    "head(aapl$Date2$wday)\n",
    "head(weekdays(aapl$Date2))"
   ]
  },
  {
   "cell_type": "code",
   "execution_count": 19,
   "metadata": {
    "collapsed": true
   },
   "outputs": [],
   "source": [
    "aapl$weekdays <- weekdays(aapl$Date2)"
   ]
  },
  {
   "cell_type": "code",
   "execution_count": 20,
   "metadata": {},
   "outputs": [
    {
     "name": "stdout",
     "output_type": "stream",
     "text": [
      "'data.frame':\t3347 obs. of  7 variables:\n",
      " $ Date    : Factor w/ 3347 levels \"2000-01-03\",\"2000-01-04\",..: 1 2 3 4 5 6 7 8 9 10 ...\n",
      " $ Close   : num  27.6 25.2 25.6 23.4 24.5 ...\n",
      " $ Date2   : POSIXlt, format: \"2000-01-03\" \"2000-01-04\" ...\n",
      " $ year    : num  2000 2000 2000 2000 2000 2000 2000 2000 2000 2000 ...\n",
      " $ mon     : num  1 1 1 1 1 1 1 1 1 1 ...\n",
      " $ day     : int  3 4 5 6 7 10 11 12 13 14 ...\n",
      " $ weekdays: chr  \"Monday\" \"Tuesday\" \"Wednesday\" \"Thursday\" ...\n"
     ]
    }
   ],
   "source": [
    "str(aapl)"
   ]
  },
  {
   "cell_type": "code",
   "execution_count": 21,
   "metadata": {
    "collapsed": true
   },
   "outputs": [],
   "source": [
    "# 전처리 후 저장\n",
    "\n",
    "save(aapl, file = \"datas/aapl.RDATA\")"
   ]
  },
  {
   "cell_type": "code",
   "execution_count": 22,
   "metadata": {},
   "outputs": [
    {
     "data": {
      "image/png": "[encoded data removed]",
      "text/plain": [
       "plot without title"
      ]
     },
     "metadata": {},
     "output_type": "display_data"
    }
   ],
   "source": [
    "plot(aapl$year, aapl$Close)"
   ]
  },
  {
   "cell_type": "code",
   "execution_count": 23,
   "metadata": {},
   "outputs": [
    {
     "name": "stdout",
     "output_type": "stream",
     "text": [
      " num [1:754] 2010 2010 2010 2010 2010 2010 2010 2010 2010 2010 ...\n"
     ]
    }
   ],
   "source": [
    "aapl_sub <- subset(aapl, year >= 2010 & year != 2013)\n",
    "str(aapl_sub$year)"
   ]
  },
  {
   "cell_type": "code",
   "execution_count": 26,
   "metadata": {
    "scrolled": true
   },
   "outputs": [
    {
     "data": {
      "image/png": "[encoded data removed]",
      "text/plain": [
       "plot without title"
      ]
     },
     "metadata": {},
     "output_type": "display_data"
    }
   ],
   "source": [
    "plot(aapl_sub$mon, aapl_sub$Close, col = as.integer(aapl_sub$year))\n",
    "legend(\"topleft\", legend = levels(factor(aapl_sub$year)),\n",
    "       col = levels(factor(aapl_sub$year)), pch = 1\n",
    ")"
   ]
  },
  {
   "cell_type": "markdown",
   "metadata": {},
   "source": [
    "## Factor object\n",
    "P.142"
   ]
  },
  {
   "cell_type": "markdown",
   "metadata": {},
   "source": [
    "- 코드형 데이터 (category) 값을 저장하기 위하여\n",
    "- 기본적인 사칙연산은 안되지만 ordered() 로 우선순위를 부여하고 연산은 가능하다.\n",
    "- levels 로 범주 목록이 있다. 범주목록 외의 값을 입력하면 NA (Not Available)"
   ]
  },
  {
   "cell_type": "code",
   "execution_count": 29,
   "metadata": {
    "collapsed": true
   },
   "outputs": [],
   "source": [
    "?factor()"
   ]
  },
  {
   "cell_type": "code",
   "execution_count": 30,
   "metadata": {
    "collapsed": true
   },
   "outputs": [],
   "source": [
    "vG <- c(\"very_bad\", \"bad\", \"normal\", \"good\", \"very_good\")\n",
    "fvG <- factor(vG)"
   ]
  },
  {
   "cell_type": "code",
   "execution_count": 31,
   "metadata": {},
   "outputs": [
    {
     "data": {
      "text/html": [
       "'bad'"
      ],
      "text/latex": [
       "'bad'"
      ],
      "text/markdown": [
       "'bad'"
      ],
      "text/plain": [
       "[1] \"bad\""
      ]
     },
     "metadata": {},
     "output_type": "display_data"
    }
   ],
   "source": [
    "# level 로 범주 목록을 알 수 있고, 기본값은 알파벳 순\n",
    "\n",
    "levels(fvG)[1]"
   ]
  },
  {
   "cell_type": "markdown",
   "metadata": {},
   "source": [
    "#### Factor 실습해보기"
   ]
  },
  {
   "cell_type": "code",
   "execution_count": 33,
   "metadata": {},
   "outputs": [
    {
     "data": {
      "text/html": [
       "<ol class=list-inline>\n",
       "\t<li>f</li>\n",
       "\t<li>m</li>\n",
       "\t<li>f</li>\n",
       "</ol>\n"
      ],
      "text/latex": [
       "\\begin{enumerate*}\n",
       "\\item f\n",
       "\\item m\n",
       "\\item f\n",
       "\\end{enumerate*}\n"
      ],
      "text/markdown": [
       "1. f\n",
       "2. m\n",
       "3. f\n",
       "\n",
       "\n"
      ],
      "text/plain": [
       "[1] f m f\n",
       "Levels: f m"
      ]
     },
     "metadata": {},
     "output_type": "display_data"
    }
   ],
   "source": [
    "gender <- factor(c(\"f\", \"m\", \"f\"), c(\"f\", \"m\"))\n",
    "gender"
   ]
  },
  {
   "cell_type": "code",
   "execution_count": 34,
   "metadata": {},
   "outputs": [
    {
     "data": {
      "text/html": [
       "<ol class=list-inline>\n",
       "\t<li>'f'</li>\n",
       "\t<li>'m'</li>\n",
       "</ol>\n"
      ],
      "text/latex": [
       "\\begin{enumerate*}\n",
       "\\item 'f'\n",
       "\\item 'm'\n",
       "\\end{enumerate*}\n"
      ],
      "text/markdown": [
       "1. 'f'\n",
       "2. 'm'\n",
       "\n",
       "\n"
      ],
      "text/plain": [
       "[1] \"f\" \"m\""
      ]
     },
     "metadata": {},
     "output_type": "display_data"
    }
   ],
   "source": [
    "levels(gender)"
   ]
  },
  {
   "cell_type": "code",
   "execution_count": 35,
   "metadata": {},
   "outputs": [
    {
     "data": {
      "text/html": [
       "2"
      ],
      "text/latex": [
       "2"
      ],
      "text/markdown": [
       "2"
      ],
      "text/plain": [
       "[1] 2"
      ]
     },
     "metadata": {},
     "output_type": "display_data"
    }
   ],
   "source": [
    "# 갯수\n",
    "\n",
    "nlevels(gender)"
   ]
  },
  {
   "cell_type": "code",
   "execution_count": 37,
   "metadata": {},
   "outputs": [
    {
     "data": {
      "text/html": [
       "5"
      ],
      "text/latex": [
       "5"
      ],
      "text/markdown": [
       "5"
      ],
      "text/plain": [
       "[1] 5"
      ]
     },
     "metadata": {},
     "output_type": "display_data"
    }
   ],
   "source": [
    "nlevels(fvG)"
   ]
  },
  {
   "cell_type": "markdown",
   "metadata": {},
   "source": [
    "#### Factor 에 서열성 부여하기\n",
    "\n",
    "- 기본값으로 분류되면 내가 원하지 않는 순서로 분류되는 일이 있으니\n",
    "- 순위를 내가 지정하자."
   ]
  },
  {
   "cell_type": "code",
   "execution_count": 39,
   "metadata": {
    "collapsed": true
   },
   "outputs": [],
   "source": [
    "ord_vG <- ordered(vG, levels = c(\"very_bad\", \"bad\", \"normal\", \"good\", \"very_good\"))"
   ]
  },
  {
   "cell_type": "code",
   "execution_count": 40,
   "metadata": {},
   "outputs": [
    {
     "data": {
      "text/html": [
       "<ol class=list-inline>\n",
       "\t<li>very_bad</li>\n",
       "\t<li>bad</li>\n",
       "\t<li>normal</li>\n",
       "\t<li>good</li>\n",
       "\t<li>very_good</li>\n",
       "</ol>\n"
      ],
      "text/latex": [
       "\\begin{enumerate*}\n",
       "\\item very\\_bad\n",
       "\\item bad\n",
       "\\item normal\n",
       "\\item good\n",
       "\\item very\\_good\n",
       "\\end{enumerate*}\n"
      ],
      "text/markdown": [
       "1. very_bad\n",
       "2. bad\n",
       "3. normal\n",
       "4. good\n",
       "5. very_good\n",
       "\n",
       "\n"
      ],
      "text/plain": [
       "[1] very_bad  bad       normal    good      very_good\n",
       "Levels: very_bad < bad < normal < good < very_good"
      ]
     },
     "metadata": {},
     "output_type": "display_data"
    }
   ],
   "source": [
    "ord_vG"
   ]
  },
  {
   "cell_type": "code",
   "execution_count": 44,
   "metadata": {
    "collapsed": true
   },
   "outputs": [],
   "source": [
    "levels(ord_vG) <- c(\"v_b\", \"b\", \"n\", \"g\", \"v_g\")"
   ]
  },
  {
   "cell_type": "code",
   "execution_count": 45,
   "metadata": {},
   "outputs": [
    {
     "data": {
      "text/html": [
       "<ol class=list-inline>\n",
       "\t<li>v_b</li>\n",
       "\t<li>b</li>\n",
       "\t<li>n</li>\n",
       "\t<li>g</li>\n",
       "\t<li>v_g</li>\n",
       "</ol>\n"
      ],
      "text/latex": [
       "\\begin{enumerate*}\n",
       "\\item v\\_b\n",
       "\\item b\n",
       "\\item n\n",
       "\\item g\n",
       "\\item v\\_g\n",
       "\\end{enumerate*}\n"
      ],
      "text/markdown": [
       "1. v_b\n",
       "2. b\n",
       "3. n\n",
       "4. g\n",
       "5. v_g\n",
       "\n",
       "\n"
      ],
      "text/plain": [
       "[1] v_b b   n   g   v_g\n",
       "Levels: v_b < b < n < g < v_g"
      ]
     },
     "metadata": {},
     "output_type": "display_data"
    }
   ],
   "source": [
    "ord_vG"
   ]
  },
  {
   "cell_type": "markdown",
   "metadata": {},
   "source": [
    "#### 서열척도"
   ]
  },
  {
   "cell_type": "code",
   "execution_count": 46,
   "metadata": {},
   "outputs": [
    {
     "name": "stderr",
     "output_type": "stream",
     "text": [
      "Updating HTML index of packages in '.Library'\n",
      "Making 'packages.html' ... done\n"
     ]
    }
   ],
   "source": [
    "# 기본 데이터셋 준비\n",
    "\n",
    "install.packages(\"Fahrmeir\")"
   ]
  },
  {
   "cell_type": "code",
   "execution_count": 47,
   "metadata": {
    "collapsed": true
   },
   "outputs": [],
   "source": [
    "library(Fahrmeir)"
   ]
  },
  {
   "cell_type": "code",
   "execution_count": 48,
   "metadata": {
    "collapsed": true
   },
   "outputs": [],
   "source": [
    "data(rheuma)"
   ]
  },
  {
   "cell_type": "markdown",
   "metadata": {},
   "source": [
    "#### rheuma 데이터셋 살펴보기"
   ]
  },
  {
   "cell_type": "code",
   "execution_count": 49,
   "metadata": {
    "scrolled": true
   },
   "outputs": [
    {
     "name": "stdout",
     "output_type": "stream",
     "text": [
      "'data.frame':\t10 obs. of  3 variables:\n",
      " $ Drug       : Factor w/ 2 levels \"Active.control\",..: 2 2 2 2 2 1 1 1 1 1\n",
      " $ Improvement: Ord.factor w/ 5 levels \"Much.worse\"<\"Worse\"<..: 1 2 3 4 5 1 2 3 4 5\n",
      " $ n          : int  24 37 21 19 6 11 51 22 21 7\n"
     ]
    }
   ],
   "source": [
    "str(rheuma)"
   ]
  },
  {
   "cell_type": "code",
   "execution_count": 52,
   "metadata": {
    "collapsed": true
   },
   "outputs": [],
   "source": [
    "?rheuma"
   ]
  },
  {
   "cell_type": "markdown",
   "metadata": {},
   "source": [
    "A data frame with 10 observations on the following 3 variables.\n",
    "\n",
    "##### Drug\n",
    "a factor with levels Active.control New.agent\n",
    "\n",
    "##### Improvement\n",
    "an ordered factor with levels Much.worse <  Worse < No.change < Improved <  Much.improved\n",
    "\n",
    "##### n\n",
    "number of patients in group"
   ]
  },
  {
   "cell_type": "code",
   "execution_count": 50,
   "metadata": {},
   "outputs": [
    {
     "data": {
      "image/png": "[encoded data removed]",
      "text/plain": [
       "plot without title"
      ]
     },
     "metadata": {},
     "output_type": "display_data"
    }
   ],
   "source": [
    "plot(rheuma)"
   ]
  },
  {
   "cell_type": "code",
   "execution_count": 51,
   "metadata": {},
   "outputs": [
    {
     "data": {
      "text/plain": [
       "             Drug          Improvement       n       \n",
       " Active.control:5   Much.worse   :2    Min.   : 6.0  \n",
       " New.agent     :5   Worse        :2    1st Qu.:13.0  \n",
       "                    No.change    :2    Median :21.0  \n",
       "                    Improved     :2    Mean   :21.9  \n",
       "                    Much.improved:2    3rd Qu.:23.5  \n",
       "                                       Max.   :51.0  "
      ]
     },
     "metadata": {},
     "output_type": "display_data"
    }
   ],
   "source": [
    "summary(rheuma)"
   ]
  },
  {
   "cell_type": "markdown",
   "metadata": {},
   "source": [
    "#### Factor NA 처리"
   ]
  },
  {
   "cell_type": "code",
   "execution_count": 55,
   "metadata": {},
   "outputs": [
    {
     "name": "stdout",
     "output_type": "stream",
     "text": [
      "[1] KA   AS   <NA> EU   NA   SA  \n",
      "Levels: AS EU KA NA SA\n"
     ]
    }
   ],
   "source": [
    "fX <- factor(c(\"KA\", \"AS\", NA, \"EU\", \"NA\", \"SA\"))\n",
    "print(fX)"
   ]
  },
  {
   "cell_type": "markdown",
   "metadata": {},
   "source": [
    "### 구급 사고 발생 데이터에서 \"가정\" Level 에서 발생한 데이터만 추출"
   ]
  },
  {
   "cell_type": "code",
   "execution_count": 58,
   "metadata": {
    "collapsed": true
   },
   "outputs": [],
   "source": [
    "emergency_14 <- read.csv(\"datas/d_icheon_emergency_14_2.csv\", header = TRUE)"
   ]
  },
  {
   "cell_type": "code",
   "execution_count": 59,
   "metadata": {},
   "outputs": [
    {
     "data": {
      "text/plain": [
       "    집계년도              출동안전센터명   신고년월일          신고시각   \n",
       " Min.   :2014   관고119안전센터  :5208   Min.   :20140101   9:48   :  18  \n",
       " 1st Qu.:2014   대월119안전센터  :2260   1st Qu.:20140404   9:39   :  17  \n",
       " Median :2014   장호원119안전센터:1297   Median :20140622   11:26  :  16  \n",
       " Mean   :2014                            Mean   :20140676   18:18  :  15  \n",
       " 3rd Qu.:2014                            3rd Qu.:20141007   11:21  :  14  \n",
       " Max.   :2014                            Max.   :20141226   12:58  :  14  \n",
       "                                                            (Other):8671  \n",
       "     접수경로       현장거리           환자연령      환자성별구분명 외국인여부\n",
       " 휴대전화:6333   Min.   :   0.000   Min.   :  1.00       :2941      N:8707    \n",
       " 일반전화:1903   1st Qu.:   2.000   1st Qu.: 36.00   남  :3476      Y:  58    \n",
       " 기타    : 275   Median :   4.000   Median : 53.00   미상:   3                \n",
       " 인편    : 191   Mean   :   7.132   Mean   : 53.56   여  :2345                \n",
       " 사후각지:  34   3rd Qu.:   9.000   3rd Qu.: 71.00                            \n",
       " 공중전화:  23   Max.   :2222.000   Max.   :999.00                            \n",
       " (Other) :   6   NA's   :4158       NA's   :2952                              \n",
       "      국적명     구급발생장소유형    환자증상유형  구급사고종별상위명\n",
       "         :8715   가정    :3257             :3034           :3023     \n",
       " 중국    :  15           :2009    기타통증 :2191   교통사고: 821     \n",
       " 캄보디아:   6   일반도로:1179    기타     :1052   기타    : 234     \n",
       " 태국    :   5   기타    : 796    복통     : 480   사고부상:1617     \n",
       " 알수없음:   3   주택가  : 391    요통     : 318   질병    :3070     \n",
       " 필리핀  :   3   고속도로: 309    오심/구토: 243                     \n",
       " (Other) :  18   (Other) : 824    (Other)  :1447                     \n",
       " 구급사고종별하위명    환자발생유형             의식상태유형 \n",
       "          :4075              :6327   A(Alert)         :5363  \n",
       " 기타     : 948     낙상     : 689                    :3026  \n",
       " 낙상     : 689     운전자   : 311   U(Coma)          : 108  \n",
       " 운전자   : 311     기타 둔상: 214   Drowsy           : 101  \n",
       " 고혈압   : 244     동승자   : 212   V:언어지시에 반응:  60  \n",
       " 기타 둔상: 214     열상     : 185   Stupor           :  53  \n",
       " (Other)  :2284     (Other)  : 827   (Other)          :  54  \n",
       "        구급반장자격등급        구급대원자격등급\n",
       "                : 779                   :8562   \n",
       " 간호사         :2546    간호사         :  15   \n",
       " 응급구조사(1급):5417    구급교육       :   3   \n",
       " 응급구조사(2급):  23    응급구조사(1급): 129   \n",
       "                         응급구조사(2급):  56   \n",
       "                                                \n",
       "                                                \n",
       "                           구조활동장애원인\n",
       "                                   :8216   \n",
       " 만취자                            : 234   \n",
       " 장거리이송                        : 147   \n",
       " 기타(구급)                        :  20   \n",
       " 만취자,언어폭력                   :  19   \n",
       " 보호자 요구,원거리 병원,장거리이송:  18   \n",
       " (Other)                           : 111   "
      ]
     },
     "metadata": {},
     "output_type": "display_data"
    }
   ],
   "source": [
    "summary(emergency_14)"
   ]
  },
  {
   "cell_type": "code",
   "execution_count": 61,
   "metadata": {
    "collapsed": true
   },
   "outputs": [],
   "source": [
    "family <- subset(emergency_14, 구급발생장소유형 == \"가정\")"
   ]
  },
  {
   "cell_type": "code",
   "execution_count": 62,
   "metadata": {},
   "outputs": [
    {
     "data": {
      "text/plain": [
       "    집계년도              출동안전센터명   신고년월일          신고시각   \n",
       " Min.   :2014   관고119안전센터  :1741   Min.   :20140101   10:13  :   8  \n",
       " 1st Qu.:2014   대월119안전센터  : 924   1st Qu.:20140322   8:40   :   8  \n",
       " Median :2014   장호원119안전센터: 592   Median :20140610   9:09   :   8  \n",
       " Mean   :2014                            Mean   :20140654   10:04  :   7  \n",
       " 3rd Qu.:2014                            3rd Qu.:20141006   10:09  :   7  \n",
       " Max.   :2014                            Max.   :20141226   10:19  :   7  \n",
       "                                                            (Other):3212  \n",
       "     접수경로       현장거리          환자연령      환자성별구분명 외국인여부\n",
       " 휴대전화:2205   Min.   :  0.000   Min.   :  1.00       : 306      N:3244    \n",
       " 일반전화: 890   1st Qu.:  2.000   1st Qu.: 44.00   남  :1528      Y:  13    \n",
       " 기타    :  93   Median :  4.000   Median : 61.00   미상:   0                \n",
       " 인편    :  54   Mean   :  6.072   Mean   : 58.12   여  :1423                \n",
       " 사후각지:  11   3rd Qu.:  9.000   3rd Qu.: 77.00                            \n",
       " 공중전화:   4   Max.   :163.000   Max.   :701.00                            \n",
       " (Other) :   0   NA's   :1470      NA's   :307                               \n",
       "      국적명     구급발생장소유형    환자증상유형 구급사고종별상위명\n",
       "         :3246   가정    :3257    기타통증 :741           : 328     \n",
       " 필리핀  :   3           :   0    기타     :650   교통사고:  16     \n",
       " 중국    :   2   강바다  :   0    복통     :339   기타    : 118     \n",
       " 캄보디아:   2   고속도로:   0             :334   사고부상: 601     \n",
       " 태국    :   2   공공장소:   0    오심/구토:172   질병    :2194     \n",
       " 배트남  :   1   공사장  :   0    요통     :162                     \n",
       " (Other) :   1   (Other) :   0    (Other)  :859                     \n",
       "   구급사고종별하위명         환자발생유형             의식상태유형 \n",
       "            :1036                   :2640   A(Alert)         :2703  \n",
       " 기타       : 646     낙상          : 292                    : 332  \n",
       " 낙상       : 292     기타(사고부상):  76   U(Coma)          :  64  \n",
       " 고혈압     : 175     열상          :  74   Drowsy           :  60  \n",
       " 고혈압,당뇨: 148     기타 둔상     :  65   V:언어지시에 반응:  35  \n",
       " 당뇨       : 101     중독          :  45   Stupor           :  33  \n",
       " (Other)    : 859     (Other)       :  65   (Other)          :  30  \n",
       "        구급반장자격등급        구급대원자격등급\n",
       "                : 181                   :3184   \n",
       " 간호사         : 985    간호사         :   7   \n",
       " 응급구조사(1급):2082    구급교육       :   1   \n",
       " 응급구조사(2급):   9    응급구조사(1급):  43   \n",
       "                         응급구조사(2급):  22   \n",
       "                                                \n",
       "                                                \n",
       "                           구조활동장애원인\n",
       "                                   :3039   \n",
       " 장거리이송                        :  83   \n",
       " 만취자                            :  54   \n",
       " 보호자 요구,원거리 병원,장거리이송:  13   \n",
       " 기타(구급)                        :  12   \n",
       " 환자위치 불명확                   :   8   \n",
       " (Other)                           :  48   "
      ]
     },
     "metadata": {},
     "output_type": "display_data"
    }
   ],
   "source": [
    "summary(family)"
   ]
  },
  {
   "cell_type": "code",
   "execution_count": 63,
   "metadata": {},
   "outputs": [
    {
     "data": {
      "text/html": [
       "<ol class=list-inline>\n",
       "\t<li>3257</li>\n",
       "\t<li>19</li>\n",
       "</ol>\n"
      ],
      "text/latex": [
       "\\begin{enumerate*}\n",
       "\\item 3257\n",
       "\\item 19\n",
       "\\end{enumerate*}\n"
      ],
      "text/markdown": [
       "1. 3257\n",
       "2. 19\n",
       "\n",
       "\n"
      ],
      "text/plain": [
       "[1] 3257   19"
      ]
     },
     "metadata": {},
     "output_type": "display_data"
    }
   ],
   "source": [
    "dim(family)"
   ]
  },
  {
   "cell_type": "code",
   "execution_count": 64,
   "metadata": {
    "collapsed": true
   },
   "outputs": [],
   "source": [
    "notFamily <- subset(emergency_14, 구급발생장소유형 != \"가정\")"
   ]
  },
  {
   "cell_type": "code",
   "execution_count": 72,
   "metadata": {
    "collapsed": true
   },
   "outputs": [],
   "source": [
    "notFamily$구급발생장소유형 <- factor(notFamily$구급발생장소유형)\n",
    "family$구급발생장소유형 <- factor(family$구급발생장소유형)"
   ]
  },
  {
   "cell_type": "code",
   "execution_count": 73,
   "metadata": {},
   "outputs": [
    {
     "data": {
      "text/plain": [
       "    집계년도              출동안전센터명   신고년월일          신고시각   \n",
       " Min.   :2014   관고119안전센터  :3467   Min.   :20140101   11:26  :  14  \n",
       " 1st Qu.:2014   대월119안전센터  :1336   1st Qu.:20140411   13:02  :  13  \n",
       " Median :2014   장호원119안전센터: 705   Median :20140627   20:15  :  13  \n",
       " Mean   :2014                            Mean   :20140688   9:48   :  13  \n",
       " 3rd Qu.:2014                            3rd Qu.:20141007   18:18  :  12  \n",
       " Max.   :2014                            Max.   :20141226   7:39   :  12  \n",
       "                                                            (Other):5431  \n",
       "     접수경로       현장거리           환자연령      환자성별구분명 외국인여부\n",
       " 휴대전화:4128   Min.   :   0.000   Min.   :  1.00       :2635      N:5463    \n",
       " 일반전화:1013   1st Qu.:   2.000   1st Qu.: 32.00   남  :1948      Y:  45    \n",
       " 기타    : 182   Median :   4.000   Median : 48.00   미상:   3                \n",
       " 인편    : 137   Mean   :   7.804   Mean   : 48.87   여  : 922                \n",
       " 사후각지:  23   3rd Qu.:   9.500   3rd Qu.: 60.00                            \n",
       " 공중전화:  19   Max.   :2222.000   Max.   :999.00                            \n",
       " (Other) :   6   NA's   :2688       NA's   :2645                              \n",
       "      국적명     구급발생장소유형      환자증상유형  구급사고종별상위명\n",
       "         :5469           :2009               :2700           :2695     \n",
       " 중국    :  13   일반도로:1179    기타통증   :1450   교통사고: 805     \n",
       " 캄보디아:   4   기타    : 796    기타       : 402   기타    : 116     \n",
       " 알수없음:   3   주택가  : 391    요통       : 156   사고부상:1016     \n",
       " 태국    :   3   고속도로: 309    복통       : 141   질병    : 876     \n",
       " 몽골    :   2   공공장소: 264    그 밖의출혈: 110                     \n",
       " (Other) :  14   (Other) : 560    (Other)    : 549                     \n",
       " 구급사고종별하위명       환자발생유형             의식상태유형 \n",
       "          :3039                 :3687                    :2694  \n",
       " 낙상     : 397     낙상        : 397   A(Alert)         :2660  \n",
       " 운전자   : 303     운전자      : 303   U(Coma)          :  44  \n",
       " 기타     : 302     동승자      : 210   Drowsy           :  41  \n",
       " 동승자   : 210     기타 둔상   : 149   V:언어지시에 반응:  25  \n",
       " 기타 둔상: 149     오토바이사고: 124   Stupor           :  20  \n",
       " (Other)  :1108     (Other)     : 638   (Other)          :  24  \n",
       "        구급반장자격등급        구급대원자격등급        구조활동장애원인\n",
       "                : 598                   :5378                   :5177   \n",
       " 간호사         :1561    간호사         :   8    만취자         : 180   \n",
       " 응급구조사(1급):3335    구급교육       :   2    장거리이송     :  64   \n",
       " 응급구조사(2급):  14    응급구조사(1급):  86    만취자,언어폭력:  14   \n",
       "                         응급구조사(2급):  34    차량정체(지체) :  11   \n",
       "                                                 기타(구급)     :   8   \n",
       "                                                 (Other)        :  54   "
      ]
     },
     "metadata": {},
     "output_type": "display_data"
    }
   ],
   "source": [
    "summary(notFamily)"
   ]
  },
  {
   "cell_type": "code",
   "execution_count": 74,
   "metadata": {},
   "outputs": [
    {
     "data": {
      "text/html": [
       "'가정'"
      ],
      "text/latex": [
       "'가정'"
      ],
      "text/markdown": [
       "'가정'"
      ],
      "text/plain": [
       "[1] \"가정\""
      ]
     },
     "metadata": {},
     "output_type": "display_data"
    }
   ],
   "source": [
    "levels(family$구급발생장소유형)"
   ]
  },
  {
   "cell_type": "code",
   "execution_count": 75,
   "metadata": {
    "collapsed": true
   },
   "outputs": [],
   "source": [
    "가정만 <- family"
   ]
  },
  {
   "cell_type": "code",
   "execution_count": 76,
   "metadata": {},
   "outputs": [
    {
     "data": {
      "text/html": [
       "<table>\n",
       "<thead><tr><th></th><th scope=col>집계년도</th><th scope=col>출동안전센터명</th><th scope=col>신고년월일</th><th scope=col>신고시각</th><th scope=col>접수경로</th><th scope=col>현장거리</th><th scope=col>환자연령</th><th scope=col>환자성별구분명</th><th scope=col>외국인여부</th><th scope=col>국적명</th><th scope=col>구급발생장소유형</th><th scope=col>환자증상유형</th><th scope=col>구급사고종별상위명</th><th scope=col>구급사고종별하위명</th><th scope=col>환자발생유형</th><th scope=col>의식상태유형</th><th scope=col>구급반장자격등급</th><th scope=col>구급대원자격등급</th><th scope=col>구조활동장애원인</th></tr></thead>\n",
       "<tbody>\n",
       "\t<tr><th scope=row>1</th><td>2014                  </td><td>관고119안전센터       </td><td>20140102              </td><td>2:18                  </td><td>일반전화              </td><td>14.0                  </td><td>81                    </td><td>여                    </td><td>N                     </td><td>                      </td><td>가정                  </td><td>비출혈                </td><td>질병                  </td><td>고혈압,당뇨           </td><td>                      </td><td>A(Alert)              </td><td>간호사                </td><td>                      </td><td>                      </td></tr>\n",
       "\t<tr><th scope=row>2</th><td>2014                  </td><td>대월119안전센터       </td><td>20140117              </td><td>16:31                 </td><td>휴대전화              </td><td> 3.0                  </td><td>78                    </td><td>여                    </td><td>N                     </td><td>                      </td><td>가정                  </td><td>고열                  </td><td>질병                  </td><td>기타                  </td><td>                      </td><td>Drowsy                </td><td>응급구조사(2급)       </td><td>                      </td><td>                      </td></tr>\n",
       "\t<tr><th scope=row>3</th><td>2014                  </td><td>대월119안전센터       </td><td>20140117              </td><td>18:37                 </td><td>기타                  </td><td>14.0                  </td><td>64                    </td><td>남                    </td><td>N                     </td><td>                      </td><td>가정                  </td><td>기타통증              </td><td>사고부상              </td><td>낙상                  </td><td>낙상                  </td><td>A(Alert)              </td><td>응급구조사(1급)       </td><td>                      </td><td>                      </td></tr>\n",
       "\t<tr><th scope=row>4</th><td>2014                  </td><td>대월119안전센터       </td><td>20140118              </td><td>10:14                 </td><td>휴대전화              </td><td> 8.0                  </td><td> 3                    </td><td>여                    </td><td>N                     </td><td>                      </td><td>가정                  </td><td>고열                  </td><td>질병                  </td><td>기타                  </td><td>                      </td><td>A(Alert)              </td><td>응급구조사(1급)       </td><td>                      </td><td>                      </td></tr>\n",
       "\t<tr><th scope=row>5</th><td>2014                  </td><td>대월119안전센터       </td><td>20140118              </td><td>12:28                 </td><td>휴대전화              </td><td> 7.0                  </td><td>88                    </td><td>여                    </td><td>N                     </td><td>                      </td><td>가정                  </td><td>전신쇠약              </td><td>질병                  </td><td>뇌혈관질환,고혈압,당뇨</td><td>                      </td><td>A(Alert)              </td><td>응급구조사(1급)       </td><td>                      </td><td>                      </td></tr>\n",
       "\t<tr><th scope=row>7</th><td>2014                  </td><td>대월119안전센터       </td><td>20140118              </td><td>17:15                 </td><td>휴대전화              </td><td> 6.5                  </td><td>48                    </td><td>여                    </td><td>N                     </td><td>                      </td><td>가정                  </td><td>기타통증              </td><td>사고부상              </td><td>기타 둔상             </td><td>기타 둔상             </td><td>A(Alert)              </td><td>응급구조사(1급)       </td><td>                      </td><td>                      </td></tr>\n",
       "\t<tr><th scope=row>8</th><td>2014                  </td><td>대월119안전센터       </td><td>20140118              </td><td>22:26                 </td><td>휴대전화              </td><td> 4.0                  </td><td>15                    </td><td>여                    </td><td>N                     </td><td>                      </td><td>가정                  </td><td>복통                  </td><td>질병                  </td><td>기타                  </td><td>                      </td><td>A(Alert)              </td><td>응급구조사(1급)       </td><td>                      </td><td>                      </td></tr>\n",
       "\t<tr><th scope=row>9</th><td>2014                  </td><td>대월119안전센터       </td><td>20140118              </td><td>22:49                 </td><td>휴대전화              </td><td>11.0                  </td><td>57                    </td><td>남                    </td><td>N                     </td><td>                      </td><td>가정                  </td><td>기타통증              </td><td>질병                  </td><td>기타                  </td><td>                      </td><td>A(Alert)              </td><td>응급구조사(1급)       </td><td>                      </td><td>                      </td></tr>\n",
       "\t<tr><th scope=row>10</th><td>2014                  </td><td>장호원119안전센터     </td><td>20140110              </td><td>10:42                 </td><td>휴대전화              </td><td>14.0                  </td><td>35                    </td><td>여                    </td><td>N                     </td><td>                      </td><td>가정                  </td><td>기타통증              </td><td>질병                  </td><td>기타                  </td><td>                      </td><td>A(Alert)              </td><td>간호사                </td><td>                      </td><td>                      </td></tr>\n",
       "\t<tr><th scope=row>11</th><td>2014                  </td><td>장호원119안전센터     </td><td>20140111              </td><td>6:58                  </td><td>휴대전화              </td><td> 1.0                  </td><td>22                    </td><td>남                    </td><td>N                     </td><td>                      </td><td>가정                  </td><td>기타통증              </td><td>질병                  </td><td>기타                  </td><td>                      </td><td>A(Alert)              </td><td>간호사                </td><td>응급구조사(2급)       </td><td>                      </td></tr>\n",
       "\t<tr><th scope=row>12</th><td>2014                  </td><td>장호원119안전센터     </td><td>20140112              </td><td>4:30                  </td><td>휴대전화              </td><td> 2.0                  </td><td>53                    </td><td>여                    </td><td>N                     </td><td>                      </td><td>가정                  </td><td>기타통증              </td><td>질병                  </td><td>                      </td><td>                      </td><td>A(Alert)              </td><td>응급구조사(1급)       </td><td>                      </td><td>                      </td></tr>\n",
       "\t<tr><th scope=row>17</th><td>2014                  </td><td>장호원119안전센터     </td><td>20140114              </td><td>11:55                 </td><td>일반전화              </td><td> 2.0                  </td><td>83                    </td><td>여                    </td><td>N                     </td><td>                      </td><td>가정                  </td><td>기타통증              </td><td>질병                  </td><td>                      </td><td>                      </td><td>A(Alert)              </td><td>응급구조사(1급)       </td><td>                      </td><td>                      </td></tr>\n",
       "\t<tr><th scope=row>20</th><td>2014                  </td><td>장호원119안전센터     </td><td>20140116              </td><td>2:06                  </td><td>인편                  </td><td> 6.0                  </td><td>74                    </td><td>여                    </td><td>N                     </td><td>                      </td><td>가정                  </td><td>기타                  </td><td>질병                  </td><td>기타                  </td><td>                      </td><td>A(Alert)              </td><td>간호사                </td><td>                      </td><td>                      </td></tr>\n",
       "\t<tr><th scope=row>21</th><td>2014                  </td><td>장호원119안전센터     </td><td>20140116              </td><td>12:41                 </td><td>휴대전화              </td><td> 1.5                  </td><td>72                    </td><td>여                    </td><td>N                     </td><td>                      </td><td>가정                  </td><td>복통                  </td><td>질병                  </td><td>                      </td><td>                      </td><td>A(Alert)              </td><td>응급구조사(1급)       </td><td>                      </td><td>                      </td></tr>\n",
       "\t<tr><th scope=row>22</th><td>2014                  </td><td>장호원119안전센터     </td><td>20140116              </td><td>13:12                 </td><td>휴대전화              </td><td> 2.0                  </td><td>74                    </td><td>여                    </td><td>N                     </td><td>                      </td><td>가정                  </td><td>요통                  </td><td>사고부상              </td><td>낙상                  </td><td>낙상                  </td><td>A(Alert)              </td><td>응급구조사(1급)       </td><td>                      </td><td>                      </td></tr>\n",
       "\t<tr><th scope=row>23</th><td>2014                  </td><td>장호원119안전센터     </td><td>20140116              </td><td>19:28                 </td><td>일반전화              </td><td>13.0                  </td><td>79                    </td><td>여                    </td><td>N                     </td><td>                      </td><td>가정                  </td><td>기타통증              </td><td>질병                  </td><td>고혈압                </td><td>                      </td><td>A(Alert)              </td><td>간호사                </td><td>응급구조사(2급)       </td><td>                      </td></tr>\n",
       "\t<tr><th scope=row>24</th><td>2014                  </td><td>장호원119안전센터     </td><td>20140117              </td><td>11:13                 </td><td>휴대전화              </td><td> 3.0                  </td><td>64                    </td><td>여                    </td><td>N                     </td><td>                      </td><td>가정                  </td><td>전신쇠약              </td><td>질병                  </td><td>                      </td><td>                      </td><td>A(Alert)              </td><td>응급구조사(1급)       </td><td>                      </td><td>                      </td></tr>\n",
       "\t<tr><th scope=row>25</th><td>2014                  </td><td>장호원119안전센터     </td><td>20140118              </td><td>12:29                 </td><td>휴대전화              </td><td> 2.0                  </td><td>64                    </td><td>여                    </td><td>N                     </td><td>                      </td><td>가정                  </td><td>기타통증              </td><td>질병                  </td><td>고혈압,기타           </td><td>                      </td><td>A(Alert)              </td><td>간호사                </td><td>응급구조사(2급)       </td><td>                      </td></tr>\n",
       "\t<tr><th scope=row>28</th><td>2014                  </td><td>장호원119안전센터     </td><td>20140118              </td><td>18:30                 </td><td>휴대전화              </td><td> 3.0                  </td><td>49                    </td><td>여                    </td><td>N                     </td><td>                      </td><td>가정                  </td><td>기타통증              </td><td>질병                  </td><td>기타                  </td><td>                      </td><td>A(Alert)              </td><td>간호사                </td><td>응급구조사(2급)       </td><td>                      </td></tr>\n",
       "\t<tr><th scope=row>29</th><td>2014                  </td><td>장호원119안전센터     </td><td>20140118              </td><td>10:19                 </td><td>인편                  </td><td> 6.0                  </td><td>82                    </td><td>여                    </td><td>N                     </td><td>                      </td><td>가정                  </td><td>기타통증              </td><td>질병                  </td><td>뇌혈관질환,고혈압,당뇨</td><td>                      </td><td>A(Alert)              </td><td>간호사                </td><td>                      </td><td>                      </td></tr>\n",
       "\t<tr><th scope=row>33</th><td>2014                  </td><td>대월119안전센터       </td><td>20140117              </td><td>9:02                  </td><td>일반전화              </td><td> 3.0                  </td><td>82                    </td><td>여                    </td><td>N                     </td><td>                      </td><td>가정                  </td><td>심정지                </td><td>질병                  </td><td>기타                  </td><td>                      </td><td>U(Coma)               </td><td>응급구조사(1급)       </td><td>                      </td><td>기타(구급)            </td></tr>\n",
       "\t<tr><th scope=row>35</th><td>2014                  </td><td>대월119안전센터       </td><td>20140109              </td><td>9:30                  </td><td>일반전화              </td><td> 3.0                  </td><td>45                    </td><td>여                    </td><td>N                     </td><td>                      </td><td>가정                  </td><td>기타통증              </td><td>사고부상              </td><td>낙상                  </td><td>낙상                  </td><td>A(Alert)              </td><td>응급구조사(1급)       </td><td>                      </td><td>                      </td></tr>\n",
       "\t<tr><th scope=row>39</th><td>2014                  </td><td>장호원119안전센터     </td><td>20140101              </td><td>5:03                  </td><td>휴대전화              </td><td> 1.2                  </td><td>32                    </td><td>여                    </td><td>N                     </td><td>                      </td><td>가정                  </td><td>기타통증              </td><td>사고부상              </td><td>낙상                  </td><td>낙상                  </td><td>A(Alert)              </td><td>간호사                </td><td>                      </td><td>                      </td></tr>\n",
       "\t<tr><th scope=row>41</th><td>2014                  </td><td>장호원119안전센터     </td><td>20140101              </td><td>21:31                 </td><td>일반전화              </td><td> 3.0                  </td><td>69                    </td><td>여                    </td><td>N                     </td><td>                      </td><td>가정                  </td><td>기타                  </td><td>질병                  </td><td>고혈압,당뇨           </td><td>                      </td><td>A(Alert)              </td><td>응급구조사(1급)       </td><td>                      </td><td>                      </td></tr>\n",
       "\t<tr><th scope=row>43</th><td>2014                  </td><td>장호원119안전센터     </td><td>20140102              </td><td>7:50                  </td><td>휴대전화              </td><td>10.0                  </td><td>61                    </td><td>남                    </td><td>N                     </td><td>                      </td><td>가정                  </td><td>의식장애              </td><td>질병                  </td><td>                      </td><td>                      </td><td>Drowsy                </td><td>응급구조사(1급)       </td><td>                      </td><td>                      </td></tr>\n",
       "\t<tr><th scope=row>44</th><td>2014                  </td><td>장호원119안전센터     </td><td>20140102              </td><td>19:30                 </td><td>인편                  </td><td> 1.5                  </td><td>81                    </td><td>여                    </td><td>N                     </td><td>                      </td><td>가정                  </td><td>기타                  </td><td>질병                  </td><td>고혈압                </td><td>                      </td><td>A(Alert)              </td><td>간호사                </td><td>                      </td><td>                      </td></tr>\n",
       "\t<tr><th scope=row>45</th><td>2014                  </td><td>장호원119안전센터     </td><td>20140102              </td><td>21:42                 </td><td>휴대전화              </td><td>15.0                  </td><td>66                    </td><td>남                    </td><td>N                     </td><td>                      </td><td>가정                  </td><td>기타통증              </td><td>사고부상              </td><td>낙상                  </td><td>낙상                  </td><td>A(Alert)              </td><td>간호사                </td><td>                      </td><td>                      </td></tr>\n",
       "\t<tr><th scope=row>51</th><td>2014                  </td><td>장호원119안전센터     </td><td>20140105              </td><td>7:26                  </td><td>일반전화              </td><td> 7.0                  </td><td>73                    </td><td>남                    </td><td>N                     </td><td>                      </td><td>가정                  </td><td>기타                  </td><td>질병                  </td><td>기타                  </td><td>                      </td><td>A(Alert)              </td><td>간호사                </td><td>                      </td><td>                      </td></tr>\n",
       "\t<tr><th scope=row>53</th><td>2014                  </td><td>장호원119안전센터     </td><td>20140105              </td><td>12:41                 </td><td>휴대전화              </td><td> 1.2                  </td><td>65                    </td><td>남                    </td><td>N                     </td><td>                      </td><td>가정                  </td><td>기타통증              </td><td>질병                  </td><td>기타                  </td><td>                      </td><td>Drowsy                </td><td>응급구조사(1급)       </td><td>                      </td><td>                      </td></tr>\n",
       "\t<tr><th scope=row>55</th><td>2014                  </td><td>장호원119안전센터     </td><td>20140107              </td><td>12:27                 </td><td>인편                  </td><td>13.0                  </td><td>80                    </td><td>여                    </td><td>N                     </td><td>                      </td><td>가정                  </td><td>기타                  </td><td>질병                  </td><td>기타                  </td><td>                      </td><td>A(Alert)              </td><td>간호사                </td><td>                      </td><td>                      </td></tr>\n",
       "\t<tr><th scope=row>⋮</th><td>⋮</td><td>⋮</td><td>⋮</td><td>⋮</td><td>⋮</td><td>⋮</td><td>⋮</td><td>⋮</td><td>⋮</td><td>⋮</td><td>⋮</td><td>⋮</td><td>⋮</td><td>⋮</td><td>⋮</td><td>⋮</td><td>⋮</td><td>⋮</td><td>⋮</td></tr>\n",
       "\t<tr><th scope=row>8644</th><td>2014             </td><td>관고119안전센터  </td><td>20140619         </td><td>11:39            </td><td>휴대전화         </td><td> 2.0             </td><td>71               </td><td>남               </td><td>N                </td><td>                 </td><td>가정             </td><td>요통             </td><td>사고부상         </td><td>낙상             </td><td>낙상             </td><td>A(Alert)         </td><td>간호사           </td><td>                 </td><td>                 </td></tr>\n",
       "\t<tr><th scope=row>8647</th><td>2014             </td><td>장호원119안전센터</td><td>20140623         </td><td>5:18             </td><td>휴대전화         </td><td>15.0             </td><td>54               </td><td>남               </td><td>N                </td><td>                 </td><td>가정             </td><td>기타             </td><td>질병             </td><td>고혈압,당뇨      </td><td>                 </td><td>A(Alert)         </td><td>응급구조사(1급)  </td><td>                 </td><td>                 </td></tr>\n",
       "\t<tr><th scope=row>8648</th><td>2014             </td><td>대월119안전센터  </td><td>20140626         </td><td>23:22            </td><td>휴대전화         </td><td> 4.0             </td><td>47               </td><td>남               </td><td>N                </td><td>                 </td><td>가정             </td><td>토혈             </td><td>질병             </td><td>고혈압           </td><td>                 </td><td>A(Alert)         </td><td>                 </td><td>                 </td><td>                 </td></tr>\n",
       "\t<tr><th scope=row>8660</th><td>2014             </td><td>대월119안전센터  </td><td>20140618         </td><td>9:56             </td><td>휴대전화         </td><td> 2.0             </td><td> 1               </td><td>남               </td><td>N                </td><td>                 </td><td>가정             </td><td>고열             </td><td>질병             </td><td>기타             </td><td>                 </td><td>Drowsy           </td><td>응급구조사(1급)  </td><td>                 </td><td>                 </td></tr>\n",
       "\t<tr><th scope=row>8661</th><td>2014             </td><td>대월119안전센터  </td><td>20140619         </td><td>8:39             </td><td>일반전화         </td><td> 3.5             </td><td>51               </td><td>남               </td><td>N                </td><td>                 </td><td>가정             </td><td>기타통증         </td><td>사고부상         </td><td>낙상             </td><td>낙상             </td><td>A(Alert)         </td><td>응급구조사(1급)  </td><td>                 </td><td>                 </td></tr>\n",
       "\t<tr><th scope=row>8662</th><td>2014             </td><td>대월119안전센터  </td><td>20140619         </td><td>10:03            </td><td>기타             </td><td>10.0             </td><td>78               </td><td>여               </td><td>N                </td><td>                 </td><td>가정             </td><td>기타통증         </td><td>질병             </td><td>고혈압,기타      </td><td>                 </td><td>A(Alert)         </td><td>응급구조사(1급)  </td><td>                 </td><td>장거리이송       </td></tr>\n",
       "\t<tr><th scope=row>8680</th><td>2014             </td><td>관고119안전센터  </td><td>20140614         </td><td>0:18             </td><td>휴대전화         </td><td> 1.5             </td><td>71               </td><td>남               </td><td>N                </td><td>                 </td><td>가정             </td><td>그 밖의출혈      </td><td>사고부상         </td><td>낙상             </td><td>낙상             </td><td>A(Alert)         </td><td>응급구조사(1급)  </td><td>                 </td><td>                 </td></tr>\n",
       "\t<tr><th scope=row>8689</th><td>2014             </td><td>관고119안전센터  </td><td>20140613         </td><td>12:44            </td><td>휴대전화         </td><td> 3.0             </td><td> 5               </td><td>남               </td><td>N                </td><td>                 </td><td>가정             </td><td>기타이물질       </td><td>기타             </td><td>기타(질병외)     </td><td>                 </td><td>A(Alert)         </td><td>응급구조사(1급)  </td><td>                 </td><td>                 </td></tr>\n",
       "\t<tr><th scope=row>8698</th><td>2014             </td><td>관고119안전센터  </td><td>20140619         </td><td>11:30            </td><td>휴대전화         </td><td>10.0             </td><td>NA               </td><td>                 </td><td>N                </td><td>                 </td><td>가정             </td><td>                 </td><td>사고부상         </td><td>낙상             </td><td>낙상             </td><td>                 </td><td>응급구조사(1급)  </td><td>                 </td><td>                 </td></tr>\n",
       "\t<tr><th scope=row>8699</th><td>2014             </td><td>장호원119안전센터</td><td>20140619         </td><td>13:09            </td><td>기타             </td><td> 3.0             </td><td>NA               </td><td>                 </td><td>N                </td><td>                 </td><td>가정             </td><td>                 </td><td>                 </td><td>                 </td><td>                 </td><td>                 </td><td>응급구조사(1급)  </td><td>                 </td><td>                 </td></tr>\n",
       "\t<tr><th scope=row>8701</th><td>2014             </td><td>대월119안전센터  </td><td>20140621         </td><td>2:06             </td><td>휴대전화         </td><td> 0.7             </td><td>40               </td><td>남               </td><td>N                </td><td>                 </td><td>가정             </td><td>흉통             </td><td>질병             </td><td>                 </td><td>                 </td><td>A(Alert)         </td><td>                 </td><td>                 </td><td>                 </td></tr>\n",
       "\t<tr><th scope=row>8704</th><td>2014             </td><td>대월119안전센터  </td><td>20140620         </td><td>18:00            </td><td>휴대전화         </td><td> 4.0             </td><td>92               </td><td>여               </td><td>N                </td><td>                 </td><td>가정             </td><td>기타통증         </td><td>사고부상         </td><td>낙상             </td><td>낙상             </td><td>A(Alert)         </td><td>                 </td><td>                 </td><td>                 </td></tr>\n",
       "\t<tr><th scope=row>8705</th><td>2014             </td><td>대월119안전센터  </td><td>20140620         </td><td>6:20             </td><td>일반전화         </td><td>12.0             </td><td>73               </td><td>여               </td><td>N                </td><td>                 </td><td>가정             </td><td>복통             </td><td>질병             </td><td>고혈압           </td><td>                 </td><td>A(Alert)         </td><td>응급구조사(1급)  </td><td>                 </td><td>                 </td></tr>\n",
       "\t<tr><th scope=row>8706</th><td>2014             </td><td>대월119안전센터  </td><td>20140619         </td><td>21:39            </td><td>휴대전화         </td><td> 9.0             </td><td>61               </td><td>여               </td><td>N                </td><td>                 </td><td>가정             </td><td>기타통증         </td><td>사고부상         </td><td>낙상             </td><td>낙상             </td><td>A(Alert)         </td><td>응급구조사(1급)  </td><td>                 </td><td>                 </td></tr>\n",
       "\t<tr><th scope=row>8710</th><td>2014             </td><td>대월119안전센터  </td><td>20140619         </td><td>17:44            </td><td>휴대전화         </td><td> 2.5             </td><td>47               </td><td>여               </td><td>N                </td><td>                 </td><td>가정             </td><td>복통             </td><td>질병             </td><td>기타             </td><td>                 </td><td>A(Alert)         </td><td>응급구조사(1급)  </td><td>                 </td><td>                 </td></tr>\n",
       "\t<tr><th scope=row>8712</th><td>2014             </td><td>대월119안전센터  </td><td>20140625         </td><td>9:20             </td><td>기타             </td><td> 4.0             </td><td>NA               </td><td>                 </td><td>N                </td><td>                 </td><td>가정             </td><td>                 </td><td>                 </td><td>                 </td><td>                 </td><td>                 </td><td>응급구조사(1급)  </td><td>                 </td><td>                 </td></tr>\n",
       "\t<tr><th scope=row>8720</th><td>2014             </td><td>관고119안전센터  </td><td>20140616         </td><td>11:02            </td><td>일반전화         </td><td> 0.5             </td><td>64               </td><td>여               </td><td>N                </td><td>                 </td><td>가정             </td><td>요통             </td><td>질병             </td><td>기타             </td><td>                 </td><td>A(Alert)         </td><td>간호사           </td><td>                 </td><td>                 </td></tr>\n",
       "\t<tr><th scope=row>8726</th><td>2014             </td><td>관고119안전센터  </td><td>20140616         </td><td>8:38             </td><td>휴대전화         </td><td> 9.0             </td><td>80               </td><td>남               </td><td>N                </td><td>                 </td><td>가정             </td><td>기타통증         </td><td>사고부상         </td><td>낙상             </td><td>낙상             </td><td>A(Alert)         </td><td>간호사           </td><td>                 </td><td>                 </td></tr>\n",
       "\t<tr><th scope=row>8735</th><td>2014             </td><td>장호원119안전센터</td><td>20141224         </td><td>20:42            </td><td>일반전화         </td><td>  NA             </td><td>79               </td><td>여               </td><td>N                </td><td>                 </td><td>가정             </td><td>기타통증         </td><td>사고부상         </td><td>낙상             </td><td>낙상             </td><td>A(Alert)         </td><td>응급구조사(1급)  </td><td>                 </td><td>                 </td></tr>\n",
       "\t<tr><th scope=row>8737</th><td>2014             </td><td>장호원119안전센터</td><td>20141225         </td><td>21:20            </td><td>휴대전화         </td><td>  NA             </td><td>52               </td><td>남               </td><td>N                </td><td>                 </td><td>가정             </td><td>복통             </td><td>질병             </td><td>간경화           </td><td>                 </td><td>A(Alert)         </td><td>간호사           </td><td>                 </td><td>                 </td></tr>\n",
       "\t<tr><th scope=row>8740</th><td>2014             </td><td>장호원119안전센터</td><td>20141226         </td><td>14:29            </td><td>휴대전화         </td><td>  NA             </td><td>50               </td><td>남               </td><td>N                </td><td>                 </td><td>가정             </td><td>기타통증         </td><td>질병             </td><td>기타             </td><td>                 </td><td>A(Alert)         </td><td>간호사           </td><td>                 </td><td>                 </td></tr>\n",
       "\t<tr><th scope=row>8741</th><td>2014             </td><td>장호원119안전센터</td><td>20141226         </td><td>15:16            </td><td>휴대전화         </td><td>  NA             </td><td>NA               </td><td>                 </td><td>N                </td><td>                 </td><td>가정             </td><td>                 </td><td>                 </td><td>                 </td><td>                 </td><td>                 </td><td>간호사           </td><td>                 </td><td>                 </td></tr>\n",
       "\t<tr><th scope=row>8747</th><td>2014             </td><td>관고119안전센터  </td><td>20141224         </td><td>8:31             </td><td>휴대전화         </td><td>  NA             </td><td>74               </td><td>여               </td><td>N                </td><td>                 </td><td>가정             </td><td>기타             </td><td>질병             </td><td>고혈압,당뇨,기타 </td><td>                 </td><td>A(Alert)         </td><td>응급구조사(1급)  </td><td>                 </td><td>                 </td></tr>\n",
       "\t<tr><th scope=row>8749</th><td>2014             </td><td>관고119안전센터  </td><td>20141223         </td><td>11:02            </td><td>휴대전화         </td><td>  NA             </td><td> 5               </td><td>남               </td><td>N                </td><td>                 </td><td>가정             </td><td>경련             </td><td>질병             </td><td>                 </td><td>                 </td><td>A(Alert)         </td><td>응급구조사(1급)  </td><td>                 </td><td>                 </td></tr>\n",
       "\t<tr><th scope=row>8751</th><td>2014             </td><td>관고119안전센터  </td><td>20141223         </td><td>13:30            </td><td>휴대전화         </td><td>  NA             </td><td>66               </td><td>여               </td><td>N                </td><td>                 </td><td>가정             </td><td>기타             </td><td>질병             </td><td>                 </td><td>                 </td><td>A(Alert)         </td><td>응급구조사(1급)  </td><td>                 </td><td>                 </td></tr>\n",
       "\t<tr><th scope=row>8753</th><td>2014             </td><td>관고119안전센터  </td><td>20141221         </td><td>15:46            </td><td>휴대전화         </td><td>  NA             </td><td>19               </td><td>여               </td><td>N                </td><td>                 </td><td>가정             </td><td>기타통증         </td><td>기타             </td><td>화상             </td><td>                 </td><td>A(Alert)         </td><td>응급구조사(1급)  </td><td>                 </td><td>                 </td></tr>\n",
       "\t<tr><th scope=row>8755</th><td>2014             </td><td>관고119안전센터  </td><td>20141221         </td><td>18:58            </td><td>일반전화         </td><td>  NA             </td><td>25               </td><td>여               </td><td>N                </td><td>                 </td><td>가정             </td><td>열상             </td><td>사고부상         </td><td>낙상             </td><td>낙상             </td><td>A(Alert)         </td><td>응급구조사(1급)  </td><td>                 </td><td>                 </td></tr>\n",
       "\t<tr><th scope=row>8756</th><td>2014             </td><td>관고119안전센터  </td><td>20141223         </td><td>22:35            </td><td>일반전화         </td><td>  NA             </td><td>73               </td><td>남               </td><td>N                </td><td>                 </td><td>가정             </td><td>흉통             </td><td>질병             </td><td>심장질환         </td><td>                 </td><td>A(Alert)         </td><td>응급구조사(1급)  </td><td>                 </td><td>                 </td></tr>\n",
       "\t<tr><th scope=row>8764</th><td>2014             </td><td>관고119안전센터  </td><td>20141224         </td><td>3:41             </td><td>일반전화         </td><td>  NA             </td><td>58               </td><td>남               </td><td>N                </td><td>                 </td><td>가정             </td><td>비출혈           </td><td>사고부상         </td><td>기타(사고부상)   </td><td>기타(사고부상)   </td><td>A(Alert)         </td><td>간호사           </td><td>                 </td><td>                 </td></tr>\n",
       "\t<tr><th scope=row>8765</th><td>2014             </td><td>관고119안전센터  </td><td>20141224         </td><td>18:52            </td><td>휴대전화         </td><td>  NA             </td><td>29               </td><td>남               </td><td>N                </td><td>                 </td><td>가정             </td><td>복통             </td><td>질병             </td><td>기타             </td><td>                 </td><td>A(Alert)         </td><td>응급구조사(1급)  </td><td>                 </td><td>                 </td></tr>\n",
       "</tbody>\n",
       "</table>\n"
      ],
      "text/latex": [
       "\\begin{tabular}{r|lllllllllllllllllll}\n",
       "  & 집계년도 & 출동안전센터명 & 신고년월일 & 신고시각 & 접수경로 & 현장거리 & 환자연령 & 환자성별구분명 & 외국인여부 & 국적명 & 구급발생장소유형 & 환자증상유형 & 구급사고종별상위명 & 구급사고종별하위명 & 환자발생유형 & 의식상태유형 & 구급반장자격등급 & 구급대원자격등급 & 구조활동장애원인\\\\\n",
       "\\hline\n",
       "\t1 & 2014                   & 관고119안전센터        & 20140102               & 2:18                   & 일반전화               & 14.0                   & 81                     & 여                     & N                      &                        & 가정                   & 비출혈                 & 질병                   & 고혈압,당뇨            &                        & A(Alert)               & 간호사                 &                        &                       \\\\\n",
       "\t2 & 2014                   & 대월119안전센터        & 20140117               & 16:31                  & 휴대전화               &  3.0                   & 78                     & 여                     & N                      &                        & 가정                   & 고열                   & 질병                   & 기타                   &                        & Drowsy                 & 응급구조사(2급)        &                        &                       \\\\\n",
       "\t3 & 2014                   & 대월119안전센터        & 20140117               & 18:37                  & 기타                   & 14.0                   & 64                     & 남                     & N                      &                        & 가정                   & 기타통증               & 사고부상               & 낙상                   & 낙상                   & A(Alert)               & 응급구조사(1급)        &                        &                       \\\\\n",
       "\t4 & 2014                   & 대월119안전센터        & 20140118               & 10:14                  & 휴대전화               &  8.0                   &  3                     & 여                     & N                      &                        & 가정                   & 고열                   & 질병                   & 기타                   &                        & A(Alert)               & 응급구조사(1급)        &                        &                       \\\\\n",
       "\t5 & 2014                   & 대월119안전센터        & 20140118               & 12:28                  & 휴대전화               &  7.0                   & 88                     & 여                     & N                      &                        & 가정                   & 전신쇠약               & 질병                   & 뇌혈관질환,고혈압,당뇨 &                        & A(Alert)               & 응급구조사(1급)        &                        &                       \\\\\n",
       "\t7 & 2014                   & 대월119안전센터        & 20140118               & 17:15                  & 휴대전화               &  6.5                   & 48                     & 여                     & N                      &                        & 가정                   & 기타통증               & 사고부상               & 기타 둔상              & 기타 둔상              & A(Alert)               & 응급구조사(1급)        &                        &                       \\\\\n",
       "\t8 & 2014                   & 대월119안전센터        & 20140118               & 22:26                  & 휴대전화               &  4.0                   & 15                     & 여                     & N                      &                        & 가정                   & 복통                   & 질병                   & 기타                   &                        & A(Alert)               & 응급구조사(1급)        &                        &                       \\\\\n",
       "\t9 & 2014                   & 대월119안전센터        & 20140118               & 22:49                  & 휴대전화               & 11.0                   & 57                     & 남                     & N                      &                        & 가정                   & 기타통증               & 질병                   & 기타                   &                        & A(Alert)               & 응급구조사(1급)        &                        &                       \\\\\n",
       "\t10 & 2014                   & 장호원119안전센터      & 20140110               & 10:42                  & 휴대전화               & 14.0                   & 35                     & 여                     & N                      &                        & 가정                   & 기타통증               & 질병                   & 기타                   &                        & A(Alert)               & 간호사                 &                        &                       \\\\\n",
       "\t11 & 2014                   & 장호원119안전센터      & 20140111               & 6:58                   & 휴대전화               &  1.0                   & 22                     & 남                     & N                      &                        & 가정                   & 기타통증               & 질병                   & 기타                   &                        & A(Alert)               & 간호사                 & 응급구조사(2급)        &                       \\\\\n",
       "\t12 & 2014                   & 장호원119안전센터      & 20140112               & 4:30                   & 휴대전화               &  2.0                   & 53                     & 여                     & N                      &                        & 가정                   & 기타통증               & 질병                   &                        &                        & A(Alert)               & 응급구조사(1급)        &                        &                       \\\\\n",
       "\t17 & 2014                   & 장호원119안전센터      & 20140114               & 11:55                  & 일반전화               &  2.0                   & 83                     & 여                     & N                      &                        & 가정                   & 기타통증               & 질병                   &                        &                        & A(Alert)               & 응급구조사(1급)        &                        &                       \\\\\n",
       "\t20 & 2014                   & 장호원119안전센터      & 20140116               & 2:06                   & 인편                   &  6.0                   & 74                     & 여                     & N                      &                        & 가정                   & 기타                   & 질병                   & 기타                   &                        & A(Alert)               & 간호사                 &                        &                       \\\\\n",
       "\t21 & 2014                   & 장호원119안전센터      & 20140116               & 12:41                  & 휴대전화               &  1.5                   & 72                     & 여                     & N                      &                        & 가정                   & 복통                   & 질병                   &                        &                        & A(Alert)               & 응급구조사(1급)        &                        &                       \\\\\n",
       "\t22 & 2014                   & 장호원119안전센터      & 20140116               & 13:12                  & 휴대전화               &  2.0                   & 74                     & 여                     & N                      &                        & 가정                   & 요통                   & 사고부상               & 낙상                   & 낙상                   & A(Alert)               & 응급구조사(1급)        &                        &                       \\\\\n",
       "\t23 & 2014                   & 장호원119안전센터      & 20140116               & 19:28                  & 일반전화               & 13.0                   & 79                     & 여                     & N                      &                        & 가정                   & 기타통증               & 질병                   & 고혈압                 &                        & A(Alert)               & 간호사                 & 응급구조사(2급)        &                       \\\\\n",
       "\t24 & 2014                   & 장호원119안전센터      & 20140117               & 11:13                  & 휴대전화               &  3.0                   & 64                     & 여                     & N                      &                        & 가정                   & 전신쇠약               & 질병                   &                        &                        & A(Alert)               & 응급구조사(1급)        &                        &                       \\\\\n",
       "\t25 & 2014                   & 장호원119안전센터      & 20140118               & 12:29                  & 휴대전화               &  2.0                   & 64                     & 여                     & N                      &                        & 가정                   & 기타통증               & 질병                   & 고혈압,기타            &                        & A(Alert)               & 간호사                 & 응급구조사(2급)        &                       \\\\\n",
       "\t28 & 2014                   & 장호원119안전센터      & 20140118               & 18:30                  & 휴대전화               &  3.0                   & 49                     & 여                     & N                      &                        & 가정                   & 기타통증               & 질병                   & 기타                   &                        & A(Alert)               & 간호사                 & 응급구조사(2급)        &                       \\\\\n",
       "\t29 & 2014                   & 장호원119안전센터      & 20140118               & 10:19                  & 인편                   &  6.0                   & 82                     & 여                     & N                      &                        & 가정                   & 기타통증               & 질병                   & 뇌혈관질환,고혈압,당뇨 &                        & A(Alert)               & 간호사                 &                        &                       \\\\\n",
       "\t33 & 2014                   & 대월119안전센터        & 20140117               & 9:02                   & 일반전화               &  3.0                   & 82                     & 여                     & N                      &                        & 가정                   & 심정지                 & 질병                   & 기타                   &                        & U(Coma)                & 응급구조사(1급)        &                        & 기타(구급)            \\\\\n",
       "\t35 & 2014                   & 대월119안전센터        & 20140109               & 9:30                   & 일반전화               &  3.0                   & 45                     & 여                     & N                      &                        & 가정                   & 기타통증               & 사고부상               & 낙상                   & 낙상                   & A(Alert)               & 응급구조사(1급)        &                        &                       \\\\\n",
       "\t39 & 2014                   & 장호원119안전센터      & 20140101               & 5:03                   & 휴대전화               &  1.2                   & 32                     & 여                     & N                      &                        & 가정                   & 기타통증               & 사고부상               & 낙상                   & 낙상                   & A(Alert)               & 간호사                 &                        &                       \\\\\n",
       "\t41 & 2014                   & 장호원119안전센터      & 20140101               & 21:31                  & 일반전화               &  3.0                   & 69                     & 여                     & N                      &                        & 가정                   & 기타                   & 질병                   & 고혈압,당뇨            &                        & A(Alert)               & 응급구조사(1급)        &                        &                       \\\\\n",
       "\t43 & 2014                   & 장호원119안전센터      & 20140102               & 7:50                   & 휴대전화               & 10.0                   & 61                     & 남                     & N                      &                        & 가정                   & 의식장애               & 질병                   &                        &                        & Drowsy                 & 응급구조사(1급)        &                        &                       \\\\\n",
       "\t44 & 2014                   & 장호원119안전센터      & 20140102               & 19:30                  & 인편                   &  1.5                   & 81                     & 여                     & N                      &                        & 가정                   & 기타                   & 질병                   & 고혈압                 &                        & A(Alert)               & 간호사                 &                        &                       \\\\\n",
       "\t45 & 2014                   & 장호원119안전센터      & 20140102               & 21:42                  & 휴대전화               & 15.0                   & 66                     & 남                     & N                      &                        & 가정                   & 기타통증               & 사고부상               & 낙상                   & 낙상                   & A(Alert)               & 간호사                 &                        &                       \\\\\n",
       "\t51 & 2014                   & 장호원119안전센터      & 20140105               & 7:26                   & 일반전화               &  7.0                   & 73                     & 남                     & N                      &                        & 가정                   & 기타                   & 질병                   & 기타                   &                        & A(Alert)               & 간호사                 &                        &                       \\\\\n",
       "\t53 & 2014                   & 장호원119안전센터      & 20140105               & 12:41                  & 휴대전화               &  1.2                   & 65                     & 남                     & N                      &                        & 가정                   & 기타통증               & 질병                   & 기타                   &                        & Drowsy                 & 응급구조사(1급)        &                        &                       \\\\\n",
       "\t55 & 2014                   & 장호원119안전센터      & 20140107               & 12:27                  & 인편                   & 13.0                   & 80                     & 여                     & N                      &                        & 가정                   & 기타                   & 질병                   & 기타                   &                        & A(Alert)               & 간호사                 &                        &                       \\\\\n",
       "\t⋮ & ⋮ & ⋮ & ⋮ & ⋮ & ⋮ & ⋮ & ⋮ & ⋮ & ⋮ & ⋮ & ⋮ & ⋮ & ⋮ & ⋮ & ⋮ & ⋮ & ⋮ & ⋮ & ⋮\\\\\n",
       "\t8644 & 2014              & 관고119안전센터   & 20140619          & 11:39             & 휴대전화          &  2.0              & 71                & 남                & N                 &                   & 가정              & 요통              & 사고부상          & 낙상              & 낙상              & A(Alert)          & 간호사            &                   &                  \\\\\n",
       "\t8647 & 2014              & 장호원119안전센터 & 20140623          & 5:18              & 휴대전화          & 15.0              & 54                & 남                & N                 &                   & 가정              & 기타              & 질병              & 고혈압,당뇨       &                   & A(Alert)          & 응급구조사(1급)   &                   &                  \\\\\n",
       "\t8648 & 2014              & 대월119안전센터   & 20140626          & 23:22             & 휴대전화          &  4.0              & 47                & 남                & N                 &                   & 가정              & 토혈              & 질병              & 고혈압            &                   & A(Alert)          &                   &                   &                  \\\\\n",
       "\t8660 & 2014              & 대월119안전센터   & 20140618          & 9:56              & 휴대전화          &  2.0              &  1                & 남                & N                 &                   & 가정              & 고열              & 질병              & 기타              &                   & Drowsy            & 응급구조사(1급)   &                   &                  \\\\\n",
       "\t8661 & 2014              & 대월119안전센터   & 20140619          & 8:39              & 일반전화          &  3.5              & 51                & 남                & N                 &                   & 가정              & 기타통증          & 사고부상          & 낙상              & 낙상              & A(Alert)          & 응급구조사(1급)   &                   &                  \\\\\n",
       "\t8662 & 2014              & 대월119안전센터   & 20140619          & 10:03             & 기타              & 10.0              & 78                & 여                & N                 &                   & 가정              & 기타통증          & 질병              & 고혈압,기타       &                   & A(Alert)          & 응급구조사(1급)   &                   & 장거리이송       \\\\\n",
       "\t8680 & 2014              & 관고119안전센터   & 20140614          & 0:18              & 휴대전화          &  1.5              & 71                & 남                & N                 &                   & 가정              & 그 밖의출혈       & 사고부상          & 낙상              & 낙상              & A(Alert)          & 응급구조사(1급)   &                   &                  \\\\\n",
       "\t8689 & 2014              & 관고119안전센터   & 20140613          & 12:44             & 휴대전화          &  3.0              &  5                & 남                & N                 &                   & 가정              & 기타이물질        & 기타              & 기타(질병외)      &                   & A(Alert)          & 응급구조사(1급)   &                   &                  \\\\\n",
       "\t8698 & 2014              & 관고119안전센터   & 20140619          & 11:30             & 휴대전화          & 10.0              & NA                &                   & N                 &                   & 가정              &                   & 사고부상          & 낙상              & 낙상              &                   & 응급구조사(1급)   &                   &                  \\\\\n",
       "\t8699 & 2014              & 장호원119안전센터 & 20140619          & 13:09             & 기타              &  3.0              & NA                &                   & N                 &                   & 가정              &                   &                   &                   &                   &                   & 응급구조사(1급)   &                   &                  \\\\\n",
       "\t8701 & 2014              & 대월119안전센터   & 20140621          & 2:06              & 휴대전화          &  0.7              & 40                & 남                & N                 &                   & 가정              & 흉통              & 질병              &                   &                   & A(Alert)          &                   &                   &                  \\\\\n",
       "\t8704 & 2014              & 대월119안전센터   & 20140620          & 18:00             & 휴대전화          &  4.0              & 92                & 여                & N                 &                   & 가정              & 기타통증          & 사고부상          & 낙상              & 낙상              & A(Alert)          &                   &                   &                  \\\\\n",
       "\t8705 & 2014              & 대월119안전센터   & 20140620          & 6:20              & 일반전화          & 12.0              & 73                & 여                & N                 &                   & 가정              & 복통              & 질병              & 고혈압            &                   & A(Alert)          & 응급구조사(1급)   &                   &                  \\\\\n",
       "\t8706 & 2014              & 대월119안전센터   & 20140619          & 21:39             & 휴대전화          &  9.0              & 61                & 여                & N                 &                   & 가정              & 기타통증          & 사고부상          & 낙상              & 낙상              & A(Alert)          & 응급구조사(1급)   &                   &                  \\\\\n",
       "\t8710 & 2014              & 대월119안전센터   & 20140619          & 17:44             & 휴대전화          &  2.5              & 47                & 여                & N                 &                   & 가정              & 복통              & 질병              & 기타              &                   & A(Alert)          & 응급구조사(1급)   &                   &                  \\\\\n",
       "\t8712 & 2014              & 대월119안전센터   & 20140625          & 9:20              & 기타              &  4.0              & NA                &                   & N                 &                   & 가정              &                   &                   &                   &                   &                   & 응급구조사(1급)   &                   &                  \\\\\n",
       "\t8720 & 2014              & 관고119안전센터   & 20140616          & 11:02             & 일반전화          &  0.5              & 64                & 여                & N                 &                   & 가정              & 요통              & 질병              & 기타              &                   & A(Alert)          & 간호사            &                   &                  \\\\\n",
       "\t8726 & 2014              & 관고119안전센터   & 20140616          & 8:38              & 휴대전화          &  9.0              & 80                & 남                & N                 &                   & 가정              & 기타통증          & 사고부상          & 낙상              & 낙상              & A(Alert)          & 간호사            &                   &                  \\\\\n",
       "\t8735 & 2014              & 장호원119안전센터 & 20141224          & 20:42             & 일반전화          &   NA              & 79                & 여                & N                 &                   & 가정              & 기타통증          & 사고부상          & 낙상              & 낙상              & A(Alert)          & 응급구조사(1급)   &                   &                  \\\\\n",
       "\t8737 & 2014              & 장호원119안전센터 & 20141225          & 21:20             & 휴대전화          &   NA              & 52                & 남                & N                 &                   & 가정              & 복통              & 질병              & 간경화            &                   & A(Alert)          & 간호사            &                   &                  \\\\\n",
       "\t8740 & 2014              & 장호원119안전센터 & 20141226          & 14:29             & 휴대전화          &   NA              & 50                & 남                & N                 &                   & 가정              & 기타통증          & 질병              & 기타              &                   & A(Alert)          & 간호사            &                   &                  \\\\\n",
       "\t8741 & 2014              & 장호원119안전센터 & 20141226          & 15:16             & 휴대전화          &   NA              & NA                &                   & N                 &                   & 가정              &                   &                   &                   &                   &                   & 간호사            &                   &                  \\\\\n",
       "\t8747 & 2014              & 관고119안전센터   & 20141224          & 8:31              & 휴대전화          &   NA              & 74                & 여                & N                 &                   & 가정              & 기타              & 질병              & 고혈압,당뇨,기타  &                   & A(Alert)          & 응급구조사(1급)   &                   &                  \\\\\n",
       "\t8749 & 2014              & 관고119안전센터   & 20141223          & 11:02             & 휴대전화          &   NA              &  5                & 남                & N                 &                   & 가정              & 경련              & 질병              &                   &                   & A(Alert)          & 응급구조사(1급)   &                   &                  \\\\\n",
       "\t8751 & 2014              & 관고119안전센터   & 20141223          & 13:30             & 휴대전화          &   NA              & 66                & 여                & N                 &                   & 가정              & 기타              & 질병              &                   &                   & A(Alert)          & 응급구조사(1급)   &                   &                  \\\\\n",
       "\t8753 & 2014              & 관고119안전센터   & 20141221          & 15:46             & 휴대전화          &   NA              & 19                & 여                & N                 &                   & 가정              & 기타통증          & 기타              & 화상              &                   & A(Alert)          & 응급구조사(1급)   &                   &                  \\\\\n",
       "\t8755 & 2014              & 관고119안전센터   & 20141221          & 18:58             & 일반전화          &   NA              & 25                & 여                & N                 &                   & 가정              & 열상              & 사고부상          & 낙상              & 낙상              & A(Alert)          & 응급구조사(1급)   &                   &                  \\\\\n",
       "\t8756 & 2014              & 관고119안전센터   & 20141223          & 22:35             & 일반전화          &   NA              & 73                & 남                & N                 &                   & 가정              & 흉통              & 질병              & 심장질환          &                   & A(Alert)          & 응급구조사(1급)   &                   &                  \\\\\n",
       "\t8764 & 2014              & 관고119안전센터   & 20141224          & 3:41              & 일반전화          &   NA              & 58                & 남                & N                 &                   & 가정              & 비출혈            & 사고부상          & 기타(사고부상)    & 기타(사고부상)    & A(Alert)          & 간호사            &                   &                  \\\\\n",
       "\t8765 & 2014              & 관고119안전센터   & 20141224          & 18:52             & 휴대전화          &   NA              & 29                & 남                & N                 &                   & 가정              & 복통              & 질병              & 기타              &                   & A(Alert)          & 응급구조사(1급)   &                   &                  \\\\\n",
       "\\end{tabular}\n"
      ],
      "text/markdown": [
       "\n",
       "| <!--/--> | 집계년도 | 출동안전센터명 | 신고년월일 | 신고시각 | 접수경로 | 현장거리 | 환자연령 | 환자성별구분명 | 외국인여부 | 국적명 | 구급발생장소유형 | 환자증상유형 | 구급사고종별상위명 | 구급사고종별하위명 | 환자발생유형 | 의식상태유형 | 구급반장자격등급 | 구급대원자격등급 | 구조활동장애원인 | \n",
       "|---|---|---|---|---|---|---|---|---|---|---|---|---|---|---|---|---|---|---|---|---|---|---|---|---|---|---|---|---|---|---|---|---|---|---|---|---|---|---|---|---|---|---|---|---|---|---|---|---|---|---|---|---|---|---|---|---|---|---|---|---|\n",
       "| 1 | 2014                   | 관고119안전센터        | 20140102               | 2:18                   | 일반전화               | 14.0                   | 81                     | 여                     | N                      |                        | 가정                   | 비출혈                 | 질병                   | 고혈압,당뇨            |                        | A(Alert)               | 간호사                 |                        |                        | \n",
       "| 2 | 2014                   | 대월119안전센터        | 20140117               | 16:31                  | 휴대전화               |  3.0                   | 78                     | 여                     | N                      |                        | 가정                   | 고열                   | 질병                   | 기타                   |                        | Drowsy                 | 응급구조사(2급)        |                        |                        | \n",
       "| 3 | 2014                   | 대월119안전센터        | 20140117               | 18:37                  | 기타                   | 14.0                   | 64                     | 남                     | N                      |                        | 가정                   | 기타통증               | 사고부상               | 낙상                   | 낙상                   | A(Alert)               | 응급구조사(1급)        |                        |                        | \n",
       "| 4 | 2014                   | 대월119안전센터        | 20140118               | 10:14                  | 휴대전화               |  8.0                   |  3                     | 여                     | N                      |                        | 가정                   | 고열                   | 질병                   | 기타                   |                        | A(Alert)               | 응급구조사(1급)        |                        |                        | \n",
       "| 5 | 2014                   | 대월119안전센터        | 20140118               | 12:28                  | 휴대전화               |  7.0                   | 88                     | 여                     | N                      |                        | 가정                   | 전신쇠약               | 질병                   | 뇌혈관질환,고혈압,당뇨 |                        | A(Alert)               | 응급구조사(1급)        |                        |                        | \n",
       "| 7 | 2014                   | 대월119안전센터        | 20140118               | 17:15                  | 휴대전화               |  6.5                   | 48                     | 여                     | N                      |                        | 가정                   | 기타통증               | 사고부상               | 기타 둔상              | 기타 둔상              | A(Alert)               | 응급구조사(1급)        |                        |                        | \n",
       "| 8 | 2014                   | 대월119안전센터        | 20140118               | 22:26                  | 휴대전화               |  4.0                   | 15                     | 여                     | N                      |                        | 가정                   | 복통                   | 질병                   | 기타                   |                        | A(Alert)               | 응급구조사(1급)        |                        |                        | \n",
       "| 9 | 2014                   | 대월119안전센터        | 20140118               | 22:49                  | 휴대전화               | 11.0                   | 57                     | 남                     | N                      |                        | 가정                   | 기타통증               | 질병                   | 기타                   |                        | A(Alert)               | 응급구조사(1급)        |                        |                        | \n",
       "| 10 | 2014                   | 장호원119안전센터      | 20140110               | 10:42                  | 휴대전화               | 14.0                   | 35                     | 여                     | N                      |                        | 가정                   | 기타통증               | 질병                   | 기타                   |                        | A(Alert)               | 간호사                 |                        |                        | \n",
       "| 11 | 2014                   | 장호원119안전센터      | 20140111               | 6:58                   | 휴대전화               |  1.0                   | 22                     | 남                     | N                      |                        | 가정                   | 기타통증               | 질병                   | 기타                   |                        | A(Alert)               | 간호사                 | 응급구조사(2급)        |                        | \n",
       "| 12 | 2014                   | 장호원119안전센터      | 20140112               | 4:30                   | 휴대전화               |  2.0                   | 53                     | 여                     | N                      |                        | 가정                   | 기타통증               | 질병                   |                        |                        | A(Alert)               | 응급구조사(1급)        |                        |                        | \n",
       "| 17 | 2014                   | 장호원119안전센터      | 20140114               | 11:55                  | 일반전화               |  2.0                   | 83                     | 여                     | N                      |                        | 가정                   | 기타통증               | 질병                   |                        |                        | A(Alert)               | 응급구조사(1급)        |                        |                        | \n",
       "| 20 | 2014                   | 장호원119안전센터      | 20140116               | 2:06                   | 인편                   |  6.0                   | 74                     | 여                     | N                      |                        | 가정                   | 기타                   | 질병                   | 기타                   |                        | A(Alert)               | 간호사                 |                        |                        | \n",
       "| 21 | 2014                   | 장호원119안전센터      | 20140116               | 12:41                  | 휴대전화               |  1.5                   | 72                     | 여                     | N                      |                        | 가정                   | 복통                   | 질병                   |                        |                        | A(Alert)               | 응급구조사(1급)        |                        |                        | \n",
       "| 22 | 2014                   | 장호원119안전센터      | 20140116               | 13:12                  | 휴대전화               |  2.0                   | 74                     | 여                     | N                      |                        | 가정                   | 요통                   | 사고부상               | 낙상                   | 낙상                   | A(Alert)               | 응급구조사(1급)        |                        |                        | \n",
       "| 23 | 2014                   | 장호원119안전센터      | 20140116               | 19:28                  | 일반전화               | 13.0                   | 79                     | 여                     | N                      |                        | 가정                   | 기타통증               | 질병                   | 고혈압                 |                        | A(Alert)               | 간호사                 | 응급구조사(2급)        |                        | \n",
       "| 24 | 2014                   | 장호원119안전센터      | 20140117               | 11:13                  | 휴대전화               |  3.0                   | 64                     | 여                     | N                      |                        | 가정                   | 전신쇠약               | 질병                   |                        |                        | A(Alert)               | 응급구조사(1급)        |                        |                        | \n",
       "| 25 | 2014                   | 장호원119안전센터      | 20140118               | 12:29                  | 휴대전화               |  2.0                   | 64                     | 여                     | N                      |                        | 가정                   | 기타통증               | 질병                   | 고혈압,기타            |                        | A(Alert)               | 간호사                 | 응급구조사(2급)        |                        | \n",
       "| 28 | 2014                   | 장호원119안전센터      | 20140118               | 18:30                  | 휴대전화               |  3.0                   | 49                     | 여                     | N                      |                        | 가정                   | 기타통증               | 질병                   | 기타                   |                        | A(Alert)               | 간호사                 | 응급구조사(2급)        |                        | \n",
       "| 29 | 2014                   | 장호원119안전센터      | 20140118               | 10:19                  | 인편                   |  6.0                   | 82                     | 여                     | N                      |                        | 가정                   | 기타통증               | 질병                   | 뇌혈관질환,고혈압,당뇨 |                        | A(Alert)               | 간호사                 |                        |                        | \n",
       "| 33 | 2014                   | 대월119안전센터        | 20140117               | 9:02                   | 일반전화               |  3.0                   | 82                     | 여                     | N                      |                        | 가정                   | 심정지                 | 질병                   | 기타                   |                        | U(Coma)                | 응급구조사(1급)        |                        | 기타(구급)             | \n",
       "| 35 | 2014                   | 대월119안전센터        | 20140109               | 9:30                   | 일반전화               |  3.0                   | 45                     | 여                     | N                      |                        | 가정                   | 기타통증               | 사고부상               | 낙상                   | 낙상                   | A(Alert)               | 응급구조사(1급)        |                        |                        | \n",
       "| 39 | 2014                   | 장호원119안전센터      | 20140101               | 5:03                   | 휴대전화               |  1.2                   | 32                     | 여                     | N                      |                        | 가정                   | 기타통증               | 사고부상               | 낙상                   | 낙상                   | A(Alert)               | 간호사                 |                        |                        | \n",
       "| 41 | 2014                   | 장호원119안전센터      | 20140101               | 21:31                  | 일반전화               |  3.0                   | 69                     | 여                     | N                      |                        | 가정                   | 기타                   | 질병                   | 고혈압,당뇨            |                        | A(Alert)               | 응급구조사(1급)        |                        |                        | \n",
       "| 43 | 2014                   | 장호원119안전센터      | 20140102               | 7:50                   | 휴대전화               | 10.0                   | 61                     | 남                     | N                      |                        | 가정                   | 의식장애               | 질병                   |                        |                        | Drowsy                 | 응급구조사(1급)        |                        |                        | \n",
       "| 44 | 2014                   | 장호원119안전센터      | 20140102               | 19:30                  | 인편                   |  1.5                   | 81                     | 여                     | N                      |                        | 가정                   | 기타                   | 질병                   | 고혈압                 |                        | A(Alert)               | 간호사                 |                        |                        | \n",
       "| 45 | 2014                   | 장호원119안전센터      | 20140102               | 21:42                  | 휴대전화               | 15.0                   | 66                     | 남                     | N                      |                        | 가정                   | 기타통증               | 사고부상               | 낙상                   | 낙상                   | A(Alert)               | 간호사                 |                        |                        | \n",
       "| 51 | 2014                   | 장호원119안전센터      | 20140105               | 7:26                   | 일반전화               |  7.0                   | 73                     | 남                     | N                      |                        | 가정                   | 기타                   | 질병                   | 기타                   |                        | A(Alert)               | 간호사                 |                        |                        | \n",
       "| 53 | 2014                   | 장호원119안전센터      | 20140105               | 12:41                  | 휴대전화               |  1.2                   | 65                     | 남                     | N                      |                        | 가정                   | 기타통증               | 질병                   | 기타                   |                        | Drowsy                 | 응급구조사(1급)        |                        |                        | \n",
       "| 55 | 2014                   | 장호원119안전센터      | 20140107               | 12:27                  | 인편                   | 13.0                   | 80                     | 여                     | N                      |                        | 가정                   | 기타                   | 질병                   | 기타                   |                        | A(Alert)               | 간호사                 |                        |                        | \n",
       "| ⋮ | ⋮ | ⋮ | ⋮ | ⋮ | ⋮ | ⋮ | ⋮ | ⋮ | ⋮ | ⋮ | ⋮ | ⋮ | ⋮ | ⋮ | ⋮ | ⋮ | ⋮ | ⋮ | ⋮ | \n",
       "| 8644 | 2014              | 관고119안전센터   | 20140619          | 11:39             | 휴대전화          |  2.0              | 71                | 남                | N                 |                   | 가정              | 요통              | 사고부상          | 낙상              | 낙상              | A(Alert)          | 간호사            |                   |                   | \n",
       "| 8647 | 2014              | 장호원119안전센터 | 20140623          | 5:18              | 휴대전화          | 15.0              | 54                | 남                | N                 |                   | 가정              | 기타              | 질병              | 고혈압,당뇨       |                   | A(Alert)          | 응급구조사(1급)   |                   |                   | \n",
       "| 8648 | 2014              | 대월119안전센터   | 20140626          | 23:22             | 휴대전화          |  4.0              | 47                | 남                | N                 |                   | 가정              | 토혈              | 질병              | 고혈압            |                   | A(Alert)          |                   |                   |                   | \n",
       "| 8660 | 2014              | 대월119안전센터   | 20140618          | 9:56              | 휴대전화          |  2.0              |  1                | 남                | N                 |                   | 가정              | 고열              | 질병              | 기타              |                   | Drowsy            | 응급구조사(1급)   |                   |                   | \n",
       "| 8661 | 2014              | 대월119안전센터   | 20140619          | 8:39              | 일반전화          |  3.5              | 51                | 남                | N                 |                   | 가정              | 기타통증          | 사고부상          | 낙상              | 낙상              | A(Alert)          | 응급구조사(1급)   |                   |                   | \n",
       "| 8662 | 2014              | 대월119안전센터   | 20140619          | 10:03             | 기타              | 10.0              | 78                | 여                | N                 |                   | 가정              | 기타통증          | 질병              | 고혈압,기타       |                   | A(Alert)          | 응급구조사(1급)   |                   | 장거리이송        | \n",
       "| 8680 | 2014              | 관고119안전센터   | 20140614          | 0:18              | 휴대전화          |  1.5              | 71                | 남                | N                 |                   | 가정              | 그 밖의출혈       | 사고부상          | 낙상              | 낙상              | A(Alert)          | 응급구조사(1급)   |                   |                   | \n",
       "| 8689 | 2014              | 관고119안전센터   | 20140613          | 12:44             | 휴대전화          |  3.0              |  5                | 남                | N                 |                   | 가정              | 기타이물질        | 기타              | 기타(질병외)      |                   | A(Alert)          | 응급구조사(1급)   |                   |                   | \n",
       "| 8698 | 2014              | 관고119안전센터   | 20140619          | 11:30             | 휴대전화          | 10.0              | NA                |                   | N                 |                   | 가정              |                   | 사고부상          | 낙상              | 낙상              |                   | 응급구조사(1급)   |                   |                   | \n",
       "| 8699 | 2014              | 장호원119안전센터 | 20140619          | 13:09             | 기타              |  3.0              | NA                |                   | N                 |                   | 가정              |                   |                   |                   |                   |                   | 응급구조사(1급)   |                   |                   | \n",
       "| 8701 | 2014              | 대월119안전센터   | 20140621          | 2:06              | 휴대전화          |  0.7              | 40                | 남                | N                 |                   | 가정              | 흉통              | 질병              |                   |                   | A(Alert)          |                   |                   |                   | \n",
       "| 8704 | 2014              | 대월119안전센터   | 20140620          | 18:00             | 휴대전화          |  4.0              | 92                | 여                | N                 |                   | 가정              | 기타통증          | 사고부상          | 낙상              | 낙상              | A(Alert)          |                   |                   |                   | \n",
       "| 8705 | 2014              | 대월119안전센터   | 20140620          | 6:20              | 일반전화          | 12.0              | 73                | 여                | N                 |                   | 가정              | 복통              | 질병              | 고혈압            |                   | A(Alert)          | 응급구조사(1급)   |                   |                   | \n",
       "| 8706 | 2014              | 대월119안전센터   | 20140619          | 21:39             | 휴대전화          |  9.0              | 61                | 여                | N                 |                   | 가정              | 기타통증          | 사고부상          | 낙상              | 낙상              | A(Alert)          | 응급구조사(1급)   |                   |                   | \n",
       "| 8710 | 2014              | 대월119안전센터   | 20140619          | 17:44             | 휴대전화          |  2.5              | 47                | 여                | N                 |                   | 가정              | 복통              | 질병              | 기타              |                   | A(Alert)          | 응급구조사(1급)   |                   |                   | \n",
       "| 8712 | 2014              | 대월119안전센터   | 20140625          | 9:20              | 기타              |  4.0              | NA                |                   | N                 |                   | 가정              |                   |                   |                   |                   |                   | 응급구조사(1급)   |                   |                   | \n",
       "| 8720 | 2014              | 관고119안전센터   | 20140616          | 11:02             | 일반전화          |  0.5              | 64                | 여                | N                 |                   | 가정              | 요통              | 질병              | 기타              |                   | A(Alert)          | 간호사            |                   |                   | \n",
       "| 8726 | 2014              | 관고119안전센터   | 20140616          | 8:38              | 휴대전화          |  9.0              | 80                | 남                | N                 |                   | 가정              | 기타통증          | 사고부상          | 낙상              | 낙상              | A(Alert)          | 간호사            |                   |                   | \n",
       "| 8735 | 2014              | 장호원119안전센터 | 20141224          | 20:42             | 일반전화          |   NA              | 79                | 여                | N                 |                   | 가정              | 기타통증          | 사고부상          | 낙상              | 낙상              | A(Alert)          | 응급구조사(1급)   |                   |                   | \n",
       "| 8737 | 2014              | 장호원119안전센터 | 20141225          | 21:20             | 휴대전화          |   NA              | 52                | 남                | N                 |                   | 가정              | 복통              | 질병              | 간경화            |                   | A(Alert)          | 간호사            |                   |                   | \n",
       "| 8740 | 2014              | 장호원119안전센터 | 20141226          | 14:29             | 휴대전화          |   NA              | 50                | 남                | N                 |                   | 가정              | 기타통증          | 질병              | 기타              |                   | A(Alert)          | 간호사            |                   |                   | \n",
       "| 8741 | 2014              | 장호원119안전센터 | 20141226          | 15:16             | 휴대전화          |   NA              | NA                |                   | N                 |                   | 가정              |                   |                   |                   |                   |                   | 간호사            |                   |                   | \n",
       "| 8747 | 2014              | 관고119안전센터   | 20141224          | 8:31              | 휴대전화          |   NA              | 74                | 여                | N                 |                   | 가정              | 기타              | 질병              | 고혈압,당뇨,기타  |                   | A(Alert)          | 응급구조사(1급)   |                   |                   | \n",
       "| 8749 | 2014              | 관고119안전센터   | 20141223          | 11:02             | 휴대전화          |   NA              |  5                | 남                | N                 |                   | 가정              | 경련              | 질병              |                   |                   | A(Alert)          | 응급구조사(1급)   |                   |                   | \n",
       "| 8751 | 2014              | 관고119안전센터   | 20141223          | 13:30             | 휴대전화          |   NA              | 66                | 여                | N                 |                   | 가정              | 기타              | 질병              |                   |                   | A(Alert)          | 응급구조사(1급)   |                   |                   | \n",
       "| 8753 | 2014              | 관고119안전센터   | 20141221          | 15:46             | 휴대전화          |   NA              | 19                | 여                | N                 |                   | 가정              | 기타통증          | 기타              | 화상              |                   | A(Alert)          | 응급구조사(1급)   |                   |                   | \n",
       "| 8755 | 2014              | 관고119안전센터   | 20141221          | 18:58             | 일반전화          |   NA              | 25                | 여                | N                 |                   | 가정              | 열상              | 사고부상          | 낙상              | 낙상              | A(Alert)          | 응급구조사(1급)   |                   |                   | \n",
       "| 8756 | 2014              | 관고119안전센터   | 20141223          | 22:35             | 일반전화          |   NA              | 73                | 남                | N                 |                   | 가정              | 흉통              | 질병              | 심장질환          |                   | A(Alert)          | 응급구조사(1급)   |                   |                   | \n",
       "| 8764 | 2014              | 관고119안전센터   | 20141224          | 3:41              | 일반전화          |   NA              | 58                | 남                | N                 |                   | 가정              | 비출혈            | 사고부상          | 기타(사고부상)    | 기타(사고부상)    | A(Alert)          | 간호사            |                   |                   | \n",
       "| 8765 | 2014              | 관고119안전센터   | 20141224          | 18:52             | 휴대전화          |   NA              | 29                | 남                | N                 |                   | 가정              | 복통              | 질병              | 기타              |                   | A(Alert)          | 응급구조사(1급)   |                   |                   | \n",
       "\n",
       "\n"
      ],
      "text/plain": [
       "     집계년도 출동안전센터명    신고년월일 신고시각 접수경로 현장거리 환자연령\n",
       "1    2014     관고119안전센터   20140102   2:18     일반전화 14.0     81      \n",
       "2    2014     대월119안전센터   20140117   16:31    휴대전화  3.0     78      \n",
       "3    2014     대월119안전센터   20140117   18:37    기타     14.0     64      \n",
       "4    2014     대월119안전센터   20140118   10:14    휴대전화  8.0      3      \n",
       "5    2014     대월119안전센터   20140118   12:28    휴대전화  7.0     88      \n",
       "7    2014     대월119안전센터   20140118   17:15    휴대전화  6.5     48      \n",
       "8    2014     대월119안전센터   20140118   22:26    휴대전화  4.0     15      \n",
       "9    2014     대월119안전센터   20140118   22:49    휴대전화 11.0     57      \n",
       "10   2014     장호원119안전센터 20140110   10:42    휴대전화 14.0     35      \n",
       "11   2014     장호원119안전센터 20140111   6:58     휴대전화  1.0     22      \n",
       "12   2014     장호원119안전센터 20140112   4:30     휴대전화  2.0     53      \n",
       "17   2014     장호원119안전센터 20140114   11:55    일반전화  2.0     83      \n",
       "20   2014     장호원119안전센터 20140116   2:06     인편      6.0     74      \n",
       "21   2014     장호원119안전센터 20140116   12:41    휴대전화  1.5     72      \n",
       "22   2014     장호원119안전센터 20140116   13:12    휴대전화  2.0     74      \n",
       "23   2014     장호원119안전센터 20140116   19:28    일반전화 13.0     79      \n",
       "24   2014     장호원119안전센터 20140117   11:13    휴대전화  3.0     64      \n",
       "25   2014     장호원119안전센터 20140118   12:29    휴대전화  2.0     64      \n",
       "28   2014     장호원119안전센터 20140118   18:30    휴대전화  3.0     49      \n",
       "29   2014     장호원119안전센터 20140118   10:19    인편      6.0     82      \n",
       "33   2014     대월119안전센터   20140117   9:02     일반전화  3.0     82      \n",
       "35   2014     대월119안전센터   20140109   9:30     일반전화  3.0     45      \n",
       "39   2014     장호원119안전센터 20140101   5:03     휴대전화  1.2     32      \n",
       "41   2014     장호원119안전센터 20140101   21:31    일반전화  3.0     69      \n",
       "43   2014     장호원119안전센터 20140102   7:50     휴대전화 10.0     61      \n",
       "44   2014     장호원119안전센터 20140102   19:30    인편      1.5     81      \n",
       "45   2014     장호원119안전센터 20140102   21:42    휴대전화 15.0     66      \n",
       "51   2014     장호원119안전센터 20140105   7:26     일반전화  7.0     73      \n",
       "53   2014     장호원119안전센터 20140105   12:41    휴대전화  1.2     65      \n",
       "55   2014     장호원119안전센터 20140107   12:27    인편     13.0     80      \n",
       "⋮    ⋮        ⋮                 ⋮          ⋮        ⋮        ⋮        ⋮       \n",
       "8644 2014     관고119안전센터   20140619   11:39    휴대전화  2.0     71      \n",
       "8647 2014     장호원119안전센터 20140623   5:18     휴대전화 15.0     54      \n",
       "8648 2014     대월119안전센터   20140626   23:22    휴대전화  4.0     47      \n",
       "8660 2014     대월119안전센터   20140618   9:56     휴대전화  2.0      1      \n",
       "8661 2014     대월119안전센터   20140619   8:39     일반전화  3.5     51      \n",
       "8662 2014     대월119안전센터   20140619   10:03    기타     10.0     78      \n",
       "8680 2014     관고119안전센터   20140614   0:18     휴대전화  1.5     71      \n",
       "8689 2014     관고119안전센터   20140613   12:44    휴대전화  3.0      5      \n",
       "8698 2014     관고119안전센터   20140619   11:30    휴대전화 10.0     NA      \n",
       "8699 2014     장호원119안전센터 20140619   13:09    기타      3.0     NA      \n",
       "8701 2014     대월119안전센터   20140621   2:06     휴대전화  0.7     40      \n",
       "8704 2014     대월119안전센터   20140620   18:00    휴대전화  4.0     92      \n",
       "8705 2014     대월119안전센터   20140620   6:20     일반전화 12.0     73      \n",
       "8706 2014     대월119안전센터   20140619   21:39    휴대전화  9.0     61      \n",
       "8710 2014     대월119안전센터   20140619   17:44    휴대전화  2.5     47      \n",
       "8712 2014     대월119안전센터   20140625   9:20     기타      4.0     NA      \n",
       "8720 2014     관고119안전센터   20140616   11:02    일반전화  0.5     64      \n",
       "8726 2014     관고119안전센터   20140616   8:38     휴대전화  9.0     80      \n",
       "8735 2014     장호원119안전센터 20141224   20:42    일반전화   NA     79      \n",
       "8737 2014     장호원119안전센터 20141225   21:20    휴대전화   NA     52      \n",
       "8740 2014     장호원119안전센터 20141226   14:29    휴대전화   NA     50      \n",
       "8741 2014     장호원119안전센터 20141226   15:16    휴대전화   NA     NA      \n",
       "8747 2014     관고119안전센터   20141224   8:31     휴대전화   NA     74      \n",
       "8749 2014     관고119안전센터   20141223   11:02    휴대전화   NA      5      \n",
       "8751 2014     관고119안전센터   20141223   13:30    휴대전화   NA     66      \n",
       "8753 2014     관고119안전센터   20141221   15:46    휴대전화   NA     19      \n",
       "8755 2014     관고119안전센터   20141221   18:58    일반전화   NA     25      \n",
       "8756 2014     관고119안전센터   20141223   22:35    일반전화   NA     73      \n",
       "8764 2014     관고119안전센터   20141224   3:41     일반전화   NA     58      \n",
       "8765 2014     관고119안전센터   20141224   18:52    휴대전화   NA     29      \n",
       "     환자성별구분명 외국인여부 국적명 구급발생장소유형 환자증상유형\n",
       "1    여             N                 가정             비출혈      \n",
       "2    여             N                 가정             고열        \n",
       "3    남             N                 가정             기타통증    \n",
       "4    여             N                 가정             고열        \n",
       "5    여             N                 가정             전신쇠약    \n",
       "7    여             N                 가정             기타통증    \n",
       "8    여             N                 가정             복통        \n",
       "9    남             N                 가정             기타통증    \n",
       "10   여             N                 가정             기타통증    \n",
       "11   남             N                 가정             기타통증    \n",
       "12   여             N                 가정             기타통증    \n",
       "17   여             N                 가정             기타통증    \n",
       "20   여             N                 가정             기타        \n",
       "21   여             N                 가정             복통        \n",
       "22   여             N                 가정             요통        \n",
       "23   여             N                 가정             기타통증    \n",
       "24   여             N                 가정             전신쇠약    \n",
       "25   여             N                 가정             기타통증    \n",
       "28   여             N                 가정             기타통증    \n",
       "29   여             N                 가정             기타통증    \n",
       "33   여             N                 가정             심정지      \n",
       "35   여             N                 가정             기타통증    \n",
       "39   여             N                 가정             기타통증    \n",
       "41   여             N                 가정             기타        \n",
       "43   남             N                 가정             의식장애    \n",
       "44   여             N                 가정             기타        \n",
       "45   남             N                 가정             기타통증    \n",
       "51   남             N                 가정             기타        \n",
       "53   남             N                 가정             기타통증    \n",
       "55   여             N                 가정             기타        \n",
       "⋮    ⋮              ⋮          ⋮      ⋮                ⋮           \n",
       "8644 남             N                 가정             요통        \n",
       "8647 남             N                 가정             기타        \n",
       "8648 남             N                 가정             토혈        \n",
       "8660 남             N                 가정             고열        \n",
       "8661 남             N                 가정             기타통증    \n",
       "8662 여             N                 가정             기타통증    \n",
       "8680 남             N                 가정             그 밖의출혈 \n",
       "8689 남             N                 가정             기타이물질  \n",
       "8698                N                 가정                         \n",
       "8699                N                 가정                         \n",
       "8701 남             N                 가정             흉통        \n",
       "8704 여             N                 가정             기타통증    \n",
       "8705 여             N                 가정             복통        \n",
       "8706 여             N                 가정             기타통증    \n",
       "8710 여             N                 가정             복통        \n",
       "8712                N                 가정                         \n",
       "8720 여             N                 가정             요통        \n",
       "8726 남             N                 가정             기타통증    \n",
       "8735 여             N                 가정             기타통증    \n",
       "8737 남             N                 가정             복통        \n",
       "8740 남             N                 가정             기타통증    \n",
       "8741                N                 가정                         \n",
       "8747 여             N                 가정             기타        \n",
       "8749 남             N                 가정             경련        \n",
       "8751 여             N                 가정             기타        \n",
       "8753 여             N                 가정             기타통증    \n",
       "8755 여             N                 가정             열상        \n",
       "8756 남             N                 가정             흉통        \n",
       "8764 남             N                 가정             비출혈      \n",
       "8765 남             N                 가정             복통        \n",
       "     구급사고종별상위명 구급사고종별하위명     환자발생유형   의식상태유형\n",
       "1    질병               고혈압,당뇨                           A(Alert)    \n",
       "2    질병               기타                                  Drowsy      \n",
       "3    사고부상           낙상                   낙상           A(Alert)    \n",
       "4    질병               기타                                  A(Alert)    \n",
       "5    질병               뇌혈관질환,고혈압,당뇨                A(Alert)    \n",
       "7    사고부상           기타 둔상              기타 둔상      A(Alert)    \n",
       "8    질병               기타                                  A(Alert)    \n",
       "9    질병               기타                                  A(Alert)    \n",
       "10   질병               기타                                  A(Alert)    \n",
       "11   질병               기타                                  A(Alert)    \n",
       "12   질병                                                     A(Alert)    \n",
       "17   질병                                                     A(Alert)    \n",
       "20   질병               기타                                  A(Alert)    \n",
       "21   질병                                                     A(Alert)    \n",
       "22   사고부상           낙상                   낙상           A(Alert)    \n",
       "23   질병               고혈압                                A(Alert)    \n",
       "24   질병                                                     A(Alert)    \n",
       "25   질병               고혈압,기타                           A(Alert)    \n",
       "28   질병               기타                                  A(Alert)    \n",
       "29   질병               뇌혈관질환,고혈압,당뇨                A(Alert)    \n",
       "33   질병               기타                                  U(Coma)     \n",
       "35   사고부상           낙상                   낙상           A(Alert)    \n",
       "39   사고부상           낙상                   낙상           A(Alert)    \n",
       "41   질병               고혈압,당뇨                           A(Alert)    \n",
       "43   질병                                                     Drowsy      \n",
       "44   질병               고혈압                                A(Alert)    \n",
       "45   사고부상           낙상                   낙상           A(Alert)    \n",
       "51   질병               기타                                  A(Alert)    \n",
       "53   질병               기타                                  Drowsy      \n",
       "55   질병               기타                                  A(Alert)    \n",
       "⋮    ⋮                  ⋮                      ⋮              ⋮           \n",
       "8644 사고부상           낙상                   낙상           A(Alert)    \n",
       "8647 질병               고혈압,당뇨                           A(Alert)    \n",
       "8648 질병               고혈압                                A(Alert)    \n",
       "8660 질병               기타                                  Drowsy      \n",
       "8661 사고부상           낙상                   낙상           A(Alert)    \n",
       "8662 질병               고혈압,기타                           A(Alert)    \n",
       "8680 사고부상           낙상                   낙상           A(Alert)    \n",
       "8689 기타               기타(질병외)                          A(Alert)    \n",
       "8698 사고부상           낙상                   낙상                       \n",
       "8699                                                                      \n",
       "8701 질병                                                     A(Alert)    \n",
       "8704 사고부상           낙상                   낙상           A(Alert)    \n",
       "8705 질병               고혈압                                A(Alert)    \n",
       "8706 사고부상           낙상                   낙상           A(Alert)    \n",
       "8710 질병               기타                                  A(Alert)    \n",
       "8712                                                                      \n",
       "8720 질병               기타                                  A(Alert)    \n",
       "8726 사고부상           낙상                   낙상           A(Alert)    \n",
       "8735 사고부상           낙상                   낙상           A(Alert)    \n",
       "8737 질병               간경화                                A(Alert)    \n",
       "8740 질병               기타                                  A(Alert)    \n",
       "8741                                                                      \n",
       "8747 질병               고혈압,당뇨,기타                      A(Alert)    \n",
       "8749 질병                                                     A(Alert)    \n",
       "8751 질병                                                     A(Alert)    \n",
       "8753 기타               화상                                  A(Alert)    \n",
       "8755 사고부상           낙상                   낙상           A(Alert)    \n",
       "8756 질병               심장질환                              A(Alert)    \n",
       "8764 사고부상           기타(사고부상)         기타(사고부상) A(Alert)    \n",
       "8765 질병               기타                                  A(Alert)    \n",
       "     구급반장자격등급 구급대원자격등급 구조활동장애원인\n",
       "1    간호사                                            \n",
       "2    응급구조사(2급)                                   \n",
       "3    응급구조사(1급)                                   \n",
       "4    응급구조사(1급)                                   \n",
       "5    응급구조사(1급)                                   \n",
       "7    응급구조사(1급)                                   \n",
       "8    응급구조사(1급)                                   \n",
       "9    응급구조사(1급)                                   \n",
       "10   간호사                                            \n",
       "11   간호사           응급구조사(2급)                  \n",
       "12   응급구조사(1급)                                   \n",
       "17   응급구조사(1급)                                   \n",
       "20   간호사                                            \n",
       "21   응급구조사(1급)                                   \n",
       "22   응급구조사(1급)                                   \n",
       "23   간호사           응급구조사(2급)                  \n",
       "24   응급구조사(1급)                                   \n",
       "25   간호사           응급구조사(2급)                  \n",
       "28   간호사           응급구조사(2급)                  \n",
       "29   간호사                                            \n",
       "33   응급구조사(1급)                   기타(구급)      \n",
       "35   응급구조사(1급)                                   \n",
       "39   간호사                                            \n",
       "41   응급구조사(1급)                                   \n",
       "43   응급구조사(1급)                                   \n",
       "44   간호사                                            \n",
       "45   간호사                                            \n",
       "51   간호사                                            \n",
       "53   응급구조사(1급)                                   \n",
       "55   간호사                                            \n",
       "⋮    ⋮                ⋮                ⋮               \n",
       "8644 간호사                                            \n",
       "8647 응급구조사(1급)                                   \n",
       "8648                                                   \n",
       "8660 응급구조사(1급)                                   \n",
       "8661 응급구조사(1급)                                   \n",
       "8662 응급구조사(1급)                   장거리이송      \n",
       "8680 응급구조사(1급)                                   \n",
       "8689 응급구조사(1급)                                   \n",
       "8698 응급구조사(1급)                                   \n",
       "8699 응급구조사(1급)                                   \n",
       "8701                                                   \n",
       "8704                                                   \n",
       "8705 응급구조사(1급)                                   \n",
       "8706 응급구조사(1급)                                   \n",
       "8710 응급구조사(1급)                                   \n",
       "8712 응급구조사(1급)                                   \n",
       "8720 간호사                                            \n",
       "8726 간호사                                            \n",
       "8735 응급구조사(1급)                                   \n",
       "8737 간호사                                            \n",
       "8740 간호사                                            \n",
       "8741 간호사                                            \n",
       "8747 응급구조사(1급)                                   \n",
       "8749 응급구조사(1급)                                   \n",
       "8751 응급구조사(1급)                                   \n",
       "8753 응급구조사(1급)                                   \n",
       "8755 응급구조사(1급)                                   \n",
       "8756 응급구조사(1급)                                   \n",
       "8764 간호사                                            \n",
       "8765 응급구조사(1급)                                   "
      ]
     },
     "metadata": {},
     "output_type": "display_data"
    }
   ],
   "source": [
    "가정만"
   ]
  },
  {
   "cell_type": "markdown",
   "metadata": {
    "collapsed": true
   },
   "source": [
    "## 기술 통계량\n",
    "#### 5점 척도로 작성된 질문에 대한 응답을, 수치형으로 변환하여 기술통계량 산출"
   ]
  },
  {
   "cell_type": "markdown",
   "metadata": {},
   "source": [
    "- 데이터를 처리하다보면 factor 를 연산해야 한다.\n",
    "- 통계 분석을 위해서는 코드값을 수치로 변환하여야 한다.\n",
    "- as.double() 함수를 이용해 수치화하면 연산이 가능하다."
   ]
  },
  {
   "cell_type": "code",
   "execution_count": 80,
   "metadata": {},
   "outputs": [
    {
     "name": "stderr",
     "output_type": "stream",
     "text": [
      "Warning message in eval(expr, envir, enclos):\n",
      "“NAs introduced by coercion”"
     ]
    }
   ],
   "source": [
    "vG <- c(\"very_bad\", \"bad\", \"normal\", \"good\", \"very_good\")\n"
   ]
  },
  {
   "cell_type": "code",
   "execution_count": 81,
   "metadata": {
    "collapsed": true
   },
   "outputs": [],
   "source": [
    "# 서열성을 부여한다.\n",
    "\n",
    "#vG <- ordered(vG, levels = c(\"very_bad\", \"bad\", \"normal\", \"good\", \"very_good\"))\n",
    "\n",
    "# 이미 서열성을 갖고 있다면 그냥 기존 데이터를 부르면 된다.\n",
    "\n",
    "\n",
    "vG <- ordered(vG, levels = c(vG))"
   ]
  },
  {
   "cell_type": "code",
   "execution_count": 83,
   "metadata": {},
   "outputs": [
    {
     "data": {
      "text/plain": [
       "   Min. 1st Qu.  Median    Mean 3rd Qu.    Max. \n",
       "      1       2       3       3       4       5 "
      ]
     },
     "metadata": {},
     "output_type": "display_data"
    }
   ],
   "source": [
    "vG_numberic <- as.double(vG)\n",
    "summary(vG_numberic)"
   ]
  },
  {
   "cell_type": "markdown",
   "metadata": {},
   "source": [
    "## Matrix Object - Chapter 08"
   ]
  },
  {
   "cell_type": "markdown",
   "metadata": {},
   "source": [
    "- vector : 차원이 없다.\n",
    "- matrix : vector 에 차원이 생김\n"
   ]
  },
  {
   "cell_type": "code",
   "execution_count": 88,
   "metadata": {},
   "outputs": [
    {
     "data": {
      "text/html": [
       "<table>\n",
       "<tbody>\n",
       "\t<tr><td>1</td><td>4</td></tr>\n",
       "\t<tr><td>2</td><td>5</td></tr>\n",
       "\t<tr><td>3</td><td>6</td></tr>\n",
       "</tbody>\n",
       "</table>\n"
      ],
      "text/latex": [
       "\\begin{tabular}{ll}\n",
       "\t 1 & 4\\\\\n",
       "\t 2 & 5\\\\\n",
       "\t 3 & 6\\\\\n",
       "\\end{tabular}\n"
      ],
      "text/markdown": [
       "\n",
       "| 1 | 4 | \n",
       "| 2 | 5 | \n",
       "| 3 | 6 | \n",
       "\n",
       "\n"
      ],
      "text/plain": [
       "     [,1] [,2]\n",
       "[1,] 1    4   \n",
       "[2,] 2    5   \n",
       "[3,] 3    6   "
      ]
     },
     "metadata": {},
     "output_type": "display_data"
    }
   ],
   "source": [
    "mX <- matrix(1:6, ncol = 2) # ncol = number column\n",
    "mX"
   ]
  },
  {
   "cell_type": "code",
   "execution_count": 87,
   "metadata": {},
   "outputs": [
    {
     "data": {
      "text/html": [
       "<table>\n",
       "<tbody>\n",
       "\t<tr><td>1</td><td>3</td><td>5</td></tr>\n",
       "\t<tr><td>2</td><td>4</td><td>6</td></tr>\n",
       "</tbody>\n",
       "</table>\n"
      ],
      "text/latex": [
       "\\begin{tabular}{lll}\n",
       "\t 1 & 3 & 5\\\\\n",
       "\t 2 & 4 & 6\\\\\n",
       "\\end{tabular}\n"
      ],
      "text/markdown": [
       "\n",
       "| 1 | 3 | 5 | \n",
       "| 2 | 4 | 6 | \n",
       "\n",
       "\n"
      ],
      "text/plain": [
       "     [,1] [,2] [,3]\n",
       "[1,] 1    3    5   \n",
       "[2,] 2    4    6   "
      ]
     },
     "metadata": {},
     "output_type": "display_data"
    }
   ],
   "source": [
    "mX <- matrix(1:6, nrow = 2)\n",
    "mX"
   ]
  },
  {
   "cell_type": "code",
   "execution_count": 89,
   "metadata": {},
   "outputs": [
    {
     "data": {
      "text/html": [
       "<table>\n",
       "<tbody>\n",
       "\t<tr><td>1</td><td>2</td></tr>\n",
       "\t<tr><td>3</td><td>4</td></tr>\n",
       "\t<tr><td>5</td><td>6</td></tr>\n",
       "</tbody>\n",
       "</table>\n"
      ],
      "text/latex": [
       "\\begin{tabular}{ll}\n",
       "\t 1 & 2\\\\\n",
       "\t 3 & 4\\\\\n",
       "\t 5 & 6\\\\\n",
       "\\end{tabular}\n"
      ],
      "text/markdown": [
       "\n",
       "| 1 | 2 | \n",
       "| 3 | 4 | \n",
       "| 5 | 6 | \n",
       "\n",
       "\n"
      ],
      "text/plain": [
       "     [,1] [,2]\n",
       "[1,] 1    2   \n",
       "[2,] 3    4   \n",
       "[3,] 5    6   "
      ]
     },
     "metadata": {},
     "output_type": "display_data"
    }
   ],
   "source": [
    "# row 순으로 데이터를 채워나감\n",
    "\n",
    "mX <- matrix(1:6, 3, 2, byrow = T) # 3 행 2 열\n",
    "mX"
   ]
  },
  {
   "cell_type": "markdown",
   "metadata": {},
   "source": [
    "#### Dimension 함수"
   ]
  },
  {
   "cell_type": "code",
   "execution_count": 93,
   "metadata": {},
   "outputs": [
    {
     "name": "stdout",
     "output_type": "stream",
     "text": [
      "[1] 1 2 3 4 5 6\n"
     ]
    }
   ],
   "source": [
    "mX2 <- 1:6\n",
    "print(mX2)"
   ]
  },
  {
   "cell_type": "code",
   "execution_count": 94,
   "metadata": {
    "collapsed": true
   },
   "outputs": [],
   "source": [
    "dim(mX2) <- c(3, 2) # (3행 2열로 기존 데이터를 정렬)"
   ]
  },
  {
   "cell_type": "code",
   "execution_count": 95,
   "metadata": {},
   "outputs": [
    {
     "data": {
      "text/html": [
       "<table>\n",
       "<tbody>\n",
       "\t<tr><td>1</td><td>4</td></tr>\n",
       "\t<tr><td>2</td><td>5</td></tr>\n",
       "\t<tr><td>3</td><td>6</td></tr>\n",
       "</tbody>\n",
       "</table>\n"
      ],
      "text/latex": [
       "\\begin{tabular}{ll}\n",
       "\t 1 & 4\\\\\n",
       "\t 2 & 5\\\\\n",
       "\t 3 & 6\\\\\n",
       "\\end{tabular}\n"
      ],
      "text/markdown": [
       "\n",
       "| 1 | 4 | \n",
       "| 2 | 5 | \n",
       "| 3 | 6 | \n",
       "\n",
       "\n"
      ],
      "text/plain": [
       "     [,1] [,2]\n",
       "[1,] 1    4   \n",
       "[2,] 2    5   \n",
       "[3,] 3    6   "
      ]
     },
     "metadata": {},
     "output_type": "display_data"
    }
   ],
   "source": [
    "mX2"
   ]
  },
  {
   "cell_type": "markdown",
   "metadata": {},
   "source": [
    "#### matrix 구조 읽기 쓰기 수정 삭제 (CRUD)"
   ]
  },
  {
   "cell_type": "code",
   "execution_count": 97,
   "metadata": {},
   "outputs": [
    {
     "name": "stderr",
     "output_type": "stream",
     "text": [
      "Warning message in rbind(c(101, 103), c(201, 202, 203), c(301, 302, 303)):\n",
      "“number of columns of result is not a multiple of vector length (arg 1)”"
     ]
    }
   ],
   "source": [
    "mM1 <- rbind(c(101, 103), c(201, 202, 203), c(301, 302, 303))"
   ]
  },
  {
   "cell_type": "code",
   "execution_count": 98,
   "metadata": {
    "collapsed": true
   },
   "outputs": [],
   "source": [
    "mM3 <- rbind(c(101, 102, 103), c(201, 202, 203), c(301, 302, 303))"
   ]
  },
  {
   "cell_type": "code",
   "execution_count": 99,
   "metadata": {},
   "outputs": [
    {
     "data": {
      "text/html": [
       "<ol class=list-inline>\n",
       "\t<li>101</li>\n",
       "\t<li>201</li>\n",
       "\t<li>301</li>\n",
       "\t<li>102</li>\n",
       "\t<li>202</li>\n",
       "\t<li>302</li>\n",
       "\t<li>103</li>\n",
       "\t<li>203</li>\n",
       "\t<li>303</li>\n",
       "</ol>\n"
      ],
      "text/latex": [
       "\\begin{enumerate*}\n",
       "\\item 101\n",
       "\\item 201\n",
       "\\item 301\n",
       "\\item 102\n",
       "\\item 202\n",
       "\\item 302\n",
       "\\item 103\n",
       "\\item 203\n",
       "\\item 303\n",
       "\\end{enumerate*}\n"
      ],
      "text/markdown": [
       "1. 101\n",
       "2. 201\n",
       "3. 301\n",
       "4. 102\n",
       "5. 202\n",
       "6. 302\n",
       "7. 103\n",
       "8. 203\n",
       "9. 303\n",
       "\n",
       "\n"
      ],
      "text/plain": [
       "[1] 101 201 301 102 202 302 103 203 303"
      ]
     },
     "metadata": {},
     "output_type": "display_data"
    }
   ],
   "source": [
    "# 조건에 따라 값 리턴하기\n",
    "\n",
    "mM3[mM3 > 100]"
   ]
  },
  {
   "cell_type": "code",
   "execution_count": 100,
   "metadata": {},
   "outputs": [
    {
     "data": {
      "text/html": [
       "<ol class=list-inline>\n",
       "\t<li>301</li>\n",
       "\t<li>302</li>\n",
       "\t<li>303</li>\n",
       "</ol>\n"
      ],
      "text/latex": [
       "\\begin{enumerate*}\n",
       "\\item 301\n",
       "\\item 302\n",
       "\\item 303\n",
       "\\end{enumerate*}\n"
      ],
      "text/markdown": [
       "1. 301\n",
       "2. 302\n",
       "3. 303\n",
       "\n",
       "\n"
      ],
      "text/plain": [
       "[1] 301 302 303"
      ]
     },
     "metadata": {},
     "output_type": "display_data"
    }
   ],
   "source": [
    "mM3[mM3[,3] > 300]"
   ]
  },
  {
   "cell_type": "code",
   "execution_count": 101,
   "metadata": {},
   "outputs": [
    {
     "data": {
      "text/html": [
       "<table>\n",
       "<tbody>\n",
       "\t<tr><td>301</td><td>302</td><td>303</td></tr>\n",
       "</tbody>\n",
       "</table>\n"
      ],
      "text/latex": [
       "\\begin{tabular}{lll}\n",
       "\t 301 & 302 & 303\\\\\n",
       "\\end{tabular}\n"
      ],
      "text/markdown": [
       "\n",
       "| 301 | 302 | 303 | \n",
       "\n",
       "\n"
      ],
      "text/plain": [
       "     [,1] [,2] [,3]\n",
       "[1,] 301  302  303 "
      ]
     },
     "metadata": {},
     "output_type": "display_data"
    }
   ],
   "source": [
    "mM3[mM3[,3] > 300 ,, drop = F]"
   ]
  },
  {
   "cell_type": "markdown",
   "metadata": {},
   "source": [
    "# 174 쪽 문제 풀어보기"
   ]
  },
  {
   "cell_type": "markdown",
   "metadata": {},
   "source": [
    "### logical 값을 인덱스로 이용할 경우 (P. 178)"
   ]
  },
  {
   "cell_type": "code",
   "execution_count": 102,
   "metadata": {},
   "outputs": [
    {
     "data": {
      "text/html": [
       "<table>\n",
       "<tbody>\n",
       "\t<tr><td>101</td><td>102</td><td>103</td></tr>\n",
       "\t<tr><td>201</td><td>202</td><td>203</td></tr>\n",
       "\t<tr><td>111</td><td>222</td><td>333</td></tr>\n",
       "</tbody>\n",
       "</table>\n"
      ],
      "text/latex": [
       "\\begin{tabular}{lll}\n",
       "\t 101 & 102 & 103\\\\\n",
       "\t 201 & 202 & 203\\\\\n",
       "\t 111 & 222 & 333\\\\\n",
       "\\end{tabular}\n"
      ],
      "text/markdown": [
       "\n",
       "| 101 | 102 | 103 | \n",
       "| 201 | 202 | 203 | \n",
       "| 111 | 222 | 333 | \n",
       "\n",
       "\n"
      ],
      "text/plain": [
       "     [,1] [,2] [,3]\n",
       "[1,] 101  102  103 \n",
       "[2,] 201  202  203 \n",
       "[3,] 111  222  333 "
      ]
     },
     "metadata": {},
     "output_type": "display_data"
    }
   ],
   "source": [
    "mX <- rbind(c(101, 102, 103), c(201, 202, 203), c(111, 222, 333))\n",
    "mX"
   ]
  },
  {
   "cell_type": "code",
   "execution_count": 103,
   "metadata": {},
   "outputs": [
    {
     "data": {
      "text/html": [
       "<table>\n",
       "<tbody>\n",
       "\t<tr><td>FALSE</td><td>FALSE</td><td>FALSE</td></tr>\n",
       "\t<tr><td> TRUE</td><td> TRUE</td><td> TRUE</td></tr>\n",
       "\t<tr><td>FALSE</td><td> TRUE</td><td> TRUE</td></tr>\n",
       "</tbody>\n",
       "</table>\n"
      ],
      "text/latex": [
       "\\begin{tabular}{lll}\n",
       "\t FALSE & FALSE & FALSE\\\\\n",
       "\t  TRUE &  TRUE &  TRUE\\\\\n",
       "\t FALSE &  TRUE &  TRUE\\\\\n",
       "\\end{tabular}\n"
      ],
      "text/markdown": [
       "\n",
       "| FALSE | FALSE | FALSE | \n",
       "|  TRUE |  TRUE |  TRUE | \n",
       "| FALSE |  TRUE |  TRUE | \n",
       "\n",
       "\n"
      ],
      "text/plain": [
       "     [,1]  [,2]  [,3] \n",
       "[1,] FALSE FALSE FALSE\n",
       "[2,]  TRUE  TRUE  TRUE\n",
       "[3,] FALSE  TRUE  TRUE"
      ]
     },
     "metadata": {},
     "output_type": "display_data"
    }
   ],
   "source": [
    "mX > 200"
   ]
  },
  {
   "cell_type": "code",
   "execution_count": 104,
   "metadata": {},
   "outputs": [
    {
     "data": {
      "text/html": [
       "<ol class=list-inline>\n",
       "\t<li>201</li>\n",
       "\t<li>202</li>\n",
       "\t<li>222</li>\n",
       "\t<li>203</li>\n",
       "\t<li>333</li>\n",
       "</ol>\n"
      ],
      "text/latex": [
       "\\begin{enumerate*}\n",
       "\\item 201\n",
       "\\item 202\n",
       "\\item 222\n",
       "\\item 203\n",
       "\\item 333\n",
       "\\end{enumerate*}\n"
      ],
      "text/markdown": [
       "1. 201\n",
       "2. 202\n",
       "3. 222\n",
       "4. 203\n",
       "5. 333\n",
       "\n",
       "\n"
      ],
      "text/plain": [
       "[1] 201 202 222 203 333"
      ]
     },
     "metadata": {},
     "output_type": "display_data"
    }
   ],
   "source": [
    "mX[mX > 200]"
   ]
  },
  {
   "cell_type": "code",
   "execution_count": 105,
   "metadata": {
    "collapsed": true
   },
   "outputs": [],
   "source": [
    "mY <- mX"
   ]
  },
  {
   "cell_type": "code",
   "execution_count": 106,
   "metadata": {},
   "outputs": [
    {
     "data": {
      "text/html": [
       "<table>\n",
       "<tbody>\n",
       "\t<tr><td>101</td><td>102</td><td>103</td></tr>\n",
       "\t<tr><td>  0</td><td>  0</td><td>  0</td></tr>\n",
       "\t<tr><td>111</td><td>  0</td><td>  0</td></tr>\n",
       "</tbody>\n",
       "</table>\n"
      ],
      "text/latex": [
       "\\begin{tabular}{lll}\n",
       "\t 101 & 102 & 103\\\\\n",
       "\t   0 &   0 &   0\\\\\n",
       "\t 111 &   0 &   0\\\\\n",
       "\\end{tabular}\n"
      ],
      "text/markdown": [
       "\n",
       "| 101 | 102 | 103 | \n",
       "|   0 |   0 |   0 | \n",
       "| 111 |   0 |   0 | \n",
       "\n",
       "\n"
      ],
      "text/plain": [
       "     [,1] [,2] [,3]\n",
       "[1,] 101  102  103 \n",
       "[2,]   0    0    0 \n",
       "[3,] 111    0    0 "
      ]
     },
     "metadata": {},
     "output_type": "display_data"
    }
   ],
   "source": [
    "mY[mY > 200] <- 0\n",
    "mY"
   ]
  },
  {
   "cell_type": "markdown",
   "metadata": {},
   "source": [
    "#### diag (대각) 이용한 대각 행렬"
   ]
  },
  {
   "cell_type": "code",
   "execution_count": 107,
   "metadata": {
    "collapsed": true
   },
   "outputs": [],
   "source": [
    "mX3 <- diag(2, 3, 3)"
   ]
  },
  {
   "cell_type": "code",
   "execution_count": 108,
   "metadata": {},
   "outputs": [
    {
     "data": {
      "text/html": [
       "<table>\n",
       "<tbody>\n",
       "\t<tr><td>  1</td><td>102</td><td>103</td></tr>\n",
       "\t<tr><td>201</td><td>  2</td><td>203</td></tr>\n",
       "\t<tr><td>111</td><td>222</td><td>  3</td></tr>\n",
       "</tbody>\n",
       "</table>\n"
      ],
      "text/latex": [
       "\\begin{tabular}{lll}\n",
       "\t   1 & 102 & 103\\\\\n",
       "\t 201 &   2 & 203\\\\\n",
       "\t 111 & 222 &   3\\\\\n",
       "\\end{tabular}\n"
      ],
      "text/markdown": [
       "\n",
       "|   1 | 102 | 103 | \n",
       "| 201 |   2 | 203 | \n",
       "| 111 | 222 |   3 | \n",
       "\n",
       "\n"
      ],
      "text/plain": [
       "     [,1] [,2] [,3]\n",
       "[1,]   1  102  103 \n",
       "[2,] 201    2  203 \n",
       "[3,] 111  222    3 "
      ]
     },
     "metadata": {},
     "output_type": "display_data"
    }
   ],
   "source": [
    "diag(mX) <- c(1, 2, 3)\n",
    "mX"
   ]
  },
  {
   "cell_type": "markdown",
   "metadata": {},
   "source": [
    "#### P. 191 colnames(), rownames()"
   ]
  },
  {
   "cell_type": "code",
   "execution_count": 110,
   "metadata": {},
   "outputs": [
    {
     "name": "stdout",
     "output_type": "stream",
     "text": [
      "'data.frame':\t32 obs. of  11 variables:\n",
      " $ mpg : num  21 21 22.8 21.4 18.7 18.1 14.3 24.4 22.8 19.2 ...\n",
      " $ cyl : num  6 6 4 6 8 6 8 4 4 6 ...\n",
      " $ disp: num  160 160 108 258 360 ...\n",
      " $ hp  : num  110 110 93 110 175 105 245 62 95 123 ...\n",
      " $ drat: num  3.9 3.9 3.85 3.08 3.15 2.76 3.21 3.69 3.92 3.92 ...\n",
      " $ wt  : num  2.62 2.88 2.32 3.21 3.44 ...\n",
      " $ qsec: num  16.5 17 18.6 19.4 17 ...\n",
      " $ vs  : num  0 0 1 1 0 1 0 1 1 1 ...\n",
      " $ am  : num  1 1 1 0 0 0 0 0 0 0 ...\n",
      " $ gear: num  4 4 4 3 3 3 3 4 4 4 ...\n",
      " $ carb: num  4 4 1 1 2 1 4 2 2 4 ...\n"
     ]
    }
   ],
   "source": [
    "str(mtcars)"
   ]
  },
  {
   "cell_type": "code",
   "execution_count": 111,
   "metadata": {
    "collapsed": true
   },
   "outputs": [],
   "source": [
    "?mtcars"
   ]
  },
  {
   "cell_type": "code",
   "execution_count": 113,
   "metadata": {},
   "outputs": [
    {
     "data": {
      "text/html": [
       "<ol class=list-inline>\n",
       "\t<li>'mpg'</li>\n",
       "\t<li>'cyl'</li>\n",
       "\t<li>'disp'</li>\n",
       "\t<li>'hp'</li>\n",
       "\t<li>'drat'</li>\n",
       "\t<li>'wt'</li>\n",
       "\t<li>'qsec'</li>\n",
       "\t<li>'vs'</li>\n",
       "\t<li>'am'</li>\n",
       "\t<li>'gear'</li>\n",
       "\t<li>'carb'</li>\n",
       "</ol>\n"
      ],
      "text/latex": [
       "\\begin{enumerate*}\n",
       "\\item 'mpg'\n",
       "\\item 'cyl'\n",
       "\\item 'disp'\n",
       "\\item 'hp'\n",
       "\\item 'drat'\n",
       "\\item 'wt'\n",
       "\\item 'qsec'\n",
       "\\item 'vs'\n",
       "\\item 'am'\n",
       "\\item 'gear'\n",
       "\\item 'carb'\n",
       "\\end{enumerate*}\n"
      ],
      "text/markdown": [
       "1. 'mpg'\n",
       "2. 'cyl'\n",
       "3. 'disp'\n",
       "4. 'hp'\n",
       "5. 'drat'\n",
       "6. 'wt'\n",
       "7. 'qsec'\n",
       "8. 'vs'\n",
       "9. 'am'\n",
       "10. 'gear'\n",
       "11. 'carb'\n",
       "\n",
       "\n"
      ],
      "text/plain": [
       " [1] \"mpg\"  \"cyl\"  \"disp\" \"hp\"   \"drat\" \"wt\"   \"qsec\" \"vs\"   \"am\"   \"gear\"\n",
       "[11] \"carb\""
      ]
     },
     "metadata": {},
     "output_type": "display_data"
    }
   ],
   "source": [
    "co1 <- colnames(mtcars)\n",
    "#co1 <- names(mtcars) # 도 동작합니다.\n",
    "co1"
   ]
  },
  {
   "cell_type": "code",
   "execution_count": 114,
   "metadata": {
    "collapsed": true
   },
   "outputs": [],
   "source": [
    "ro1 <- rownames(mtcars)"
   ]
  },
  {
   "cell_type": "markdown",
   "metadata": {},
   "source": [
    "#### P. 198 과제"
   ]
  },
  {
   "cell_type": "code",
   "execution_count": 115,
   "metadata": {},
   "outputs": [
    {
     "data": {
      "text/html": [
       "<table>\n",
       "<tbody>\n",
       "\t<tr><td>1</td><td>4</td></tr>\n",
       "\t<tr><td>2</td><td>5</td></tr>\n",
       "\t<tr><td>3</td><td>6</td></tr>\n",
       "</tbody>\n",
       "</table>\n"
      ],
      "text/latex": [
       "\\begin{tabular}{ll}\n",
       "\t 1 & 4\\\\\n",
       "\t 2 & 5\\\\\n",
       "\t 3 & 6\\\\\n",
       "\\end{tabular}\n"
      ],
      "text/markdown": [
       "\n",
       "| 1 | 4 | \n",
       "| 2 | 5 | \n",
       "| 3 | 6 | \n",
       "\n",
       "\n"
      ],
      "text/plain": [
       "     [,1] [,2]\n",
       "[1,] 1    4   \n",
       "[2,] 2    5   \n",
       "[3,] 3    6   "
      ]
     },
     "metadata": {},
     "output_type": "display_data"
    }
   ],
   "source": [
    "mX <- matrix(1:6, 3, 2)\n",
    "mX"
   ]
  },
  {
   "cell_type": "code",
   "execution_count": 117,
   "metadata": {},
   "outputs": [
    {
     "name": "stdout",
     "output_type": "stream",
     "text": [
      "     [,1] [,2] [,3]\n",
      "[1,]    1    3    5\n",
      "[2,]    2    4    6\n"
     ]
    }
   ],
   "source": [
    "mX <- matrix(1:6, 2, 3)\n",
    "print(mX)"
   ]
  },
  {
   "cell_type": "code",
   "execution_count": 123,
   "metadata": {},
   "outputs": [
    {
     "data": {
      "text/html": [
       "<table>\n",
       "<tbody>\n",
       "\t<tr><td>1 </td></tr>\n",
       "\t<tr><td>2 </td></tr>\n",
       "\t<tr><td>3 </td></tr>\n",
       "\t<tr><td>4 </td></tr>\n",
       "\t<tr><td>5,</td></tr>\n",
       "\t<tr><td>6 </td></tr>\n",
       "\t<tr><td>7 </td></tr>\n",
       "\t<tr><td>8 </td></tr>\n",
       "\t<tr><td>9 </td></tr>\n",
       "</tbody>\n",
       "</table>\n"
      ],
      "text/latex": [
       "\\begin{tabular}{l}\n",
       "\t 1 \\\\\n",
       "\t 2 \\\\\n",
       "\t 3 \\\\\n",
       "\t 4 \\\\\n",
       "\t 5,\\\\\n",
       "\t 6 \\\\\n",
       "\t 7 \\\\\n",
       "\t 8 \\\\\n",
       "\t 9 \\\\\n",
       "\\end{tabular}\n"
      ],
      "text/markdown": [
       "\n",
       "| 1  | \n",
       "| 2  | \n",
       "| 3  | \n",
       "| 4  | \n",
       "| 5, | \n",
       "| 6  | \n",
       "| 7  | \n",
       "| 8  | \n",
       "| 9  | \n",
       "\n",
       "\n"
      ],
      "text/plain": [
       "      [,1]\n",
       " [1,] 1   \n",
       " [2,] 2   \n",
       " [3,] 3   \n",
       " [4,] 4   \n",
       " [5,] 5,  \n",
       " [6,] 6   \n",
       " [7,] 7   \n",
       " [8,] 8   \n",
       " [9,] 9   "
      ]
     },
     "metadata": {},
     "output_type": "display_data"
    }
   ],
   "source": [
    "tex1 <- c(\"1\", \"2\", \"3\", \"4\", \"5,\", \"6\", \"7\", \"8\", \"9\")\n",
    "mXtex <- matrix(tex1)\n",
    "mXtex"
   ]
  },
  {
   "cell_type": "code",
   "execution_count": 124,
   "metadata": {},
   "outputs": [
    {
     "ename": "ERROR",
     "evalue": "Error in matrix(tex1, colClass = c(\"numeric\")): unused argument (colClass = c(\"numeric\"))\n",
     "output_type": "error",
     "traceback": [
      "Error in matrix(tex1, colClass = c(\"numeric\")): unused argument (colClass = c(\"numeric\"))\nTraceback:\n",
      "1. matrix(tex1, colClass = c(\"numeric\"))"
     ]
    }
   ],
   "source": [
    "mXtexnume <- matrix(tex1, colClass = c(\"numeric\"))"
   ]
  },
  {
   "cell_type": "code",
   "execution_count": 125,
   "metadata": {},
   "outputs": [
    {
     "name": "stderr",
     "output_type": "stream",
     "text": [
      "Warning message in eval(expr, envir, enclos):\n",
      "“NAs introduced by coercion”"
     ]
    }
   ],
   "source": [
    "tex1_inte <- as.integer(tex1)"
   ]
  },
  {
   "cell_type": "code",
   "execution_count": 126,
   "metadata": {},
   "outputs": [
    {
     "data": {
      "text/html": [
       "<ol class=list-inline>\n",
       "\t<li>1</li>\n",
       "\t<li>2</li>\n",
       "\t<li>3</li>\n",
       "\t<li>4</li>\n",
       "\t<li>NA</li>\n",
       "\t<li>6</li>\n",
       "\t<li>7</li>\n",
       "\t<li>8</li>\n",
       "\t<li>9</li>\n",
       "</ol>\n"
      ],
      "text/latex": [
       "\\begin{enumerate*}\n",
       "\\item 1\n",
       "\\item 2\n",
       "\\item 3\n",
       "\\item 4\n",
       "\\item NA\n",
       "\\item 6\n",
       "\\item 7\n",
       "\\item 8\n",
       "\\item 9\n",
       "\\end{enumerate*}\n"
      ],
      "text/markdown": [
       "1. 1\n",
       "2. 2\n",
       "3. 3\n",
       "4. 4\n",
       "5. NA\n",
       "6. 6\n",
       "7. 7\n",
       "8. 8\n",
       "9. 9\n",
       "\n",
       "\n"
      ],
      "text/plain": [
       "[1]  1  2  3  4 NA  6  7  8  9"
      ]
     },
     "metadata": {},
     "output_type": "display_data"
    }
   ],
   "source": [
    "tex1_inte"
   ]
  },
  {
   "cell_type": "markdown",
   "metadata": {},
   "source": [
    "## 교차표 만들기"
   ]
  },
  {
   "cell_type": "code",
   "execution_count": 130,
   "metadata": {},
   "outputs": [
    {
     "data": {
      "text/plain": [
       "    cyl\n",
       "gear     4     6     8\n",
       "   3  21.5  39.5 180.6\n",
       "   4 215.4  79.0   0.0\n",
       "   5  56.4  19.7  30.8"
      ]
     },
     "metadata": {},
     "output_type": "display_data"
    }
   ],
   "source": [
    "xtabs(mpg ~ gear + cyl, data = mtcars)\n",
    "\n",
    "# "
   ]
  },
  {
   "cell_type": "code",
   "execution_count": 128,
   "metadata": {
    "collapsed": true
   },
   "outputs": [],
   "source": [
    "?xtabs"
   ]
  },
  {
   "cell_type": "code",
   "execution_count": 131,
   "metadata": {},
   "outputs": [
    {
     "data": {
      "text/html": [
       "<table>\n",
       "<thead><tr><th></th><th scope=col>4</th><th scope=col>6</th><th scope=col>8</th></tr></thead>\n",
       "<tbody>\n",
       "\t<tr><th scope=row>3</th><td>1 </td><td>2 </td><td>12</td></tr>\n",
       "\t<tr><th scope=row>4</th><td>8 </td><td>4 </td><td>NA</td></tr>\n",
       "\t<tr><th scope=row>5</th><td>2 </td><td>1 </td><td> 2</td></tr>\n",
       "</tbody>\n",
       "</table>\n"
      ],
      "text/latex": [
       "\\begin{tabular}{r|lll}\n",
       "  & 4 & 6 & 8\\\\\n",
       "\\hline\n",
       "\t3 & 1  & 2  & 12\\\\\n",
       "\t4 & 8  & 4  & NA\\\\\n",
       "\t5 & 2  & 1  &  2\\\\\n",
       "\\end{tabular}\n"
      ],
      "text/markdown": [
       "\n",
       "| <!--/--> | 4 | 6 | 8 | \n",
       "|---|---|---|\n",
       "| 3 | 1  | 2  | 12 | \n",
       "| 4 | 8  | 4  | NA | \n",
       "| 5 | 2  | 1  |  2 | \n",
       "\n",
       "\n"
      ],
      "text/plain": [
       "  4 6 8 \n",
       "3 1 2 12\n",
       "4 8 4 NA\n",
       "5 2 1  2"
      ]
     },
     "metadata": {},
     "output_type": "display_data"
    }
   ],
   "source": [
    "tapply(mtcars$mpg, list(mtcars$gear, mtcars$cyl), length)"
   ]
  },
  {
   "cell_type": "code",
   "execution_count": 132,
   "metadata": {},
   "outputs": [
    {
     "data": {
      "text/plain": [
       "    cyl\n",
       "gear     4     6     8\n",
       "   3  21.5  39.5 180.6\n",
       "   4 215.4  79.0   0.0\n",
       "   5  56.4  19.7  30.8"
      ]
     },
     "metadata": {},
     "output_type": "display_data"
    },
    {
     "data": {
      "text/plain": [
       "    cyl\n",
       "gear      4      6      8\n",
       "   3 21.500 19.750 15.050\n",
       "   4 26.925 19.750       \n",
       "   5 28.200 19.700 15.400"
      ]
     },
     "metadata": {},
     "output_type": "display_data"
    }
   ],
   "source": [
    "xtabs(mpg ~ gear + cyl, data = mtcars)\n",
    "xtabs(mpg ~ gear + cyl, data = mtcars) / tapply(mtcars$mpg, list(mtcars$gear, mtcars$cyl), length)"
   ]
  },
  {
   "cell_type": "markdown",
   "metadata": {},
   "source": [
    "#### Auto 와 Manual 인 차량에 대해 기어와 실린더 갯수를 비교하여 연비 효율 분석"
   ]
  },
  {
   "cell_type": "code",
   "execution_count": 138,
   "metadata": {},
   "outputs": [
    {
     "ename": "ERROR",
     "evalue": "Error in a/b: non-conformable arrays\n",
     "output_type": "error",
     "traceback": [
      "Error in a/b: non-conformable arrays\nTraceback:\n"
     ]
    }
   ],
   "source": [
    "a <- xtabs(mpg ~ cyl + gear + am, data = mtcars)\n",
    "b <- tapply(mtcars$mpg, list(mtcars$gear, mtcars$cyl), length)\n",
    "\n",
    "a / b"
   ]
  },
  {
   "cell_type": "code",
   "execution_count": 139,
   "metadata": {},
   "outputs": [
    {
     "data": {
      "text/plain": [
       ", , am = 0\n",
       "\n",
       "   gear\n",
       "cyl     3     4     5\n",
       "  4  21.5  47.2   0.0\n",
       "  6  39.5  37.0   0.0\n",
       "  8 180.6   0.0   0.0\n",
       "\n",
       ", , am = 1\n",
       "\n",
       "   gear\n",
       "cyl     3     4     5\n",
       "  4   0.0 168.2  56.4\n",
       "  6   0.0  42.0  19.7\n",
       "  8   0.0   0.0  30.8\n"
      ]
     },
     "metadata": {},
     "output_type": "display_data"
    }
   ],
   "source": [
    "xtabs(mpg ~ cyl + gear + am, data = mtcars)"
   ]
  },
  {
   "cell_type": "markdown",
   "metadata": {},
   "source": []
  }
 ],
 "metadata": {
  "kernelspec": {
   "display_name": "R",
   "language": "R",
   "name": "ir"
  },
  "language_info": {
   "codemirror_mode": "r",
   "file_extension": ".r",
   "mimetype": "text/x-r-source",
   "name": "R",
   "pygments_lexer": "r",
   "version": "3.3.2"
  }
 },
 "nbformat": 4,
 "nbformat_minor": 2
}
