{
 "cells": [
  {
   "cell_type": "markdown",
   "metadata": {},
   "source": [
    "## 데이터 검증"
   ]
  },
  {
   "cell_type": "markdown",
   "metadata": {},
   "source": [
    "- 결측값\n",
    "- 이상값\n",
    "    - 정규분포를 기준으로 상한/하한값을 구한다."
   ]
  },
  {
   "cell_type": "markdown",
   "metadata": {},
   "source": [
    "### 결측치 처리 방법"
   ]
  },
  {
   "cell_type": "markdown",
   "metadata": {},
   "source": [
    "- 제거\n",
    "- 평균치 삽입법 (inserting means approach)\n",
    "    - 시계열에 한해서\n",
    "    - 나머지 자료를 이용하여 평균을 낸다.\n",
    "- 보삽법 (interpolation method)\n",
    "- 평가치추정법 (estimating value approach)"
   ]
  },
  {
   "cell_type": "markdown",
   "metadata": {},
   "source": [
    "### 이상치 판정 방법"
   ]
  },
  {
   "cell_type": "markdown",
   "metadata": {},
   "source": [
    "- 모수적 방법 (정규분포)\n",
    "    - 모수 --> 정규분포\n",
    "    - 회귀모형 기반 : 회귀모형 ($ax + b$) 에 적합(넣은) 후 잔차 (산점도에서 $ax + b$ 로 설명 안되는 면적) 분석\n",
    "    - 혼합 모수적 분포 기반 : 정상자료는 표준정규분포($N(0,1)$) 로 부터 생성되나, 비정상자료는 분산이 큰 정규분포($N(평균, 큰분산)$)\n",
    "    - 잔차가 유난히 큰 데이터는 이상치로 판단\n",
    "- 비모수적 방법론\n",
    "    - 정규분포인지 아닌지 모름 (정규분포가 아닐 것이 유력)\n",
    "    - 히스토그램을 그려봐서 판단\n",
    "    - 커널 함수 기반 : 데이터를 잘 설명하는 수식(함수 $f(x)$ 를 찾음)\n",
    "    - 데이터 전체에 대한 $f(x1)$ 를 계산하고 데이터 상위값과 하위값을 제거한 후 $f(x2)$ 를 계산\n",
    "    - $f(x1)$ 와 $f(x2)$ 값이 많이 차이나는 지점이 있으면 해당 데이터가 이상치다.\n",
    "- 군집기반\n",
    "    - 알고리즘\n",
    "        - SOM\n",
    "        - K-means\n",
    "        - EM\n",
    "- k근접 이웃기반\n",
    "    - 각 자료로부터 k번째 이웃까지 거리(유클리디안거리 $\\sqrt{x\\frac{2}{1}+x\\frac{2}{2}}$)를 보고 비정상 점수로 이용하는 방법\n",
    "    - 산점도에서 점의 그룹간의 상대적 밀도(density)를, 비정상점수로 계산\n",
    "    - 밀도가 낮은 그룹은 비정상(이상) 으로 판단한다.\n",
    "    - 비정상 점수는 == 밀도"
   ]
  },
  {
   "cell_type": "markdown",
   "metadata": {},
   "source": [
    "### table() 로 결측치 확인"
   ]
  },
  {
   "cell_type": "code",
   "execution_count": 1,
   "metadata": {
    "collapsed": true
   },
   "outputs": [],
   "source": [
    "a <- rep(c(NA, 1/0:3), 10)"
   ]
  },
  {
   "cell_type": "code",
   "execution_count": 2,
   "metadata": {},
   "outputs": [
    {
     "data": {
      "text/plain": [
       "a\n",
       "0.333333333333333               0.5                 1               Inf \n",
       "               10                10                10                10 "
      ]
     },
     "metadata": {},
     "output_type": "display_data"
    }
   ],
   "source": [
    "table(a)"
   ]
  },
  {
   "cell_type": "code",
   "execution_count": 3,
   "metadata": {},
   "outputs": [
    {
     "data": {
      "text/plain": [
       "a\n",
       "0.333333333333333               0.5                 1               Inf \n",
       "               10                10                10                10 \n",
       "             <NA> \n",
       "               10 "
      ]
     },
     "metadata": {},
     "output_type": "display_data"
    }
   ],
   "source": [
    "table(a, exclude = NULL)"
   ]
  },
  {
   "cell_type": "markdown",
   "metadata": {},
   "source": [
    "### 이상치 찾기"
   ]
  },
  {
   "cell_type": "code",
   "execution_count": 4,
   "metadata": {
    "collapsed": true
   },
   "outputs": [],
   "source": [
    "valida <- read.csv(\"datas/dataValidation.csv\", header = TRUE, encoding = \"UTF-8\")"
   ]
  },
  {
   "cell_type": "code",
   "execution_count": 5,
   "metadata": {},
   "outputs": [
    {
     "name": "stdout",
     "output_type": "stream",
     "text": [
      "'data.frame':\t150 obs. of  3 variables:\n",
      " $ gender: int  1 2 1 1 2 1 1 1 1 1 ...\n",
      " $ group : int  1 1 1 1 1 1 1 1 1 1 ...\n",
      " $ score : num  3.04 3.19 3.09 3.54 2.48 3.29 2.65 2.98 2.44 3.03 ...\n"
     ]
    }
   ],
   "source": [
    "str(valida)"
   ]
  },
  {
   "cell_type": "markdown",
   "metadata": {},
   "source": [
    "#### gender 에 1 보다 작거나 2 보다 큰 값이 있는지 확인"
   ]
  },
  {
   "cell_type": "code",
   "execution_count": 14,
   "metadata": {},
   "outputs": [
    {
     "data": {
      "text/html": [
       "<table>\n",
       "<thead><tr><th></th><th scope=col>gender</th><th scope=col>group</th><th scope=col>score</th></tr></thead>\n",
       "<tbody>\n",
       "\t<tr><th scope=row>30</th><td>5   </td><td>3   </td><td>2.97</td></tr>\n",
       "</tbody>\n",
       "</table>\n"
      ],
      "text/latex": [
       "\\begin{tabular}{r|lll}\n",
       "  & gender & group & score\\\\\n",
       "\\hline\n",
       "\t30 & 5    & 3    & 2.97\\\\\n",
       "\\end{tabular}\n"
      ],
      "text/markdown": [
       "\n",
       "| <!--/--> | gender | group | score | \n",
       "|---|\n",
       "| 30 | 5    | 3    | 2.97 | \n",
       "\n",
       "\n"
      ],
      "text/plain": [
       "   gender group score\n",
       "30 5      3     2.97 "
      ]
     },
     "metadata": {},
     "output_type": "display_data"
    }
   ],
   "source": [
    "valida[valida[,1] < 1 | valida[,1] > 2, ]"
   ]
  },
  {
   "cell_type": "markdown",
   "metadata": {},
   "source": [
    "#### group 에 3 보다 큰 값"
   ]
  },
  {
   "cell_type": "code",
   "execution_count": 15,
   "metadata": {},
   "outputs": [
    {
     "data": {
      "text/html": [
       "<table>\n",
       "<thead><tr><th></th><th scope=col>gender</th><th scope=col>group</th><th scope=col>score</th></tr></thead>\n",
       "<tbody>\n",
       "\t<tr><th scope=row>54</th><td>1   </td><td>7   </td><td>2.53</td></tr>\n",
       "</tbody>\n",
       "</table>\n"
      ],
      "text/latex": [
       "\\begin{tabular}{r|lll}\n",
       "  & gender & group & score\\\\\n",
       "\\hline\n",
       "\t54 & 1    & 7    & 2.53\\\\\n",
       "\\end{tabular}\n"
      ],
      "text/markdown": [
       "\n",
       "| <!--/--> | gender | group | score | \n",
       "|---|\n",
       "| 54 | 1    | 7    | 2.53 | \n",
       "\n",
       "\n"
      ],
      "text/plain": [
       "   gender group score\n",
       "54 1      7     2.53 "
      ]
     },
     "metadata": {},
     "output_type": "display_data"
    }
   ],
   "source": [
    "valida[valida[,2] > 3, ]"
   ]
  },
  {
   "cell_type": "markdown",
   "metadata": {},
   "source": [
    "#### score 가 5를 초과하는지 확인"
   ]
  },
  {
   "cell_type": "code",
   "execution_count": 16,
   "metadata": {},
   "outputs": [
    {
     "data": {
      "text/html": [
       "<table>\n",
       "<thead><tr><th></th><th scope=col>gender</th><th scope=col>group</th><th scope=col>score</th></tr></thead>\n",
       "<tbody>\n",
       "\t<tr><th scope=row>27</th><td>1 </td><td>1 </td><td> 7</td></tr>\n",
       "\t<tr><th scope=row>78</th><td>1 </td><td>2 </td><td>10</td></tr>\n",
       "</tbody>\n",
       "</table>\n"
      ],
      "text/latex": [
       "\\begin{tabular}{r|lll}\n",
       "  & gender & group & score\\\\\n",
       "\\hline\n",
       "\t27 & 1  & 1  &  7\\\\\n",
       "\t78 & 1  & 2  & 10\\\\\n",
       "\\end{tabular}\n"
      ],
      "text/markdown": [
       "\n",
       "| <!--/--> | gender | group | score | \n",
       "|---|---|\n",
       "| 27 | 1  | 1  |  7 | \n",
       "| 78 | 1  | 2  | 10 | \n",
       "\n",
       "\n"
      ],
      "text/plain": [
       "   gender group score\n",
       "27 1      1      7   \n",
       "78 1      2     10   "
      ]
     },
     "metadata": {},
     "output_type": "display_data"
    }
   ],
   "source": [
    "valida[valida[,3] > 5, ]"
   ]
  },
  {
   "cell_type": "markdown",
   "metadata": {},
   "source": [
    "### 그럼 이 이상치를 어떻게 할 것인가?\n",
    "\n",
    "- 삭제\n",
    "- 평균"
   ]
  },
  {
   "cell_type": "markdown",
   "metadata": {},
   "source": [
    "## 특정값 결측으로 처리하기"
   ]
  },
  {
   "cell_type": "code",
   "execution_count": 19,
   "metadata": {},
   "outputs": [
    {
     "data": {
      "text/html": [
       "<ol class=list-inline>\n",
       "\t<li>3</li>\n",
       "\t<li>1</li>\n",
       "\t<li>4</li>\n",
       "\t<li>5</li>\n",
       "\t<li>2</li>\n",
       "\t<li>2</li>\n",
       "\t<li>1</li>\n",
       "\t<li>2</li>\n",
       "\t<li>5</li>\n",
       "</ol>\n"
      ],
      "text/latex": [
       "\\begin{enumerate*}\n",
       "\\item 3\n",
       "\\item 1\n",
       "\\item 4\n",
       "\\item 5\n",
       "\\item 2\n",
       "\\item 2\n",
       "\\item 1\n",
       "\\item 2\n",
       "\\item 5\n",
       "\\end{enumerate*}\n"
      ],
      "text/markdown": [
       "1. 3\n",
       "2. 1\n",
       "3. 4\n",
       "4. 5\n",
       "5. 2\n",
       "6. 2\n",
       "7. 1\n",
       "8. 2\n",
       "9. 5\n",
       "\n",
       "\n"
      ],
      "text/plain": [
       "[1] 3 1 4 5 2 2 1 2 5\n",
       "Levels: 1 2 3 4 5"
      ]
     },
     "metadata": {},
     "output_type": "display_data"
    }
   ],
   "source": [
    "vScore <- c(3, 1, 4, 5, 2, 2, 1, 2, 5)\n",
    "factor(vScore)"
   ]
  },
  {
   "cell_type": "code",
   "execution_count": 24,
   "metadata": {},
   "outputs": [
    {
     "name": "stdout",
     "output_type": "stream",
     "text": [
      "[1] f2   f1   <NA> f3   <NA> <NA> f1   <NA> f3  \n",
      "Levels: f1 f2 f3\n"
     ]
    }
   ],
   "source": [
    "fScore2 <- factor(vScore, labels = \"f\", exclude = c(2, 4), ordered = is.ordered(vScore))\n",
    "print(fScore2)"
   ]
  },
  {
   "cell_type": "markdown",
   "metadata": {},
   "source": [
    "#### 서열성을 부여하기"
   ]
  },
  {
   "cell_type": "code",
   "execution_count": 25,
   "metadata": {},
   "outputs": [
    {
     "name": "stdout",
     "output_type": "stream",
     "text": [
      "[1] f2   f1   <NA> f3   <NA> <NA> f1   <NA> f3  \n",
      "Levels: f1 < f2 < f3\n"
     ]
    }
   ],
   "source": [
    "fScore3 <- factor(vScore, labels = \"f\", exclude = c(2, 4), ordered = T)\n",
    "print(fScore3)"
   ]
  },
  {
   "cell_type": "markdown",
   "metadata": {},
   "source": [
    "## 속성별로 NA 개수 파악하기"
   ]
  },
  {
   "cell_type": "code",
   "execution_count": 26,
   "metadata": {
    "collapsed": true
   },
   "outputs": [],
   "source": [
    "vX1 <- c(1, 2, 3, NA, 5, -9, -8, 1, 2, 3)\n",
    "vX2 <- c(1, 2, 3, 4, NA, NA, -9, 1, 2, -8)\n",
    "dTemp <- data.frame(vX1, vX2)"
   ]
  },
  {
   "cell_type": "code",
   "execution_count": 27,
   "metadata": {},
   "outputs": [
    {
     "data": {
      "text/html": [
       "<dl class=dl-horizontal>\n",
       "\t<dt>vX1</dt>\n",
       "\t\t<dd>1</dd>\n",
       "\t<dt>vX2</dt>\n",
       "\t\t<dd>2</dd>\n",
       "</dl>\n"
      ],
      "text/latex": [
       "\\begin{description*}\n",
       "\\item[vX1] 1\n",
       "\\item[vX2] 2\n",
       "\\end{description*}\n"
      ],
      "text/markdown": [
       "vX1\n",
       ":   1vX2\n",
       ":   2\n",
       "\n"
      ],
      "text/plain": [
       "vX1 vX2 \n",
       "  1   2 "
      ]
     },
     "metadata": {},
     "output_type": "display_data"
    }
   ],
   "source": [
    "apply(apply(dTemp, 2, is.na), 2, sum)"
   ]
  },
  {
   "cell_type": "markdown",
   "metadata": {},
   "source": [
    "## 속성별로 NA 의 갯수를 반환 예제 2"
   ]
  },
  {
   "cell_type": "code",
   "execution_count": 30,
   "metadata": {
    "collapsed": true
   },
   "outputs": [],
   "source": [
    "icheon_regression <- read.csv(\"datas/reproduct_temp_rain_UTF8.csv\")"
   ]
  },
  {
   "cell_type": "code",
   "execution_count": 31,
   "metadata": {},
   "outputs": [
    {
     "name": "stdout",
     "output_type": "stream",
     "text": [
      "'data.frame':\t14372 obs. of  47 variables:\n",
      " $ X.2            : int  1 2 3 4 5 6 7 8 9 10 ...\n",
      " $ 발생년월일2    : Factor w/ 1985 levels \"2010-01-01\",\"2010-01-02\",..: 1 1 1 1 1 1 1 1 1 1 ...\n",
      " $ X.1            : int  1 2 3 4 5 6 7 8 9 10 ...\n",
      " $ 발생년월일     : int  20100101 20100101 20100101 20100101 20100101 20100101 20100101 20100101 20100101 20100101 ...\n",
      " $ 발생시         : Factor w/ 24 levels \"00시\",\"01시\",..: 2 2 2 2 2 2 14 14 14 14 ...\n",
      " $ X              : num  127 127 127 127 127 ...\n",
      " $ Y              : num  37.3 37.3 37.3 37.3 37.3 ...\n",
      " $ 발생           : int  1 1 1 1 1 1 1 1 1 1 ...\n",
      " $ 사망           : int  0 0 0 0 0 0 0 0 0 0 ...\n",
      " $ 중상           : int  0 0 0 0 0 0 0 0 0 1 ...\n",
      " $ 경상           : int  0 1 0 0 0 0 1 1 1 0 ...\n",
      " $ 부상신고       : int  0 0 1 1 1 1 0 0 0 0 ...\n",
      " $ 사고유형       : Factor w/ 3 levels \"차대사람\",\"차대차\",..: 2 2 2 2 2 2 2 2 2 2 ...\n",
      " $ 사고유형.1     : Factor w/ 12 levels \"공작물충돌\",\"기타\",..: 11 11 11 11 11 11 11 11 11 11 ...\n",
      " $ 사고유형.2     : Factor w/ 14 levels \"공작물충돌\",\"기타\",..: 13 13 13 13 13 13 13 13 13 13 ...\n",
      " $ 인적유발요인   : Factor w/ 10 levels \"0\",\"고의적운전행태\",..: 8 8 8 8 8 8 7 7 7 7 ...\n",
      " $ 인적유발요일   : Factor w/ 27 levels \"0\",\"갑자기끼어듬\",..: 7 7 7 7 7 7 20 20 20 20 ...\n",
      " $ 차량적유발요인 : Factor w/ 8 levels \"\",\"기타 차량적요인 있음\",..: 7 7 7 7 7 7 7 7 7 7 ...\n",
      " $ 법규위반       : Factor w/ 2 levels \"운전자법규위반\",..: 1 1 1 1 1 1 1 1 1 1 ...\n",
      " $ 법규위반.1     : Factor w/ 18 levels \"과로\",\"과속\",..: 15 15 15 15 15 15 10 10 10 10 ...\n",
      " $ 법규위반.2     : Factor w/ 27 levels \"181\",\"과로시의 운전금지 위반\",..: 21 21 21 21 21 21 10 10 10 10 ...\n",
      " $ 법규위반.8종.  : Factor w/ 8 levels \"과속\",\"교차로 통행방법 위반\",..: 3 3 3 3 3 3 7 7 7 7 ...\n",
      " $ 행동유형       : Factor w/ 2 levels \"기타불명\",\"자동차 등\": 2 2 2 2 2 2 2 2 2 2 ...\n",
      " $ 행동유형.1     : Factor w/ 10 levels \"U턴중\",\"기타\",..: 5 5 5 5 5 5 7 7 7 7 ...\n",
      " $ 당사자종별     : Factor w/ 11 levels \"건설기계\",\"기타\",..: 5 5 5 5 5 5 11 11 11 11 ...\n",
      " $ 당사자종별.1   : Factor w/ 11 levels \"건설기계\",\"경형\",..: 11 11 11 11 11 11 8 8 8 8 ...\n",
      " $ 차량용도별     : Factor w/ 4 levels \"기타불명\",\"비사업용차량\",..: 2 2 2 2 2 2 2 2 2 2 ...\n",
      " $ 차량용도별.1   : Factor w/ 23 levels \"구역화물\",\"기타건설기계\",..: 13 13 13 13 13 13 4 4 4 4 ...\n",
      " $ 차량용도별.2   : Factor w/ 28 levels \"개별화물\",\"구역화물\",..: 16 16 16 16 16 16 6 6 6 6 ...\n",
      " $ 도로형태       : Factor w/ 4 levels \"고가도로위\",\"교차로\",..: 2 2 2 2 2 2 4 4 4 4 ...\n",
      " $ 도로형태.1     : Factor w/ 9 levels \"고가도로위\",\"교량위\",..: 3 3 3 3 3 3 6 6 6 6 ...\n",
      " $ 기상상태       : Factor w/ 6 levels \"기타/불명\",\"눈\",..: 3 3 3 3 3 3 3 3 3 3 ...\n",
      " $ 사상자성별     : Factor w/ 4 levels \"0\",\"기타불명\",..: 3 3 4 4 4 4 3 3 3 4 ...\n",
      " $ 사상자연령     : Factor w/ 96 levels \"10세\",\"11세\",..: 52 56 6 18 45 70 17 41 49 41 ...\n",
      " $ 개요           : Factor w/ 4619 levels \"\",\"****호 포터 화물차가 후진을 하던 중, 주차되어 있던 ****호 포터의 오른쪽 뒷부분을 ****호 포터의 왼쪽 측면부분으로 1차 충격 후, \"| __truncated__,..: 3846 3846 3846 3846 3846 3846 2058 2058 2058 2058 ...\n",
      " $ year           : int  2010 2010 2010 2010 2010 2010 2010 2010 2010 2010 ...\n",
      " $ mon            : int  1 1 1 1 1 1 1 1 1 1 ...\n",
      " $ day            : int  1 1 1 1 1 1 1 1 1 1 ...\n",
      " $ 발생년월일2_2  : Factor w/ 1985 levels \"2010-01-01\",\"2010-01-02\",..: 1 1 1 1 1 1 1 1 1 1 ...\n",
      " $ weekdays       : Factor w/ 7 levels \"금요일\",\"목요일\",..: 1 1 1 1 1 1 1 1 1 1 ...\n",
      " $ 주중토일       : Factor w/ 3 levels \"일요일\",\"주중\",..: 2 2 2 2 2 2 2 2 2 2 ...\n",
      " $ 발생시_num     : int  1 1 1 1 1 1 13 13 13 13 ...\n",
      " $ 발생시_interval: Factor w/ 7 levels \"0~6:59\",\"12~14:59\",..: 1 1 1 1 1 1 2 2 2 2 ...\n",
      " $ 강수량.mm.     : num  NA NA NA NA NA NA NA NA NA NA ...\n",
      " $ 평균기온       : num  -9.1 -9.1 -9.1 -9.1 -9.1 -9.1 -9.1 -9.1 -9.1 -9.1 ...\n",
      " $ 최저기온       : num  -17 -17 -17 -17 -17 -17 -17 -17 -17 -17 ...\n",
      " $ 최고기온       : num  -3.9 -3.9 -3.9 -3.9 -3.9 -3.9 -3.9 -3.9 -3.9 -3.9 ...\n"
     ]
    }
   ],
   "source": [
    "str(icheon_regression)"
   ]
  },
  {
   "cell_type": "code",
   "execution_count": 32,
   "metadata": {},
   "outputs": [
    {
     "data": {
      "text/plain": [
       "      X.2            발생년월일2         X.1          발생년월일      \n",
       " Min.   :    1   2012-09-14:   28   Min.   :    1   Min.   :20100101  \n",
       " 1st Qu.: 3594   2014-04-29:   28   1st Qu.: 3594   1st Qu.:20110605  \n",
       " Median : 7186   2015-10-03:   28   Median : 7186   Median :20121111  \n",
       " Mean   : 7186   2011-09-24:   27   Mean   : 7186   Mean   :20124947  \n",
       " 3rd Qu.:10779   2010-01-01:   26   3rd Qu.:10779   3rd Qu.:20140610  \n",
       " Max.   :14372   2011-01-12:   26   Max.   :14372   Max.   :20151231  \n",
       "                 (Other)   :14209                                     \n",
       "     발생시           X               Y              발생        사망        \n",
       " 18시   :1062   Min.   :126.9   Min.   :37.04   Min.   :1   Min.   :0.00000  \n",
       " 21시   : 877   1st Qu.:127.4   1st Qu.:37.24   1st Qu.:1   1st Qu.:0.00000  \n",
       " 20시   : 860   Median :127.5   Median :37.27   Median :1   Median :0.00000  \n",
       " 19시   : 849   Mean   :127.5   Mean   :37.25   Mean   :1   Mean   :0.01406  \n",
       " 22시   : 820   3rd Qu.:127.5   3rd Qu.:37.28   3rd Qu.:1   3rd Qu.:0.00000  \n",
       " 15시   : 771   Max.   :127.6   Max.   :37.71   Max.   :1   Max.   :1.00000  \n",
       " (Other):9133                                                                \n",
       "      중상             경상           부상신고           사고유형    \n",
       " Min.   :0.0000   Min.   :0.0000   Min.   :0.00000   차대사람: 1880  \n",
       " 1st Qu.:0.0000   1st Qu.:0.0000   1st Qu.:0.00000   차대차  :11654  \n",
       " Median :0.0000   Median :0.0000   Median :0.00000   차량단독:  838  \n",
       " Mean   :0.1605   Mean   :0.4535   Mean   :0.03465                   \n",
       " 3rd Qu.:0.0000   3rd Qu.:1.0000   3rd Qu.:0.00000                   \n",
       " Max.   :4.0000   Max.   :5.0000   Max.   :2.00000                   \n",
       "                                                                     \n",
       "        사고유형.1           사고유형.2                     인적유발요인 \n",
       " 측면직각충돌:4720   측면직각충돌 :4720   전방주시태만            :6710  \n",
       " 추돌        :4225   기타         :2589   0                       :2313  \n",
       " 기타        :2589   주정차중 추돌:2187   심신건강상태불량        :2193  \n",
       " 정면충돌    : 820   진행중 추돌  :2038   심리적요인에의한판단잘못:1096  \n",
       " 횡단중      : 773   정면충돌     : 820   인적요인없음            : 756  \n",
       " 공작물충돌  : 479   횡단중       : 773   기타인적요인있음        : 454  \n",
       " (Other)     : 766   (Other)      :1245   (Other)                 : 850  \n",
       "             인적유발요일               차량적유발요인            법규위반    \n",
       " 기타              :4695   차량적요인 없음     :11566   운전자법규위반:14361  \n",
       " 0                 :2313                       : 2313   정비불량      :   11  \n",
       " 주취(전날주취포함):2155   기타/불명           :  324                         \n",
       " 방심,딴생각       :1660   기타 차량적요인 있음:   80                         \n",
       " 인적요인 없음     : 756   타이어 불량         :   45                         \n",
       " 서두름            : 517   제동장치 불량       :   35                         \n",
       " (Other)           :2276   (Other)             :    9                         \n",
       "                       법규위반.1  \n",
       " 안전운전 의무 불이행       :8253  \n",
       " 신호위반                   :1922  \n",
       " 안전거리 미확보            :1209  \n",
       " 중앙선 침범                :1065  \n",
       " 교차로 통행방법 위반       : 656  \n",
       " 직진 및 우회전차의 통행방해: 432  \n",
       " (Other)                    : 835  \n",
       "                                           법규위반.2  \n",
       " 안전운전 의무 불이행                           :8253  \n",
       " 신호 또는 지시에 따를 의무위반(정지선 위반포함):1922  \n",
       " 안전거리 미확보(급제동포함)                    :1209  \n",
       " 중앙선 침범                                    :1065  \n",
       " 교차로 통행방법 위반                           : 656  \n",
       " 직진 및 우회전차의 통행방해                    : 432  \n",
       " (Other)                                        : 835  \n",
       "              법규위반.8종.       행동유형          행동유형.1  \n",
       " 안전운전 의무 불이행:8253   기타불명 :  275   직진중    :9181  \n",
       " 신호위반            :1922   자동차 등:14097   좌우회전중:2521  \n",
       " 안전거리 미확보     :1209                     진로변경중:1090  \n",
       " 중앙선 침범         :1065                     후진중    : 371  \n",
       " 기타                :1007                     U턴중     : 337  \n",
       " 교차로 통행방법 위반: 656                     기타/불명 : 275  \n",
       " (Other)             : 260                     (Other)   : 597  \n",
       "            당사자종별             당사자종별.1         차량용도별   \n",
       " 승용차          :9195   중형            :6279   기타불명    :  223  \n",
       " 화물차          :2688   소형            :4180   비사업용차량:11524  \n",
       " 승합차          : 784   대형            :1932   사업용차량  : 2493  \n",
       " 이륜차          : 698   경형            :1044   자전거      :  132  \n",
       " 원동기장치자전거: 368   원동기장치자전거: 368                       \n",
       " 불명            : 220   불명            : 220                       \n",
       " (Other)         : 419   (Other)         : 349                       \n",
       "     차량용도별.1      차량용도별.2        도로형태         도로형태.1  \n",
       " 승용차    :8251   승용차    :8251   고가도로위:   4   기타단일로:6191  \n",
       " 기타화물차:1647   기타화물차:1647   교차로    :7668   교차로내  :4181  \n",
       " 이륜차    : 675   이륜차    : 675   기타/불명 : 263   교차로부근:3487  \n",
       " 화물      : 563   렌트카    : 525   단일로    :6437   기타/불명 : 263  \n",
       " 렌트카    : 525   기타      : 466                     횡단보도상: 151  \n",
       " 사업용기타: 466   일반화물  : 417                     교량위    :  54  \n",
       " (Other)   :2245   (Other)   :2391                     (Other)   :  45  \n",
       "      기상상태        사상자성별     사상자연령   \n",
       " 기타/불명:   26   0       : 349   불명   :  529  \n",
       " 눈       :  203   기타불명: 181   42세   :  345  \n",
       " 맑음     :11999   남      :9548   49세   :  343  \n",
       " 비       : 1351   여      :4294   50세   :  343  \n",
       " 안개     :  163                   51세   :  343  \n",
       " 흐림     :  630                   52세   :  331  \n",
       "                                   (Other):12138  \n",
       "                                                                                                                                                                                                                                                                                                                                                                                                                               개요      \n",
       "                                                                                                                                                                                                                                                                                                                                                                                                                                 : 2313  \n",
       " 사고1차량은 장호원 쪽에서 충주 쪽으로 시속 약110킬로미터의 속력으로 1차로로 진행을 하던중 사고지점에 이르러 전방으로 앞서 진행하는 사고2차량이 브레이크등이 켜지는 것을 보고 제동을 하였으나 거리가 근접하여 추돌을 할것 같아 이를 피하기 위해 우측으로 핸들을 틀면서 도로우측 도로벽을 사고1차량의 우측앞범퍼 부분으로 충격을 하고 튕겨나오면서 사고2차량의 우측앞바퀴 부분을 사고1차량의 좌측앞휀다 부분으로 충격을 한 사고임.:   23  \n",
       " 사고 #1차량인 25인승 버스 차량이 정차중이던 사고 #2 운전연습용 화물 차량을 발견치 못하고 추돌하여 그 충격으로 #2 차량이 밀리면서 정차하고 있는 사고#3인 토스카, 사고#4인 포터차량, 사고#5 차량인 스타렉스를 연쇄적으로 추돌된 사고임.                                                                                                                                                                                           :   22  \n",
       " 사고1차량은 이천 쪽에서 백사 쪽으로 2차로를 따라 진행하던 중 사고 장소에 이르러 전방주시를 제대로 하지 못하여 신호대기 정지하고 있던 사고2차량의 뒤 범퍼부분을 사고1차량의 앞 범퍼부분으로 추돌한 사고임.                                                                                                                                                                                                                       :   20  \n",
       " #1 3.5톤 화물차량이 서울쪽에서 장호원쪽으로 진행중 전방 적색신호를 보고 정지한 #2 스타렉스 차량을 추돌하고 이어 충격으로 #2차량이 같은 방향으로 앞에 정차해있던 #3쏘나타 승용차량을 추돌하고 #3차량도 #2차량이 추돌한 충격으로 앞에 정지해 있던 #4포터 차량을 추돌한 것임.                                                                                                                                                      :   16  \n",
       " #1차량은 좌회전 차로에서 이천 방면에서 호법스포츠센타 방향으로 직진신호에 좌회전 중, 용인 방면에서 이천 방향으로 직진하는 #2차량과 충돌한 사고 임.                                                                                                                                                                                                                                                                              :   14  \n",
       " (Other)                                                                                                                                                                                                                                                                                                                                                                                                                         :11964  \n",
       "      year           mon              day           발생년월일2_2  \n",
       " Min.   :2010   Min.   : 1.000   Min.   : 1.00   2012-09-14:   28  \n",
       " 1st Qu.:2011   1st Qu.: 4.000   1st Qu.: 8.00   2014-04-29:   28  \n",
       " Median :2012   Median : 7.000   Median :16.00   2015-10-03:   28  \n",
       " Mean   :2012   Mean   : 6.666   Mean   :15.94   2011-09-24:   27  \n",
       " 3rd Qu.:2014   3rd Qu.:10.000   3rd Qu.:24.00   2010-01-01:   26  \n",
       " Max.   :2015   Max.   :12.000   Max.   :31.00   2011-01-12:   26  \n",
       "                                                 (Other)   :14209  \n",
       "   weekdays      주중토일       발생시_num    발생시_interval   강수량.mm.    \n",
       " 금요일:2228   일요일: 1925   Min.   : 0.00   0~6:59  :2152   Min.   :  0.00  \n",
       " 목요일:2044   주중  :10210   1st Qu.: 9.00   12~14:59:1893   1st Qu.:  0.50  \n",
       " 수요일:2024   토요일: 2237   Median :15.00   15~17:59:2187   Median :  3.20  \n",
       " 월요일:1913                  Mean   :13.69   18~21:59:3648   Mean   : 12.02  \n",
       " 일요일:1925                  3rd Qu.:19.00   22~23:59:1469   3rd Qu.: 12.50  \n",
       " 토요일:2237                  Max.   :23.00   7~8:59  :1239   Max.   :247.50  \n",
       " 화요일:2001                                  9~11:59 :1784   NA's   :9175    \n",
       "    평균기온         최저기온          최고기온    \n",
       " Min.   :-14.80   Min.   :-22.800   Min.   :-8.70  \n",
       " 1st Qu.:  3.00   1st Qu.: -2.600   1st Qu.: 9.00  \n",
       " Median : 13.60   Median :  7.900   Median :20.50  \n",
       " Mean   : 12.18   Mean   :  6.877   Mean   :18.24  \n",
       " 3rd Qu.: 22.00   3rd Qu.: 17.000   3rd Qu.:28.00  \n",
       " Max.   : 30.00   Max.   : 25.300   Max.   :37.70  \n",
       " NA's   :19       NA's   :8         NA's   :8      "
      ]
     },
     "metadata": {},
     "output_type": "display_data"
    }
   ],
   "source": [
    "summary(icheon_regression)"
   ]
  },
  {
   "cell_type": "code",
   "execution_count": 33,
   "metadata": {},
   "outputs": [
    {
     "data": {
      "text/html": [
       "<dl class=dl-horizontal>\n",
       "\t<dt>X.2</dt>\n",
       "\t\t<dd>0</dd>\n",
       "\t<dt>발생년월일2</dt>\n",
       "\t\t<dd>0</dd>\n",
       "\t<dt>X.1</dt>\n",
       "\t\t<dd>0</dd>\n",
       "\t<dt>발생년월일</dt>\n",
       "\t\t<dd>0</dd>\n",
       "\t<dt>발생시</dt>\n",
       "\t\t<dd>0</dd>\n",
       "\t<dt>X</dt>\n",
       "\t\t<dd>0</dd>\n",
       "\t<dt>Y</dt>\n",
       "\t\t<dd>0</dd>\n",
       "\t<dt>발생</dt>\n",
       "\t\t<dd>0</dd>\n",
       "\t<dt>사망</dt>\n",
       "\t\t<dd>0</dd>\n",
       "\t<dt>중상</dt>\n",
       "\t\t<dd>0</dd>\n",
       "\t<dt>경상</dt>\n",
       "\t\t<dd>0</dd>\n",
       "\t<dt>부상신고</dt>\n",
       "\t\t<dd>0</dd>\n",
       "\t<dt>사고유형</dt>\n",
       "\t\t<dd>0</dd>\n",
       "\t<dt>사고유형.1</dt>\n",
       "\t\t<dd>0</dd>\n",
       "\t<dt>사고유형.2</dt>\n",
       "\t\t<dd>0</dd>\n",
       "\t<dt>인적유발요인</dt>\n",
       "\t\t<dd>0</dd>\n",
       "\t<dt>인적유발요일</dt>\n",
       "\t\t<dd>0</dd>\n",
       "\t<dt>차량적유발요인</dt>\n",
       "\t\t<dd>0</dd>\n",
       "\t<dt>법규위반</dt>\n",
       "\t\t<dd>0</dd>\n",
       "\t<dt>법규위반.1</dt>\n",
       "\t\t<dd>0</dd>\n",
       "\t<dt>법규위반.2</dt>\n",
       "\t\t<dd>0</dd>\n",
       "\t<dt>법규위반.8종.</dt>\n",
       "\t\t<dd>0</dd>\n",
       "\t<dt>행동유형</dt>\n",
       "\t\t<dd>0</dd>\n",
       "\t<dt>행동유형.1</dt>\n",
       "\t\t<dd>0</dd>\n",
       "\t<dt>당사자종별</dt>\n",
       "\t\t<dd>0</dd>\n",
       "\t<dt>당사자종별.1</dt>\n",
       "\t\t<dd>0</dd>\n",
       "\t<dt>차량용도별</dt>\n",
       "\t\t<dd>0</dd>\n",
       "\t<dt>차량용도별.1</dt>\n",
       "\t\t<dd>0</dd>\n",
       "\t<dt>차량용도별.2</dt>\n",
       "\t\t<dd>0</dd>\n",
       "\t<dt>도로형태</dt>\n",
       "\t\t<dd>0</dd>\n",
       "\t<dt>도로형태.1</dt>\n",
       "\t\t<dd>0</dd>\n",
       "\t<dt>기상상태</dt>\n",
       "\t\t<dd>0</dd>\n",
       "\t<dt>사상자성별</dt>\n",
       "\t\t<dd>0</dd>\n",
       "\t<dt>사상자연령</dt>\n",
       "\t\t<dd>0</dd>\n",
       "\t<dt>개요</dt>\n",
       "\t\t<dd>0</dd>\n",
       "\t<dt>year</dt>\n",
       "\t\t<dd>0</dd>\n",
       "\t<dt>mon</dt>\n",
       "\t\t<dd>0</dd>\n",
       "\t<dt>day</dt>\n",
       "\t\t<dd>0</dd>\n",
       "\t<dt>발생년월일2_2</dt>\n",
       "\t\t<dd>0</dd>\n",
       "\t<dt>weekdays</dt>\n",
       "\t\t<dd>0</dd>\n",
       "\t<dt>주중토일</dt>\n",
       "\t\t<dd>0</dd>\n",
       "\t<dt>발생시_num</dt>\n",
       "\t\t<dd>0</dd>\n",
       "\t<dt>발생시_interval</dt>\n",
       "\t\t<dd>0</dd>\n",
       "\t<dt>강수량.mm.</dt>\n",
       "\t\t<dd>9175</dd>\n",
       "\t<dt>평균기온</dt>\n",
       "\t\t<dd>19</dd>\n",
       "\t<dt>최저기온</dt>\n",
       "\t\t<dd>8</dd>\n",
       "\t<dt>최고기온</dt>\n",
       "\t\t<dd>8</dd>\n",
       "</dl>\n"
      ],
      "text/latex": [
       "\\begin{description*}\n",
       "\\item[X.2] 0\n",
       "\\item[발생년월일2] 0\n",
       "\\item[X.1] 0\n",
       "\\item[발생년월일] 0\n",
       "\\item[발생시] 0\n",
       "\\item[X] 0\n",
       "\\item[Y] 0\n",
       "\\item[발생] 0\n",
       "\\item[사망] 0\n",
       "\\item[중상] 0\n",
       "\\item[경상] 0\n",
       "\\item[부상신고] 0\n",
       "\\item[사고유형] 0\n",
       "\\item[사고유형.1] 0\n",
       "\\item[사고유형.2] 0\n",
       "\\item[인적유발요인] 0\n",
       "\\item[인적유발요일] 0\n",
       "\\item[차량적유발요인] 0\n",
       "\\item[법규위반] 0\n",
       "\\item[법규위반.1] 0\n",
       "\\item[법규위반.2] 0\n",
       "\\item[법규위반.8종.] 0\n",
       "\\item[행동유형] 0\n",
       "\\item[행동유형.1] 0\n",
       "\\item[당사자종별] 0\n",
       "\\item[당사자종별.1] 0\n",
       "\\item[차량용도별] 0\n",
       "\\item[차량용도별.1] 0\n",
       "\\item[차량용도별.2] 0\n",
       "\\item[도로형태] 0\n",
       "\\item[도로형태.1] 0\n",
       "\\item[기상상태] 0\n",
       "\\item[사상자성별] 0\n",
       "\\item[사상자연령] 0\n",
       "\\item[개요] 0\n",
       "\\item[year] 0\n",
       "\\item[mon] 0\n",
       "\\item[day] 0\n",
       "\\item[발생년월일2\\textbackslash{}\\_2] 0\n",
       "\\item[weekdays] 0\n",
       "\\item[주중토일] 0\n",
       "\\item[발생시\\textbackslash{}\\_num] 0\n",
       "\\item[발생시\\textbackslash{}\\_interval] 0\n",
       "\\item[강수량.mm.] 9175\n",
       "\\item[평균기온] 19\n",
       "\\item[최저기온] 8\n",
       "\\item[최고기온] 8\n",
       "\\end{description*}\n"
      ],
      "text/markdown": [
       "X.2\n",
       ":   0발생년월일2\n",
       ":   0X.1\n",
       ":   0발생년월일\n",
       ":   0발생시\n",
       ":   0X\n",
       ":   0Y\n",
       ":   0발생\n",
       ":   0사망\n",
       ":   0중상\n",
       ":   0경상\n",
       ":   0부상신고\n",
       ":   0사고유형\n",
       ":   0사고유형.1\n",
       ":   0사고유형.2\n",
       ":   0인적유발요인\n",
       ":   0인적유발요일\n",
       ":   0차량적유발요인\n",
       ":   0법규위반\n",
       ":   0법규위반.1\n",
       ":   0법규위반.2\n",
       ":   0법규위반.8종.\n",
       ":   0행동유형\n",
       ":   0행동유형.1\n",
       ":   0당사자종별\n",
       ":   0당사자종별.1\n",
       ":   0차량용도별\n",
       ":   0차량용도별.1\n",
       ":   0차량용도별.2\n",
       ":   0도로형태\n",
       ":   0도로형태.1\n",
       ":   0기상상태\n",
       ":   0사상자성별\n",
       ":   0사상자연령\n",
       ":   0개요\n",
       ":   0year\n",
       ":   0mon\n",
       ":   0day\n",
       ":   0발생년월일2_2\n",
       ":   0weekdays\n",
       ":   0주중토일\n",
       ":   0발생시_num\n",
       ":   0발생시_interval\n",
       ":   0강수량.mm.\n",
       ":   9175평균기온\n",
       ":   19최저기온\n",
       ":   8최고기온\n",
       ":   8\n",
       "\n"
      ],
      "text/plain": [
       "            X.2     발생년월일2             X.1      발생년월일          발생시 \n",
       "              0               0               0               0               0 \n",
       "              X               Y            발생            사망            중상 \n",
       "              0               0               0               0               0 \n",
       "           경상        부상신고        사고유형      사고유형.1      사고유형.2 \n",
       "              0               0               0               0               0 \n",
       "   인적유발요인    인적유발요일  차량적유발요인        법규위반      법규위반.1 \n",
       "              0               0               0               0               0 \n",
       "     법규위반.2   법규위반.8종.        행동유형      행동유형.1      당사자종별 \n",
       "              0               0               0               0               0 \n",
       "   당사자종별.1      차량용도별    차량용도별.1    차량용도별.2        도로형태 \n",
       "              0               0               0               0               0 \n",
       "     도로형태.1        기상상태      사상자성별      사상자연령            개요 \n",
       "              0               0               0               0               0 \n",
       "           year             mon             day   발생년월일2_2        weekdays \n",
       "              0               0               0               0               0 \n",
       "       주중토일      발생시_num 발생시_interval      강수량.mm.        평균기온 \n",
       "              0               0               0            9175              19 \n",
       "       최저기온        최고기온 \n",
       "              8               8 "
      ]
     },
     "metadata": {},
     "output_type": "display_data"
    }
   ],
   "source": [
    "apply(apply(icheon_regression, 2, is.na), 2, sum)"
   ]
  },
  {
   "cell_type": "code",
   "execution_count": 34,
   "metadata": {},
   "outputs": [
    {
     "data": {
      "text/html": [
       "<ol class=list-inline>\n",
       "\t<li>1218</li>\n",
       "\t<li>1219</li>\n",
       "\t<li>1220</li>\n",
       "\t<li>1221</li>\n",
       "\t<li>1222</li>\n",
       "\t<li>1223</li>\n",
       "\t<li>1224</li>\n",
       "\t<li>1225</li>\n",
       "\t<li>8238</li>\n",
       "\t<li>8239</li>\n",
       "\t<li>8240</li>\n",
       "\t<li>8241</li>\n",
       "\t<li>8242</li>\n",
       "\t<li>8243</li>\n",
       "\t<li>8244</li>\n",
       "\t<li>8245</li>\n",
       "\t<li>8246</li>\n",
       "\t<li>8247</li>\n",
       "\t<li>8248</li>\n",
       "</ol>\n"
      ],
      "text/latex": [
       "\\begin{enumerate*}\n",
       "\\item 1218\n",
       "\\item 1219\n",
       "\\item 1220\n",
       "\\item 1221\n",
       "\\item 1222\n",
       "\\item 1223\n",
       "\\item 1224\n",
       "\\item 1225\n",
       "\\item 8238\n",
       "\\item 8239\n",
       "\\item 8240\n",
       "\\item 8241\n",
       "\\item 8242\n",
       "\\item 8243\n",
       "\\item 8244\n",
       "\\item 8245\n",
       "\\item 8246\n",
       "\\item 8247\n",
       "\\item 8248\n",
       "\\end{enumerate*}\n"
      ],
      "text/markdown": [
       "1. 1218\n",
       "2. 1219\n",
       "3. 1220\n",
       "4. 1221\n",
       "5. 1222\n",
       "6. 1223\n",
       "7. 1224\n",
       "8. 1225\n",
       "9. 8238\n",
       "10. 8239\n",
       "11. 8240\n",
       "12. 8241\n",
       "13. 8242\n",
       "14. 8243\n",
       "15. 8244\n",
       "16. 8245\n",
       "17. 8246\n",
       "18. 8247\n",
       "19. 8248\n",
       "\n",
       "\n"
      ],
      "text/plain": [
       " [1] 1218 1219 1220 1221 1222 1223 1224 1225 8238 8239 8240 8241 8242 8243 8244\n",
       "[16] 8245 8246 8247 8248"
      ]
     },
     "metadata": {},
     "output_type": "display_data"
    }
   ],
   "source": [
    "which(is.na(icheon_regression$평균기온))"
   ]
  },
  {
   "cell_type": "code",
   "execution_count": 39,
   "metadata": {},
   "outputs": [
    {
     "data": {
      "text/html": [
       "<ol class=list-inline>\n",
       "\t<li>2010-06-20</li>\n",
       "\t<li>2010-06-20</li>\n",
       "\t<li>2010-06-20</li>\n",
       "\t<li>2010-06-20</li>\n",
       "\t<li>2010-06-20</li>\n",
       "\t<li>2010-06-20</li>\n",
       "\t<li>2010-06-20</li>\n",
       "\t<li>2010-06-20</li>\n",
       "\t<li>2013-05-02</li>\n",
       "\t<li>2013-05-02</li>\n",
       "\t<li>2013-05-02</li>\n",
       "\t<li>2013-05-02</li>\n",
       "\t<li>2013-05-02</li>\n",
       "\t<li>2013-05-02</li>\n",
       "\t<li>2013-05-02</li>\n",
       "\t<li>2013-05-02</li>\n",
       "\t<li>2013-05-02</li>\n",
       "\t<li>2013-05-02</li>\n",
       "\t<li>2013-05-02</li>\n",
       "</ol>\n"
      ],
      "text/latex": [
       "\\begin{enumerate*}\n",
       "\\item 2010-06-20\n",
       "\\item 2010-06-20\n",
       "\\item 2010-06-20\n",
       "\\item 2010-06-20\n",
       "\\item 2010-06-20\n",
       "\\item 2010-06-20\n",
       "\\item 2010-06-20\n",
       "\\item 2010-06-20\n",
       "\\item 2013-05-02\n",
       "\\item 2013-05-02\n",
       "\\item 2013-05-02\n",
       "\\item 2013-05-02\n",
       "\\item 2013-05-02\n",
       "\\item 2013-05-02\n",
       "\\item 2013-05-02\n",
       "\\item 2013-05-02\n",
       "\\item 2013-05-02\n",
       "\\item 2013-05-02\n",
       "\\item 2013-05-02\n",
       "\\end{enumerate*}\n"
      ],
      "text/markdown": [
       "1. 2010-06-20\n",
       "2. 2010-06-20\n",
       "3. 2010-06-20\n",
       "4. 2010-06-20\n",
       "5. 2010-06-20\n",
       "6. 2010-06-20\n",
       "7. 2010-06-20\n",
       "8. 2010-06-20\n",
       "9. 2013-05-02\n",
       "10. 2013-05-02\n",
       "11. 2013-05-02\n",
       "12. 2013-05-02\n",
       "13. 2013-05-02\n",
       "14. 2013-05-02\n",
       "15. 2013-05-02\n",
       "16. 2013-05-02\n",
       "17. 2013-05-02\n",
       "18. 2013-05-02\n",
       "19. 2013-05-02\n",
       "\n",
       "\n"
      ],
      "text/plain": [
       " [1] 2010-06-20 2010-06-20 2010-06-20 2010-06-20 2010-06-20 2010-06-20\n",
       " [7] 2010-06-20 2010-06-20 2013-05-02 2013-05-02 2013-05-02 2013-05-02\n",
       "[13] 2013-05-02 2013-05-02 2013-05-02 2013-05-02 2013-05-02 2013-05-02\n",
       "[19] 2013-05-02\n",
       "1985 Levels: 2010-01-01 2010-01-02 2010-01-03 2010-01-05 ... 2015-12-31"
      ]
     },
     "metadata": {},
     "output_type": "display_data"
    }
   ],
   "source": [
    "icheon_regression[c(which(is.na(icheon_regression$평균기온))), '발생년월일2']"
   ]
  },
  {
   "cell_type": "code",
   "execution_count": 40,
   "metadata": {
    "collapsed": true
   },
   "outputs": [],
   "source": [
    "# 12.4도 (서울 2013년 5월 2일 평균기온)\n",
    "# 20.6도 (이천 2015년 5월 2일 평균기온)"
   ]
  },
  {
   "cell_type": "code",
   "execution_count": 41,
   "metadata": {
    "collapsed": true
   },
   "outputs": [],
   "source": [
    "icheon_regression[c(1218, 1219, 1220, 1221, 1222, 1223, 1224, 1225), '평균기온'] <- 20.6"
   ]
  },
  {
   "cell_type": "code",
   "execution_count": 42,
   "metadata": {
    "collapsed": true
   },
   "outputs": [],
   "source": [
    "icheon_regression[c(8238, 8239, 8240, 8241, 8242, 8243, 8244, 8245, 8246, 8247, 8248), '평균기온'] <- 12.4"
   ]
  },
  {
   "cell_type": "markdown",
   "metadata": {},
   "source": [
    "## NA 가 존재하는 모든 행 출력"
   ]
  },
  {
   "cell_type": "code",
   "execution_count": 43,
   "metadata": {
    "collapsed": true
   },
   "outputs": [],
   "source": [
    "diris <- iris"
   ]
  },
  {
   "cell_type": "code",
   "execution_count": 44,
   "metadata": {
    "collapsed": true
   },
   "outputs": [],
   "source": [
    "# 임의로 결측값(NA) 로 수정하기\n",
    "\n",
    "diris[c(10, 20, 25, 30, 32, 40, 50), 3] <- NA\n",
    "diris[c(33, 66, 100, 123, 133), 1] <- NA"
   ]
  },
  {
   "cell_type": "code",
   "execution_count": 45,
   "metadata": {},
   "outputs": [
    {
     "data": {
      "text/html": [
       "<table>\n",
       "<thead><tr><th></th><th scope=col>Sepal.Length</th><th scope=col>Sepal.Width</th><th scope=col>Petal.Length</th><th scope=col>Petal.Width</th><th scope=col>Species</th></tr></thead>\n",
       "<tbody>\n",
       "\t<tr><th scope=row>10</th><td>4.9       </td><td>3.1       </td><td> NA       </td><td>0.1       </td><td>setosa    </td></tr>\n",
       "\t<tr><th scope=row>20</th><td>5.1       </td><td>3.8       </td><td> NA       </td><td>0.3       </td><td>setosa    </td></tr>\n",
       "\t<tr><th scope=row>25</th><td>4.8       </td><td>3.4       </td><td> NA       </td><td>0.2       </td><td>setosa    </td></tr>\n",
       "\t<tr><th scope=row>30</th><td>4.7       </td><td>3.2       </td><td> NA       </td><td>0.2       </td><td>setosa    </td></tr>\n",
       "\t<tr><th scope=row>32</th><td>5.4       </td><td>3.4       </td><td> NA       </td><td>0.4       </td><td>setosa    </td></tr>\n",
       "\t<tr><th scope=row>33</th><td> NA       </td><td>4.1       </td><td>1.5       </td><td>0.1       </td><td>setosa    </td></tr>\n",
       "\t<tr><th scope=row>40</th><td>5.1       </td><td>3.4       </td><td> NA       </td><td>0.2       </td><td>setosa    </td></tr>\n",
       "\t<tr><th scope=row>50</th><td>5.0       </td><td>3.3       </td><td> NA       </td><td>0.2       </td><td>setosa    </td></tr>\n",
       "\t<tr><th scope=row>66</th><td> NA       </td><td>3.1       </td><td>4.4       </td><td>1.4       </td><td>versicolor</td></tr>\n",
       "\t<tr><th scope=row>100</th><td> NA       </td><td>2.8       </td><td>4.1       </td><td>1.3       </td><td>versicolor</td></tr>\n",
       "\t<tr><th scope=row>123</th><td> NA       </td><td>2.8       </td><td>6.7       </td><td>2.0       </td><td>virginica </td></tr>\n",
       "\t<tr><th scope=row>133</th><td> NA       </td><td>2.8       </td><td>5.6       </td><td>2.2       </td><td>virginica </td></tr>\n",
       "</tbody>\n",
       "</table>\n"
      ],
      "text/latex": [
       "\\begin{tabular}{r|lllll}\n",
       "  & Sepal.Length & Sepal.Width & Petal.Length & Petal.Width & Species\\\\\n",
       "\\hline\n",
       "\t10 & 4.9        & 3.1        &  NA        & 0.1        & setosa    \\\\\n",
       "\t20 & 5.1        & 3.8        &  NA        & 0.3        & setosa    \\\\\n",
       "\t25 & 4.8        & 3.4        &  NA        & 0.2        & setosa    \\\\\n",
       "\t30 & 4.7        & 3.2        &  NA        & 0.2        & setosa    \\\\\n",
       "\t32 & 5.4        & 3.4        &  NA        & 0.4        & setosa    \\\\\n",
       "\t33 &  NA        & 4.1        & 1.5        & 0.1        & setosa    \\\\\n",
       "\t40 & 5.1        & 3.4        &  NA        & 0.2        & setosa    \\\\\n",
       "\t50 & 5.0        & 3.3        &  NA        & 0.2        & setosa    \\\\\n",
       "\t66 &  NA        & 3.1        & 4.4        & 1.4        & versicolor\\\\\n",
       "\t100 &  NA        & 2.8        & 4.1        & 1.3        & versicolor\\\\\n",
       "\t123 &  NA        & 2.8        & 6.7        & 2.0        & virginica \\\\\n",
       "\t133 &  NA        & 2.8        & 5.6        & 2.2        & virginica \\\\\n",
       "\\end{tabular}\n"
      ],
      "text/markdown": [
       "\n",
       "| <!--/--> | Sepal.Length | Sepal.Width | Petal.Length | Petal.Width | Species | \n",
       "|---|---|---|---|---|---|---|---|---|---|---|---|\n",
       "| 10 | 4.9        | 3.1        |  NA        | 0.1        | setosa     | \n",
       "| 20 | 5.1        | 3.8        |  NA        | 0.3        | setosa     | \n",
       "| 25 | 4.8        | 3.4        |  NA        | 0.2        | setosa     | \n",
       "| 30 | 4.7        | 3.2        |  NA        | 0.2        | setosa     | \n",
       "| 32 | 5.4        | 3.4        |  NA        | 0.4        | setosa     | \n",
       "| 33 |  NA        | 4.1        | 1.5        | 0.1        | setosa     | \n",
       "| 40 | 5.1        | 3.4        |  NA        | 0.2        | setosa     | \n",
       "| 50 | 5.0        | 3.3        |  NA        | 0.2        | setosa     | \n",
       "| 66 |  NA        | 3.1        | 4.4        | 1.4        | versicolor | \n",
       "| 100 |  NA        | 2.8        | 4.1        | 1.3        | versicolor | \n",
       "| 123 |  NA        | 2.8        | 6.7        | 2.0        | virginica  | \n",
       "| 133 |  NA        | 2.8        | 5.6        | 2.2        | virginica  | \n",
       "\n",
       "\n"
      ],
      "text/plain": [
       "    Sepal.Length Sepal.Width Petal.Length Petal.Width Species   \n",
       "10  4.9          3.1          NA          0.1         setosa    \n",
       "20  5.1          3.8          NA          0.3         setosa    \n",
       "25  4.8          3.4          NA          0.2         setosa    \n",
       "30  4.7          3.2          NA          0.2         setosa    \n",
       "32  5.4          3.4          NA          0.4         setosa    \n",
       "33   NA          4.1         1.5          0.1         setosa    \n",
       "40  5.1          3.4          NA          0.2         setosa    \n",
       "50  5.0          3.3          NA          0.2         setosa    \n",
       "66   NA          3.1         4.4          1.4         versicolor\n",
       "100  NA          2.8         4.1          1.3         versicolor\n",
       "123  NA          2.8         6.7          2.0         virginica \n",
       "133  NA          2.8         5.6          2.2         virginica "
      ]
     },
     "metadata": {},
     "output_type": "display_data"
    }
   ],
   "source": [
    "diris[! complete.cases(diris), ]"
   ]
  },
  {
   "cell_type": "markdown",
   "metadata": {},
   "source": [
    "## 데이터를 리모델링하면서 결측의 위치 확인"
   ]
  },
  {
   "cell_type": "code",
   "execution_count": 46,
   "metadata": {},
   "outputs": [
    {
     "name": "stderr",
     "output_type": "stream",
     "text": [
      "Updating HTML index of packages in '.Library'\n",
      "Making 'packages.html' ... done\n"
     ]
    }
   ],
   "source": [
    "install.packages('reshape')"
   ]
  },
  {
   "cell_type": "code",
   "execution_count": 47,
   "metadata": {
    "scrolled": true
   },
   "outputs": [
    {
     "name": "stderr",
     "output_type": "stream",
     "text": [
      "Updating HTML index of packages in '.Library'\n",
      "Making 'packages.html' ... done\n"
     ]
    }
   ],
   "source": [
    "install.packages('reshape2')"
   ]
  },
  {
   "cell_type": "code",
   "execution_count": 48,
   "metadata": {},
   "outputs": [
    {
     "name": "stderr",
     "output_type": "stream",
     "text": [
      "\n",
      "Attaching package: ‘reshape2’\n",
      "\n",
      "The following objects are masked from ‘package:reshape’:\n",
      "\n",
      "    colsplit, melt, recast\n",
      "\n"
     ]
    }
   ],
   "source": [
    "library(reshape)\n",
    "library(reshape2)"
   ]
  },
  {
   "cell_type": "code",
   "execution_count": 49,
   "metadata": {
    "collapsed": true
   },
   "outputs": [],
   "source": [
    "ChickWeight_TM <- ChickWeight"
   ]
  },
  {
   "cell_type": "code",
   "execution_count": 50,
   "metadata": {
    "collapsed": true
   },
   "outputs": [],
   "source": [
    "?ChickWeight"
   ]
  },
  {
   "cell_type": "markdown",
   "metadata": {},
   "source": [
    "### 결측치가 있는 행 삭제"
   ]
  },
  {
   "cell_type": "code",
   "execution_count": 51,
   "metadata": {},
   "outputs": [
    {
     "data": {
      "text/html": [
       "<table>\n",
       "<thead><tr><th scope=col>a</th><th scope=col>b</th><th scope=col>c</th></tr></thead>\n",
       "<tbody>\n",
       "\t<tr><td>1 </td><td>a </td><td>a </td></tr>\n",
       "\t<tr><td>2 </td><td>NA</td><td>b </td></tr>\n",
       "\t<tr><td>3 </td><td>c </td><td>NA</td></tr>\n",
       "</tbody>\n",
       "</table>\n"
      ],
      "text/latex": [
       "\\begin{tabular}{r|lll}\n",
       " a & b & c\\\\\n",
       "\\hline\n",
       "\t 1  & a  & a \\\\\n",
       "\t 2  & NA & b \\\\\n",
       "\t 3  & c  & NA\\\\\n",
       "\\end{tabular}\n"
      ],
      "text/markdown": [
       "\n",
       "a | b | c | \n",
       "|---|---|---|\n",
       "| 1  | a  | a  | \n",
       "| 2  | NA | b  | \n",
       "| 3  | c  | NA | \n",
       "\n",
       "\n"
      ],
      "text/plain": [
       "  a b  c \n",
       "1 1 a  a \n",
       "2 2 NA b \n",
       "3 3 c  NA"
      ]
     },
     "metadata": {},
     "output_type": "display_data"
    }
   ],
   "source": [
    "x <- data.frame(a = c(1, 2, 3), b = c(\"a\", NA, \"c\"), c = c(\"a\", \"b\", NA))\n",
    "x"
   ]
  },
  {
   "cell_type": "code",
   "execution_count": 52,
   "metadata": {},
   "outputs": [
    {
     "data": {
      "text/html": [
       "<table>\n",
       "<thead><tr><th scope=col>x</th><th scope=col>y</th></tr></thead>\n",
       "<tbody>\n",
       "\t<tr><td>1 </td><td> 0</td></tr>\n",
       "\t<tr><td>2 </td><td>10</td></tr>\n",
       "\t<tr><td>3 </td><td>NA</td></tr>\n",
       "</tbody>\n",
       "</table>\n"
      ],
      "text/latex": [
       "\\begin{tabular}{r|ll}\n",
       " x & y\\\\\n",
       "\\hline\n",
       "\t 1  &  0\\\\\n",
       "\t 2  & 10\\\\\n",
       "\t 3  & NA\\\\\n",
       "\\end{tabular}\n"
      ],
      "text/markdown": [
       "\n",
       "x | y | \n",
       "|---|---|---|\n",
       "| 1  |  0 | \n",
       "| 2  | 10 | \n",
       "| 3  | NA | \n",
       "\n",
       "\n"
      ],
      "text/plain": [
       "  x y \n",
       "1 1  0\n",
       "2 2 10\n",
       "3 3 NA"
      ]
     },
     "metadata": {},
     "output_type": "display_data"
    }
   ],
   "source": [
    "dSample <- data.frame(x = c(1, 2, 3), y = c(0, 10, NA))\n",
    "dSample"
   ]
  },
  {
   "cell_type": "markdown",
   "metadata": {},
   "source": [
    "### 결측치와 이상값이 있는 행 삭제"
   ]
  },
  {
   "cell_type": "code",
   "execution_count": 53,
   "metadata": {},
   "outputs": [
    {
     "data": {
      "text/html": [
       "<table>\n",
       "<thead><tr><th scope=col>vX1</th><th scope=col>vX2</th></tr></thead>\n",
       "<tbody>\n",
       "\t<tr><td> 1</td><td> 1</td></tr>\n",
       "\t<tr><td> 2</td><td> 2</td></tr>\n",
       "\t<tr><td> 3</td><td> 3</td></tr>\n",
       "\t<tr><td>NA</td><td> 4</td></tr>\n",
       "\t<tr><td> 5</td><td>NA</td></tr>\n",
       "\t<tr><td>-9</td><td>NA</td></tr>\n",
       "\t<tr><td>-8</td><td>-9</td></tr>\n",
       "\t<tr><td> 1</td><td> 1</td></tr>\n",
       "\t<tr><td> 2</td><td> 2</td></tr>\n",
       "\t<tr><td> 3</td><td>-8</td></tr>\n",
       "</tbody>\n",
       "</table>\n"
      ],
      "text/latex": [
       "\\begin{tabular}{r|ll}\n",
       " vX1 & vX2\\\\\n",
       "\\hline\n",
       "\t  1 &  1\\\\\n",
       "\t  2 &  2\\\\\n",
       "\t  3 &  3\\\\\n",
       "\t NA &  4\\\\\n",
       "\t  5 & NA\\\\\n",
       "\t -9 & NA\\\\\n",
       "\t -8 & -9\\\\\n",
       "\t  1 &  1\\\\\n",
       "\t  2 &  2\\\\\n",
       "\t  3 & -8\\\\\n",
       "\\end{tabular}\n"
      ],
      "text/markdown": [
       "\n",
       "vX1 | vX2 | \n",
       "|---|---|---|---|---|---|---|---|---|---|\n",
       "|  1 |  1 | \n",
       "|  2 |  2 | \n",
       "|  3 |  3 | \n",
       "| NA |  4 | \n",
       "|  5 | NA | \n",
       "| -9 | NA | \n",
       "| -8 | -9 | \n",
       "|  1 |  1 | \n",
       "|  2 |  2 | \n",
       "|  3 | -8 | \n",
       "\n",
       "\n"
      ],
      "text/plain": [
       "   vX1 vX2\n",
       "1   1   1 \n",
       "2   2   2 \n",
       "3   3   3 \n",
       "4  NA   4 \n",
       "5   5  NA \n",
       "6  -9  NA \n",
       "7  -8  -9 \n",
       "8   1   1 \n",
       "9   2   2 \n",
       "10  3  -8 "
      ]
     },
     "metadata": {},
     "output_type": "display_data"
    }
   ],
   "source": [
    "vX1 <- c(1, 2, 3, NA, 5, -9, -8, 1, 2, 3)\n",
    "vX2 <- c(1, 2, 3, 4, NA, NA, -9, 1, 2, -8)\n",
    "dX <- data.frame(vX1, vX2)\n",
    "dX"
   ]
  },
  {
   "cell_type": "markdown",
   "metadata": {},
   "source": [
    "dX의 vX1 에서 제외한다."
   ]
  },
  {
   "cell_type": "code",
   "execution_count": 54,
   "metadata": {},
   "outputs": [
    {
     "data": {
      "text/html": [
       "<table>\n",
       "<thead><tr><th></th><th scope=col>vX1</th><th scope=col>vX2</th></tr></thead>\n",
       "<tbody>\n",
       "\t<tr><th scope=row>1</th><td> 1</td><td> 1</td></tr>\n",
       "\t<tr><th scope=row>2</th><td> 2</td><td> 2</td></tr>\n",
       "\t<tr><th scope=row>3</th><td> 3</td><td> 3</td></tr>\n",
       "\t<tr><th scope=row>NA</th><td>NA</td><td>NA</td></tr>\n",
       "\t<tr><th scope=row>5</th><td> 5</td><td>NA</td></tr>\n",
       "\t<tr><th scope=row>8</th><td> 1</td><td> 1</td></tr>\n",
       "\t<tr><th scope=row>9</th><td> 2</td><td> 2</td></tr>\n",
       "\t<tr><th scope=row>10</th><td> 3</td><td>-8</td></tr>\n",
       "</tbody>\n",
       "</table>\n"
      ],
      "text/latex": [
       "\\begin{tabular}{r|ll}\n",
       "  & vX1 & vX2\\\\\n",
       "\\hline\n",
       "\t1 &  1 &  1\\\\\n",
       "\t2 &  2 &  2\\\\\n",
       "\t3 &  3 &  3\\\\\n",
       "\tNA & NA & NA\\\\\n",
       "\t5 &  5 & NA\\\\\n",
       "\t8 &  1 &  1\\\\\n",
       "\t9 &  2 &  2\\\\\n",
       "\t10 &  3 & -8\\\\\n",
       "\\end{tabular}\n"
      ],
      "text/markdown": [
       "\n",
       "| <!--/--> | vX1 | vX2 | \n",
       "|---|---|---|---|---|---|---|---|\n",
       "| 1 |  1 |  1 | \n",
       "| 2 |  2 |  2 | \n",
       "| 3 |  3 |  3 | \n",
       "| NA | NA | NA | \n",
       "| 5 |  5 | NA | \n",
       "| 8 |  1 |  1 | \n",
       "| 9 |  2 |  2 | \n",
       "| 10 |  3 | -8 | \n",
       "\n",
       "\n"
      ],
      "text/plain": [
       "   vX1 vX2\n",
       "1   1   1 \n",
       "2   2   2 \n",
       "3   3   3 \n",
       "NA NA  NA \n",
       "5   5  NA \n",
       "8   1   1 \n",
       "9   2   2 \n",
       "10  3  -8 "
      ]
     },
     "metadata": {},
     "output_type": "display_data"
    }
   ],
   "source": [
    "dX <- dX[!dX$vX1 < 0, ]\n",
    "dX"
   ]
  },
  {
   "cell_type": "markdown",
   "metadata": {},
   "source": [
    "### 두 속성 중에 하나라도 결측값을 가진 행 모두 삭제"
   ]
  },
  {
   "cell_type": "code",
   "execution_count": 55,
   "metadata": {
    "collapsed": true
   },
   "outputs": [],
   "source": [
    "vX1 <- c(1, 2, 3, NA, 5, -9, -8, 1, 2, 3)\n",
    "vX2 <- c(1, 2, 3, 4, NA, NA, -9, 1, 2, -8)\n",
    "dX <- data.frame(vX1, vX2)"
   ]
  },
  {
   "cell_type": "code",
   "execution_count": 56,
   "metadata": {},
   "outputs": [
    {
     "data": {
      "text/html": [
       "<table>\n",
       "<thead><tr><th></th><th scope=col>vX1</th><th scope=col>vX2</th></tr></thead>\n",
       "<tbody>\n",
       "\t<tr><th scope=row>1</th><td> 1</td><td> 1</td></tr>\n",
       "\t<tr><th scope=row>2</th><td> 2</td><td> 2</td></tr>\n",
       "\t<tr><th scope=row>3</th><td> 3</td><td> 3</td></tr>\n",
       "\t<tr><th scope=row>7</th><td>-8</td><td>-9</td></tr>\n",
       "\t<tr><th scope=row>8</th><td> 1</td><td> 1</td></tr>\n",
       "\t<tr><th scope=row>9</th><td> 2</td><td> 2</td></tr>\n",
       "\t<tr><th scope=row>10</th><td> 3</td><td>-8</td></tr>\n",
       "</tbody>\n",
       "</table>\n"
      ],
      "text/latex": [
       "\\begin{tabular}{r|ll}\n",
       "  & vX1 & vX2\\\\\n",
       "\\hline\n",
       "\t1 &  1 &  1\\\\\n",
       "\t2 &  2 &  2\\\\\n",
       "\t3 &  3 &  3\\\\\n",
       "\t7 & -8 & -9\\\\\n",
       "\t8 &  1 &  1\\\\\n",
       "\t9 &  2 &  2\\\\\n",
       "\t10 &  3 & -8\\\\\n",
       "\\end{tabular}\n"
      ],
      "text/markdown": [
       "\n",
       "| <!--/--> | vX1 | vX2 | \n",
       "|---|---|---|---|---|---|---|\n",
       "| 1 |  1 |  1 | \n",
       "| 2 |  2 |  2 | \n",
       "| 3 |  3 |  3 | \n",
       "| 7 | -8 | -9 | \n",
       "| 8 |  1 |  1 | \n",
       "| 9 |  2 |  2 | \n",
       "| 10 |  3 | -8 | \n",
       "\n",
       "\n"
      ],
      "text/plain": [
       "   vX1 vX2\n",
       "1   1   1 \n",
       "2   2   2 \n",
       "3   3   3 \n",
       "7  -8  -9 \n",
       "8   1   1 \n",
       "9   2   2 \n",
       "10  3  -8 "
      ]
     },
     "metadata": {},
     "output_type": "display_data"
    }
   ],
   "source": [
    "dX[!is.na(dX$vX1) & !is.na(dX$vX2), ]"
   ]
  },
  {
   "cell_type": "markdown",
   "metadata": {},
   "source": [
    "### Vector obj 에서 결측값을 중앙값으로 치환"
   ]
  },
  {
   "cell_type": "code",
   "execution_count": 57,
   "metadata": {},
   "outputs": [
    {
     "data": {
      "text/html": [
       "<table>\n",
       "<thead><tr><th scope=col>val</th></tr></thead>\n",
       "<tbody>\n",
       "\t<tr><td> 1</td></tr>\n",
       "\t<tr><td> 2</td></tr>\n",
       "\t<tr><td> 3</td></tr>\n",
       "\t<tr><td> 4</td></tr>\n",
       "\t<tr><td>NA</td></tr>\n",
       "\t<tr><td> 5</td></tr>\n",
       "\t<tr><td>NA</td></tr>\n",
       "</tbody>\n",
       "</table>\n"
      ],
      "text/latex": [
       "\\begin{tabular}{r|l}\n",
       " val\\\\\n",
       "\\hline\n",
       "\t  1\\\\\n",
       "\t  2\\\\\n",
       "\t  3\\\\\n",
       "\t  4\\\\\n",
       "\t NA\\\\\n",
       "\t  5\\\\\n",
       "\t NA\\\\\n",
       "\\end{tabular}\n"
      ],
      "text/markdown": [
       "\n",
       "val | \n",
       "|---|---|---|---|---|---|---|\n",
       "|  1 | \n",
       "|  2 | \n",
       "|  3 | \n",
       "|  4 | \n",
       "| NA | \n",
       "|  5 | \n",
       "| NA | \n",
       "\n",
       "\n"
      ],
      "text/plain": [
       "  val\n",
       "1  1 \n",
       "2  2 \n",
       "3  3 \n",
       "4  4 \n",
       "5 NA \n",
       "6  5 \n",
       "7 NA "
      ]
     },
     "metadata": {},
     "output_type": "display_data"
    }
   ],
   "source": [
    "replacement <- data.frame(val = c(1, 2, 3, 4, NA, 5, NA))\n",
    "replacement"
   ]
  },
  {
   "cell_type": "code",
   "execution_count": 59,
   "metadata": {},
   "outputs": [],
   "source": [
    "replacement$val[is.na(replacement$val)] <- median(replacement$val, na.rm = TRUE)"
   ]
  },
  {
   "cell_type": "code",
   "execution_count": 60,
   "metadata": {},
   "outputs": [
    {
     "data": {
      "text/html": [
       "<table>\n",
       "<thead><tr><th scope=col>val</th></tr></thead>\n",
       "<tbody>\n",
       "\t<tr><td>1</td></tr>\n",
       "\t<tr><td>2</td></tr>\n",
       "\t<tr><td>3</td></tr>\n",
       "\t<tr><td>4</td></tr>\n",
       "\t<tr><td>3</td></tr>\n",
       "\t<tr><td>5</td></tr>\n",
       "\t<tr><td>3</td></tr>\n",
       "</tbody>\n",
       "</table>\n"
      ],
      "text/latex": [
       "\\begin{tabular}{r|l}\n",
       " val\\\\\n",
       "\\hline\n",
       "\t 1\\\\\n",
       "\t 2\\\\\n",
       "\t 3\\\\\n",
       "\t 4\\\\\n",
       "\t 3\\\\\n",
       "\t 5\\\\\n",
       "\t 3\\\\\n",
       "\\end{tabular}\n"
      ],
      "text/markdown": [
       "\n",
       "val | \n",
       "|---|---|---|---|---|---|---|\n",
       "| 1 | \n",
       "| 2 | \n",
       "| 3 | \n",
       "| 4 | \n",
       "| 3 | \n",
       "| 5 | \n",
       "| 3 | \n",
       "\n",
       "\n"
      ],
      "text/plain": [
       "  val\n",
       "1 1  \n",
       "2 2  \n",
       "3 3  \n",
       "4 4  \n",
       "5 3  \n",
       "6 5  \n",
       "7 3  "
      ]
     },
     "metadata": {},
     "output_type": "display_data"
    }
   ],
   "source": [
    "replacement"
   ]
  },
  {
   "cell_type": "code",
   "execution_count": 61,
   "metadata": {
    "collapsed": true
   },
   "outputs": [],
   "source": [
    "?within"
   ]
  },
  {
   "cell_type": "markdown",
   "metadata": {},
   "source": [
    "### DataFrame obj 에서 결측값을 중앙값으로 치환"
   ]
  },
  {
   "cell_type": "code",
   "execution_count": 62,
   "metadata": {
    "collapsed": true
   },
   "outputs": [],
   "source": [
    "iris_repl <- iris\n",
    "iris_repl[1, 1] = NA"
   ]
  },
  {
   "cell_type": "code",
   "execution_count": 63,
   "metadata": {},
   "outputs": [
    {
     "data": {
      "text/html": [
       "<table>\n",
       "<thead><tr><th scope=col>Sepal.Length</th><th scope=col>Sepal.Width</th><th scope=col>Petal.Length</th><th scope=col>Petal.Width</th><th scope=col>Species</th></tr></thead>\n",
       "<tbody>\n",
       "\t<tr><td> NA   </td><td>3.5   </td><td>1.4   </td><td>0.2   </td><td>setosa</td></tr>\n",
       "\t<tr><td>4.9   </td><td>3.0   </td><td>1.4   </td><td>0.2   </td><td>setosa</td></tr>\n",
       "\t<tr><td>4.7   </td><td>3.2   </td><td>1.3   </td><td>0.2   </td><td>setosa</td></tr>\n",
       "\t<tr><td>4.6   </td><td>3.1   </td><td>1.5   </td><td>0.2   </td><td>setosa</td></tr>\n",
       "\t<tr><td>5.0   </td><td>3.6   </td><td>1.4   </td><td>0.2   </td><td>setosa</td></tr>\n",
       "\t<tr><td>5.4   </td><td>3.9   </td><td>1.7   </td><td>0.4   </td><td>setosa</td></tr>\n",
       "</tbody>\n",
       "</table>\n"
      ],
      "text/latex": [
       "\\begin{tabular}{r|lllll}\n",
       " Sepal.Length & Sepal.Width & Petal.Length & Petal.Width & Species\\\\\n",
       "\\hline\n",
       "\t  NA    & 3.5    & 1.4    & 0.2    & setosa\\\\\n",
       "\t 4.9    & 3.0    & 1.4    & 0.2    & setosa\\\\\n",
       "\t 4.7    & 3.2    & 1.3    & 0.2    & setosa\\\\\n",
       "\t 4.6    & 3.1    & 1.5    & 0.2    & setosa\\\\\n",
       "\t 5.0    & 3.6    & 1.4    & 0.2    & setosa\\\\\n",
       "\t 5.4    & 3.9    & 1.7    & 0.4    & setosa\\\\\n",
       "\\end{tabular}\n"
      ],
      "text/markdown": [
       "\n",
       "Sepal.Length | Sepal.Width | Petal.Length | Petal.Width | Species | \n",
       "|---|---|---|---|---|---|\n",
       "|  NA    | 3.5    | 1.4    | 0.2    | setosa | \n",
       "| 4.9    | 3.0    | 1.4    | 0.2    | setosa | \n",
       "| 4.7    | 3.2    | 1.3    | 0.2    | setosa | \n",
       "| 4.6    | 3.1    | 1.5    | 0.2    | setosa | \n",
       "| 5.0    | 3.6    | 1.4    | 0.2    | setosa | \n",
       "| 5.4    | 3.9    | 1.7    | 0.4    | setosa | \n",
       "\n",
       "\n"
      ],
      "text/plain": [
       "  Sepal.Length Sepal.Width Petal.Length Petal.Width Species\n",
       "1  NA          3.5         1.4          0.2         setosa \n",
       "2 4.9          3.0         1.4          0.2         setosa \n",
       "3 4.7          3.2         1.3          0.2         setosa \n",
       "4 4.6          3.1         1.5          0.2         setosa \n",
       "5 5.0          3.6         1.4          0.2         setosa \n",
       "6 5.4          3.9         1.7          0.4         setosa "
      ]
     },
     "metadata": {},
     "output_type": "display_data"
    }
   ],
   "source": [
    "head(iris_repl)"
   ]
  },
  {
   "cell_type": "code",
   "execution_count": 64,
   "metadata": {
    "collapsed": true
   },
   "outputs": [],
   "source": [
    "replacement_df <- sapply(split(iris_repl$Sepal.Length, iris_repl$Species), median, na.rm = TRUE)"
   ]
  },
  {
   "cell_type": "code",
   "execution_count": 65,
   "metadata": {},
   "outputs": [
    {
     "data": {
      "text/html": [
       "<dl class=dl-horizontal>\n",
       "\t<dt>setosa</dt>\n",
       "\t\t<dd>5</dd>\n",
       "\t<dt>versicolor</dt>\n",
       "\t\t<dd>5.9</dd>\n",
       "\t<dt>virginica</dt>\n",
       "\t\t<dd>6.5</dd>\n",
       "</dl>\n"
      ],
      "text/latex": [
       "\\begin{description*}\n",
       "\\item[setosa] 5\n",
       "\\item[versicolor] 5.9\n",
       "\\item[virginica] 6.5\n",
       "\\end{description*}\n"
      ],
      "text/markdown": [
       "setosa\n",
       ":   5versicolor\n",
       ":   5.9virginica\n",
       ":   6.5\n",
       "\n"
      ],
      "text/plain": [
       "    setosa versicolor  virginica \n",
       "       5.0        5.9        6.5 "
      ]
     },
     "metadata": {},
     "output_type": "display_data"
    }
   ],
   "source": [
    "replacement_df"
   ]
  },
  {
   "cell_type": "code",
   "execution_count": 66,
   "metadata": {
    "collapsed": true
   },
   "outputs": [],
   "source": [
    "iris_repl <- within(iris_repl, {\n",
    "    Sepal.Length <- ifelse(is.na(Sepal.Length), replacement_df[Species], Sepal.Length)\n",
    "})"
   ]
  },
  {
   "cell_type": "code",
   "execution_count": 67,
   "metadata": {},
   "outputs": [
    {
     "data": {
      "text/html": [
       "<table>\n",
       "<thead><tr><th scope=col>Sepal.Length</th><th scope=col>Sepal.Width</th><th scope=col>Petal.Length</th><th scope=col>Petal.Width</th><th scope=col>Species</th></tr></thead>\n",
       "<tbody>\n",
       "\t<tr><td>5.0   </td><td>3.5   </td><td>1.4   </td><td>0.2   </td><td>setosa</td></tr>\n",
       "\t<tr><td>4.9   </td><td>3.0   </td><td>1.4   </td><td>0.2   </td><td>setosa</td></tr>\n",
       "\t<tr><td>4.7   </td><td>3.2   </td><td>1.3   </td><td>0.2   </td><td>setosa</td></tr>\n",
       "\t<tr><td>4.6   </td><td>3.1   </td><td>1.5   </td><td>0.2   </td><td>setosa</td></tr>\n",
       "\t<tr><td>5.0   </td><td>3.6   </td><td>1.4   </td><td>0.2   </td><td>setosa</td></tr>\n",
       "\t<tr><td>5.4   </td><td>3.9   </td><td>1.7   </td><td>0.4   </td><td>setosa</td></tr>\n",
       "</tbody>\n",
       "</table>\n"
      ],
      "text/latex": [
       "\\begin{tabular}{r|lllll}\n",
       " Sepal.Length & Sepal.Width & Petal.Length & Petal.Width & Species\\\\\n",
       "\\hline\n",
       "\t 5.0    & 3.5    & 1.4    & 0.2    & setosa\\\\\n",
       "\t 4.9    & 3.0    & 1.4    & 0.2    & setosa\\\\\n",
       "\t 4.7    & 3.2    & 1.3    & 0.2    & setosa\\\\\n",
       "\t 4.6    & 3.1    & 1.5    & 0.2    & setosa\\\\\n",
       "\t 5.0    & 3.6    & 1.4    & 0.2    & setosa\\\\\n",
       "\t 5.4    & 3.9    & 1.7    & 0.4    & setosa\\\\\n",
       "\\end{tabular}\n"
      ],
      "text/markdown": [
       "\n",
       "Sepal.Length | Sepal.Width | Petal.Length | Petal.Width | Species | \n",
       "|---|---|---|---|---|---|\n",
       "| 5.0    | 3.5    | 1.4    | 0.2    | setosa | \n",
       "| 4.9    | 3.0    | 1.4    | 0.2    | setosa | \n",
       "| 4.7    | 3.2    | 1.3    | 0.2    | setosa | \n",
       "| 4.6    | 3.1    | 1.5    | 0.2    | setosa | \n",
       "| 5.0    | 3.6    | 1.4    | 0.2    | setosa | \n",
       "| 5.4    | 3.9    | 1.7    | 0.4    | setosa | \n",
       "\n",
       "\n"
      ],
      "text/plain": [
       "  Sepal.Length Sepal.Width Petal.Length Petal.Width Species\n",
       "1 5.0          3.5         1.4          0.2         setosa \n",
       "2 4.9          3.0         1.4          0.2         setosa \n",
       "3 4.7          3.2         1.3          0.2         setosa \n",
       "4 4.6          3.1         1.5          0.2         setosa \n",
       "5 5.0          3.6         1.4          0.2         setosa \n",
       "6 5.4          3.9         1.7          0.4         setosa "
      ]
     },
     "metadata": {},
     "output_type": "display_data"
    }
   ],
   "source": [
    "head(iris_repl)"
   ]
  },
  {
   "cell_type": "code",
   "execution_count": 68,
   "metadata": {},
   "outputs": [
    {
     "data": {
      "text/html": [
       "<dl class=dl-horizontal>\n",
       "\t<dt>setosa</dt>\n",
       "\t\t<dd>5</dd>\n",
       "\t<dt>setosa</dt>\n",
       "\t\t<dd>5</dd>\n",
       "\t<dt>setosa</dt>\n",
       "\t\t<dd>5</dd>\n",
       "\t<dt>setosa</dt>\n",
       "\t\t<dd>5</dd>\n",
       "\t<dt>setosa</dt>\n",
       "\t\t<dd>5</dd>\n",
       "\t<dt>setosa</dt>\n",
       "\t\t<dd>5</dd>\n",
       "\t<dt>setosa</dt>\n",
       "\t\t<dd>5</dd>\n",
       "\t<dt>setosa</dt>\n",
       "\t\t<dd>5</dd>\n",
       "\t<dt>setosa</dt>\n",
       "\t\t<dd>5</dd>\n",
       "\t<dt>setosa</dt>\n",
       "\t\t<dd>5</dd>\n",
       "\t<dt>setosa</dt>\n",
       "\t\t<dd>5</dd>\n",
       "\t<dt>setosa</dt>\n",
       "\t\t<dd>5</dd>\n",
       "\t<dt>setosa</dt>\n",
       "\t\t<dd>5</dd>\n",
       "\t<dt>setosa</dt>\n",
       "\t\t<dd>5</dd>\n",
       "\t<dt>setosa</dt>\n",
       "\t\t<dd>5</dd>\n",
       "\t<dt>setosa</dt>\n",
       "\t\t<dd>5</dd>\n",
       "\t<dt>setosa</dt>\n",
       "\t\t<dd>5</dd>\n",
       "\t<dt>setosa</dt>\n",
       "\t\t<dd>5</dd>\n",
       "\t<dt>setosa</dt>\n",
       "\t\t<dd>5</dd>\n",
       "\t<dt>setosa</dt>\n",
       "\t\t<dd>5</dd>\n",
       "\t<dt>setosa</dt>\n",
       "\t\t<dd>5</dd>\n",
       "\t<dt>setosa</dt>\n",
       "\t\t<dd>5</dd>\n",
       "\t<dt>setosa</dt>\n",
       "\t\t<dd>5</dd>\n",
       "\t<dt>setosa</dt>\n",
       "\t\t<dd>5</dd>\n",
       "\t<dt>setosa</dt>\n",
       "\t\t<dd>5</dd>\n",
       "\t<dt>setosa</dt>\n",
       "\t\t<dd>5</dd>\n",
       "\t<dt>setosa</dt>\n",
       "\t\t<dd>5</dd>\n",
       "\t<dt>setosa</dt>\n",
       "\t\t<dd>5</dd>\n",
       "\t<dt>setosa</dt>\n",
       "\t\t<dd>5</dd>\n",
       "\t<dt>setosa</dt>\n",
       "\t\t<dd>5</dd>\n",
       "\t<dt>setosa</dt>\n",
       "\t\t<dd>5</dd>\n",
       "\t<dt>setosa</dt>\n",
       "\t\t<dd>5</dd>\n",
       "\t<dt>setosa</dt>\n",
       "\t\t<dd>5</dd>\n",
       "\t<dt>setosa</dt>\n",
       "\t\t<dd>5</dd>\n",
       "\t<dt>setosa</dt>\n",
       "\t\t<dd>5</dd>\n",
       "\t<dt>setosa</dt>\n",
       "\t\t<dd>5</dd>\n",
       "\t<dt>setosa</dt>\n",
       "\t\t<dd>5</dd>\n",
       "\t<dt>setosa</dt>\n",
       "\t\t<dd>5</dd>\n",
       "\t<dt>setosa</dt>\n",
       "\t\t<dd>5</dd>\n",
       "\t<dt>setosa</dt>\n",
       "\t\t<dd>5</dd>\n",
       "\t<dt>setosa</dt>\n",
       "\t\t<dd>5</dd>\n",
       "\t<dt>setosa</dt>\n",
       "\t\t<dd>5</dd>\n",
       "\t<dt>setosa</dt>\n",
       "\t\t<dd>5</dd>\n",
       "\t<dt>setosa</dt>\n",
       "\t\t<dd>5</dd>\n",
       "\t<dt>setosa</dt>\n",
       "\t\t<dd>5</dd>\n",
       "\t<dt>setosa</dt>\n",
       "\t\t<dd>5</dd>\n",
       "\t<dt>setosa</dt>\n",
       "\t\t<dd>5</dd>\n",
       "\t<dt>setosa</dt>\n",
       "\t\t<dd>5</dd>\n",
       "\t<dt>setosa</dt>\n",
       "\t\t<dd>5</dd>\n",
       "\t<dt>setosa</dt>\n",
       "\t\t<dd>5</dd>\n",
       "\t<dt>versicolor</dt>\n",
       "\t\t<dd>5.9</dd>\n",
       "\t<dt>versicolor</dt>\n",
       "\t\t<dd>5.9</dd>\n",
       "\t<dt>versicolor</dt>\n",
       "\t\t<dd>5.9</dd>\n",
       "\t<dt>versicolor</dt>\n",
       "\t\t<dd>5.9</dd>\n",
       "\t<dt>versicolor</dt>\n",
       "\t\t<dd>5.9</dd>\n",
       "\t<dt>versicolor</dt>\n",
       "\t\t<dd>5.9</dd>\n",
       "\t<dt>versicolor</dt>\n",
       "\t\t<dd>5.9</dd>\n",
       "\t<dt>versicolor</dt>\n",
       "\t\t<dd>5.9</dd>\n",
       "\t<dt>versicolor</dt>\n",
       "\t\t<dd>5.9</dd>\n",
       "\t<dt>versicolor</dt>\n",
       "\t\t<dd>5.9</dd>\n",
       "\t<dt>versicolor</dt>\n",
       "\t\t<dd>5.9</dd>\n",
       "\t<dt>versicolor</dt>\n",
       "\t\t<dd>5.9</dd>\n",
       "\t<dt>versicolor</dt>\n",
       "\t\t<dd>5.9</dd>\n",
       "\t<dt>versicolor</dt>\n",
       "\t\t<dd>5.9</dd>\n",
       "\t<dt>versicolor</dt>\n",
       "\t\t<dd>5.9</dd>\n",
       "\t<dt>versicolor</dt>\n",
       "\t\t<dd>5.9</dd>\n",
       "\t<dt>versicolor</dt>\n",
       "\t\t<dd>5.9</dd>\n",
       "\t<dt>versicolor</dt>\n",
       "\t\t<dd>5.9</dd>\n",
       "\t<dt>versicolor</dt>\n",
       "\t\t<dd>5.9</dd>\n",
       "\t<dt>versicolor</dt>\n",
       "\t\t<dd>5.9</dd>\n",
       "\t<dt>versicolor</dt>\n",
       "\t\t<dd>5.9</dd>\n",
       "\t<dt>versicolor</dt>\n",
       "\t\t<dd>5.9</dd>\n",
       "\t<dt>versicolor</dt>\n",
       "\t\t<dd>5.9</dd>\n",
       "\t<dt>versicolor</dt>\n",
       "\t\t<dd>5.9</dd>\n",
       "\t<dt>versicolor</dt>\n",
       "\t\t<dd>5.9</dd>\n",
       "\t<dt>versicolor</dt>\n",
       "\t\t<dd>5.9</dd>\n",
       "\t<dt>versicolor</dt>\n",
       "\t\t<dd>5.9</dd>\n",
       "\t<dt>versicolor</dt>\n",
       "\t\t<dd>5.9</dd>\n",
       "\t<dt>versicolor</dt>\n",
       "\t\t<dd>5.9</dd>\n",
       "\t<dt>versicolor</dt>\n",
       "\t\t<dd>5.9</dd>\n",
       "\t<dt>versicolor</dt>\n",
       "\t\t<dd>5.9</dd>\n",
       "\t<dt>versicolor</dt>\n",
       "\t\t<dd>5.9</dd>\n",
       "\t<dt>versicolor</dt>\n",
       "\t\t<dd>5.9</dd>\n",
       "\t<dt>versicolor</dt>\n",
       "\t\t<dd>5.9</dd>\n",
       "\t<dt>versicolor</dt>\n",
       "\t\t<dd>5.9</dd>\n",
       "\t<dt>versicolor</dt>\n",
       "\t\t<dd>5.9</dd>\n",
       "\t<dt>versicolor</dt>\n",
       "\t\t<dd>5.9</dd>\n",
       "\t<dt>versicolor</dt>\n",
       "\t\t<dd>5.9</dd>\n",
       "\t<dt>versicolor</dt>\n",
       "\t\t<dd>5.9</dd>\n",
       "\t<dt>versicolor</dt>\n",
       "\t\t<dd>5.9</dd>\n",
       "\t<dt>versicolor</dt>\n",
       "\t\t<dd>5.9</dd>\n",
       "\t<dt>versicolor</dt>\n",
       "\t\t<dd>5.9</dd>\n",
       "\t<dt>versicolor</dt>\n",
       "\t\t<dd>5.9</dd>\n",
       "\t<dt>versicolor</dt>\n",
       "\t\t<dd>5.9</dd>\n",
       "\t<dt>versicolor</dt>\n",
       "\t\t<dd>5.9</dd>\n",
       "\t<dt>versicolor</dt>\n",
       "\t\t<dd>5.9</dd>\n",
       "\t<dt>versicolor</dt>\n",
       "\t\t<dd>5.9</dd>\n",
       "\t<dt>versicolor</dt>\n",
       "\t\t<dd>5.9</dd>\n",
       "\t<dt>versicolor</dt>\n",
       "\t\t<dd>5.9</dd>\n",
       "\t<dt>versicolor</dt>\n",
       "\t\t<dd>5.9</dd>\n",
       "\t<dt>virginica</dt>\n",
       "\t\t<dd>6.5</dd>\n",
       "\t<dt>virginica</dt>\n",
       "\t\t<dd>6.5</dd>\n",
       "\t<dt>virginica</dt>\n",
       "\t\t<dd>6.5</dd>\n",
       "\t<dt>virginica</dt>\n",
       "\t\t<dd>6.5</dd>\n",
       "\t<dt>virginica</dt>\n",
       "\t\t<dd>6.5</dd>\n",
       "\t<dt>virginica</dt>\n",
       "\t\t<dd>6.5</dd>\n",
       "\t<dt>virginica</dt>\n",
       "\t\t<dd>6.5</dd>\n",
       "\t<dt>virginica</dt>\n",
       "\t\t<dd>6.5</dd>\n",
       "\t<dt>virginica</dt>\n",
       "\t\t<dd>6.5</dd>\n",
       "\t<dt>virginica</dt>\n",
       "\t\t<dd>6.5</dd>\n",
       "\t<dt>virginica</dt>\n",
       "\t\t<dd>6.5</dd>\n",
       "\t<dt>virginica</dt>\n",
       "\t\t<dd>6.5</dd>\n",
       "\t<dt>virginica</dt>\n",
       "\t\t<dd>6.5</dd>\n",
       "\t<dt>virginica</dt>\n",
       "\t\t<dd>6.5</dd>\n",
       "\t<dt>virginica</dt>\n",
       "\t\t<dd>6.5</dd>\n",
       "\t<dt>virginica</dt>\n",
       "\t\t<dd>6.5</dd>\n",
       "\t<dt>virginica</dt>\n",
       "\t\t<dd>6.5</dd>\n",
       "\t<dt>virginica</dt>\n",
       "\t\t<dd>6.5</dd>\n",
       "\t<dt>virginica</dt>\n",
       "\t\t<dd>6.5</dd>\n",
       "\t<dt>virginica</dt>\n",
       "\t\t<dd>6.5</dd>\n",
       "\t<dt>virginica</dt>\n",
       "\t\t<dd>6.5</dd>\n",
       "\t<dt>virginica</dt>\n",
       "\t\t<dd>6.5</dd>\n",
       "\t<dt>virginica</dt>\n",
       "\t\t<dd>6.5</dd>\n",
       "\t<dt>virginica</dt>\n",
       "\t\t<dd>6.5</dd>\n",
       "\t<dt>virginica</dt>\n",
       "\t\t<dd>6.5</dd>\n",
       "\t<dt>virginica</dt>\n",
       "\t\t<dd>6.5</dd>\n",
       "\t<dt>virginica</dt>\n",
       "\t\t<dd>6.5</dd>\n",
       "\t<dt>virginica</dt>\n",
       "\t\t<dd>6.5</dd>\n",
       "\t<dt>virginica</dt>\n",
       "\t\t<dd>6.5</dd>\n",
       "\t<dt>virginica</dt>\n",
       "\t\t<dd>6.5</dd>\n",
       "\t<dt>virginica</dt>\n",
       "\t\t<dd>6.5</dd>\n",
       "\t<dt>virginica</dt>\n",
       "\t\t<dd>6.5</dd>\n",
       "\t<dt>virginica</dt>\n",
       "\t\t<dd>6.5</dd>\n",
       "\t<dt>virginica</dt>\n",
       "\t\t<dd>6.5</dd>\n",
       "\t<dt>virginica</dt>\n",
       "\t\t<dd>6.5</dd>\n",
       "\t<dt>virginica</dt>\n",
       "\t\t<dd>6.5</dd>\n",
       "\t<dt>virginica</dt>\n",
       "\t\t<dd>6.5</dd>\n",
       "\t<dt>virginica</dt>\n",
       "\t\t<dd>6.5</dd>\n",
       "\t<dt>virginica</dt>\n",
       "\t\t<dd>6.5</dd>\n",
       "\t<dt>virginica</dt>\n",
       "\t\t<dd>6.5</dd>\n",
       "\t<dt>virginica</dt>\n",
       "\t\t<dd>6.5</dd>\n",
       "\t<dt>virginica</dt>\n",
       "\t\t<dd>6.5</dd>\n",
       "\t<dt>virginica</dt>\n",
       "\t\t<dd>6.5</dd>\n",
       "\t<dt>virginica</dt>\n",
       "\t\t<dd>6.5</dd>\n",
       "\t<dt>virginica</dt>\n",
       "\t\t<dd>6.5</dd>\n",
       "\t<dt>virginica</dt>\n",
       "\t\t<dd>6.5</dd>\n",
       "\t<dt>virginica</dt>\n",
       "\t\t<dd>6.5</dd>\n",
       "\t<dt>virginica</dt>\n",
       "\t\t<dd>6.5</dd>\n",
       "\t<dt>virginica</dt>\n",
       "\t\t<dd>6.5</dd>\n",
       "\t<dt>virginica</dt>\n",
       "\t\t<dd>6.5</dd>\n",
       "</dl>\n"
      ],
      "text/latex": [
       "\\begin{description*}\n",
       "\\item[setosa] 5\n",
       "\\item[setosa] 5\n",
       "\\item[setosa] 5\n",
       "\\item[setosa] 5\n",
       "\\item[setosa] 5\n",
       "\\item[setosa] 5\n",
       "\\item[setosa] 5\n",
       "\\item[setosa] 5\n",
       "\\item[setosa] 5\n",
       "\\item[setosa] 5\n",
       "\\item[setosa] 5\n",
       "\\item[setosa] 5\n",
       "\\item[setosa] 5\n",
       "\\item[setosa] 5\n",
       "\\item[setosa] 5\n",
       "\\item[setosa] 5\n",
       "\\item[setosa] 5\n",
       "\\item[setosa] 5\n",
       "\\item[setosa] 5\n",
       "\\item[setosa] 5\n",
       "\\item[setosa] 5\n",
       "\\item[setosa] 5\n",
       "\\item[setosa] 5\n",
       "\\item[setosa] 5\n",
       "\\item[setosa] 5\n",
       "\\item[setosa] 5\n",
       "\\item[setosa] 5\n",
       "\\item[setosa] 5\n",
       "\\item[setosa] 5\n",
       "\\item[setosa] 5\n",
       "\\item[setosa] 5\n",
       "\\item[setosa] 5\n",
       "\\item[setosa] 5\n",
       "\\item[setosa] 5\n",
       "\\item[setosa] 5\n",
       "\\item[setosa] 5\n",
       "\\item[setosa] 5\n",
       "\\item[setosa] 5\n",
       "\\item[setosa] 5\n",
       "\\item[setosa] 5\n",
       "\\item[setosa] 5\n",
       "\\item[setosa] 5\n",
       "\\item[setosa] 5\n",
       "\\item[setosa] 5\n",
       "\\item[setosa] 5\n",
       "\\item[setosa] 5\n",
       "\\item[setosa] 5\n",
       "\\item[setosa] 5\n",
       "\\item[setosa] 5\n",
       "\\item[setosa] 5\n",
       "\\item[versicolor] 5.9\n",
       "\\item[versicolor] 5.9\n",
       "\\item[versicolor] 5.9\n",
       "\\item[versicolor] 5.9\n",
       "\\item[versicolor] 5.9\n",
       "\\item[versicolor] 5.9\n",
       "\\item[versicolor] 5.9\n",
       "\\item[versicolor] 5.9\n",
       "\\item[versicolor] 5.9\n",
       "\\item[versicolor] 5.9\n",
       "\\item[versicolor] 5.9\n",
       "\\item[versicolor] 5.9\n",
       "\\item[versicolor] 5.9\n",
       "\\item[versicolor] 5.9\n",
       "\\item[versicolor] 5.9\n",
       "\\item[versicolor] 5.9\n",
       "\\item[versicolor] 5.9\n",
       "\\item[versicolor] 5.9\n",
       "\\item[versicolor] 5.9\n",
       "\\item[versicolor] 5.9\n",
       "\\item[versicolor] 5.9\n",
       "\\item[versicolor] 5.9\n",
       "\\item[versicolor] 5.9\n",
       "\\item[versicolor] 5.9\n",
       "\\item[versicolor] 5.9\n",
       "\\item[versicolor] 5.9\n",
       "\\item[versicolor] 5.9\n",
       "\\item[versicolor] 5.9\n",
       "\\item[versicolor] 5.9\n",
       "\\item[versicolor] 5.9\n",
       "\\item[versicolor] 5.9\n",
       "\\item[versicolor] 5.9\n",
       "\\item[versicolor] 5.9\n",
       "\\item[versicolor] 5.9\n",
       "\\item[versicolor] 5.9\n",
       "\\item[versicolor] 5.9\n",
       "\\item[versicolor] 5.9\n",
       "\\item[versicolor] 5.9\n",
       "\\item[versicolor] 5.9\n",
       "\\item[versicolor] 5.9\n",
       "\\item[versicolor] 5.9\n",
       "\\item[versicolor] 5.9\n",
       "\\item[versicolor] 5.9\n",
       "\\item[versicolor] 5.9\n",
       "\\item[versicolor] 5.9\n",
       "\\item[versicolor] 5.9\n",
       "\\item[versicolor] 5.9\n",
       "\\item[versicolor] 5.9\n",
       "\\item[versicolor] 5.9\n",
       "\\item[versicolor] 5.9\n",
       "\\item[virginica] 6.5\n",
       "\\item[virginica] 6.5\n",
       "\\item[virginica] 6.5\n",
       "\\item[virginica] 6.5\n",
       "\\item[virginica] 6.5\n",
       "\\item[virginica] 6.5\n",
       "\\item[virginica] 6.5\n",
       "\\item[virginica] 6.5\n",
       "\\item[virginica] 6.5\n",
       "\\item[virginica] 6.5\n",
       "\\item[virginica] 6.5\n",
       "\\item[virginica] 6.5\n",
       "\\item[virginica] 6.5\n",
       "\\item[virginica] 6.5\n",
       "\\item[virginica] 6.5\n",
       "\\item[virginica] 6.5\n",
       "\\item[virginica] 6.5\n",
       "\\item[virginica] 6.5\n",
       "\\item[virginica] 6.5\n",
       "\\item[virginica] 6.5\n",
       "\\item[virginica] 6.5\n",
       "\\item[virginica] 6.5\n",
       "\\item[virginica] 6.5\n",
       "\\item[virginica] 6.5\n",
       "\\item[virginica] 6.5\n",
       "\\item[virginica] 6.5\n",
       "\\item[virginica] 6.5\n",
       "\\item[virginica] 6.5\n",
       "\\item[virginica] 6.5\n",
       "\\item[virginica] 6.5\n",
       "\\item[virginica] 6.5\n",
       "\\item[virginica] 6.5\n",
       "\\item[virginica] 6.5\n",
       "\\item[virginica] 6.5\n",
       "\\item[virginica] 6.5\n",
       "\\item[virginica] 6.5\n",
       "\\item[virginica] 6.5\n",
       "\\item[virginica] 6.5\n",
       "\\item[virginica] 6.5\n",
       "\\item[virginica] 6.5\n",
       "\\item[virginica] 6.5\n",
       "\\item[virginica] 6.5\n",
       "\\item[virginica] 6.5\n",
       "\\item[virginica] 6.5\n",
       "\\item[virginica] 6.5\n",
       "\\item[virginica] 6.5\n",
       "\\item[virginica] 6.5\n",
       "\\item[virginica] 6.5\n",
       "\\item[virginica] 6.5\n",
       "\\item[virginica] 6.5\n",
       "\\end{description*}\n"
      ],
      "text/markdown": [
       "setosa\n",
       ":   5setosa\n",
       ":   5setosa\n",
       ":   5setosa\n",
       ":   5setosa\n",
       ":   5setosa\n",
       ":   5setosa\n",
       ":   5setosa\n",
       ":   5setosa\n",
       ":   5setosa\n",
       ":   5setosa\n",
       ":   5setosa\n",
       ":   5setosa\n",
       ":   5setosa\n",
       ":   5setosa\n",
       ":   5setosa\n",
       ":   5setosa\n",
       ":   5setosa\n",
       ":   5setosa\n",
       ":   5setosa\n",
       ":   5setosa\n",
       ":   5setosa\n",
       ":   5setosa\n",
       ":   5setosa\n",
       ":   5setosa\n",
       ":   5setosa\n",
       ":   5setosa\n",
       ":   5setosa\n",
       ":   5setosa\n",
       ":   5setosa\n",
       ":   5setosa\n",
       ":   5setosa\n",
       ":   5setosa\n",
       ":   5setosa\n",
       ":   5setosa\n",
       ":   5setosa\n",
       ":   5setosa\n",
       ":   5setosa\n",
       ":   5setosa\n",
       ":   5setosa\n",
       ":   5setosa\n",
       ":   5setosa\n",
       ":   5setosa\n",
       ":   5setosa\n",
       ":   5setosa\n",
       ":   5setosa\n",
       ":   5setosa\n",
       ":   5setosa\n",
       ":   5setosa\n",
       ":   5setosa\n",
       ":   5versicolor\n",
       ":   5.9versicolor\n",
       ":   5.9versicolor\n",
       ":   5.9versicolor\n",
       ":   5.9versicolor\n",
       ":   5.9versicolor\n",
       ":   5.9versicolor\n",
       ":   5.9versicolor\n",
       ":   5.9versicolor\n",
       ":   5.9versicolor\n",
       ":   5.9versicolor\n",
       ":   5.9versicolor\n",
       ":   5.9versicolor\n",
       ":   5.9versicolor\n",
       ":   5.9versicolor\n",
       ":   5.9versicolor\n",
       ":   5.9versicolor\n",
       ":   5.9versicolor\n",
       ":   5.9versicolor\n",
       ":   5.9versicolor\n",
       ":   5.9versicolor\n",
       ":   5.9versicolor\n",
       ":   5.9versicolor\n",
       ":   5.9versicolor\n",
       ":   5.9versicolor\n",
       ":   5.9versicolor\n",
       ":   5.9versicolor\n",
       ":   5.9versicolor\n",
       ":   5.9versicolor\n",
       ":   5.9versicolor\n",
       ":   5.9versicolor\n",
       ":   5.9versicolor\n",
       ":   5.9versicolor\n",
       ":   5.9versicolor\n",
       ":   5.9versicolor\n",
       ":   5.9versicolor\n",
       ":   5.9versicolor\n",
       ":   5.9versicolor\n",
       ":   5.9versicolor\n",
       ":   5.9versicolor\n",
       ":   5.9versicolor\n",
       ":   5.9versicolor\n",
       ":   5.9versicolor\n",
       ":   5.9versicolor\n",
       ":   5.9versicolor\n",
       ":   5.9versicolor\n",
       ":   5.9versicolor\n",
       ":   5.9versicolor\n",
       ":   5.9versicolor\n",
       ":   5.9versicolor\n",
       ":   5.9virginica\n",
       ":   6.5virginica\n",
       ":   6.5virginica\n",
       ":   6.5virginica\n",
       ":   6.5virginica\n",
       ":   6.5virginica\n",
       ":   6.5virginica\n",
       ":   6.5virginica\n",
       ":   6.5virginica\n",
       ":   6.5virginica\n",
       ":   6.5virginica\n",
       ":   6.5virginica\n",
       ":   6.5virginica\n",
       ":   6.5virginica\n",
       ":   6.5virginica\n",
       ":   6.5virginica\n",
       ":   6.5virginica\n",
       ":   6.5virginica\n",
       ":   6.5virginica\n",
       ":   6.5virginica\n",
       ":   6.5virginica\n",
       ":   6.5virginica\n",
       ":   6.5virginica\n",
       ":   6.5virginica\n",
       ":   6.5virginica\n",
       ":   6.5virginica\n",
       ":   6.5virginica\n",
       ":   6.5virginica\n",
       ":   6.5virginica\n",
       ":   6.5virginica\n",
       ":   6.5virginica\n",
       ":   6.5virginica\n",
       ":   6.5virginica\n",
       ":   6.5virginica\n",
       ":   6.5virginica\n",
       ":   6.5virginica\n",
       ":   6.5virginica\n",
       ":   6.5virginica\n",
       ":   6.5virginica\n",
       ":   6.5virginica\n",
       ":   6.5virginica\n",
       ":   6.5virginica\n",
       ":   6.5virginica\n",
       ":   6.5virginica\n",
       ":   6.5virginica\n",
       ":   6.5virginica\n",
       ":   6.5virginica\n",
       ":   6.5virginica\n",
       ":   6.5virginica\n",
       ":   6.5virginica\n",
       ":   6.5\n",
       "\n"
      ],
      "text/plain": [
       "    setosa     setosa     setosa     setosa     setosa     setosa     setosa \n",
       "       5.0        5.0        5.0        5.0        5.0        5.0        5.0 \n",
       "    setosa     setosa     setosa     setosa     setosa     setosa     setosa \n",
       "       5.0        5.0        5.0        5.0        5.0        5.0        5.0 \n",
       "    setosa     setosa     setosa     setosa     setosa     setosa     setosa \n",
       "       5.0        5.0        5.0        5.0        5.0        5.0        5.0 \n",
       "    setosa     setosa     setosa     setosa     setosa     setosa     setosa \n",
       "       5.0        5.0        5.0        5.0        5.0        5.0        5.0 \n",
       "    setosa     setosa     setosa     setosa     setosa     setosa     setosa \n",
       "       5.0        5.0        5.0        5.0        5.0        5.0        5.0 \n",
       "    setosa     setosa     setosa     setosa     setosa     setosa     setosa \n",
       "       5.0        5.0        5.0        5.0        5.0        5.0        5.0 \n",
       "    setosa     setosa     setosa     setosa     setosa     setosa     setosa \n",
       "       5.0        5.0        5.0        5.0        5.0        5.0        5.0 \n",
       "    setosa versicolor versicolor versicolor versicolor versicolor versicolor \n",
       "       5.0        5.9        5.9        5.9        5.9        5.9        5.9 \n",
       "versicolor versicolor versicolor versicolor versicolor versicolor versicolor \n",
       "       5.9        5.9        5.9        5.9        5.9        5.9        5.9 \n",
       "versicolor versicolor versicolor versicolor versicolor versicolor versicolor \n",
       "       5.9        5.9        5.9        5.9        5.9        5.9        5.9 \n",
       "versicolor versicolor versicolor versicolor versicolor versicolor versicolor \n",
       "       5.9        5.9        5.9        5.9        5.9        5.9        5.9 \n",
       "versicolor versicolor versicolor versicolor versicolor versicolor versicolor \n",
       "       5.9        5.9        5.9        5.9        5.9        5.9        5.9 \n",
       "versicolor versicolor versicolor versicolor versicolor versicolor versicolor \n",
       "       5.9        5.9        5.9        5.9        5.9        5.9        5.9 \n",
       "versicolor versicolor versicolor versicolor versicolor versicolor versicolor \n",
       "       5.9        5.9        5.9        5.9        5.9        5.9        5.9 \n",
       "versicolor versicolor  virginica  virginica  virginica  virginica  virginica \n",
       "       5.9        5.9        6.5        6.5        6.5        6.5        6.5 \n",
       " virginica  virginica  virginica  virginica  virginica  virginica  virginica \n",
       "       6.5        6.5        6.5        6.5        6.5        6.5        6.5 \n",
       " virginica  virginica  virginica  virginica  virginica  virginica  virginica \n",
       "       6.5        6.5        6.5        6.5        6.5        6.5        6.5 \n",
       " virginica  virginica  virginica  virginica  virginica  virginica  virginica \n",
       "       6.5        6.5        6.5        6.5        6.5        6.5        6.5 \n",
       " virginica  virginica  virginica  virginica  virginica  virginica  virginica \n",
       "       6.5        6.5        6.5        6.5        6.5        6.5        6.5 \n",
       " virginica  virginica  virginica  virginica  virginica  virginica  virginica \n",
       "       6.5        6.5        6.5        6.5        6.5        6.5        6.5 \n",
       " virginica  virginica  virginica  virginica  virginica  virginica  virginica \n",
       "       6.5        6.5        6.5        6.5        6.5        6.5        6.5 \n",
       " virginica  virginica  virginica \n",
       "       6.5        6.5        6.5 "
      ]
     },
     "metadata": {},
     "output_type": "display_data"
    }
   ],
   "source": [
    "# 데이터셋1[데이터셋2$속성명]\n",
    "\n",
    "# 데이터셋2 는 검색기준\n",
    "\n",
    "replacement_df[iris_repl$Species]"
   ]
  },
  {
   "cell_type": "markdown",
   "metadata": {},
   "source": [
    "### kNN 으로 k개 근접 이웃의 가중평균으로 치환"
   ]
  },
  {
   "cell_type": "code",
   "execution_count": 69,
   "metadata": {
    "collapsed": true
   },
   "outputs": [],
   "source": [
    "iris_na <- iris\n",
    "iris_na[c(10, 20, 25, 40, 32), 3] <- NA\n",
    "iris_na[c(33, 100, 123), 1] <- NA"
   ]
  },
  {
   "cell_type": "code",
   "execution_count": 70,
   "metadata": {},
   "outputs": [
    {
     "name": "stderr",
     "output_type": "stream",
     "text": [
      "also installing the dependencies ‘TTR’, ‘gplots’, ‘xts’, ‘quantmod’, ‘abind’, ‘ROCR’\n",
      "\n",
      "Updating HTML index of packages in '.Library'\n",
      "Making 'packages.html' ... done\n"
     ]
    }
   ],
   "source": [
    "install.packages('DMwR')"
   ]
  },
  {
   "cell_type": "code",
   "execution_count": 71,
   "metadata": {},
   "outputs": [
    {
     "name": "stderr",
     "output_type": "stream",
     "text": [
      "Loading required package: lattice\n",
      "Loading required package: grid\n"
     ]
    }
   ],
   "source": [
    "library(DMwR)"
   ]
  },
  {
   "cell_type": "code",
   "execution_count": 72,
   "metadata": {},
   "outputs": [
    {
     "data": {
      "text/html": [
       "<table>\n",
       "<thead><tr><th></th><th scope=col>Sepal.Length</th><th scope=col>Sepal.Width</th><th scope=col>Petal.Length</th><th scope=col>Petal.Width</th><th scope=col>Species</th></tr></thead>\n",
       "<tbody>\n",
       "\t<tr><th scope=row>10</th><td>4.9       </td><td>3.1       </td><td> NA       </td><td>0.1       </td><td>setosa    </td></tr>\n",
       "\t<tr><th scope=row>20</th><td>5.1       </td><td>3.8       </td><td> NA       </td><td>0.3       </td><td>setosa    </td></tr>\n",
       "\t<tr><th scope=row>25</th><td>4.8       </td><td>3.4       </td><td> NA       </td><td>0.2       </td><td>setosa    </td></tr>\n",
       "\t<tr><th scope=row>32</th><td>5.4       </td><td>3.4       </td><td> NA       </td><td>0.4       </td><td>setosa    </td></tr>\n",
       "\t<tr><th scope=row>33</th><td> NA       </td><td>4.1       </td><td>1.5       </td><td>0.1       </td><td>setosa    </td></tr>\n",
       "\t<tr><th scope=row>40</th><td>5.1       </td><td>3.4       </td><td> NA       </td><td>0.2       </td><td>setosa    </td></tr>\n",
       "\t<tr><th scope=row>100</th><td> NA       </td><td>2.8       </td><td>4.1       </td><td>1.3       </td><td>versicolor</td></tr>\n",
       "\t<tr><th scope=row>123</th><td> NA       </td><td>2.8       </td><td>6.7       </td><td>2.0       </td><td>virginica </td></tr>\n",
       "</tbody>\n",
       "</table>\n"
      ],
      "text/latex": [
       "\\begin{tabular}{r|lllll}\n",
       "  & Sepal.Length & Sepal.Width & Petal.Length & Petal.Width & Species\\\\\n",
       "\\hline\n",
       "\t10 & 4.9        & 3.1        &  NA        & 0.1        & setosa    \\\\\n",
       "\t20 & 5.1        & 3.8        &  NA        & 0.3        & setosa    \\\\\n",
       "\t25 & 4.8        & 3.4        &  NA        & 0.2        & setosa    \\\\\n",
       "\t32 & 5.4        & 3.4        &  NA        & 0.4        & setosa    \\\\\n",
       "\t33 &  NA        & 4.1        & 1.5        & 0.1        & setosa    \\\\\n",
       "\t40 & 5.1        & 3.4        &  NA        & 0.2        & setosa    \\\\\n",
       "\t100 &  NA        & 2.8        & 4.1        & 1.3        & versicolor\\\\\n",
       "\t123 &  NA        & 2.8        & 6.7        & 2.0        & virginica \\\\\n",
       "\\end{tabular}\n"
      ],
      "text/markdown": [
       "\n",
       "| <!--/--> | Sepal.Length | Sepal.Width | Petal.Length | Petal.Width | Species | \n",
       "|---|---|---|---|---|---|---|---|\n",
       "| 10 | 4.9        | 3.1        |  NA        | 0.1        | setosa     | \n",
       "| 20 | 5.1        | 3.8        |  NA        | 0.3        | setosa     | \n",
       "| 25 | 4.8        | 3.4        |  NA        | 0.2        | setosa     | \n",
       "| 32 | 5.4        | 3.4        |  NA        | 0.4        | setosa     | \n",
       "| 33 |  NA        | 4.1        | 1.5        | 0.1        | setosa     | \n",
       "| 40 | 5.1        | 3.4        |  NA        | 0.2        | setosa     | \n",
       "| 100 |  NA        | 2.8        | 4.1        | 1.3        | versicolor | \n",
       "| 123 |  NA        | 2.8        | 6.7        | 2.0        | virginica  | \n",
       "\n",
       "\n"
      ],
      "text/plain": [
       "    Sepal.Length Sepal.Width Petal.Length Petal.Width Species   \n",
       "10  4.9          3.1          NA          0.1         setosa    \n",
       "20  5.1          3.8          NA          0.3         setosa    \n",
       "25  4.8          3.4          NA          0.2         setosa    \n",
       "32  5.4          3.4          NA          0.4         setosa    \n",
       "33   NA          4.1         1.5          0.1         setosa    \n",
       "40  5.1          3.4          NA          0.2         setosa    \n",
       "100  NA          2.8         4.1          1.3         versicolor\n",
       "123  NA          2.8         6.7          2.0         virginica "
      ]
     },
     "metadata": {},
     "output_type": "display_data"
    }
   ],
   "source": [
    "iris_na[!complete.cases(iris_na), ]"
   ]
  },
  {
   "cell_type": "code",
   "execution_count": 84,
   "metadata": {},
   "outputs": [
    {
     "data": {
      "text/html": [
       "<table>\n",
       "<thead><tr><th></th><th scope=col>Sepal.Length</th><th scope=col>Sepal.Width</th><th scope=col>Petal.Length</th><th scope=col>Petal.Width</th></tr></thead>\n",
       "<tbody>\n",
       "\t<tr><th scope=row>10</th><td>4.900000</td><td>3.1     </td><td>1.452250</td><td>0.1     </td></tr>\n",
       "\t<tr><th scope=row>20</th><td>5.100000</td><td>3.8     </td><td>1.539881</td><td>0.3     </td></tr>\n",
       "\t<tr><th scope=row>25</th><td>4.800000</td><td>3.4     </td><td>1.457144</td><td>0.2     </td></tr>\n",
       "\t<tr><th scope=row>32</th><td>5.400000</td><td>3.4     </td><td>1.483821</td><td>0.4     </td></tr>\n",
       "\t<tr><th scope=row>33</th><td>5.462532</td><td>4.1     </td><td>1.500000</td><td>0.1     </td></tr>\n",
       "\t<tr><th scope=row>40</th><td>5.100000</td><td>3.4     </td><td>1.475718</td><td>0.2     </td></tr>\n",
       "\t<tr><th scope=row>100</th><td>5.891169</td><td>2.8     </td><td>4.100000</td><td>1.3     </td></tr>\n",
       "\t<tr><th scope=row>123</th><td>7.077197</td><td>2.8     </td><td>6.700000</td><td>2.0     </td></tr>\n",
       "</tbody>\n",
       "</table>\n"
      ],
      "text/latex": [
       "\\begin{tabular}{r|llll}\n",
       "  & Sepal.Length & Sepal.Width & Petal.Length & Petal.Width\\\\\n",
       "\\hline\n",
       "\t10 & 4.900000 & 3.1      & 1.452250 & 0.1     \\\\\n",
       "\t20 & 5.100000 & 3.8      & 1.539881 & 0.3     \\\\\n",
       "\t25 & 4.800000 & 3.4      & 1.457144 & 0.2     \\\\\n",
       "\t32 & 5.400000 & 3.4      & 1.483821 & 0.4     \\\\\n",
       "\t33 & 5.462532 & 4.1      & 1.500000 & 0.1     \\\\\n",
       "\t40 & 5.100000 & 3.4      & 1.475718 & 0.2     \\\\\n",
       "\t100 & 5.891169 & 2.8      & 4.100000 & 1.3     \\\\\n",
       "\t123 & 7.077197 & 2.8      & 6.700000 & 2.0     \\\\\n",
       "\\end{tabular}\n"
      ],
      "text/markdown": [
       "\n",
       "| <!--/--> | Sepal.Length | Sepal.Width | Petal.Length | Petal.Width | \n",
       "|---|---|---|---|---|---|---|---|\n",
       "| 10 | 4.900000 | 3.1      | 1.452250 | 0.1      | \n",
       "| 20 | 5.100000 | 3.8      | 1.539881 | 0.3      | \n",
       "| 25 | 4.800000 | 3.4      | 1.457144 | 0.2      | \n",
       "| 32 | 5.400000 | 3.4      | 1.483821 | 0.4      | \n",
       "| 33 | 5.462532 | 4.1      | 1.500000 | 0.1      | \n",
       "| 40 | 5.100000 | 3.4      | 1.475718 | 0.2      | \n",
       "| 100 | 5.891169 | 2.8      | 4.100000 | 1.3      | \n",
       "| 123 | 7.077197 | 2.8      | 6.700000 | 2.0      | \n",
       "\n",
       "\n"
      ],
      "text/plain": [
       "    Sepal.Length Sepal.Width Petal.Length Petal.Width\n",
       "10  4.900000     3.1         1.452250     0.1        \n",
       "20  5.100000     3.8         1.539881     0.3        \n",
       "25  4.800000     3.4         1.457144     0.2        \n",
       "32  5.400000     3.4         1.483821     0.4        \n",
       "33  5.462532     4.1         1.500000     0.1        \n",
       "40  5.100000     3.4         1.475718     0.2        \n",
       "100 5.891169     2.8         4.100000     1.3        \n",
       "123 7.077197     2.8         6.700000     2.0        "
      ]
     },
     "metadata": {},
     "output_type": "display_data"
    }
   ],
   "source": [
    "knnImputation(iris_na[1:4], k = 10) [c(10, 20, 25, 32, 33, 40, 100, 123), ]"
   ]
  },
  {
   "cell_type": "code",
   "execution_count": 74,
   "metadata": {
    "collapsed": true
   },
   "outputs": [],
   "source": [
    "?knnImputation"
   ]
  },
  {
   "cell_type": "code",
   "execution_count": 85,
   "metadata": {},
   "outputs": [
    {
     "name": "stderr",
     "output_type": "stream",
     "text": [
      "Updating HTML index of packages in '.Library'\n",
      "Making 'packages.html' ... done\n"
     ]
    }
   ],
   "source": [
    "install.packages('Amelia')"
   ]
  },
  {
   "cell_type": "code",
   "execution_count": 86,
   "metadata": {},
   "outputs": [
    {
     "name": "stderr",
     "output_type": "stream",
     "text": [
      "Loading required package: Rcpp\n",
      "## \n",
      "## Amelia II: Multiple Imputation\n",
      "## (Version 1.7.4, built: 2015-12-05)\n",
      "## Copyright (C) 2005-2017 James Honaker, Gary King and Matthew Blackwell\n",
      "## Refer to http://gking.harvard.edu/amelia/ for more information\n",
      "## \n"
     ]
    }
   ],
   "source": [
    "library(Amelia)"
   ]
  },
  {
   "cell_type": "code",
   "execution_count": 91,
   "metadata": {
    "collapsed": true
   },
   "outputs": [],
   "source": [
    "data(freetrade)"
   ]
  },
  {
   "cell_type": "code",
   "execution_count": 92,
   "metadata": {},
   "outputs": [
    {
     "data": {
      "text/plain": [
       "      year        country              tariff           polity      \n",
       " Min.   :1981   Length:171         Min.   :  7.10   Min.   :-8.000  \n",
       " 1st Qu.:1985   Class :character   1st Qu.: 16.30   1st Qu.:-2.000  \n",
       " Median :1990   Mode  :character   Median : 25.20   Median : 5.000  \n",
       " Mean   :1990                      Mean   : 31.65   Mean   : 2.905  \n",
       " 3rd Qu.:1995                      3rd Qu.: 40.80   3rd Qu.: 8.000  \n",
       " Max.   :1999                      Max.   :100.00   Max.   : 9.000  \n",
       "                                   NA's   :58       NA's   :2       \n",
       "      pop                gdp.pc           intresmi          signed      \n",
       " Min.   : 14105080   Min.   :  149.5   Min.   :0.9036   Min.   :0.0000  \n",
       " 1st Qu.: 19676715   1st Qu.:  420.1   1st Qu.:2.2231   1st Qu.:0.0000  \n",
       " Median : 52799040   Median :  814.3   Median :3.1815   Median :0.0000  \n",
       " Mean   :149904501   Mean   : 1867.3   Mean   :3.3752   Mean   :0.1548  \n",
       " 3rd Qu.:120888400   3rd Qu.: 2462.9   3rd Qu.:4.4063   3rd Qu.:0.0000  \n",
       " Max.   :997515200   Max.   :12086.2   Max.   :7.9346   Max.   :1.0000  \n",
       "                                       NA's   :13       NA's   :3       \n",
       "     fiveop          usheg       \n",
       " Min.   :12.30   Min.   :0.2558  \n",
       " 1st Qu.:12.50   1st Qu.:0.2623  \n",
       " Median :12.60   Median :0.2756  \n",
       " Mean   :12.74   Mean   :0.2764  \n",
       " 3rd Qu.:13.20   3rd Qu.:0.2887  \n",
       " Max.   :13.20   Max.   :0.3083  \n",
       " NA's   :18                      "
      ]
     },
     "metadata": {},
     "output_type": "display_data"
    }
   ],
   "source": [
    "summary(freetrade)"
   ]
  },
  {
   "cell_type": "code",
   "execution_count": 89,
   "metadata": {
    "collapsed": true
   },
   "outputs": [],
   "source": [
    "?Amelia"
   ]
  },
  {
   "cell_type": "code",
   "execution_count": 95,
   "metadata": {},
   "outputs": [
    {
     "name": "stdout",
     "output_type": "stream",
     "text": [
      "-- Imputation 1 --\n",
      "\n",
      "  1  2  3  4  5  6  7  8  9 10 11 12 13 14 15\n",
      "\n",
      "-- Imputation 2 --\n",
      "\n",
      "  1  2  3  4  5  6  7  8  9 10 11 12 13\n",
      "\n",
      "-- Imputation 3 --\n",
      "\n",
      "  1  2  3  4  5  6  7  8  9 10 11 12 13 14\n",
      "\n",
      "-- Imputation 4 --\n",
      "\n",
      "  1  2  3  4  5  6  7  8  9 10 11 12 13 14 15 16 17\n",
      "\n",
      "-- Imputation 5 --\n",
      "\n",
      "  1  2  3  4  5  6  7  8  9 10 11 12 13 14 15 16 17\n",
      "\n"
     ]
    }
   ],
   "source": [
    "# EM 알고리즘으로 Imputation -- tariff\n",
    "\n",
    "a.out <- amelia(freetrade, m = 5, ts = \"year\", cs = \"country\")\n",
    "\n",
    "# m 은 만들 imputation dataset 의 개수, 결측지가 처리된 데이터 set 의 샘플개수\n",
    "# ts 는 시계열에 대한정보\n",
    "# cs 는 crosssection 분포에 포함될 정도\n"
   ]
  },
  {
   "cell_type": "code",
   "execution_count": 98,
   "metadata": {},
   "outputs": [
    {
     "data": {
      "image/png": "[encoded data removed]",
      "text/plain": [
       "Plot with title “Missingness Map”"
      ]
     },
     "metadata": {},
     "output_type": "display_data"
    }
   ],
   "source": [
    "missmap(a.out)"
   ]
  },
  {
   "cell_type": "code",
   "execution_count": 100,
   "metadata": {},
   "outputs": [
    {
     "data": {
      "image/png": "[encoded data removed]",
      "text/plain": [
       "Plot with title “Histogram of a.out$imputations[[3]]$tariff”"
      ]
     },
     "metadata": {},
     "output_type": "display_data"
    }
   ],
   "source": [
    "hist(a.out$imputations[[3]]$tariff, col = \"grey\")"
   ]
  },
  {
   "cell_type": "code",
   "execution_count": 101,
   "metadata": {
    "collapsed": true
   },
   "outputs": [],
   "source": [
    "save(a.out, file = \"datas/imputation_aout.RData\")"
   ]
  },
  {
   "cell_type": "code",
   "execution_count": 102,
   "metadata": {
    "collapsed": true
   },
   "outputs": [],
   "source": [
    "?lofactor"
   ]
  },
  {
   "cell_type": "markdown",
   "metadata": {},
   "source": [
    "### 데이터에서 이상치 검정하여 설정하기"
   ]
  },
  {
   "cell_type": "code",
   "execution_count": 106,
   "metadata": {},
   "outputs": [
    {
     "ename": "ERROR",
     "evalue": "Error in is.data.frame(x): argument \"x\" is missing, with no default\n",
     "output_type": "error",
     "traceback": [
      "Error in is.data.frame(x): argument \"x\" is missing, with no default\nTraceback:\n",
      "1. chisq.test()",
      "2. is.data.frame(x)"
     ]
    }
   ],
   "source": [
    "s_ot <- chisq.test()"
   ]
  },
  {
   "cell_type": "markdown",
   "metadata": {},
   "source": [
    "이상치 판단하는 방법 : 정규성 검정과 박스플롯을 사용하여.\n",
    "\n",
    "1. 정규성 검정\n",
    "    정규성을 따르는지 검정하여 정규분포를 따르면 Q1 - 1.5 * IQR 또는 Q3 + 1.5 * IQR 인 경우 99.3%\n",
    "    "
   ]
  },
  {
   "cell_type": "code",
   "execution_count": 104,
   "metadata": {
    "collapsed": true
   },
   "outputs": [],
   "source": [
    "set.seed(3147)\n",
    "y <- rnorm(100)\n",
    "b <- which(y %in% boxplot.stats(y)$out)"
   ]
  },
  {
   "cell_type": "code",
   "execution_count": 107,
   "metadata": {},
   "outputs": [
    {
     "data": {
      "text/html": [
       "<ol class=list-inline>\n",
       "\t<li>-3.31539149613418</li>\n",
       "\t<li>2.68592240155622</li>\n",
       "\t<li>-3.05571698072628</li>\n",
       "\t<li>2.57120346597897</li>\n",
       "</ol>\n"
      ],
      "text/latex": [
       "\\begin{enumerate*}\n",
       "\\item -3.31539149613418\n",
       "\\item 2.68592240155622\n",
       "\\item -3.05571698072628\n",
       "\\item 2.57120346597897\n",
       "\\end{enumerate*}\n"
      ],
      "text/markdown": [
       "1. -3.31539149613418\n",
       "2. 2.68592240155622\n",
       "3. -3.05571698072628\n",
       "4. 2.57120346597897\n",
       "\n",
       "\n"
      ],
      "text/plain": [
       "[1] -3.315391  2.685922 -3.055717  2.571203"
      ]
     },
     "metadata": {},
     "output_type": "display_data"
    }
   ],
   "source": [
    "y[c(b)]"
   ]
  },
  {
   "cell_type": "code",
   "execution_count": 108,
   "metadata": {},
   "outputs": [
    {
     "data": {
      "text/html": [
       "<ol class=list-inline>\n",
       "\t<li>-3.31539149613418</li>\n",
       "\t<li>2.68592240155622</li>\n",
       "\t<li>-3.05571698072628</li>\n",
       "\t<li>2.57120346597897</li>\n",
       "</ol>\n"
      ],
      "text/latex": [
       "\\begin{enumerate*}\n",
       "\\item -3.31539149613418\n",
       "\\item 2.68592240155622\n",
       "\\item -3.05571698072628\n",
       "\\item 2.57120346597897\n",
       "\\end{enumerate*}\n"
      ],
      "text/markdown": [
       "1. -3.31539149613418\n",
       "2. 2.68592240155622\n",
       "3. -3.05571698072628\n",
       "4. 2.57120346597897\n",
       "\n",
       "\n"
      ],
      "text/plain": [
       "[1] -3.315391  2.685922 -3.055717  2.571203"
      ]
     },
     "metadata": {},
     "output_type": "display_data"
    }
   ],
   "source": [
    "y[c(1, 33, 64, 74)]"
   ]
  },
  {
   "cell_type": "code",
   "execution_count": 109,
   "metadata": {
    "collapsed": true
   },
   "outputs": [],
   "source": [
    "ot <- cbind(b, y[c(1, 33, 64, 74)])"
   ]
  },
  {
   "cell_type": "code",
   "execution_count": 110,
   "metadata": {},
   "outputs": [
    {
     "data": {
      "image/png": "[encoded data removed]",
      "text/plain": [
       "plot without title"
      ]
     },
     "metadata": {},
     "output_type": "display_data"
    }
   ],
   "source": [
    "plot(y)\n",
    "points(ot, col = \"red\", pch = \"+\", cex = 2.5)"
   ]
  },
  {
   "cell_type": "code",
   "execution_count": 111,
   "metadata": {
    "collapsed": true
   },
   "outputs": [],
   "source": [
    "?boxplot.stats()"
   ]
  },
  {
   "cell_type": "code",
   "execution_count": 112,
   "metadata": {},
   "outputs": [
    {
     "name": "stderr",
     "output_type": "stream",
     "text": [
      "Updating HTML index of packages in '.Library'\n",
      "Making 'packages.html' ... done\n"
     ]
    }
   ],
   "source": [
    "install.packages('openxlsx')"
   ]
  },
  {
   "cell_type": "code",
   "execution_count": 113,
   "metadata": {
    "collapsed": true
   },
   "outputs": [],
   "source": [
    "library('openxlsx')"
   ]
  },
  {
   "cell_type": "code",
   "execution_count": 131,
   "metadata": {},
   "outputs": [
    {
     "ename": "ERROR",
     "evalue": "Error in read.xlsx(\"datas/outlier_food.xlsx\", sheet = 1, colNames = TRUE, : unused argument (encoding = \"EUC-KR\")\n",
     "output_type": "error",
     "traceback": [
      "Error in read.xlsx(\"datas/outlier_food.xlsx\", sheet = 1, colNames = TRUE, : unused argument (encoding = \"EUC-KR\")\nTraceback:\n",
      "1. read.xlsx(\"datas/outlier_food.xlsx\", sheet = 1, colNames = TRUE, \n .     detectDates = TRUE, encoding = \"EUC-KR\")"
     ]
    }
   ],
   "source": [
    "ham <- read.xlsx('datas/outlier_food.xlsx', sheet = 1, colNames = TRUE, detectDates = TRUE)"
   ]
  },
  {
   "cell_type": "code",
   "execution_count": 115,
   "metadata": {},
   "outputs": [
    {
     "data": {
      "text/plain": [
       "   민원구분         민원접수번호           접수일          \n",
       " Length:31953       Length:31953       Min.   :2014-01-02  \n",
       " Class :character   Class :character   1st Qu.:2014-08-06  \n",
       " Mode  :character   Mode  :character   Median :2015-04-21  \n",
       "                                       Mean   :2015-04-07  \n",
       "                                       3rd Qu.:2015-11-25  \n",
       "                                       Max.   :2016-06-30  \n",
       "   처리예정일           실제처리일           처리결과        \n",
       " Min.   :2014-01-02   Min.   :2014-01-03   Length:31953      \n",
       " 1st Qu.:2014-08-08   1st Qu.:2014-08-08   Class :character  \n",
       " Median :2015-04-23   Median :2015-04-23   Mode  :character  \n",
       " Mean   :2015-04-10   Mean   :2015-04-09                     \n",
       " 3rd Qu.:2015-11-27   3rd Qu.:2015-11-27                     \n",
       " Max.   :2018-07-31   Max.   :2016-07-11                     \n",
       " 조건부승인여부      조건부기간         조건부사유            업종          \n",
       " Length:31953       Length:31953       Length:31953       Length:31953      \n",
       " Class :character   Class :character   Class :character   Class :character  \n",
       " Mode  :character   Mode  :character   Mode  :character   Mode  :character  \n",
       "                                                                            \n",
       "                                                                            \n",
       "                                                                            \n",
       "     업태             업소위치            sigun                 h          \n",
       " Length:31953       Length:31953       Length:31953       Min.   :  1.000  \n",
       " Class :character   Class :character   Class :character   1st Qu.:  1.000  \n",
       " Mode  :character   Mode  :character   Mode  :character   Median :  1.000  \n",
       "                                                          Mean   :  2.087  \n",
       "                                                          3rd Qu.:  2.000  \n",
       "                                                          Max.   :277.000  "
      ]
     },
     "metadata": {},
     "output_type": "display_data"
    }
   ],
   "source": [
    "summary(ham)"
   ]
  },
  {
   "cell_type": "code",
   "execution_count": 116,
   "metadata": {
    "collapsed": true
   },
   "outputs": [],
   "source": [
    "ham$sido <- substr(ham$sigun, 1, 2)"
   ]
  },
  {
   "cell_type": "code",
   "execution_count": 117,
   "metadata": {
    "collapsed": true
   },
   "outputs": [],
   "source": [
    "# plot 그리기 위해 수치화\n",
    "\n",
    "ham$sido <- factor(ham$sido)"
   ]
  },
  {
   "cell_type": "code",
   "execution_count": 119,
   "metadata": {},
   "outputs": [],
   "source": [
    "# 시각 전처리\n",
    "\n",
    "ham$year <- substr(ham$접수일, 1, 4)\n",
    "ham$mon <- substr(ham$접수일, 6, 7)\n",
    "ham$mon <- factor(ham$mon)\n",
    "ham$mon <- ordered(ham$mon, levels = c(\"01\", \"02\", \"03\", \"04\", \"05\", \"06\", \"07\", \"08\", \"09\", \"10\", \"11\", \"12\"))"
   ]
  },
  {
   "cell_type": "code",
   "execution_count": 123,
   "metadata": {},
   "outputs": [
    {
     "data": {
      "text/html": [
       "<ol class=list-inline>\n",
       "\t<li>'변경민원'</li>\n",
       "\t<li>'신규민원'</li>\n",
       "\t<li>'재교부민원'</li>\n",
       "\t<li>'지위승계민원'</li>\n",
       "\t<li>'폐업민원'</li>\n",
       "</ol>\n"
      ],
      "text/latex": [
       "\\begin{enumerate*}\n",
       "\\item '변경민원'\n",
       "\\item '신규민원'\n",
       "\\item '재교부민원'\n",
       "\\item '지위승계민원'\n",
       "\\item '폐업민원'\n",
       "\\end{enumerate*}\n"
      ],
      "text/markdown": [
       "1. '변경민원'\n",
       "2. '신규민원'\n",
       "3. '재교부민원'\n",
       "4. '지위승계민원'\n",
       "5. '폐업민원'\n",
       "\n",
       "\n"
      ],
      "text/plain": [
       "[1] \"변경민원\"     \"신규민원\"     \"재교부민원\"   \"지위승계민원\" \"폐업민원\"    "
      ]
     },
     "metadata": {},
     "output_type": "display_data"
    }
   ],
   "source": [
    "ham$민원구분 <- gsub(\"[^\\uAC00-\\uD7A3xfe,0-9a-zA-Zㄱ-ㅎ ㅏ-ㅣ가-힣\\\\s]\", \"\", ham$민원구분)\n",
    "ham$민원구분 <- factor(ham$민원구분)\n",
    "levels(ham$민원구분)"
   ]
  },
  {
   "cell_type": "markdown",
   "metadata": {},
   "source": [
    "정규 표현식은\n",
    "\n",
    "https://regexone.com/lesson/letters_and_digits?"
   ]
  },
  {
   "cell_type": "markdown",
   "metadata": {},
   "source": [
    "### 시각화"
   ]
  },
  {
   "cell_type": "code",
   "execution_count": 126,
   "metadata": {
    "collapsed": true
   },
   "outputs": [],
   "source": [
    "library(ggplot2)"
   ]
  },
  {
   "cell_type": "code",
   "execution_count": 129,
   "metadata": {
    "scrolled": false
   },
   "outputs": [
    {
     "data": {},
     "metadata": {},
     "output_type": "display_data"
    },
    {
     "data": {
      "image/png": "[encoded data removed]",
      "text/plain": [
       "plot without title"
      ]
     },
     "metadata": {},
     "output_type": "display_data"
    }
   ],
   "source": [
    "qplot(h, year, data = ham, facets = sido ~.) + geom_vline(xintercept = 72, linetype = \"dashed\", color = \"red\", size = 1.5)"
   ]
  },
  {
   "cell_type": "code",
   "execution_count": 130,
   "metadata": {
    "collapsed": true
   },
   "outputs": [],
   "source": [
    "out <- subset(ham, h >= 72)"
   ]
  },
  {
   "cell_type": "code",
   "execution_count": 132,
   "metadata": {
    "collapsed": true
   },
   "outputs": [],
   "source": [
    "?qplot"
   ]
  },
  {
   "cell_type": "code",
   "execution_count": 133,
   "metadata": {},
   "outputs": [
    {
     "name": "stderr",
     "output_type": "stream",
     "text": [
      "Updating HTML index of packages in '.Library'\n",
      "Making 'packages.html' ... done\n",
      "also installing the dependencies ‘extrafontdb’, ‘Rttf2pt1’\n",
      "\n",
      "Updating HTML index of packages in '.Library'\n",
      "Making 'packages.html' ... done\n"
     ]
    }
   ],
   "source": [
    "install.packages('ggthemes')\n",
    "install.packages('extrafont')"
   ]
  },
  {
   "cell_type": "code",
   "execution_count": 134,
   "metadata": {
    "collapsed": true
   },
   "outputs": [],
   "source": [
    "library(lattice)"
   ]
  },
  {
   "cell_type": "code",
   "execution_count": 141,
   "metadata": {
    "scrolled": true
   },
   "outputs": [
    {
     "data": {},
     "metadata": {},
     "output_type": "display_data"
    },
    {
     "data": {
      "image/png": "[encoded data removed]",
      "text/plain": [
       "plot without title"
      ]
     },
     "metadata": {},
     "output_type": "display_data"
    }
   ],
   "source": [
    "xyplot(ham$h~ham$mon | ham$민원구분,\n",
    "       data = ham, nint = 5, type = \"p\", grid = TRUE, cex = 0.4,\n",
    "       jitter.x = TRUE, group = sido, auto.key = list(title = \"시도\", space = \"right\", cex = 1.0),\n",
    "       par.settings = list(superpose.symbol = list(pch = 1:17)),\n",
    "       panel = function(x, ...) {\n",
    "           panel.xyplot(x = x, ...)\n",
    "           m <- length(x)\n",
    "           panel.text(x = 11, y = 200, labels = m)\n",
    "       }\n",
    "      )"
   ]
  },
  {
   "cell_type": "code",
   "execution_count": 137,
   "metadata": {
    "collapsed": true
   },
   "outputs": [],
   "source": [
    "theme_gogamza<- function(base_size = 12, base_family = \"NanumGothic\"){\n",
    "     (theme_foundation(base_size = base_size, base_family = base_family) +\n",
    "        theme(line = element_line(colour = \"black\"), rect = element_rect(fill = ggthemes_data$fivethirtyeight[\"ltgray\"],\n",
    "            linetype = 0, colour = NA), text = element_text(colour = ggthemes_data$fivethirtyeight[\"dkgray\"]),\n",
    "            axis.title = element_text(), axis.text = element_text(),\n",
    "            axis.ticks = element_blank(), axis.line = element_blank(),\n",
    "            legend.background = element_rect(), legend.position = \"bottom\",\n",
    "            legend.direction = \"horizontal\", legend.box = \"vertical\",\n",
    "            panel.grid = element_line(colour = NULL), panel.grid.major = element_line(colour = ggthemes_data$fivethirtyeight[\"medgray\"]),\n",
    "            panel.grid.minor = element_blank(), plot.title = element_text(hjust = 0,\n",
    "                size = rel(1.5), face = \"bold\"), plot.margin = grid::unit(c(1,\n",
    "                1, 0.5, 0.5), \"lines\"), strip.background = element_rect(), panel.margin.x=NULL, panel.margin.y=NULL))\n",
    "}"
   ]
  },
  {
   "cell_type": "code",
   "execution_count": 140,
   "metadata": {
    "collapsed": true
   },
   "outputs": [],
   "source": [
    "theme_set(theme_gray(base_family='Gothic'))"
   ]
  },
  {
   "cell_type": "code",
   "execution_count": 142,
   "metadata": {},
   "outputs": [
    {
     "ename": "ERROR",
     "evalue": "Error in theme_gogamza(): could not find function \"theme_foundation\"\n",
     "output_type": "error",
     "traceback": [
      "Error in theme_gogamza(): could not find function \"theme_foundation\"\nTraceback:\n",
      "1. theme_set(theme_gogamza())",
      "2. setdiff(names(theme_gray()), names(new))",
      "3. as.vector(y)",
      "4. theme_gogamza()"
     ]
    }
   ],
   "source": [
    "theme_set(theme_gogamza())"
   ]
  },
  {
   "cell_type": "code",
   "execution_count": null,
   "metadata": {
    "collapsed": true
   },
   "outputs": [],
   "source": []
  }
 ],
 "metadata": {
  "kernelspec": {
   "display_name": "R",
   "language": "R",
   "name": "ir"
  },
  "language_info": {
   "codemirror_mode": "r",
   "file_extension": ".r",
   "mimetype": "text/x-r-source",
   "name": "R",
   "pygments_lexer": "r",
   "version": "3.3.2"
  }
 },
 "nbformat": 4,
 "nbformat_minor": 2
}
